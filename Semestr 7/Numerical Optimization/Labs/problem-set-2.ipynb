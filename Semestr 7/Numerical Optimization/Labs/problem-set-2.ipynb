{
 "cells": [
  {
   "cell_type": "markdown",
   "metadata": {},
   "source": [
    "Rafał Nowak\n",
    "# Numerical Optimization\n",
    "## Problem set 2 (15 points)\n",
    "\n",
    "**Submission deadline**: Wednesday, 1.12.2021\n",
    "\n",
    "* All submissions should contain single file.<br/>This can be single Jupyter notebook file (with extension `ipynb`) or ZIP archive in case the are some additional files needed.\n",
    "* It is recommended to write the reports using LaTeX. \n",
    "* One can report the answers, comments and results in PDF or notebook file.\n",
    "* All the source code should be written in Python or Julia."
   ]
  },
  {
   "cell_type": "markdown",
   "metadata": {},
   "source": [
    "**Problem 2.1 (5 pts)**\n",
    "\n",
    "Assume have a~set of $N$ noisy measurements $(x_i, \\tilde y_i)\\in\\mathbb R^2$ onto which we would like to to fit a line $y=ax+b$. This task can be expressed by the following optimization problem in $L_2$ norm:\n",
    "$$ \\min_{a,b} \\sum_{i=1}^N \\left(a x_i + b - \\tilde y_i\\right)^2 = \\min_{a,b} \\left\\| J \\begin{pmatrix}a\\\\b\\end{pmatrix} - \\tilde y \\right\\|_2^2,$$\n",
    "where $\\|\\cdot\\|_2$ means the $L_2$ norm.\n",
    "\n",
    "One can check that the optimal solution can be obtained by solving the linear system\n",
    "$$ J^T J \\begin{pmatrix}a\\\\b\\end{pmatrix} = J^T \\tilde y. $$\n",
    "\n",
    "* (1 pt) Generate the problem data. Take $N=30, 50, 100$ points in the interval $[0,5]$ and generate the true outputs $y_i = a x_i + b$ for some $a,b\\in\\mathbb R$; for example take $a=3, b=4$. Add Gaussian noise $~N(0,1)$ to get the noisy measurements $\\tilde y_i$ and plot the results.\n",
    "* (2 pt) Compute the matrix $J$ and solve the problem using your implementation of Gaussian elimination (see problem 1.1). Plot the obtained line in the same graph as the measurements. \n",
    "* (1 pt) Next use any implementation (like `np.linalg.solve`) instead of your Gaussian elimination. Compare the resulting const function values.\n",
    "* (1 pt) Finally, add some outliers to the data and plot the results (single graph with measurements and solution line)."
   ]
  },
  {
   "cell_type": "markdown",
   "metadata": {},
   "source": [
    "---"
   ]
  },
  {
   "cell_type": "markdown",
   "metadata": {},
   "source": [
    "**Problem 2.3 (3 pts)**\n",
    "\n",
    "In this problem you are going to fit a line to the set of measurements, but this time with $L_1$ norm, i.e.\n",
    "$$ \\min_{a,b} \\sum_{i=1}^{N} |a x_i + b - y_i|. $$\n",
    "which is not diffentiable. Use some slack variables $s_1, s_2, \\ldots, s_N$ and reformulate the problem\n",
    "into the form\n",
    "$$\n",
    "\\begin{alignat}{2}\n",
    "                   & \\min_{a,b,s} \\sum_i s_i,\\\\\n",
    "\\text{s.t.} \\qquad & -s_i \\leq ax_i+b-y_i \\leq s_i, \\qquad & i=1,2,\\ldots, N,\\\\\n",
    "                   & s_i \\geq 0,                           & i=1,2,\\ldots, N.\n",
    "\\end{alignat}\n",
    "$$\n",
    "\n",
    "* Solve the problem using the measurements generated in the previous exercise (both with and without outliers)\n",
    "* You can use any LP solver (recommended Gurobi).\n",
    "\n",
    "Remark. You can get **extra 2 points** if you use your implementation of Simplex method and obtain similar results. Test your method not only with $a=3, b=4$."
   ]
  },
  {
   "cell_type": "markdown",
   "metadata": {
    "collapsed": true
   },
   "source": [
    "**Problem 2.4** (3 pts)\n",
    "\n",
    "In this problem we consider univariate function $f:\\mathbb R\\to\\mathbb R$.\n",
    "Let us remind the idea of bracketing method\n",
    "> _Bracketing_ is the process of identifying an interval in which a local minimum lies and then successively shrinking the interval.\n",
    "\n",
    "Implement the method `(a,b) = find_initial_bracket(f)` which for given function $f$ gives the bracketing interval $(a,b)$ such that there exist local minimum $c\\in(a,b)$ satisfying $f(a)>f(c)<f(b)$.\n",
    "\n",
    "```julia\n",
    "function find_initial_bracket(f, x=0; s=1e-2, k=2.0)\n",
    "\n",
    "end\n",
    "```\n",
    "\n",
    "```julia\n",
    "# Example test\n",
    "f(x) = 3*x^2 + exp(.3*x-9) + 20*x - 20\n",
    "a, b = find_initial_bracket(f)\n",
    "@show a, b\n",
    "```\n",
    "`(a, b) = (-5.109999999999999, -1.27)`\n",
    "\n",
    "```julia\n",
    "using Plotly\n",
    "plot( f, a , b )\n",
    "```\n",
    "<a href=\"https://ibb.co/kXNfFMh\"><img src=\"https://i.ibb.co/ZxqPCNh/f-bracket.png\" alt=\"f-bracket\" border=\"0\"></a>\n",
    "\n",
    "**Problem 2.5** (4 pts)\n",
    "\n",
    "In this problem we consider [unimodal function](https://www.wikiwand.com/en/Unimodality#/Unimodal_function)\n",
    "and will play with _golden section search_ method.\n",
    "\n",
    "First you should implement the _Fibonacci search_ algorithm provided that you have the (global) array of Fibonacci numbers. Next you should implement the _golden section search_ which uses only _golden ratio_ $\\varphi = (1+\\sqrt 5)/2$.\n",
    "\n",
    "* Implement the [Fibonacci search algorithm](https://www.wikiwand.com/en/Golden-section_search#/Fibonacci_search)<br/>`(a, b) = fibonacci_search(f, a, b, n; ε=1e-4)`<br/>to be run on univariate function $f$, with bracketing interval $[a, b]$, for $n > 1$ function evaluations. It should return the new interval $(a, b)$. The optional parameter $\\varepsilon$ should control the lowest-level interval length.\n",
    "* Implement [Golden section search](https://www.wikiwand.com/en/Golden-section_search#)<br/>`(a, b) = gs_search(f, a, b, n)`<br/> to be run on a univariate function $f$ , with bracketing interval $[a, b]$ , for $n > 1$ function evaluations. It returns the new interval $(a, b)$. Guaranteeing convergence to within $\\varepsilon$ requires $n = (b-a)/(\\varepsilon \\ln\\varphi)$.\n",
    "\n",
    "Present the results on various kind of functions.\n",
    "\n",
    "References:\n",
    "- [Fibonacci Search in Optimization of Unimodal Functions](https://www.maplesoft.com/applications/view.aspx?SID=4193&view=html)\n",
    "- [Golden section search](https://www.wikiwand.com/en/Golden-section_search#)"
   ]
  },
  {
   "cell_type": "code",
   "execution_count": null,
   "metadata": {
    "collapsed": true
   },
   "outputs": [],
   "source": []
  }
 ],
 "metadata": {
  "@webio": {
   "lastCommId": null,
   "lastKernelId": null
  },
  "anaconda-cloud": {},
  "kernelspec": {
   "display_name": "Python [default]",
   "language": "python",
   "name": "python3"
  },
  "language_info": {
   "codemirror_mode": {
    "name": "ipython",
    "version": 3
   },
   "file_extension": ".py",
   "mimetype": "text/x-python",
   "name": "python",
   "nbconvert_exporter": "python",
   "pygments_lexer": "ipython3",
   "version": "3.5.2"
  }
 },
 "nbformat": 4,
 "nbformat_minor": 4
}
