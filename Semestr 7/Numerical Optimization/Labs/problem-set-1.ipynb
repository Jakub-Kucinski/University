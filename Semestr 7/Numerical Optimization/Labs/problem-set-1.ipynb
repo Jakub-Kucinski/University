{
 "cells": [
  {
   "cell_type": "markdown",
   "metadata": {},
   "source": [
    "Rafał Nowak\n",
    "# Numerical Optimization\n",
    "## Problem set 1 (20 points)\n",
    "\n",
    "**Submission deadline**: Thursday, 4.11.2021\n",
    "\n",
    "* All submissions should contain single file.<br/>This can be single Jupyter notebook file (with extension `ipynb`) or ZIP archive in case the are some additional files needed.\n",
    "* It is recommended to write the reports using LaTeX. \n",
    "* One can report the answers, comments and results in PDF or notebook file.\n",
    "* All the source code should be written in Python or Julia."
   ]
  },
  {
   "cell_type": "markdown",
   "metadata": {},
   "source": [
    "**Problem 1.1 (4 pts)**\n",
    "\n",
    "In this problem you are going to solve the system of linear equations $Ax=b$, where $A\\in \\mathbb R^{n\\times n}$, $b\\in\\mathbb R^n$ are given.\n",
    "\n",
    "1. Implement the [Gauss elimination algorithm](https://www.wikiwand.com/en/Gaussian_elimination) that solves the system $Ax=b$. \n",
    "> `x = solve(A,b)`\n",
    "2. Test your algorithm with built-in solver (see [`\\`](https://docs.julialang.org/en/v1/stdlib/LinearAlgebra/#Base.:\\-Tuple{AbstractArray{T,2}%20where%20T,Union{AbstractArray{T,1},%20AbstractArray{T,2}}%20where%20T}) in Julia for example).<br/>\n",
    "One can perform the tests by taking $b := Ax$ for somehow generated vector (solution) $x\\in\\mathbb R^n$.\n",
    "3. Experiment with different kind of matrices $A$: symmetric, (2,3-)diagonal, Hilbert, positive definite, ..., "
   ]
  },
  {
   "cell_type": "code",
   "execution_count": null,
   "metadata": {
    "collapsed": true
   },
   "outputs": [],
   "source": [
    "def solve(A, b):\n",
    "    "
   ]
  },
  {
   "cell_type": "code",
   "execution_count": 3,
   "metadata": {
    "collapsed": true
   },
   "outputs": [],
   "source": [
    "# HERE: Experiments + conclusions HERE\n"
   ]
  },
  {
   "cell_type": "markdown",
   "metadata": {},
   "source": [
    "**Problem 1.2 (2 pts)**\n",
    "\n",
    "Consider the following linear problem:\n",
    "```\n",
    "    maximize     2x+2y+z\n",
    "    \n",
    "                 | 1 1 1 |   | x |     | 5 |\n",
    "    subject to   | 1 1 0 | * | y |  <= | 4 |\n",
    "                 | 0 0 1 |   | z |     | 4 |\n",
    "                 \n",
    "                 x, y, z >= 0\n",
    "```\n",
    "* Plot the 3D polytope defined be the constraints. What is the number of vertices?\n",
    "* Solve the LP."
   ]
  },
  {
   "cell_type": "code",
   "execution_count": null,
   "metadata": {
    "collapsed": true
   },
   "outputs": [],
   "source": []
  },
  {
   "cell_type": "markdown",
   "metadata": {},
   "source": [
    "**Problem 1.3 (6 pts)**\n",
    "\n",
    "Implement the simplex algorithm solving the problem\n",
    "```\n",
    "   minimize c^T x\n",
    "   subject to Ax = b and x >= 0\n",
    "```\n",
    "You can assume that the initial *feasible base* (see [BFS](https://www.wikiwand.com/en/Basic_feasible_solution)) $I$ is given.<br/>\n",
    "Your function should output the optimal value and the minimizer $x$."
   ]
  },
  {
   "cell_type": "code",
   "execution_count": null,
   "metadata": {
    "collapsed": false
   },
   "outputs": [],
   "source": [
    "def simplex_method(I, c, A, b):\n",
    "    # write your implementation here\n",
    "    # ...\n",
    "    # return v, x\n"
   ]
  },
  {
   "cell_type": "code",
   "execution_count": 4,
   "metadata": {
    "collapsed": true
   },
   "outputs": [],
   "source": [
    "# HERE: Experiments + conclusions HERE"
   ]
  },
  {
   "cell_type": "markdown",
   "metadata": {},
   "source": [
    "**Problem 1.4 (3 pts)**"
   ]
  },
  {
   "cell_type": "markdown",
   "metadata": {},
   "source": [
    "In the problem 1.3, your implementation may have done a lot of inverse operations.\n",
    "\n",
    "This task is to implement *revised simplex algorithm* with incremental A inverse computation \n",
    "by using the **[Sherman-Morrison](https://www.wikiwand.com/en/Sherman%E2%80%93Morrison_formula)** formula for keeping track of the inverse matrix.\n",
    "\n",
    "Your program will be graded based on how fast it is.\n",
    "You should expect to see a factor 10-20 speedup depending on the problem instance.\n"
   ]
  },
  {
   "cell_type": "code",
   "execution_count": null,
   "metadata": {
    "collapsed": true
   },
   "outputs": [],
   "source": [
    "def revised_simplex_method(I, c, A, b):\n",
    "    # write your code here\n",
    "    # ...\n",
    "    return # v, x\n",
    "\n",
    "end"
   ]
  },
  {
   "cell_type": "code",
   "execution_count": 5,
   "metadata": {
    "collapsed": true
   },
   "outputs": [],
   "source": [
    "# HERE: Experiments + conclusions HERE"
   ]
  },
  {
   "cell_type": "code",
   "execution_count": null,
   "metadata": {
    "collapsed": true
   },
   "outputs": [],
   "source": []
  }
 ],
 "metadata": {
  "@webio": {
   "lastCommId": null,
   "lastKernelId": null
  },
  "anaconda-cloud": {},
  "kernelspec": {
   "display_name": "Python [default]",
   "language": "python",
   "name": "python3"
  },
  "language_info": {
   "codemirror_mode": {
    "name": "ipython",
    "version": 3
   },
   "file_extension": ".py",
   "mimetype": "text/x-python",
   "name": "python",
   "nbconvert_exporter": "python",
   "pygments_lexer": "ipython3",
   "version": "3.5.2"
  }
 },
 "nbformat": 4,
 "nbformat_minor": 4
}
