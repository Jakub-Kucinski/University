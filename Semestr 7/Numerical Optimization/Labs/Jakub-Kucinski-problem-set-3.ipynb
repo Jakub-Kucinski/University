{
 "cells": [
  {
   "cell_type": "markdown",
   "metadata": {
    "toc": true
   },
   "source": [
    "<h1>Table of Contents<span class=\"tocSkip\"></span></h1>\n",
    "<div class=\"toc\"><ul class=\"toc-item\"><li><span><a href=\"#Numerical-Optimization\" data-toc-modified-id=\"Numerical-Optimization-1\">Numerical Optimization</a></span><ul class=\"toc-item\"><li><span><a href=\"#Problem-set-3-(14-points)\" data-toc-modified-id=\"Problem-set-3-(14-points)-1.1\">Problem set 3 (14 points)</a></span></li><li><span><a href=\"#Bonus-(4-points)\" data-toc-modified-id=\"Bonus-(4-points)-1.2\">Bonus (4 points)</a></span></li></ul></li></ul></div>"
   ]
  },
  {
   "cell_type": "markdown",
   "metadata": {},
   "source": [
    "Rafał Nowak\n",
    "# Numerical Optimization\n",
    "## Problem set 3 (14 points)\n",
    "\n",
    "**Submission deadline**: Thursday, 02.02.2022\n",
    "\n",
    "* All submissions should contain single file.<br/>This can be single Jupyter notebook file (with extension `ipynb`) or ZIP archive in case the are some additional files needed.\n",
    "* It is recommended to write the reports using LaTeX. \n",
    "* One can report the answers, comments and results in PDF or notebook file.\n",
    "* All the source code should be written in Python or Julia."
   ]
  },
  {
   "cell_type": "code",
   "execution_count": 101,
   "metadata": {},
   "outputs": [],
   "source": [
    "import numpy as np\n",
    "import time\n",
    "import matplotlib.pyplot as plt\n",
    "from scipy.stats import ortho_group\n",
    "import pandas as pd"
   ]
  },
  {
   "cell_type": "markdown",
   "metadata": {},
   "source": [
    "**Problem 5.1** (total 8 pts)\n",
    "\n",
    "(2 pts) Complete the implementation of Newton's method (see [Boyd, *Convex Optimization*, $\\S 9.5.2$])\n",
    "<img src=\"https://i.ibb.co/RvqY16d/Boyd-Newton-method.png\" alt=\"Boyd-Newton-method\">\n"
   ]
  },
  {
   "cell_type": "code",
   "execution_count": 2,
   "metadata": {},
   "outputs": [],
   "source": [
    "COUNT_EVALS = 0"
   ]
  },
  {
   "cell_type": "code",
   "execution_count": 3,
   "metadata": {},
   "outputs": [],
   "source": [
    "def exact_line_search(f, x, direction, iterations, epsilon=10e-10, s=1e-2, k=2.0):\n",
    "    global COUNT_EVALS\n",
    "    def find_initial_bracket(f, s=1e-2, k=2.0):\n",
    "        global COUNT_EVALS\n",
    "        v = f(0)\n",
    "        t1 = 0\n",
    "        while v > 0:\n",
    "            t1 += s\n",
    "            s *= k\n",
    "            v = f(t1)\n",
    "        \n",
    "        t2 = t1\n",
    "        while v < 0:\n",
    "            t1 = t2\n",
    "            t2 += s\n",
    "            s *= k\n",
    "            v = f(t2)\n",
    "        return t1, t2\n",
    "  \n",
    "    def g(t):\n",
    "        global COUNT_EVALS\n",
    "        COUNT_EVALS += 1\n",
    "        return f(x + t*direction, order=1)[1].T @ direction\n",
    "    \n",
    "    def bisection(f, t1, t2, epsilon):\n",
    "        global COUNT_EVALS\n",
    "        mid = (t1+t2)/2\n",
    "        v = f(mid)\n",
    "        while (t2-t1) > epsilon:\n",
    "            if v < 0:\n",
    "                t1 = mid\n",
    "            else:\n",
    "                t2 = mid\n",
    "            mid = (t1+t2)/2\n",
    "            v = f(mid)\n",
    "        return (t1+t2)/2\n",
    "\n",
    "    t1, t2 = find_initial_bracket(g, s=s, k=k)\n",
    "    t = bisection(g, t1, t2, epsilon)\n",
    "    return t"
   ]
  },
  {
   "cell_type": "code",
   "execution_count": 4,
   "metadata": {},
   "outputs": [],
   "source": [
    "def backtracking(func, x, direction, iterations, alpha, beta):\n",
    "    global COUNT_EVALS\n",
    "    t = 1.0\n",
    "    value, gradient = func( x , order=1 )\n",
    "    value_x = np.double( value )\n",
    "    gradient_x = np.matrix( gradient )\n",
    "    while func(x+t*direction, order=0) > value + alpha*t*gradient_x.T@direction:\n",
    "        COUNT_EVALS += 1\n",
    "        t *= beta\n",
    "    return t"
   ]
  },
  {
   "cell_type": "code",
   "execution_count": 41,
   "metadata": {},
   "outputs": [],
   "source": [
    "# Remark: Implement bisection method first\n",
    "def newton(func, initial_x, *linesearch_args, eps=1e-5, maximum_iterations=65536, linesearch=backtracking,\n",
    "          print_decrement=False):\n",
    "    \"\"\" \n",
    "    Newton's Method\n",
    "    func:               the function to optimize It is called as \"value, gradient, hessian = func( x, 2 )\n",
    "    initial_x:          the starting point\n",
    "    eps:                the maximum allowed error in the resulting stepsize t\n",
    "    maximum_iterations: the maximum allowed number of iterations\n",
    "    linesearch:         the linesearch routine\n",
    "    *linesearch_args:   the extra arguments of linesearch routine\n",
    "    \"\"\"\n",
    "    \n",
    "    if eps <= 0:\n",
    "        raise ValueError(\"Epsilon must be positive\")\n",
    "    x = np.asarray( initial_x.copy() )\n",
    "    \n",
    "    # initialization\n",
    "    values = []\n",
    "    runtimes = []\n",
    "    xs = []\n",
    "    start_time = time.time()\n",
    "    iterations = 0\n",
    "    \n",
    "    # Newton's method updates\n",
    "    while True:\n",
    "        \n",
    "        value, gradient, hessian = func( x , order=2 )\n",
    "        value = np.double( value )\n",
    "        gradient = np.matrix( gradient )\n",
    "        hessian = np.matrix( hessian ) \n",
    "        \n",
    "        # updating the logs\n",
    "        values.append( value )\n",
    "        runtimes.append( time.time() - start_time )\n",
    "        xs.append( x.copy() )\n",
    "\n",
    "        ### TODO: Compute the Newton update direction\n",
    "        direction = - np.linalg.inv(hessian) @ gradient\n",
    "\n",
    "        ### TODO: Compute the Newton decrement\n",
    "        newton_decrement = gradient.T @ np.linalg.inv(hessian) @ gradient\n",
    "        if print_decrement:\n",
    "            print(newton_decrement)\n",
    "        \n",
    "\n",
    "        if newton_decrement / 2 <= eps:   ### TODO: TERMINATION CRITERION\n",
    "            break\n",
    "        \n",
    "        t = linesearch(func, x, direction, iterations, *linesearch_args)\n",
    "\n",
    "        ### TODO: update x\n",
    "        x = x + t * direction\n",
    "\n",
    "        iterations += 1\n",
    "        if iterations >= maximum_iterations:\n",
    "            raise ValueError(\"Too many iterations\")\n",
    "    \n",
    "    return (x, values, runtimes, xs)"
   ]
  },
  {
   "cell_type": "markdown",
   "metadata": {},
   "source": [
    "Test your implementation and compare the results for the following functions\n",
    "* (1 pts) function $$ f(x) = x^4 + 16x^2 + 18(x-4) e^x\\qquad (x\\in\\mathbb R). $$"
   ]
  },
  {
   "cell_type": "code",
   "execution_count": 42,
   "metadata": {},
   "outputs": [],
   "source": [
    "def f_example(x, order=2):\n",
    "    value = x**4 + 16 * x**2 + 18 * (x - 4) * np.exp(x)\n",
    "    if order==0:\n",
    "        return value\n",
    "    elif order==1:\n",
    "        gradient = 4 * x**3 + 32 * x + 18 * np.exp(x) * (x - 3)\n",
    "        return value, gradient\n",
    "    elif order==2:\n",
    "        gradient = 4 * x**3 + 32 * x + 18 * np.exp(x) * (x - 3)\n",
    "        hessian = 12 * x**2 + 18 * np.exp(x) * (x - 2) + 32\n",
    "        return value, gradient, hessian\n",
    "    else:\n",
    "        raise ValueError(\"The argument \\\"order\\\" should be 0, 1 or 2\")"
   ]
  },
  {
   "cell_type": "code",
   "execution_count": 43,
   "metadata": {},
   "outputs": [
    {
     "data": {
      "text/plain": [
       "[<matplotlib.lines.Line2D at 0x252443f5550>]"
      ]
     },
     "execution_count": 43,
     "metadata": {},
     "output_type": "execute_result"
    },
    {
     "data": {
      "image/png": "[encoded data removed]",
      "text/plain": [
       "<Figure size 432x288 with 1 Axes>"
      ]
     },
     "metadata": {
      "needs_background": "light"
     },
     "output_type": "display_data"
    }
   ],
   "source": [
    "a,b = -5.0, 5.0\n",
    "xvals = np.linspace(a,b,1000)\n",
    "yvals = list(map(lambda x: f_example(x, order=0), xvals))\n",
    "plt.plot(xvals, yvals)"
   ]
  },
  {
   "cell_type": "code",
   "execution_count": 44,
   "metadata": {},
   "outputs": [
    {
     "data": {
      "text/plain": [
       "(matrix([[2.32232497]]),\n",
       " [-160.6135081652129,\n",
       "  -189.84951383040067,\n",
       "  -192.57004383001936,\n",
       "  -192.6241500150598,\n",
       "  -192.624181830695],\n",
       " [0.0,\n",
       "  0.0019943714141845703,\n",
       "  0.0019943714141845703,\n",
       "  0.0019943714141845703,\n",
       "  0.0029914379119873047],\n",
       " [array([1.5]),\n",
       "  matrix([[2.50046563]]),\n",
       "  matrix([[2.34845971]]),\n",
       "  matrix([[2.32296334]]),\n",
       "  matrix([[2.32232497]])])"
      ]
     },
     "execution_count": 44,
     "metadata": {},
     "output_type": "execute_result"
    }
   ],
   "source": [
    "newton(f_example, [1.5],  0.4, 0.9, eps=1e-5, maximum_iterations=65536, linesearch=backtracking)"
   ]
  },
  {
   "cell_type": "code",
   "execution_count": 45,
   "metadata": {},
   "outputs": [
    {
     "data": {
      "text/plain": [
       "(matrix([[2.32231969]]),\n",
       " [2390458.3058391255, -192.62418182884093],\n",
       " [0.0, 0.003958940505981445],\n",
       " [array([10.]), matrix([[2.32231969]])])"
      ]
     },
     "execution_count": 45,
     "metadata": {},
     "output_type": "execute_result"
    }
   ],
   "source": [
    "newton(f_example, [10.0], 10e-5, 1e-2, 2.0, maximum_iterations=65536, linesearch=exact_line_search)"
   ]
  },
  {
   "cell_type": "markdown",
   "metadata": {},
   "source": [
    "* (1 pt) function `boyd_example_func` written in Python below"
   ]
  },
  {
   "cell_type": "code",
   "execution_count": 46,
   "metadata": {},
   "outputs": [],
   "source": [
    "def boyd_example_func(x, order=0):\n",
    "    a=np.matrix('1  3')\n",
    "    b=np.matrix('1  -3')\n",
    "    c=np.matrix('-1  0')\n",
    "    x=np.asmatrix(x)\n",
    "\n",
    "    value = np.exp(a@x-0.1)[0,0]+np.exp(b@x-0.1)[0,0]+np.exp(c@x-0.1)[0,0]\n",
    "    if order==0:\n",
    "        return value\n",
    "    elif order==1:\n",
    "        gradient = a.T*np.exp(a@x-0.1)[0,0]+b.T*np.exp(b@x-0.1)[0,0]+c.T*np.exp(c@x-0.1)[0,0]\n",
    "        return (value, gradient)\n",
    "    elif order==2:\n",
    "        gradient = a.T*np.exp(a@x-0.1)[0,0]+b.T*np.exp(b@x-0.1)[0,0]+c.T*np.exp(c@x-0.1)[0,0]\n",
    "        hessian = a.T@a*np.exp(a@x-0.1)[0,0]+b.T@b*np.exp(b@x-0.1)[0,0]+c.T@c*np.exp(c@x-0.1)[0,0]\n",
    "        return (value, gradient, hessian)\n",
    "    else:\n",
    "        raise ValueError(\"The argument \\\"order\\\" should be 0, 1 or 2\")"
   ]
  },
  {
   "cell_type": "code",
   "execution_count": 47,
   "metadata": {},
   "outputs": [
    {
     "data": {
      "text/plain": [
       "(matrix([[-3.46570354e-01],\n",
       "         [ 2.15728916e-06]]),\n",
       " [438995622.7416436,\n",
       "  161499312.5741365,\n",
       "  59412163.542642444,\n",
       "  21856503.10521,\n",
       "  8040560.07140453,\n",
       "  2957956.6661045603,\n",
       "  1088171.4733925308,\n",
       "  400315.93303926685,\n",
       "  147268.02857460102,\n",
       "  54176.91738987129,\n",
       "  19930.626164446126,\n",
       "  7332.14028498872,\n",
       "  2697.445089022108,\n",
       "  992.4761317380412,\n",
       "  365.3090942812051,\n",
       "  134.6653529757698,\n",
       "  49.92516804145454,\n",
       "  18.902370956267397,\n",
       "  7.6977691488430855,\n",
       "  3.850030487036647,\n",
       "  2.7462171900764103,\n",
       "  2.5662933209294745,\n",
       "  2.5592791266168398,\n",
       "  2.5592666966984137],\n",
       " [0.00099945068359375,\n",
       "  0.002958536148071289,\n",
       "  0.002958536148071289,\n",
       "  0.003957033157348633,\n",
       "  0.004955291748046875,\n",
       "  0.005982160568237305,\n",
       "  0.005982160568237305,\n",
       "  0.006981611251831055,\n",
       "  0.007978439331054688,\n",
       "  0.007978439331054688,\n",
       "  0.008978843688964844,\n",
       "  0.008978843688964844,\n",
       "  0.00994110107421875,\n",
       "  0.00994110107421875,\n",
       "  0.010973215103149414,\n",
       "  0.011967897415161133,\n",
       "  0.011967897415161133,\n",
       "  0.012932538986206055,\n",
       "  0.012932538986206055,\n",
       "  0.013959884643554688,\n",
       "  0.013959884643554688,\n",
       "  0.014959573745727539,\n",
       "  0.014959573745727539,\n",
       "  0.01595783233642578],\n",
       " [array([[5.],\n",
       "         [5.]]),\n",
       "  matrix([[5.94750977],\n",
       "          [4.35083389]]),\n",
       "  matrix([[5.83359528],\n",
       "          [4.05547142]]),\n",
       "  matrix([[5.41702461],\n",
       "          [3.86099482]]),\n",
       "  matrix([[5.1087122 ],\n",
       "          [3.63043237]]),\n",
       "  matrix([[4.76684016],\n",
       "          [3.41105637]]),\n",
       "  matrix([[4.43632831],\n",
       "          [3.18789366]]),\n",
       "  matrix([[4.10205183],\n",
       "          [2.96598582]]),\n",
       "  matrix([[3.7690326 ],\n",
       "          [2.74365891]]),\n",
       "  matrix([[3.43559456],\n",
       "          [2.52147162]]),\n",
       "  matrix([[3.10229626],\n",
       "          [2.29923784]]),\n",
       "  matrix([[2.76895174],\n",
       "          [2.0770198 ]]),\n",
       "  matrix([[2.43562401],\n",
       "          [1.85479743]]),\n",
       "  matrix([[2.10229591],\n",
       "          [1.63257999]]),\n",
       "  matrix([[1.76898776],\n",
       "          [1.41037413]]),\n",
       "  matrix([[1.43574819],\n",
       "          [1.18821455]]),\n",
       "  matrix([[1.10277093],\n",
       "          [0.96622967]]),\n",
       "  matrix([[0.77078533],\n",
       "          [0.74490595]]),\n",
       "  matrix([[0.44252321],\n",
       "          [0.52606453]]),\n",
       "  matrix([[0.12784917],\n",
       "          [0.31628184]]),\n",
       "  matrix([[-0.14202662],\n",
       "          [ 0.13636465]]),\n",
       "  matrix([[-0.30440153],\n",
       "          [ 0.0281147 ]]),\n",
       "  matrix([[-0.34477525],\n",
       "          [ 0.00119889]]),\n",
       "  matrix([[-3.46570354e-01],\n",
       "          [ 2.15728916e-06]])])"
      ]
     },
     "execution_count": 47,
     "metadata": {},
     "output_type": "execute_result"
    }
   ],
   "source": [
    "newton(boyd_example_func, [[5.0],[5.0]],  0.4, 0.9, eps=1e-5, maximum_iterations=65536, linesearch=backtracking)"
   ]
  },
  {
   "cell_type": "code",
   "execution_count": 48,
   "metadata": {},
   "outputs": [
    {
     "data": {
      "text/plain": [
       "(matrix([[-0.34683887],\n",
       "         [ 0.00040362]]),\n",
       " [438995622.7416436,\n",
       "  350639.9076837685,\n",
       "  2.738081662639273,\n",
       "  2.5636590971609303,\n",
       "  2.559267724540552],\n",
       " [0.0,\n",
       "  0.006981849670410156,\n",
       "  0.011935710906982422,\n",
       "  0.016921520233154297,\n",
       "  0.021909713745117188],\n",
       " [array([[5.],\n",
       "         [5.]]),\n",
       "  matrix([[12.03929433],\n",
       "          [ 0.17717763]]),\n",
       "  matrix([[-0.41410411],\n",
       "          [ 0.17717763]]),\n",
       "  matrix([[-0.29103812],\n",
       "          [ 0.00854753]]),\n",
       "  matrix([[-0.34683887],\n",
       "          [ 0.00040362]])])"
      ]
     },
     "execution_count": 48,
     "metadata": {},
     "output_type": "execute_result"
    }
   ],
   "source": [
    "newton(boyd_example_func, [[5.0],[5.0]], 10e-5, 1e-2, 2.0,  eps=1e-5, maximum_iterations=65536, linesearch=exact_line_search)"
   ]
  },
  {
   "cell_type": "markdown",
   "metadata": {},
   "source": [
    "* (2 pts) the following Python function `quadratic` (with different types of matrix $H$)"
   ]
  },
  {
   "cell_type": "code",
   "execution_count": 49,
   "metadata": {},
   "outputs": [],
   "source": [
    "def quadratic( H, b, x, order=0 ):\n",
    "    \"\"\" \n",
    "    Quadratic Objective\n",
    "    H:          the Hessian matrix\n",
    "    b:          the vector of linear coefficients\n",
    "    x:          the current iterate\n",
    "    order:      the order of the oracle. For example, order=1 returns the value of the function and its gradient while order=2 will also return the hessian\n",
    "    \"\"\"\n",
    "    H = np.asmatrix(H)\n",
    "    b = np.asmatrix(b)\n",
    "    x = np.asmatrix(x)\n",
    "    \n",
    "    value = 0.5 * x.T @ H @ x + b.T @ x\n",
    "\n",
    "    if order == 0:\n",
    "        return value\n",
    "    elif order == 1:\n",
    "        gradient = H @ x + b\n",
    "        return (value, gradient)\n",
    "    elif order == 2:\n",
    "        gradient = H @ x + b\n",
    "        hessian = H\n",
    "        return (value, gradient, hessian)\n",
    "    else:\n",
    "        raise ValueError(\"The argument \\\"order\\\" should be 0, 1 or 2\")"
   ]
  },
  {
   "cell_type": "code",
   "execution_count": 10,
   "metadata": {},
   "outputs": [],
   "source": [
    "def create_quadratic_function(H, b):\n",
    "    return lambda x, order=0: quadratic(H, b, x, order=order)"
   ]
  },
  {
   "cell_type": "code",
   "execution_count": 11,
   "metadata": {},
   "outputs": [],
   "source": [
    "def positive_definite(n=4):\n",
    "    A = np.random.rand(n,n)\n",
    "    M = A@A.T\n",
    "    return M"
   ]
  },
  {
   "cell_type": "code",
   "execution_count": 12,
   "metadata": {},
   "outputs": [],
   "source": [
    "def weakly_positive_definite(n=4):\n",
    "    eigenvalues = np.random.rand(n)\n",
    "    D = np.diag(eigenvalues)\n",
    "    D[0, 0] = 0.0\n",
    "    P = ortho_group.rvs(dim=n)\n",
    "    M = P @ D @ P.T\n",
    "    return M"
   ]
  },
  {
   "cell_type": "code",
   "execution_count": 38,
   "metadata": {},
   "outputs": [
    {
     "name": "stderr",
     "output_type": "stream",
     "text": [
      "<ipython-input-9-bad7b0023016>:13: RuntimeWarning: overflow encountered in matmul\n",
      "  value = 0.5 * x.T @ H @ x + b.T @ x\n",
      "<ipython-input-9-bad7b0023016>:13: RuntimeWarning: invalid value encountered in matmul\n",
      "  value = 0.5 * x.T @ H @ x + b.T @ x\n",
      "<ipython-input-3-aafbb3a96a19>:26: RuntimeWarning: overflow encountered in matmul\n",
      "  return f(x + t*direction, order=1)[1].T @ direction\n",
      "<ipython-input-3-aafbb3a96a19>:26: RuntimeWarning: invalid value encountered in matmul\n",
      "  return f(x + t*direction, order=1)[1].T @ direction\n",
      "<ipython-input-5-2c5e333e8707>:39: RuntimeWarning: invalid value encountered in matmul\n",
      "  direction = - np.linalg.inv(hessian) @ gradient\n",
      "<ipython-input-5-2c5e333e8707>:42: RuntimeWarning: invalid value encountered in matmul\n",
      "  newton_decrement = gradient.T @ np.linalg.inv(hessian) @ gradient\n"
     ]
    },
    {
     "ename": "KeyboardInterrupt",
     "evalue": "",
     "output_type": "error",
     "traceback": [
      "\u001b[1;31m---------------------------------------------------------------------------\u001b[0m",
      "\u001b[1;31mKeyboardInterrupt\u001b[0m                         Traceback (most recent call last)",
      "\u001b[1;32m<ipython-input-38-6ad66c087f63>\u001b[0m in \u001b[0;36m<module>\u001b[1;34m\u001b[0m\n\u001b[0;32m      3\u001b[0m \u001b[0mb\u001b[0m \u001b[1;33m=\u001b[0m \u001b[1;33m(\u001b[0m\u001b[0mH\u001b[0m \u001b[1;33m@\u001b[0m \u001b[0mx0\u001b[0m\u001b[1;33m)\u001b[0m\u001b[1;33m.\u001b[0m\u001b[0mreshape\u001b[0m\u001b[1;33m(\u001b[0m\u001b[1;33m-\u001b[0m\u001b[1;36m1\u001b[0m\u001b[1;33m,\u001b[0m \u001b[1;36m1\u001b[0m\u001b[1;33m)\u001b[0m\u001b[1;33m\u001b[0m\u001b[1;33m\u001b[0m\u001b[0m\n\u001b[0;32m      4\u001b[0m \u001b[0mquad\u001b[0m \u001b[1;33m=\u001b[0m \u001b[0mcreate_quadratic_function\u001b[0m\u001b[1;33m(\u001b[0m\u001b[0mH\u001b[0m\u001b[1;33m,\u001b[0m \u001b[0mb\u001b[0m\u001b[1;33m)\u001b[0m\u001b[1;33m\u001b[0m\u001b[1;33m\u001b[0m\u001b[0m\n\u001b[1;32m----> 5\u001b[1;33m \u001b[0mnewton\u001b[0m\u001b[1;33m(\u001b[0m\u001b[0mquad\u001b[0m\u001b[1;33m,\u001b[0m \u001b[1;33m[\u001b[0m\u001b[1;33m[\u001b[0m\u001b[1;36m5.0\u001b[0m\u001b[1;33m]\u001b[0m\u001b[1;33m,\u001b[0m\u001b[1;33m[\u001b[0m\u001b[1;36m5.0\u001b[0m\u001b[1;33m]\u001b[0m\u001b[1;33m,\u001b[0m\u001b[1;33m[\u001b[0m\u001b[1;36m5.0\u001b[0m\u001b[1;33m]\u001b[0m\u001b[1;33m,\u001b[0m\u001b[1;33m[\u001b[0m\u001b[1;36m5.0\u001b[0m\u001b[1;33m]\u001b[0m\u001b[1;33m]\u001b[0m\u001b[1;33m,\u001b[0m \u001b[1;36m10e-5\u001b[0m\u001b[1;33m,\u001b[0m \u001b[1;36m1e-2\u001b[0m\u001b[1;33m,\u001b[0m \u001b[1;36m2.0\u001b[0m\u001b[1;33m,\u001b[0m  \u001b[0meps\u001b[0m\u001b[1;33m=\u001b[0m\u001b[1;36m1e-5\u001b[0m\u001b[1;33m,\u001b[0m \u001b[0mmaximum_iterations\u001b[0m\u001b[1;33m=\u001b[0m\u001b[1;36m65536\u001b[0m\u001b[1;33m,\u001b[0m \u001b[0mlinesearch\u001b[0m\u001b[1;33m=\u001b[0m\u001b[0mexact_line_search\u001b[0m\u001b[1;33m)\u001b[0m\u001b[1;33m\u001b[0m\u001b[1;33m\u001b[0m\u001b[0m\n\u001b[0m",
      "\u001b[1;32m<ipython-input-5-2c5e333e8707>\u001b[0m in \u001b[0;36mnewton\u001b[1;34m(func, initial_x, eps, maximum_iterations, linesearch, print_decrement, *linesearch_args)\u001b[0m\n\u001b[0;32m     34\u001b[0m         \u001b[0mvalues\u001b[0m\u001b[1;33m.\u001b[0m\u001b[0mappend\u001b[0m\u001b[1;33m(\u001b[0m \u001b[0mvalue\u001b[0m \u001b[1;33m)\u001b[0m\u001b[1;33m\u001b[0m\u001b[1;33m\u001b[0m\u001b[0m\n\u001b[0;32m     35\u001b[0m         \u001b[0mruntimes\u001b[0m\u001b[1;33m.\u001b[0m\u001b[0mappend\u001b[0m\u001b[1;33m(\u001b[0m \u001b[0mtime\u001b[0m\u001b[1;33m.\u001b[0m\u001b[0mtime\u001b[0m\u001b[1;33m(\u001b[0m\u001b[1;33m)\u001b[0m \u001b[1;33m-\u001b[0m \u001b[0mstart_time\u001b[0m \u001b[1;33m)\u001b[0m\u001b[1;33m\u001b[0m\u001b[1;33m\u001b[0m\u001b[0m\n\u001b[1;32m---> 36\u001b[1;33m         \u001b[0mxs\u001b[0m\u001b[1;33m.\u001b[0m\u001b[0mappend\u001b[0m\u001b[1;33m(\u001b[0m \u001b[0mx\u001b[0m\u001b[1;33m.\u001b[0m\u001b[0mcopy\u001b[0m\u001b[1;33m(\u001b[0m\u001b[1;33m)\u001b[0m \u001b[1;33m)\u001b[0m\u001b[1;33m\u001b[0m\u001b[1;33m\u001b[0m\u001b[0m\n\u001b[0m\u001b[0;32m     37\u001b[0m \u001b[1;33m\u001b[0m\u001b[0m\n\u001b[0;32m     38\u001b[0m         \u001b[1;31m### TODO: Compute the Newton update direction\u001b[0m\u001b[1;33m\u001b[0m\u001b[1;33m\u001b[0m\u001b[1;33m\u001b[0m\u001b[0m\n",
      "\u001b[1;31mKeyboardInterrupt\u001b[0m: "
     ]
    }
   ],
   "source": [
    "H = weakly_positive_definite(n=4)\n",
    "x0 = np.random.rand(4, 1)\n",
    "b = (H @ x0).reshape(-1, 1)\n",
    "quad = create_quadratic_function(H, b)\n",
    "newton(quad, [[5.0],[5.0],[5.0],[5.0]], 10e-5, 1e-2, 2.0,  eps=1e-5, maximum_iterations=65536, linesearch=exact_line_search)"
   ]
  },
  {
   "cell_type": "code",
   "execution_count": 50,
   "metadata": {},
   "outputs": [
    {
     "data": {
      "text/plain": [
       "(matrix([[ 0.26461157],\n",
       "         [-1.25487787],\n",
       "         [-0.82585368],\n",
       "         [ 1.46799317]]),\n",
       " [237.56430402456004, -0.38835420476505966],\n",
       " [0.0, 0.0010111331939697266],\n",
       " [array([[5.],\n",
       "         [5.],\n",
       "         [5.],\n",
       "         [5.]]),\n",
       "  matrix([[ 0.26461157],\n",
       "          [-1.25487787],\n",
       "          [-0.82585368],\n",
       "          [ 1.46799317]])])"
      ]
     },
     "execution_count": 50,
     "metadata": {},
     "output_type": "execute_result"
    }
   ],
   "source": [
    "H = positive_definite(n=4)\n",
    "b = np.random.rand(4, 1)\n",
    "quad = create_quadratic_function(H, b)\n",
    "newton(quad, [[5.0],[5.0],[5.0],[5.0]], 10e-5, 1e-2, 2.0,  eps=1e-5, maximum_iterations=65536, linesearch=exact_line_search)"
   ]
  },
  {
   "cell_type": "code",
   "execution_count": 51,
   "metadata": {},
   "outputs": [
    {
     "data": {
      "text/plain": [
       "(matrix([[-65.00273438],\n",
       "         [ 18.00050781]]),\n",
       " [557.5, -84.99999901962293],\n",
       " [0.0, 0.0009975433349609375],\n",
       " [array([[5.],\n",
       "         [5.]]),\n",
       "  matrix([[-65.00273438],\n",
       "          [ 18.00050781]])])"
      ]
     },
     "execution_count": 51,
     "metadata": {},
     "output_type": "execute_result"
    }
   ],
   "source": [
    "H = np.asmatrix([[1,1],[3,4]]) @ np.asmatrix([[1,1],[3,4]]).T\n",
    "b = np.asmatrix([[4],[5]])\n",
    "quad = create_quadratic_function(H, b)\n",
    "newton(quad, [[5.0],[5.0]], 10e-5, 1e-2, 2.0,  eps=1e-5, maximum_iterations=65536, linesearch=exact_line_search)"
   ]
  },
  {
   "cell_type": "code",
   "execution_count": 52,
   "metadata": {},
   "outputs": [
    {
     "data": {
      "text/plain": [
       "(matrix([[-65.],\n",
       "         [ 18.]]),\n",
       " [557.5, -85.0],\n",
       " [0.0, 0.0],\n",
       " [array([[5.],\n",
       "         [5.]]),\n",
       "  matrix([[-65.],\n",
       "          [ 18.]])])"
      ]
     },
     "execution_count": 52,
     "metadata": {},
     "output_type": "execute_result"
    }
   ],
   "source": [
    "H = np.asmatrix([[1,1],[3,4]]) @ np.asmatrix([[1,1],[3,4]]).T\n",
    "b = np.asmatrix([[4],[5]])\n",
    "quad = lambda x, order=2: quadratic(H, b, x, order=order)\n",
    "newton(quad, [[5.0],[5.0]],  0.4, 0.9, eps=1e-5, maximum_iterations=65536, linesearch=backtracking)"
   ]
  },
  {
   "cell_type": "markdown",
   "metadata": {},
   "source": [
    "Newton method finds solutions of convex functions very fast. There was no significant difference between using exact line search and backtracking. Newton finds optimum for strictly positive definite quadratic functions but fails to do so when matrix is weakly positive definite (we may encounter problems with inversions, nans or infinities, which goes on par with theory as hessian is not invertible)."
   ]
  },
  {
   "cell_type": "markdown",
   "metadata": {},
   "source": [
    "Remark. In `newton` function you should use both `exact_line_search` (1 pt) and `backtracking` (1 pt).\n",
    "\n",
    "<img width=\"80%\" src=\"https://i.ibb.co/1fQ0Nfs/Boyd-line-search.png\">"
   ]
  },
  {
   "cell_type": "markdown",
   "metadata": {},
   "source": [
    "---"
   ]
  },
  {
   "cell_type": "markdown",
   "metadata": {},
   "source": [
    "---"
   ]
  },
  {
   "cell_type": "markdown",
   "metadata": {},
   "source": [
    "**Problem 5.2** (total 6 pts)\n",
    "\n",
    "(2 pts) Complete the implementation of Conjugate gradients method (see [Nocedal, Wright, *Numerical Optimization*, $\\S 5.2$])\n",
    "\n",
    "<img src=\"https://i.ibb.co/Hxn9PmM/Nocedal-Wright-CG-FR.png\">"
   ]
  },
  {
   "cell_type": "code",
   "execution_count": 97,
   "metadata": {},
   "outputs": [],
   "source": [
    "ITERS = 0"
   ]
  },
  {
   "cell_type": "code",
   "execution_count": 98,
   "metadata": {},
   "outputs": [],
   "source": [
    "def cg_fr( func, initial_x, *linesearch_args, eps=1e-5, maximum_iterations=65536, linesearch=backtracking  ):\n",
    "    \"\"\" \n",
    "    Conjugate Gradient\n",
    "    func:               the function to optimize It is called as \"value, gradient = func( x, 1 )\n",
    "    initial_x:          the starting point\n",
    "    eps:                the maximum allowed error in the resulting stepsize t\n",
    "    maximum_iterations: the maximum allowed number of iterations\n",
    "    linesearch:         the linesearch routine\n",
    "    *linesearch_args:   the extra arguments of linesearch routine\n",
    "    \"\"\"\n",
    "    \n",
    "    global COUNT_EVALS\n",
    "    global ITERS\n",
    "    if eps <= 0:\n",
    "        raise ValueError(\"Epsilon must be positive\")\n",
    "    x = np.asarray( initial_x.copy() )\n",
    "\n",
    "    # initialization\n",
    "    values = []\n",
    "    runtimes = []\n",
    "    xs = []\n",
    "    start_time = time.time()\n",
    "    m = len( initial_x )\n",
    "    iterations = 0\n",
    "    direction = np.asmatrix( np.zeros( x.shape ) )\n",
    "\n",
    "    # conjugate gradient updates\n",
    "    while True:\n",
    "        COUNT_EVALS += 1\n",
    "        value, gradient = func( x , 1 )\n",
    "        value = np.double( value )\n",
    "        gradient = np.asarray( gradient )\n",
    "        \n",
    "        # updating the logs\n",
    "        values.append( value )\n",
    "        runtimes.append( time.time() - start_time )\n",
    "        xs.append( x.copy() )\n",
    "\n",
    "        if (gradient.T @ gradient) < eps:  \n",
    "            break\n",
    "\n",
    "        # reset after #(dimensions) iterations\n",
    "        if iterations % m == 0:\n",
    "            beta = 0\n",
    "        else:\n",
    "            beta = ((gradient.T @ gradient) / (old_gradient.T @ old_gradient))[0,0]\n",
    "\n",
    "        direction = -gradient + beta * direction\n",
    "\n",
    "        t = linesearch(func, x, direction, iterations, *linesearch_args)\n",
    "\n",
    "        x += t * direction\n",
    "        \n",
    "        old_gradient = gradient\n",
    "\n",
    "        iterations += 1\n",
    "        if iterations >= maximum_iterations:\n",
    "            raise ValueError(\"Too many iterations\")\n",
    "    ITERS = iterations\n",
    "    return (x, values, runtimes, xs)"
   ]
  },
  {
   "cell_type": "code",
   "execution_count": 99,
   "metadata": {},
   "outputs": [
    {
     "data": {
      "text/plain": [
       "(array([[2.32232979]]),\n",
       " [-186.00601956150342,\n",
       "  -192.1464665653188,\n",
       "  -192.6221279402406,\n",
       "  -192.62416255562982,\n",
       "  -192.62418162773025,\n",
       "  -192.62418182859264],\n",
       " [0.0,\n",
       "  0.003988504409790039,\n",
       "  0.007013559341430664,\n",
       "  0.009007930755615234,\n",
       "  0.011005401611328125,\n",
       "  0.013962745666503906],\n",
       " [array([[2.]]),\n",
       "  array([[2.39871719]]),\n",
       "  array([[2.31718294]]),\n",
       "  array([[2.32282178]]),\n",
       "  array([[2.32227355]]),\n",
       "  array([[2.32232979]])])"
      ]
     },
     "execution_count": 99,
     "metadata": {},
     "output_type": "execute_result"
    }
   ],
   "source": [
    "cg_fr(f_example, [[2.0]], 0.4, 0.9, eps=1e-5, maximum_iterations=65536, linesearch=backtracking)"
   ]
  },
  {
   "cell_type": "markdown",
   "metadata": {},
   "source": [
    "Next, copy the function above but use the following Polak-Riberie formulae:\n",
    "$$ \\beta_{k+1}^{\\mathtt{PR}} = \\frac{\\nabla f_{k+1}^T(\\nabla f_{k+1} - \\nabla f_k)}{\\|\\nabla f_k\\|^2}$$\n",
    "\n",
    "Observe that we applied the reset trick.\n",
    "It is worth reading more implementation hints in section [Nocedal, Wright, *Numerical Optimization*, $\\S 5.2$]."
   ]
  },
  {
   "cell_type": "code",
   "execution_count": 100,
   "metadata": {},
   "outputs": [],
   "source": [
    "def cg_pr( func, initial_x, *linesearch_args, eps=1e-5, maximum_iterations=65536, linesearch=backtracking  ):\n",
    "    \"\"\" \n",
    "    Conjugate Gradient\n",
    "    func:               the function to optimize It is called as \"value, gradient = func( x, 1 )\n",
    "    initial_x:          the starting point\n",
    "    eps:                the maximum allowed error in the resulting stepsize t\n",
    "    maximum_iterations: the maximum allowed number of iterations\n",
    "    linesearch:         the linesearch routine\n",
    "    *linesearch_args:   the extra arguments of linesearch routine\n",
    "    \"\"\"\n",
    "    \n",
    "    global COUNT_EVALS\n",
    "    global ITERS\n",
    "    if eps <= 0:\n",
    "        raise ValueError(\"Epsilon must be positive\")\n",
    "    x = np.asarray( initial_x.copy() )\n",
    "\n",
    "    # initialization\n",
    "    values = []\n",
    "    runtimes = []\n",
    "    xs = []\n",
    "    start_time = time.time()\n",
    "    m = len( initial_x )\n",
    "    iterations = 0\n",
    "    direction = np.asmatrix( np.zeros( x.shape ) )\n",
    "\n",
    "    # conjugate gradient updates\n",
    "    while True:\n",
    "        COUNT_EVALS += 1\n",
    "        value, gradient = func( x , 1 )\n",
    "        value = np.double( value )\n",
    "        gradient = np.asarray( gradient )\n",
    "\n",
    "        # updating the logs\n",
    "        values.append( value )\n",
    "        runtimes.append( time.time() - start_time )\n",
    "        xs.append( x.copy() )\n",
    "\n",
    "        if (gradient.T @ gradient) < eps:\n",
    "            break\n",
    "\n",
    "        # reset after #(dimensions) iterations\n",
    "        if iterations % m == 0:\n",
    "            beta = 0\n",
    "        else:\n",
    "            beta = ((gradient.T @ (gradient - old_gradient)) / (old_gradient.T @ old_gradient))[0,0]\n",
    "\n",
    "        direction = -gradient + beta * direction\n",
    "\n",
    "        t = linesearch(func, x, direction, iterations, *linesearch_args)\n",
    "\n",
    "        x += t * direction\n",
    "        \n",
    "        old_gradient = gradient\n",
    "        old_value = value\n",
    "\n",
    "        iterations += 1\n",
    "        if iterations >= maximum_iterations:\n",
    "            raise ValueError(\"Too many iterations\")\n",
    "    \n",
    "    ITERS = iterations\n",
    "    return (x, values, runtimes, xs)"
   ]
  },
  {
   "cell_type": "code",
   "execution_count": 56,
   "metadata": {},
   "outputs": [
    {
     "data": {
      "text/plain": [
       "(array([[2.32232979]]),\n",
       " [-186.00601956150342,\n",
       "  -192.1464665653188,\n",
       "  -192.6221279402406,\n",
       "  -192.62416255562982,\n",
       "  -192.62418162773025,\n",
       "  -192.62418182859264],\n",
       " [0.0,\n",
       "  0.0019981861114501953,\n",
       "  0.0059850215911865234,\n",
       "  0.008975982666015625,\n",
       "  0.011969327926635742,\n",
       "  0.013965368270874023],\n",
       " [array([[2.]]),\n",
       "  array([[2.39871719]]),\n",
       "  array([[2.31718294]]),\n",
       "  array([[2.32282178]]),\n",
       "  array([[2.32227355]]),\n",
       "  array([[2.32232979]])])"
      ]
     },
     "execution_count": 56,
     "metadata": {},
     "output_type": "execute_result"
    }
   ],
   "source": [
    "cg_pr(f_example, [[2.0]],  0.4, 0.9, eps=1e-5, maximum_iterations=65536, linesearch=backtracking)"
   ]
  },
  {
   "cell_type": "markdown",
   "metadata": {},
   "source": [
    "\n",
    "(4 pts) Compare the efficiency (number of function/gradient evaluations) of FR and PR updates in CG method for Powell's optimization problem (PSF):\n",
    "$$ \\min_{-10 \\leq x_i \\leq 10} (x_1+10x_2)^2+5(x_3-x_4)^2+(x_2-2x_3)^4 + 10(x_1-x_4)^4,$$\n",
    "\n",
    "\n",
    "Observe that $f(X^*)=0$ for $X^*=0$.\n",
    "\n",
    "More info about PSF can be found, for example, here http://www.optimization-online.org/DB_FILE/2012/03/3382.pdf.\n",
    "\n",
    "Compare your results with [Nocedal, Wright, *Numerical Optimization*, Table 5.1] (row XPOWELL)\n",
    "<img width=50% src=\"https://i.ibb.co/6PVGJrS/Table51.png\">"
   ]
  },
  {
   "cell_type": "code",
   "execution_count": 57,
   "metadata": {},
   "outputs": [],
   "source": [
    "def psf(x, order=1):\n",
    "    x = np.array(x)\n",
    "    x1,x2,x3,x4 = x[:,0]\n",
    "    value = (x1 + 10*x2)**2 + 5*(x3 - x4)**2 + (x2 - 2*x3)**4 + 10*(x1 - x4)**4\n",
    "    if order==0:\n",
    "        return value\n",
    "    elif order==1:\n",
    "        d1 = 2*(x1 + 10*x2) + 40*(x1 - x4)**3\n",
    "        d2 = 20*(x1 + 10*x2) + 4*(x2 - 2*x3)**3\n",
    "        d3 = 10*(x3 - x4) - 8*(x2 - 2*x3)**3\n",
    "        d4 = -10*(x3 - x4) - 40*(x1 - x4)**3\n",
    "        gradient = np.array([[d1], [d2], [d3], [d4]])\n",
    "        return value, gradient\n",
    "    else:\n",
    "        raise ValueError(\"The argument \\\"order\\\" should be 0 or 1\")"
   ]
  },
  {
   "cell_type": "code",
   "execution_count": 133,
   "metadata": {},
   "outputs": [],
   "source": [
    "def compare_performance(n_trials=20):\n",
    "    global COUNT_EVALS\n",
    "    global ITERS\n",
    "    results = pd.DataFrame({\"Algorithm\": [], \"trial\": [], \"iterations\": [], \"evaluations\": []})\n",
    "    for i in range(n_trials):\n",
    "        startx = np.random.rand(4, 1)*10\n",
    "        COUNT_EVALS = 0\n",
    "        ITERS = 0\n",
    "        _ = cg_fr(psf, startx, 10e-5, 1e-2, 2.0,  eps=1e-5, maximum_iterations=65536, linesearch=exact_line_search)\n",
    "        results = results.append({\"Algorithm\": \"FR\", \"trial\": i, \"iterations\": ITERS, \"evaluations\": COUNT_EVALS},\n",
    "                                ignore_index=True)\n",
    "        \n",
    "        COUNT_EVALS = 0\n",
    "        ITERS = 0\n",
    "        _ = cg_pr(psf, startx, 10e-5, 1e-2, 2.0,  eps=1e-5, maximum_iterations=65536, linesearch=exact_line_search)\n",
    "        results = results.append({\"Algorithm\": \"PR\", \"trial\": i, \"iterations\": ITERS, \"evaluations\": COUNT_EVALS},\n",
    "                                ignore_index=True)\n",
    "    return results"
   ]
  },
  {
   "cell_type": "code",
   "execution_count": 137,
   "metadata": {},
   "outputs": [
    {
     "data": {
      "text/html": [
       "<div>\n",
       "<style scoped>\n",
       "    .dataframe tbody tr th:only-of-type {\n",
       "        vertical-align: middle;\n",
       "    }\n",
       "\n",
       "    .dataframe tbody tr th {\n",
       "        vertical-align: top;\n",
       "    }\n",
       "\n",
       "    .dataframe thead th {\n",
       "        text-align: right;\n",
       "    }\n",
       "</style>\n",
       "<table border=\"1\" class=\"dataframe\">\n",
       "  <thead>\n",
       "    <tr style=\"text-align: right;\">\n",
       "      <th></th>\n",
       "      <th></th>\n",
       "      <th>iterations</th>\n",
       "      <th>evaluations</th>\n",
       "    </tr>\n",
       "    <tr>\n",
       "      <th>trial</th>\n",
       "      <th>Algorithm</th>\n",
       "      <th></th>\n",
       "      <th></th>\n",
       "    </tr>\n",
       "  </thead>\n",
       "  <tbody>\n",
       "    <tr>\n",
       "      <th rowspan=\"2\" valign=\"top\">0.0</th>\n",
       "      <th>FR</th>\n",
       "      <td>26.0</td>\n",
       "      <td>365.0</td>\n",
       "    </tr>\n",
       "    <tr>\n",
       "      <th>PR</th>\n",
       "      <td>38.0</td>\n",
       "      <td>515.0</td>\n",
       "    </tr>\n",
       "    <tr>\n",
       "      <th rowspan=\"2\" valign=\"top\">1.0</th>\n",
       "      <th>FR</th>\n",
       "      <td>40.0</td>\n",
       "      <td>575.0</td>\n",
       "    </tr>\n",
       "    <tr>\n",
       "      <th>PR</th>\n",
       "      <td>46.0</td>\n",
       "      <td>643.0</td>\n",
       "    </tr>\n",
       "    <tr>\n",
       "      <th>2.0</th>\n",
       "      <th>FR</th>\n",
       "      <td>42.0</td>\n",
       "      <td>603.0</td>\n",
       "    </tr>\n",
       "    <tr>\n",
       "      <th>...</th>\n",
       "      <th>...</th>\n",
       "      <td>...</td>\n",
       "      <td>...</td>\n",
       "    </tr>\n",
       "    <tr>\n",
       "      <th>97.0</th>\n",
       "      <th>PR</th>\n",
       "      <td>46.0</td>\n",
       "      <td>647.0</td>\n",
       "    </tr>\n",
       "    <tr>\n",
       "      <th rowspan=\"2\" valign=\"top\">98.0</th>\n",
       "      <th>FR</th>\n",
       "      <td>26.0</td>\n",
       "      <td>363.0</td>\n",
       "    </tr>\n",
       "    <tr>\n",
       "      <th>PR</th>\n",
       "      <td>40.0</td>\n",
       "      <td>583.0</td>\n",
       "    </tr>\n",
       "    <tr>\n",
       "      <th rowspan=\"2\" valign=\"top\">99.0</th>\n",
       "      <th>FR</th>\n",
       "      <td>25.0</td>\n",
       "      <td>358.0</td>\n",
       "    </tr>\n",
       "    <tr>\n",
       "      <th>PR</th>\n",
       "      <td>21.0</td>\n",
       "      <td>296.0</td>\n",
       "    </tr>\n",
       "  </tbody>\n",
       "</table>\n",
       "<p>200 rows × 2 columns</p>\n",
       "</div>"
      ],
      "text/plain": [
       "                 iterations  evaluations\n",
       "trial Algorithm                         \n",
       "0.0   FR               26.0        365.0\n",
       "      PR               38.0        515.0\n",
       "1.0   FR               40.0        575.0\n",
       "      PR               46.0        643.0\n",
       "2.0   FR               42.0        603.0\n",
       "...                     ...          ...\n",
       "97.0  PR               46.0        647.0\n",
       "98.0  FR               26.0        363.0\n",
       "      PR               40.0        583.0\n",
       "99.0  FR               25.0        358.0\n",
       "      PR               21.0        296.0\n",
       "\n",
       "[200 rows x 2 columns]"
      ]
     },
     "execution_count": 137,
     "metadata": {},
     "output_type": "execute_result"
    }
   ],
   "source": [
    "n_trials = 100\n",
    "df = compare_performance(n_trials=n_trials).set_index([\"trial\", \"Algorithm\"])\n",
    "df"
   ]
  },
  {
   "cell_type": "code",
   "execution_count": 138,
   "metadata": {},
   "outputs": [
    {
     "data": {
      "text/html": [
       "<div>\n",
       "<style scoped>\n",
       "    .dataframe tbody tr th:only-of-type {\n",
       "        vertical-align: middle;\n",
       "    }\n",
       "\n",
       "    .dataframe tbody tr th {\n",
       "        vertical-align: top;\n",
       "    }\n",
       "\n",
       "    .dataframe thead th {\n",
       "        text-align: right;\n",
       "    }\n",
       "</style>\n",
       "<table border=\"1\" class=\"dataframe\">\n",
       "  <thead>\n",
       "    <tr style=\"text-align: right;\">\n",
       "      <th></th>\n",
       "      <th>iterations</th>\n",
       "      <th>evaluations</th>\n",
       "    </tr>\n",
       "    <tr>\n",
       "      <th>Algorithm</th>\n",
       "      <th></th>\n",
       "      <th></th>\n",
       "    </tr>\n",
       "  </thead>\n",
       "  <tbody>\n",
       "    <tr>\n",
       "      <th>FR</th>\n",
       "      <td>35.60</td>\n",
       "      <td>502.16</td>\n",
       "    </tr>\n",
       "    <tr>\n",
       "      <th>PR</th>\n",
       "      <td>33.75</td>\n",
       "      <td>477.83</td>\n",
       "    </tr>\n",
       "  </tbody>\n",
       "</table>\n",
       "</div>"
      ],
      "text/plain": [
       "           iterations  evaluations\n",
       "Algorithm                         \n",
       "FR              35.60       502.16\n",
       "PR              33.75       477.83"
      ]
     },
     "execution_count": 138,
     "metadata": {},
     "output_type": "execute_result"
    }
   ],
   "source": [
    "df.groupby(level=[1]).mean()"
   ]
  },
  {
   "cell_type": "markdown",
   "metadata": {},
   "source": [
    "We can see that PR version of CG on average requires a bit less iterations and function evaluations than FR version."
   ]
  },
  {
   "cell_type": "markdown",
   "metadata": {},
   "source": [
    "---"
   ]
  },
  {
   "cell_type": "markdown",
   "metadata": {},
   "source": [
    "## Bonus (4 points)"
   ]
  },
  {
   "cell_type": "markdown",
   "metadata": {},
   "source": [
    "**Problem 5.3 (2 pts)**\n",
    "Show experimentally that affine invariance of Newton's method. \n",
    "\n",
    "Let $f:\\mathbb{R}^n\\to\\mathbb{R}$ be a convex function.\n",
    "Consider an affine transform $y\\mapsto Ay + b$, where $A \\in \\mathbb{R}^{n\\times n}$ is invertible and\n",
    "$b \\in \\mathbb R^n$.\n",
    "\n",
    "Define the function $g : \\mathbb R^n \\mapsto \\mathbb{R}$ by $g(y) = f(Ay + b)$.\n",
    "Denote by $x^{(k)}$ the k-th iterate of Newton’s method performed on $f$.\n",
    "Denote by $y^{(k)}$ the k-th iterate of Newton’s method performed on $g$.\n",
    "* Show that if $x^{(k)} = Ay^{(k)} + b$, then $x^{(k+1)} = Ay^{(k+1)} + b$.\n",
    "* Show that Newton's decrement does not depend on the coordinates, i.e., show that $λ(x^{(k)}) = λ(y^{(k)} ).$\n",
    "\n",
    "Together, this implies that Newton’s method is affine invariant. As an important consequence,\n",
    "Newton’s method cannot be improved by a change of coordinates, unlike gradient descent."
   ]
  },
  {
   "cell_type": "code",
   "execution_count": 20,
   "metadata": {},
   "outputs": [
    {
     "name": "stdout",
     "output_type": "stream",
     "text": [
      "\n",
      "Newton's decrement of f:\n",
      "[[3636996.24433504]]\n",
      "[[3451.02325969]]\n",
      "[[0.12596374]]\n",
      "[[0.00132684]]\n",
      "[[2.51737189e-08]]\n",
      "\n",
      "Newton's decrement of g:\n",
      "[[3636997.01281699]]\n",
      "[[3451.03206193]]\n",
      "[[0.12596359]]\n",
      "[[0.00132687]]\n",
      "[[2.5179149e-08]]\n",
      "\n",
      "xs:\n",
      "[array([[4.29672631],\n",
      "       [3.63664746]]), matrix([[7.505193 ],\n",
      "        [0.1042028]]), matrix([[-0.37062481],\n",
      "        [ 0.10420254]]), matrix([[-0.32428902],\n",
      "        [ 0.00220532]]), matrix([[-3.46592892e-01],\n",
      "        [ 4.58590938e-05]])]\n",
      "mapped ys (that is Ay+b):\n",
      "[array([[4.29672631],\n",
      "       [3.63664746]]), array([[7.50519549],\n",
      "       [0.10420286]]), array([[-0.37062232],\n",
      "       [ 0.10420261]]), array([[-0.3242889 ],\n",
      "       [ 0.00220557]]), array([[-3.46592889e-01],\n",
      "       [ 4.58644494e-05]])]\n"
     ]
    }
   ],
   "source": [
    "def transform_f(f, A, b):\n",
    "    def g(y, order=0):\n",
    "        if order==0:\n",
    "            return f(A@y+b, order=0)\n",
    "        elif order==1:\n",
    "            value, gradient = f(A@y+b, order=1)\n",
    "            gradient = A.T @ gradient\n",
    "            return (value, gradient)\n",
    "        elif order==2:\n",
    "            value, gradient, hessian = f(A@y+b, order=2)\n",
    "            gradient = A.T @ gradient\n",
    "            hessian = A.T @ hessian @ A\n",
    "            return (value, gradient, hessian)\n",
    "        else:\n",
    "            raise ValueError(\"The argument \\\"order\\\" should be 0, 1 or 2\")\n",
    "    return g\n",
    "\n",
    "def experiment(f, A, b, y0):\n",
    "    x0 = A @ y0 + b\n",
    "    g = transform_f(f, A, b)\n",
    "    print(\"\\nNewton's decrement of f:\")\n",
    "    x, x_values, x_runtimes, xs = newton(f, x0,  10e-5, 1e-2, 2.0,  eps=1e-5, \n",
    "                                         maximum_iterations=65536, linesearch=exact_line_search,\n",
    "                                         print_decrement=True)\n",
    "    print(\"\\nNewton's decrement of g:\")\n",
    "    y, y_values, y_runtimes, ys = newton(g, y0,  10e-5, 1e-2, 2.0,  eps=1e-5, \n",
    "                                         maximum_iterations=65536, linesearch=exact_line_search,\n",
    "                                         print_decrement=True)\n",
    "    return xs, ys\n",
    "\n",
    "y0 = np.array([[3.0], [2.0]])\n",
    "A = np.random.rand(2, 2)\n",
    "b = np.random.rand(2, 1)\n",
    "xs, ys = experiment(boyd_example_func, A, b, y0)\n",
    "mapped_ys = list(map(lambda x: A@np.array(x)+b, ys))\n",
    "print(f\"\\nxs:\\n{xs}\\nmapped ys (that is Ay+b):\\n{mapped_ys}\")"
   ]
  },
  {
   "cell_type": "markdown",
   "metadata": {},
   "source": [
    "We see that obtained xs and mapped ys are almost equal."
   ]
  },
  {
   "cell_type": "markdown",
   "metadata": {},
   "source": [
    "---"
   ]
  },
  {
   "cell_type": "markdown",
   "metadata": {},
   "source": [
    "**Problem 5.4 (2 pts)**\n",
    "Show experimentally that conjugate gradient method is *not* affine invariant.\n",
    "\n",
    "\n",
    "For example consider the quadratic (convex) function $f:\\mathbb R^n \\to \\mathbb R$ as follows\n",
    "$$ f(x) = \\frac12 x^T H x - c^T x,$$\n",
    "where $H$ positive semi-definite.\n",
    "\n",
    "Consider an affine transformation $y\\mapsto Ay$, where  $A \\in \\mathbb{R}^{n\\times n}$ is invertible:\n",
    "* Denote by $x^{(0)} , x^{(1)} , x^{(2)}$ the first three iterates of conjugate gradient descent on $f(x)$ initialized at $x^{(0)}$.\n",
    "* Now, let $y^{(0)}$ be the point such that $x^{(0)} = Ay^{(0)}$. Denote by $y^{(0)} , y^{(1)} , y^{(2)}$ the first three iterates of conjugate gradient descent on $g(y) = f(Ay)$ initialized at $y^{(0)}$.\n",
    "* Provide an explicit example of $H, A$ and $x^{(0)}$ such that $x^{(1)} \\neq Ay^{(1)}$ and $x^{(2)} \\neq Ay^{(2)}$."
   ]
  },
  {
   "cell_type": "code",
   "execution_count": 21,
   "metadata": {},
   "outputs": [
    {
     "name": "stdout",
     "output_type": "stream",
     "text": [
      "\n",
      "xs:\n",
      "[array([[11.5],\n",
      "       [10. ]]), array([[-4.10091668],\n",
      "       [ 1.32656618]]), array([[-1.00247217],\n",
      "       [ 2.8900455 ]])]\n",
      "mapped ys (that is Ay+b):\n",
      "[array([[11.5],\n",
      "       [10. ]]), array([[-0.98025973],\n",
      "       [-3.32415322]]), array([[ 0.90706505],\n",
      "       [-1.30900059]])]\n"
     ]
    }
   ],
   "source": [
    "def experiment2(A, b, y0, H=None):\n",
    "    if H is None:\n",
    "        H = positive_definite(y0.shape[0])\n",
    "    f = create_quadratic_function(H, b)\n",
    "    x0 = A @ y0\n",
    "    g = transform_f(f, A, np.zeros((A.shape[0], 1)))\n",
    "    x, x_values, x_runtimes, xs = cg_fr(f, x0, 0.4, 0.9, eps=1e-5, maximum_iterations=65536, linesearch=backtracking)\n",
    "    y, y_values, y_runtimes, ys = cg_fr(g, y0, 0.4, 0.9, eps=1e-5, maximum_iterations=65536, linesearch=backtracking)\n",
    "    xs, ys = xs[:3], ys[:3]\n",
    "    return xs, ys\n",
    "\n",
    "# n = 2\n",
    "# y0 = np.random.rand(n, 1)\n",
    "# A = np.random.rand(n, n)\n",
    "# b = np.random.rand(n, 1)\n",
    "y0 = np.array([[2.5], [1.0]])\n",
    "A = np.array([[3.0, 4.0], [2.0, 5.0]])\n",
    "b = np.array([[1.0], [2.0]])\n",
    "# H = np.array([[4.0, 3.0], [5.0, 2.0]]).T @ np.array([[4.0, 3.0], [5.0, 2.0]])\n",
    "H = np.array([[41.0, 22.0], [22.0, 13.0]])\n",
    "xs, ys = experiment2(A, b, y0, H=H)\n",
    "mapped_ys = list(map(lambda x: A@np.array(x), ys))\n",
    "print(f\"\\nxs:\\n{xs}\\nmapped ys (that is Ay+b):\\n{mapped_ys}\")"
   ]
  },
  {
   "cell_type": "markdown",
   "metadata": {},
   "source": [
    "We can see that xs and mapped ys are very different (except x0 and mapped y0 which by assumption are the same)."
   ]
  }
 ],
 "metadata": {
  "@webio": {
   "lastCommId": null,
   "lastKernelId": null
  },
  "anaconda-cloud": {},
  "kernelspec": {
   "display_name": "Python 3",
   "language": "python",
   "name": "python3"
  },
  "language_info": {
   "codemirror_mode": {
    "name": "ipython",
    "version": 3
   },
   "file_extension": ".py",
   "mimetype": "text/x-python",
   "name": "python",
   "nbconvert_exporter": "python",
   "pygments_lexer": "ipython3",
   "version": "3.8.5"
  },
  "toc": {
   "base_numbering": 1,
   "nav_menu": {},
   "number_sections": false,
   "sideBar": true,
   "skip_h1_title": false,
   "title_cell": "Table of Contents",
   "title_sidebar": "Contents",
   "toc_cell": true,
   "toc_position": {
    "height": "calc(100% - 180px)",
    "left": "10px",
    "top": "150px",
    "width": "176.6px"
   },
   "toc_section_display": true,
   "toc_window_display": true
  },
  "varInspector": {
   "cols": {
    "lenName": 16,
    "lenType": 16,
    "lenVar": 40
   },
   "kernels_config": {
    "python": {
     "delete_cmd_postfix": "",
     "delete_cmd_prefix": "del ",
     "library": "var_list.py",
     "varRefreshCmd": "print(var_dic_list())"
    },
    "r": {
     "delete_cmd_postfix": ") ",
     "delete_cmd_prefix": "rm(",
     "library": "var_list.r",
     "varRefreshCmd": "cat(var_dic_list()) "
    }
   },
   "types_to_exclude": [
    "module",
    "function",
    "builtin_function_or_method",
    "instance",
    "_Feature"
   ],
   "window_display": false
  }
 },
 "nbformat": 4,
 "nbformat_minor": 4
}
