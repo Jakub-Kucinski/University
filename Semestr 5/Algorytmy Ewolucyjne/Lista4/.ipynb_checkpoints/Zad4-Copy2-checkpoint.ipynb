{
 "cells": [
  {
   "cell_type": "markdown",
   "metadata": {},
   "source": [
    "# Strategie ewolucyjne\n",
    "\n",
    "Notebook pokazuje podstawowe mechanizmy strategii ewolucyjnych."
   ]
  },
  {
   "cell_type": "code",
   "execution_count": 1,
   "metadata": {},
   "outputs": [],
   "source": [
    "import numpy as np\n",
    "import matplotlib.pyplot as plt\n",
    "import math\n",
    "\n",
    "from mpl_toolkits.mplot3d import Axes3D\n",
    "from matplotlib import cm\n",
    "\n",
    "%matplotlib inline"
   ]
  },
  {
   "cell_type": "code",
   "execution_count": 2,
   "metadata": {},
   "outputs": [],
   "source": [
    "def gen_points(start_point, angles, lengths):\n",
    "    n = len(angles)\n",
    "    xs = np.zeros(n+1)\n",
    "    ys = np.zeros(n+1)\n",
    "    xs[0] = start_point[0]\n",
    "    ys[0] = start_point[1]\n",
    "    last_angle = 0\n",
    "    for i in range(n):\n",
    "        angle = ((last_angle + 180 - angles[i])  + 180) % 360 - 180\n",
    "        xs[i+1] = xs[i] + lengths[i] * math.sin(math.radians(angle))\n",
    "        ys[i+1] = ys[i] + lengths[i] * math.cos(math.radians(angle))\n",
    "        last_angle = angle\n",
    "    return xs, ys"
   ]
  },
  {
   "cell_type": "code",
   "execution_count": 3,
   "metadata": {},
   "outputs": [],
   "source": [
    "def objective_function(angles, lengths, start_point, target, ranges=None, penalty=None):\n",
    "    if penalty is None:\n",
    "        penalty = np.sum(lengths) * 1000\n",
    "\n",
    "    score = 0\n",
    "    n = len(angles)\n",
    "    if ranges is not None:\n",
    "        for i in range(n):\n",
    "            if (angles[i] + 180) % 360 - 180 < ranges[i, 0] or (angles[i] + 180) % 360 - 180 > ranges[i, 1]:\n",
    "                score -= penalty\n",
    "    xs, ys = gen_points(start_point, angles, lengths)\n",
    "    score -= np.sqrt((target[0] - xs[-1])**2 + (target[1] - ys[-1])**2)\n",
    "    return score"
   ]
  },
  {
   "cell_type": "code",
   "execution_count": 4,
   "metadata": {},
   "outputs": [],
   "source": [
    "def plot_path(start_point, angles, lengths):\n",
    "    xs, ys = gen_points(start_point, angles, lengths)\n",
    "    plt.plot(xs, ys)\n",
    "    "
   ]
  },
  {
   "cell_type": "code",
   "execution_count": 31,
   "metadata": {},
   "outputs": [],
   "source": [
    "def es(objective_function, chromosome_length, population_size, number_of_iterations,\n",
    "       number_of_offspring, number_of_parents, sigma, tau, tau_0,\n",
    "       log_frequency=1, cut=False, mutation='multidim', **kwargs):\n",
    "    diagnostic_data = {}\n",
    "    best_solution = np.empty((1, chromosome_length))\n",
    "    best_solution_objective_value = 0.00\n",
    "    xs = None\n",
    "    log_objective_values = np.empty((number_of_iterations, 4))\n",
    "    log_best_solutions = np.empty((number_of_iterations, chromosome_length))\n",
    "    log_best_sigmas = np.empty((number_of_iterations, chromosome_length))\n",
    "\n",
    "    # generating an initial population\n",
    "    current_population_solutions = 100.0 * \\\n",
    "        np.random.rand(population_size, chromosome_length)\n",
    "    current_population_sigmas = sigma * \\\n",
    "        np.ones((population_size, chromosome_length))\n",
    "\n",
    "    # evaluating the objective function on the current population\n",
    "    current_population_objective_values = objective_function(\n",
    "        current_population_solutions, **kwargs)\n",
    "\n",
    "    if type(current_population_objective_values) == tuple:\n",
    "        current_population_objective_values = current_population_objective_values[0]\n",
    "\n",
    "    for t in range(number_of_iterations):\n",
    "\n",
    "        # selecting the parent indices by the roulette wheel method\n",
    "        fitness_values = current_population_objective_values - \\\n",
    "            current_population_objective_values.min()\n",
    "\n",
    "        if fitness_values.sum() > 0:\n",
    "            fitness_values = fitness_values / fitness_values.sum()\n",
    "        else:\n",
    "            fitness_values = 1.0 / population_size * np.ones(population_size)\n",
    "        parent_indices = np.random.choice(\n",
    "            population_size, (number_of_offspring, number_of_parents), True, fitness_values).astype(np.int64)\n",
    "\n",
    "        # creating the children population by Global Intermediere Recombination\n",
    "        children_population_solutions = np.zeros(\n",
    "            (number_of_offspring, chromosome_length))\n",
    "        children_population_sigmas = np.zeros(\n",
    "            (number_of_offspring, chromosome_length))\n",
    "        for i in range(number_of_offspring):\n",
    "            children_population_solutions[i, :] = current_population_solutions[parent_indices[i, :], :].mean(\n",
    "                axis=0)\n",
    "            children_population_sigmas[i, :] = current_population_sigmas[parent_indices[i, :], :].mean(\n",
    "                axis=0)\n",
    "\n",
    "        # mutating the children population by adding random gaussian noise\n",
    "        children_population_sigmas = children_population_sigmas * np.exp(tau * np.random.randn(\n",
    "            number_of_offspring, chromosome_length) + tau_0 * np.random.randn(number_of_offspring, 1))\n",
    "        if mutation == \"multidim\":\n",
    "            children_population_solutions = children_population_solutions + \\\n",
    "                children_population_sigmas * \\\n",
    "                np.random.randn(number_of_offspring, chromosome_length)\n",
    "        elif mutation == 'p1' or mutation == 'p2':\n",
    "            children_population_solutions = children_population_solutions + \\\n",
    "                sigma * \\\n",
    "                np.random.randn(number_of_offspring, chromosome_length)\n",
    "        elif mutation == 'p3':\n",
    "            children_population_solutions = children_population_solutions + \\\n",
    "                np.dot(np.random.randn(number_of_offspring, chromosome_length), np.linalg.cholesky(sigma).T)\n",
    "\n",
    "\n",
    "        # evaluating the objective function on the children population\n",
    "        children_population_objective_values = objective_function(\n",
    "            children_population_solutions, **kwargs)\n",
    "\n",
    "        if type(children_population_objective_values) == tuple:\n",
    "            children_population_objective_values, xs, ys = children_population_objective_values\n",
    "            a_min = np.argmin(children_population_objective_values)\n",
    "            a_max = np.argmax(children_population_objective_values)\n",
    "            diagnostic_data = {\n",
    "                \"min_x\": xs[a_min, :],\n",
    "                \"min_y\": ys[a_min, :],\n",
    "                \"max_x\": xs[a_max, :],\n",
    "                \"max_y\": ys[a_max, :],\n",
    "            }\n",
    "\n",
    "        # replacing the current population by (Mu + Lambda) Replacement\n",
    "        current_population_objective_values = np.hstack(\n",
    "            [current_population_objective_values, children_population_objective_values])\n",
    "        current_population_solutions = np.vstack(\n",
    "            [current_population_solutions, children_population_solutions])\n",
    "        current_population_sigmas = np.vstack(\n",
    "            [current_population_sigmas, children_population_sigmas])\n",
    "\n",
    "        I = np.argsort(current_population_objective_values)[::-1]\n",
    "        current_population_solutions = current_population_solutions[I[:population_size], :]\n",
    "        current_population_sigmas = current_population_sigmas[I[:population_size], :]\n",
    "        current_population_objective_values = current_population_objective_values[\n",
    "            I[:population_size]]\n",
    "\n",
    "        # recording some statistics\n",
    "        if best_solution_objective_value < current_population_objective_values[0]:\n",
    "            best_solution = current_population_solutions[0, :]\n",
    "            best_solution_objective_value = current_population_objective_values[0]\n",
    "        log_objective_values[t, :] = [\n",
    "            current_population_objective_values.min(),\n",
    "            current_population_objective_values.max(),\n",
    "            current_population_objective_values.mean(),\n",
    "            current_population_objective_values.std()]\n",
    "        log_best_solutions[t, :] = current_population_solutions[0, :]\n",
    "        log_best_sigmas[t, :] = current_population_sigmas[0, :]\n",
    "\n",
    "        if np.mod(t, log_frequency) == 0:\n",
    "            print(\"Iteration %04d : best score = %0.8f, mean score = %0.8f.\" % (\n",
    "                t, log_objective_values[:t+1, 1].max(), log_objective_values[t, 2]))\n",
    "        if cut and log_objective_values[:t+1, 1].max() > -0.000000001:\n",
    "            break\n",
    "    if xs is not None:\n",
    "        return best_solution_objective_value, best_solution, log_objective_values[:t,:], log_best_solutions[:t,:], log_best_sigmas[:t,:], diagnostic_data\n",
    "    else:\n",
    "        return best_solution_objective_value, best_solution, log_objective_values[:t,:], log_best_solutions[:t,:], log_best_sigmas[:t,:],\n"
   ]
  },
  {
   "cell_type": "code",
   "execution_count": null,
   "metadata": {},
   "outputs": [],
   "source": []
  },
  {
   "cell_type": "code",
   "execution_count": null,
   "metadata": {},
   "outputs": [],
   "source": []
  },
  {
   "cell_type": "code",
   "execution_count": 32,
   "metadata": {},
   "outputs": [
    {
     "name": "stdout",
     "output_type": "stream",
     "text": [
      "Iteration 0000 : best score = -15.66842784, mean score = -22.61721348.\n",
      "Iteration 0050 : best score = -2.54380558, mean score = -12.01762064.\n",
      "Iteration 0100 : best score = -2.54380558, mean score = -10.26639759.\n",
      "Iteration 0150 : best score = -2.54380558, mean score = -9.49249962.\n",
      "Iteration 0200 : best score = -2.44159700, mean score = -8.54100013.\n",
      "Iteration 0250 : best score = -2.44159700, mean score = -7.63520846.\n",
      "Iteration 0300 : best score = -2.44159700, mean score = -7.00289252.\n",
      "Iteration 0350 : best score = -0.32121232, mean score = -6.38174189.\n",
      "Iteration 0400 : best score = -0.32121232, mean score = -5.56626095.\n",
      "Iteration 0450 : best score = -0.32121232, mean score = -5.03564675.\n",
      "Iteration 0500 : best score = -0.32121232, mean score = -4.54010911.\n",
      "Iteration 0550 : best score = -0.32121232, mean score = -4.07766516.\n",
      "Iteration 0600 : best score = -0.32121232, mean score = -3.77993626.\n",
      "Iteration 0650 : best score = -0.32121232, mean score = -3.51994065.\n",
      "Iteration 0700 : best score = -0.32121232, mean score = -3.27651956.\n",
      "Iteration 0750 : best score = -0.32121232, mean score = -3.06215100.\n"
     ]
    }
   ],
   "source": [
    "d = 20\n",
    "N = 800\n",
    "T = 800\n",
    "start_point = np.array([0, 0])\n",
    "target = np.array([10, 20])\n",
    "ranges = np.array([[-180, 180]]*d)\n",
    "lengths = np.array([1,3] * (d//2))\n",
    "n_of_p = 2\n",
    "sigma = 40\n",
    "k = 1.0\n",
    "tau = k/np.sqrt(2*d)\n",
    "tau_0 = k/np.sqrt(2*np.sqrt(d))\n",
    "\n",
    "best_solution_objective_value, best_solution, history_objective_values, history_best_chromosome, history_best_sigmas = es(\n",
    "    lambda x: objective_function(x, lengths, start_point, target, ranges=ranges, penalty=None), \n",
    "    d, 2*N, T, N, n_of_p, sigma, tau, tau_0, ranges=ranges, log_frequency=50)"
   ]
  },
  {
   "cell_type": "code",
   "execution_count": 30,
   "metadata": {},
   "outputs": [
    {
     "data": {
      "image/png": "[encoded data removed]",
      "text/plain": [
       "<Figure size 1296x288 with 1 Axes>"
      ]
     },
     "metadata": {
      "needs_background": "light"
     },
     "output_type": "display_data"
    },
    {
     "data": {
      "image/png": "[encoded data removed]",
      "text/plain": [
       "<Figure size 1296x288 with 1 Axes>"
      ]
     },
     "metadata": {
      "needs_background": "light"
     },
     "output_type": "display_data"
    }
   ],
   "source": [
    "plt.figure(figsize=(18, 4))\n",
    "plt.plot(history_objective_values[:, 0], 'r-')\n",
    "plt.plot(history_objective_values[:, 1], 'r-')\n",
    "plt.plot(history_objective_values[:, 2], 'r-')\n",
    "plt.xlabel('iteration')\n",
    "plt.ylabel('objective function value')\n",
    "plt.title('min/avg/max objective function values')\n",
    "plt.show()\n",
    "\n",
    "plt.figure(figsize=(18, 4))\n",
    "plt.plot(history_best_sigmas, 'r-')\n",
    "plt.xlabel('iteration')\n",
    "plt.ylabel('sigma value')\n",
    "plt.title('best sigmas')\n",
    "plt.show()"
   ]
  },
  {
   "cell_type": "code",
   "execution_count": 33,
   "metadata": {},
   "outputs": [
    {
     "data": {
      "image/png": "[encoded data removed]",
      "text/plain": [
       "<Figure size 432x288 with 1 Axes>"
      ]
     },
     "metadata": {
      "needs_background": "light"
     },
     "output_type": "display_data"
    }
   ],
   "source": [
    "for i in range(0, T, 100):\n",
    "    plot_path(start_point, history_best_chromosome[i, :], lengths)"
   ]
  },
  {
   "cell_type": "code",
   "execution_count": 35,
   "metadata": {},
   "outputs": [
    {
     "name": "stdout",
     "output_type": "stream",
     "text": [
      "Iteration 0000 : best score = -13.71853405, mean score = -22.56479024.\n",
      "Iteration 0050 : best score = -5.14078650, mean score = -11.67990349.\n",
      "Iteration 0100 : best score = -5.09874383, mean score = -10.08655281.\n",
      "Iteration 0150 : best score = -5.09874383, mean score = -9.38192991.\n",
      "Iteration 0200 : best score = -5.09874383, mean score = -8.89825071.\n",
      "Iteration 0250 : best score = -5.09874383, mean score = -8.39831762.\n",
      "Iteration 0300 : best score = -5.09874383, mean score = -7.86214052.\n",
      "Iteration 0350 : best score = -5.09874383, mean score = -7.54724266.\n",
      "Iteration 0400 : best score = -5.09874383, mean score = -7.24060167.\n",
      "Iteration 0450 : best score = -5.09874383, mean score = -7.00205933.\n",
      "Iteration 0500 : best score = -5.09874383, mean score = -6.85918431.\n",
      "Iteration 0550 : best score = -5.09874383, mean score = -6.79996415.\n",
      "Iteration 0600 : best score = -5.09874383, mean score = -6.75139097.\n",
      "Iteration 0650 : best score = -5.09874383, mean score = -6.70704888.\n",
      "Iteration 0700 : best score = -5.09874383, mean score = -6.68262002.\n",
      "Iteration 0750 : best score = -5.09874383, mean score = -6.65385610.\n"
     ]
    }
   ],
   "source": [
    "d = 20\n",
    "N = 800\n",
    "T = 800\n",
    "start_point = np.array([0, 0])\n",
    "target = np.array([10, 20])\n",
    "ranges = np.array([[-180, 180]]*d)\n",
    "lengths = np.array([1,3] * (d//2))\n",
    "n_of_p = 2\n",
    "sigma = 40\n",
    "k = 1.0\n",
    "tau = k/np.sqrt(2*d)\n",
    "tau_0 = k/np.sqrt(2*np.sqrt(d))\n",
    "\n",
    "best_solution_objective_value, best_solution, history_objective_values, history_best_chromosome, history_best_sigmas = es(\n",
    "    lambda x: objective_function(x, lengths, start_point, target, ranges=ranges, penalty=None), \n",
    "    d, 2*N, T, N, n_of_p, sigma, tau, tau_0, ranges=None, log_frequency=50)"
   ]
  },
  {
   "cell_type": "code",
   "execution_count": null,
   "metadata": {},
   "outputs": [],
   "source": [
    "plt.figure(figsize=(18, 4))\n",
    "plt.plot(history_objective_values[:, 0], 'r-')\n",
    "plt.plot(history_objective_values[:, 1], 'r-')\n",
    "plt.plot(history_objective_values[:, 2], 'r-')\n",
    "plt.xlabel('iteration')\n",
    "plt.ylabel('objective function value')\n",
    "plt.title('min/avg/max objective function values')\n",
    "plt.show()\n",
    "\n",
    "plt.figure(figsize=(18, 4))\n",
    "plt.plot(history_best_sigmas, 'r-')\n",
    "plt.xlabel('iteration')\n",
    "plt.ylabel('sigma value')\n",
    "plt.title('best sigmas')\n",
    "plt.show()"
   ]
  },
  {
   "cell_type": "code",
   "execution_count": null,
   "metadata": {},
   "outputs": [],
   "source": []
  },
  {
   "cell_type": "code",
   "execution_count": null,
   "metadata": {},
   "outputs": [],
   "source": []
  },
  {
   "cell_type": "code",
   "execution_count": null,
   "metadata": {},
   "outputs": [],
   "source": []
  },
  {
   "cell_type": "code",
   "execution_count": 52,
   "metadata": {},
   "outputs": [
    {
     "data": {
      "text/plain": [
       "array([[ 99.37366862,  49.18605544],\n",
       "       [100.52427365,  50.27564906],\n",
       "       [100.38505335,  50.56326642],\n",
       "       [100.19416207,  50.64149033],\n",
       "       [ 99.58377902,  49.64804592],\n",
       "       [100.42310017,  50.15269979],\n",
       "       [ 99.51260377,  49.88873048],\n",
       "       [100.88039082,  50.23149521],\n",
       "       [100.86040416,  51.13383999],\n",
       "       [ 99.88491417,  49.59278386]])"
      ]
     },
     "execution_count": 52,
     "metadata": {},
     "output_type": "execute_result"
    }
   ],
   "source": [
    "test_d = 2\n",
    "test_size = 10\n",
    "test_m = np.array([100, 50])\n",
    "test_C = np.array([[0.5, 0.25], [0.25, 0.25]])\n",
    "test_sigma = 1\n",
    "test_m + np.dot(np.random.randn(test_size, test_d), np.linalg.cholesky(test_C).T)\n",
    "# np.random.multivariate_normal(test_m, test_sigma**2 * test_C,(test_size, test_d))"
   ]
  },
  {
   "cell_type": "code",
   "execution_count": null,
   "metadata": {},
   "outputs": [],
   "source": []
  },
  {
   "cell_type": "code",
   "execution_count": null,
   "metadata": {},
   "outputs": [],
   "source": []
  },
  {
   "cell_type": "code",
   "execution_count": 41,
   "metadata": {},
   "outputs": [
    {
     "name": "stdout",
     "output_type": "stream",
     "text": [
      "[ 0.0000000e+00  0.0000000e+00 -1.2246468e-16  2.0000000e+00\n",
      "  2.0000000e+00 -2.0000000e+00 -2.0000000e+00  4.0000000e+00\n",
      "  4.0000000e+00 -4.0000000e+00 -4.0000000e+00] [ 0.  0. -1. -1.  2.  2. -3. -3.  4.  4. -5.]\n"
     ]
    },
    {
     "data": {
      "text/plain": [
       "[<matplotlib.lines.Line2D at 0x1d84df76940>]"
      ]
     },
     "execution_count": 41,
     "metadata": {},
     "output_type": "execute_result"
    },
    {
     "data": {
      "image/png": "[encoded data removed]",
      "text/plain": [
       "<Figure size 432x288 with 1 Axes>"
      ]
     },
     "metadata": {
      "needs_background": "light"
     },
     "output_type": "display_data"
    }
   ],
   "source": [
    "test_start_point = np.array([0,0])\n",
    "test_angles = np.zeros(10) + 90\n",
    "test_lengths = np.arange(10)\n",
    "test_xs, test_ys = gen_points(test_start_point, test_angles, test_lengths)\n",
    "print(test_xs, test_ys)\n",
    "plt.plot(test_xs, test_ys)"
   ]
  },
  {
   "cell_type": "code",
   "execution_count": null,
   "metadata": {},
   "outputs": [],
   "source": []
  },
  {
   "cell_type": "code",
   "execution_count": null,
   "metadata": {},
   "outputs": [],
   "source": [
    "# wi = mi - i + 1"
   ]
  }
 ],
 "metadata": {
  "kernelspec": {
   "display_name": "Python 3",
   "language": "python",
   "name": "python3"
  },
  "language_info": {
   "codemirror_mode": {
    "name": "ipython",
    "version": 3
   },
   "file_extension": ".py",
   "mimetype": "text/x-python",
   "name": "python",
   "nbconvert_exporter": "python",
   "pygments_lexer": "ipython3",
   "version": "3.8.3"
  }
 },
 "nbformat": 4,
 "nbformat_minor": 1
}
