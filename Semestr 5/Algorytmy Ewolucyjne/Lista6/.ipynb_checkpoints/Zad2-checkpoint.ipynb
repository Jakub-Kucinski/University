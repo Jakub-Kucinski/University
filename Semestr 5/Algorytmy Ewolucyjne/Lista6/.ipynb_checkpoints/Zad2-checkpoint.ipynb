{
 "cells": [
  {
   "cell_type": "code",
   "execution_count": 1,
   "metadata": {},
   "outputs": [],
   "source": [
    "import numpy as np\n",
    "import matplotlib.pyplot as plt\n",
    "import time\n",
    "import urllib.request\n",
    "import scipy.stats as sstats"
   ]
  },
  {
   "cell_type": "code",
   "execution_count": 2,
   "metadata": {},
   "outputs": [],
   "source": [
    "def population_evaluation(pop, F):\n",
    "    res = np.zeros(pop.shape[0])\n",
    "    for i in range(pop.shape[0]):\n",
    "        res[i] = F(pop[i, :])\n",
    "    return res"
   ]
  },
  {
   "cell_type": "code",
   "execution_count": 3,
   "metadata": {},
   "outputs": [],
   "source": [
    "def entropy(pop):\n",
    "    if pop.shape[0] == 0:\n",
    "        return 0\n",
    "    p_ones = np.sum(pop, axis=0) / pop.shape[0]\n",
    "    p_zeros = 1 - p_ones\n",
    "    return sstats.entropy([p_ones, p_zeros], base=2, axis=0)"
   ]
  },
  {
   "cell_type": "code",
   "execution_count": 4,
   "metadata": {},
   "outputs": [],
   "source": [
    "# H(X|Y)\n",
    "def cond_entropy(X, Y):\n",
    "    Y_ones = Y[Y==1]\n",
    "    X_cond_Y_ones = X[Y==1]\n",
    "    Y_zeros = Y[Y==0]\n",
    "    X_cond_Y_zeros = X[Y==0]\n",
    "    P_Y_ones = Y_ones.shape[0] / Y.shape[0]\n",
    "    P_Y_zeros = Y_zeros.shape[0] / Y.shape[0]\n",
    "    return P_Y_zeros * entropy(X_cond_Y_zeros) + P_Y_ones * entropy(X_cond_Y_ones)"
   ]
  },
  {
   "cell_type": "code",
   "execution_count": 5,
   "metadata": {},
   "outputs": [],
   "source": [
    "def MIMIC(F, d=10, N=100, T=100, verbose=False, targets=False, probabilities=False):\n",
    "    if verbose:\n",
    "        t0 = time.time()\n",
    "    if targets:\n",
    "        target = np.zeros(T)\n",
    "    pop = np.zeros((2*N, d))\n",
    "    for k in range(2*N):\n",
    "        pop[k, :] = np.random.randint(2, size=d)\n",
    "    res = population_evaluation(pop, F)\n",
    "#     theta = np.median(res)\n",
    "    indices = np.argsort(res)[::-1]\n",
    "    pop = pop[indices]\n",
    "    pop = pop[:N]\n",
    "    t = 0\n",
    "    while t < T:\n",
    "        if verbose and t % 10 == 0:\n",
    "            print(t, time.time() - t0)\n",
    "        if targets:\n",
    "            i = np.argmax(res)\n",
    "            target[t] = res[i]\n",
    "#         List of indices of already chosen variables (in corresponding order)\n",
    "#         and variables remained to be considerd\n",
    "        ordered_indices = []\n",
    "        indices_to_consider = list(range(d))\n",
    "        \n",
    "#         Choosing first variable based on entropy\n",
    "        first_index = np.argmin(entropy(pop))\n",
    "        ordered_indices.append(first_index)\n",
    "        indices_to_consider.pop(indices_to_consider.index(first_index))\n",
    "\n",
    "#         Choosing following variables based on conditional entropy with respect to previously chosen variable\n",
    "        for k in range(d-1):\n",
    "            indices_to_consider_temp = indices_to_consider.copy()\n",
    "            cond_entropies = list(map(lambda idx: cond_entropy(pop[:, idx], pop[:, ordered_indices[-1]]), \n",
    "                                 indices_to_consider_temp)) \n",
    "#             print(\"cond_entropies\\n\", cond_entropies)\n",
    "            best_idx = np.argmin(np.array(cond_entropies))\n",
    "            ordered_indices.append(indices_to_consider[best_idx])\n",
    "            indices_to_consider.pop(indices_to_consider.index(indices_to_consider[best_idx]))\n",
    "#         print(\"ordered_indices\\n\", ordered_indices)\n",
    "        \n",
    "#         Creating new population\n",
    "        new_pop = np.zeros((N, d))\n",
    "        emp_prob = np.sum(pop[:, ordered_indices[0]]) / pop.shape[0]\n",
    "        new_pop[:, ordered_indices[0]] = np.random.choice(2, size=N, p=[1.0 - emp_prob, emp_prob])\n",
    "        for i in range(N):\n",
    "            for k in range(1, d):\n",
    "                previous_val = new_pop[i, ordered_indices[k-1]]\n",
    "                temp_pop = pop[pop[:, ordered_indices[k-1]] == previous_val, :]\n",
    "                emp_prob = np.sum(temp_pop[:, ordered_indices[k]]) / temp_pop.shape[0]\n",
    "                new_pop[i, ordered_indices[k]] = np.random.choice(2, size=1, p=[1.0 - emp_prob, emp_prob])\n",
    "#         print(\"new_pop\\n\", new_pop)\n",
    "        \n",
    "        pop = np.vstack((pop, new_pop))\n",
    "        res = population_evaluation(pop, F)\n",
    "#         mask = res < theta\n",
    "        indices = np.argsort(res)[::-1]\n",
    "        pop = pop[indices]\n",
    "        pop = pop[:N]\n",
    "        t += 1\n",
    "#         print(\"pop\\n\", pop, pop.sum(axis=1))\n",
    "    if verbose:\n",
    "        print(time.time() - t0)\n",
    "    if targets:\n",
    "        return pop[0], target\n",
    "    return pop[0]"
   ]
  },
  {
   "cell_type": "code",
   "execution_count": 6,
   "metadata": {},
   "outputs": [],
   "source": [
    "def OneMax(x):\n",
    "    return x.sum(axis=-1)"
   ]
  },
  {
   "cell_type": "code",
   "execution_count": 7,
   "metadata": {},
   "outputs": [],
   "source": [
    "def DeceptiveOneMax(x):\n",
    "    if np.all(x == 0):\n",
    "        return x.shape[0] + 1\n",
    "    return np.sum(x)"
   ]
  },
  {
   "cell_type": "code",
   "execution_count": 8,
   "metadata": {},
   "outputs": [],
   "source": [
    "def KDeceptiveOneMax(k):\n",
    "    def fun(x):\n",
    "        n = x.shape[0]\n",
    "        part_len = n // k\n",
    "        value = 0\n",
    "        for j in range(k):\n",
    "            value += DeceptiveOneMax(x[j*part_len:(j+1)*part_len])\n",
    "        if part_len * k != n:\n",
    "            value += DeceptiveOneMax(x[part_len*k:])\n",
    "        return value\n",
    "    return fun"
   ]
  },
  {
   "cell_type": "markdown",
   "metadata": {},
   "source": [
    "# OneMax"
   ]
  },
  {
   "cell_type": "code",
   "execution_count": 187,
   "metadata": {
    "scrolled": false
   },
   "outputs": [
    {
     "name": "stdout",
     "output_type": "stream",
     "text": [
      "0 0.004988431930541992\n",
      "50 30.087239027023315\n",
      "100 59.00865650177002\n",
      "150 87.71053457260132\n",
      "116.4845199584961\n"
     ]
    },
    {
     "data": {
      "image/png": "[encoded data removed]",
      "text/plain": [
       "<Figure size 432x288 with 1 Axes>"
      ]
     },
     "metadata": {
      "needs_background": "light"
     },
     "output_type": "display_data"
    },
    {
     "data": {
      "text/plain": [
       "array([1., 1., 1., 1., 1., 1., 1., 1., 1., 1., 1., 1., 1., 1., 1., 1., 1.,\n",
       "       1., 1., 1., 1., 1., 1., 1., 1., 1., 1., 1., 1., 1., 1., 1., 1., 1.,\n",
       "       1., 1., 1., 1., 1., 1., 1., 1., 1., 1., 1., 1., 1., 1., 1., 1., 1.,\n",
       "       1., 1., 1., 1., 1., 1., 1., 1., 1., 1., 1., 1., 1., 1., 1., 1., 1.,\n",
       "       1., 1., 1., 1., 1., 1., 1., 1., 1., 1., 1., 1., 1., 1., 1., 1., 1.,\n",
       "       1., 1., 1., 1., 1., 1., 1., 1., 1., 1., 1., 1., 1., 1., 1.])"
      ]
     },
     "execution_count": 187,
     "metadata": {},
     "output_type": "execute_result"
    }
   ],
   "source": [
    "p, target = MIMIC(OneMax, d=100, N=100, T=200, verbose=True, targets=True, probabilities=False)\n",
    "plt.figure()\n",
    "plt.plot(target)\n",
    "plt.show()\n",
    "p, p.sum()"
   ]
  },
  {
   "cell_type": "markdown",
   "metadata": {},
   "source": [
    "# DeceptiveOneMax"
   ]
  },
  {
   "cell_type": "code",
   "execution_count": 188,
   "metadata": {},
   "outputs": [
    {
     "name": "stdout",
     "output_type": "stream",
     "text": [
      "0 0.0049533843994140625\n",
      "50 31.116052627563477\n",
      "100 61.77857422828674\n",
      "150 90.31342077255249\n",
      "118.91048526763916\n"
     ]
    },
    {
     "data": {
      "image/png": "[encoded data removed]",
      "text/plain": [
       "<Figure size 432x288 with 1 Axes>"
      ]
     },
     "metadata": {
      "needs_background": "light"
     },
     "output_type": "display_data"
    },
    {
     "data": {
      "text/plain": [
       "(array([1., 1., 1., 1., 1., 1., 1., 1., 1., 1., 1., 1., 1., 1., 1., 1., 1.,\n",
       "        1., 1., 1., 1., 1., 1., 1., 1., 1., 1., 1., 1., 1., 1., 1., 1., 1.,\n",
       "        1., 1., 1., 1., 1., 1., 1., 1., 1., 1., 1., 1., 1., 1., 1., 1., 1.,\n",
       "        1., 1., 1., 1., 1., 1., 1., 1., 1., 1., 1., 1., 1., 1., 1., 1., 1.,\n",
       "        1., 1., 1., 1., 1., 1., 1., 1., 1., 1., 1., 1., 1., 1., 1., 1., 1.,\n",
       "        1., 1., 1., 1., 1., 1., 1., 1., 1., 1., 1., 1., 1., 1., 1.]),\n",
       " 100.0)"
      ]
     },
     "execution_count": 188,
     "metadata": {},
     "output_type": "execute_result"
    }
   ],
   "source": [
    "p, target = MIMIC(DeceptiveOneMax, d=100, N=100, T=200, verbose=True, targets=True, probabilities=False)\n",
    "plt.figure()\n",
    "plt.plot(target)\n",
    "plt.show()\n",
    "p, p.sum()"
   ]
  },
  {
   "cell_type": "code",
   "execution_count": 189,
   "metadata": {},
   "outputs": [
    {
     "name": "stdout",
     "output_type": "stream",
     "text": [
      "0 0.015934467315673828\n",
      "63.011998891830444\n"
     ]
    },
    {
     "data": {
      "image/png": "[encoded data removed]",
      "text/plain": [
       "<Figure size 432x288 with 1 Axes>"
      ]
     },
     "metadata": {
      "needs_background": "light"
     },
     "output_type": "display_data"
    },
    {
     "data": {
      "text/plain": [
       "(array([1., 1., 1., 1., 1., 1., 1., 1., 1., 1., 1., 1., 1., 1., 1., 1., 1.,\n",
       "        1., 1., 1., 1., 1., 1., 1., 1., 1., 1., 1., 1., 1., 1., 1., 1., 1.,\n",
       "        1., 1., 1., 1., 1., 1., 1., 1., 1., 1., 1., 1., 1., 1., 1., 1., 1.,\n",
       "        1., 1., 1., 1., 1., 1., 1., 1., 1., 1., 1., 1., 1., 1., 1., 1., 1.,\n",
       "        1., 1., 1., 1., 1., 1., 1., 1., 1., 1., 1., 1., 1., 1., 1., 1., 1.,\n",
       "        1., 1., 1., 1., 1., 1., 1., 1., 1., 1., 1., 1., 1., 1., 1.]),\n",
       " 100.0)"
      ]
     },
     "execution_count": 189,
     "metadata": {},
     "output_type": "execute_result"
    }
   ],
   "source": [
    "p, target = MIMIC(DeceptiveOneMax, d=100, N=400, T=25, verbose=True, targets=True, probabilities=False)\n",
    "plt.figure()\n",
    "plt.plot(target)\n",
    "plt.show()\n",
    "p, p.sum()"
   ]
  },
  {
   "cell_type": "markdown",
   "metadata": {},
   "source": [
    "# KDeceptiveOneMax"
   ]
  },
  {
   "cell_type": "code",
   "execution_count": 190,
   "metadata": {},
   "outputs": [
    {
     "name": "stdout",
     "output_type": "stream",
     "text": [
      "0 0.04192018508911133\n",
      "50 32.67198824882507\n",
      "100 62.98019027709961\n",
      "150 93.35166668891907\n",
      "123.62799048423767\n"
     ]
    },
    {
     "data": {
      "image/png": "[encoded data removed]",
      "text/plain": [
       "<Figure size 432x288 with 1 Axes>"
      ]
     },
     "metadata": {
      "needs_background": "light"
     },
     "output_type": "display_data"
    },
    {
     "data": {
      "text/plain": [
       "(array([1., 1., 1., 1., 1., 1., 1., 1., 1., 1., 1., 1., 0., 0., 0., 0., 1.,\n",
       "        1., 1., 1., 1., 1., 1., 1., 1., 1., 1., 1., 1., 1., 1., 1., 0., 0.,\n",
       "        0., 0., 1., 1., 1., 1., 0., 0., 0., 0., 0., 0., 0., 0., 1., 1., 1.,\n",
       "        1., 1., 1., 1., 1., 0., 0., 0., 0., 1., 1., 1., 1., 1., 1., 1., 1.,\n",
       "        1., 1., 1., 1., 1., 1., 1., 1., 1., 1., 1., 1., 0., 0., 0., 0., 1.,\n",
       "        1., 1., 1., 1., 1., 1., 1., 1., 1., 1., 1., 0., 0., 0., 0.]),\n",
       " 72.0)"
      ]
     },
     "execution_count": 190,
     "metadata": {},
     "output_type": "execute_result"
    }
   ],
   "source": [
    "p, target = MIMIC(KDeceptiveOneMax(25), d=100, N=100, T=200, verbose=True, targets=True, probabilities=False)\n",
    "plt.figure()\n",
    "plt.plot(target)\n",
    "plt.show()\n",
    "p"
   ]
  },
  {
   "cell_type": "code",
   "execution_count": 191,
   "metadata": {},
   "outputs": [
    {
     "name": "stdout",
     "output_type": "stream",
     "text": [
      "0 0.158552885055542\n",
      "128.4802758693695\n"
     ]
    },
    {
     "data": {
      "image/png": "[encoded data removed]",
      "text/plain": [
       "<Figure size 432x288 with 1 Axes>"
      ]
     },
     "metadata": {
      "needs_background": "light"
     },
     "output_type": "display_data"
    },
    {
     "data": {
      "text/plain": [
       "array([1., 1., 1., 1., 0., 0., 0., 0., 1., 1., 1., 1., 1., 1., 1., 1., 1.,\n",
       "       1., 1., 1., 0., 0., 0., 0., 1., 1., 1., 1., 1., 1., 1., 1., 1., 1.,\n",
       "       1., 1., 1., 1., 1., 1., 1., 1., 1., 1., 1., 1., 1., 1., 0., 0., 0.,\n",
       "       0., 0., 0., 0., 0., 1., 1., 1., 1., 1., 1., 1., 1., 1., 1., 1., 1.,\n",
       "       0., 0., 0., 0., 1., 1., 1., 1., 1., 1., 1., 1., 1., 1., 1., 1., 1.,\n",
       "       1., 1., 1., 1., 1., 1., 1., 1., 1., 1., 1., 1., 1., 1., 1.])"
      ]
     },
     "execution_count": 191,
     "metadata": {},
     "output_type": "execute_result"
    }
   ],
   "source": [
    "p, target = MIMIC(KDeceptiveOneMax(25), d=100, N=400, T=50, verbose=True, targets=True, probabilities=False)\n",
    "plt.figure()\n",
    "plt.plot(target)\n",
    "plt.show()\n",
    "p"
   ]
  },
  {
   "cell_type": "code",
   "execution_count": 193,
   "metadata": {},
   "outputs": [
    {
     "name": "stdout",
     "output_type": "stream",
     "text": [
      "0 0.3138411045074463\n",
      "319.1180582046509\n"
     ]
    },
    {
     "data": {
      "image/png": "[encoded data removed]",
      "text/plain": [
       "<Figure size 432x288 with 1 Axes>"
      ]
     },
     "metadata": {
      "needs_background": "light"
     },
     "output_type": "display_data"
    },
    {
     "data": {
      "text/plain": [
       "array([1., 1., 1., 1., 0., 0., 0., 0., 1., 1., 1., 1., 1., 1., 1., 1., 1.,\n",
       "       1., 1., 1., 1., 1., 1., 1., 0., 0., 0., 0., 1., 1., 1., 1., 1., 1.,\n",
       "       1., 1., 1., 1., 1., 1., 0., 0., 0., 0., 1., 1., 1., 1., 0., 0., 0.,\n",
       "       0., 1., 1., 1., 1., 1., 1., 1., 1., 1., 1., 1., 1., 1., 1., 1., 1.,\n",
       "       1., 1., 1., 1., 1., 1., 1., 1., 0., 0., 0., 0., 1., 1., 1., 1., 0.,\n",
       "       0., 0., 0., 1., 1., 1., 1., 1., 1., 1., 1., 1., 1., 1., 1.])"
      ]
     },
     "execution_count": 193,
     "metadata": {},
     "output_type": "execute_result"
    }
   ],
   "source": [
    "p, target = MIMIC(KDeceptiveOneMax(25), d=100, N=800, T=50, verbose=True, targets=True, probabilities=False)\n",
    "plt.figure()\n",
    "plt.plot(target)\n",
    "plt.show()\n",
    "p"
   ]
  },
  {
   "cell_type": "code",
   "execution_count": 9,
   "metadata": {},
   "outputs": [
    {
     "name": "stdout",
     "output_type": "stream",
     "text": [
      "0 0.5819191932678223\n",
      "10 147.15282344818115\n",
      "20 299.5972764492035\n",
      "30 513.0001931190491\n",
      "40 1023.988683462143\n",
      "1933.9557673931122\n"
     ]
    },
    {
     "data": {
      "image/png": "[encoded data removed]",
      "text/plain": [
       "<Figure size 432x288 with 1 Axes>"
      ]
     },
     "metadata": {
      "needs_background": "light"
     },
     "output_type": "display_data"
    },
    {
     "data": {
      "text/plain": [
       "array([1., 1., 1., 1., 0., 0., 0., 0., 1., 1., 1., 1., 0., 0., 0., 0., 0.,\n",
       "       0., 0., 0., 1., 1., 1., 1., 1., 1., 1., 1., 0., 0., 0., 0., 0., 0.,\n",
       "       0., 0., 0., 0., 0., 0., 1., 1., 1., 1., 1., 1., 1., 1., 0., 0., 0.,\n",
       "       0., 0., 0., 0., 0., 1., 1., 1., 1., 0., 0., 0., 0., 0., 0., 0., 0.,\n",
       "       1., 1., 1., 1., 0., 0., 0., 0., 0., 0., 0., 0., 1., 1., 1., 1., 0.,\n",
       "       0., 0., 0., 1., 1., 1., 1., 0., 0., 0., 0., 1., 1., 1., 1.])"
      ]
     },
     "execution_count": 9,
     "metadata": {},
     "output_type": "execute_result"
    }
   ],
   "source": [
    "p, target = MIMIC(KDeceptiveOneMax(25), d=100, N=1500, T=50, verbose=True, targets=True, probabilities=False)\n",
    "plt.figure()\n",
    "plt.plot(target)\n",
    "plt.show()\n",
    "p"
   ]
  },
  {
   "cell_type": "code",
   "execution_count": null,
   "metadata": {},
   "outputs": [],
   "source": []
  },
  {
   "cell_type": "code",
   "execution_count": null,
   "metadata": {},
   "outputs": [],
   "source": []
  },
  {
   "cell_type": "code",
   "execution_count": null,
   "metadata": {},
   "outputs": [],
   "source": []
  },
  {
   "cell_type": "code",
   "execution_count": 20,
   "metadata": {},
   "outputs": [
    {
     "data": {
      "text/plain": [
       "(array([[0, 1],\n",
       "        [2, 3]]),\n",
       " array([2, 4]))"
      ]
     },
     "execution_count": 20,
     "metadata": {},
     "output_type": "execute_result"
    }
   ],
   "source": [
    "test = np.array([[0,1],[2,3]])\n",
    "test, np.sum(test, axis=0)"
   ]
  },
  {
   "cell_type": "code",
   "execution_count": 34,
   "metadata": {},
   "outputs": [
    {
     "data": {
      "text/plain": [
       "1.0"
      ]
     },
     "execution_count": 34,
     "metadata": {},
     "output_type": "execute_result"
    }
   ],
   "source": [
    "sstats.entropy([1/2, 1/2], base=2)"
   ]
  },
  {
   "cell_type": "code",
   "execution_count": 6,
   "metadata": {},
   "outputs": [
    {
     "data": {
      "text/plain": [
       "array([[2, 3]])"
      ]
     },
     "execution_count": 6,
     "metadata": {},
     "output_type": "execute_result"
    }
   ],
   "source": [
    "test = np.array([[0,1],[2,3],[4,5]])\n",
    "test[1:2]"
   ]
  },
  {
   "cell_type": "code",
   "execution_count": 7,
   "metadata": {},
   "outputs": [
    {
     "data": {
      "text/plain": [
       "array([[0, 1],\n",
       "       [2, 3],\n",
       "       [4, 5],\n",
       "       [0, 1],\n",
       "       [2, 3],\n",
       "       [4, 5]])"
      ]
     },
     "execution_count": 7,
     "metadata": {},
     "output_type": "execute_result"
    }
   ],
   "source": [
    "np.vstack((test,test))"
   ]
  },
  {
   "cell_type": "code",
   "execution_count": 110,
   "metadata": {},
   "outputs": [
    {
     "data": {
      "text/plain": [
       "array([0., 0.])"
      ]
     },
     "execution_count": 110,
     "metadata": {},
     "output_type": "execute_result"
    }
   ],
   "source": [
    "entropy(np.array([[0,0],[0,0]]))"
   ]
  },
  {
   "cell_type": "code",
   "execution_count": 114,
   "metadata": {},
   "outputs": [
    {
     "data": {
      "text/plain": [
       "0"
      ]
     },
     "execution_count": 114,
     "metadata": {},
     "output_type": "execute_result"
    }
   ],
   "source": [
    "np.array([]).shape[0]"
   ]
  },
  {
   "cell_type": "code",
   "execution_count": null,
   "metadata": {},
   "outputs": [],
   "source": []
  }
 ],
 "metadata": {
  "kernelspec": {
   "display_name": "Python 3",
   "language": "python",
   "name": "python3"
  },
  "language_info": {
   "codemirror_mode": {
    "name": "ipython",
    "version": 3
   },
   "file_extension": ".py",
   "mimetype": "text/x-python",
   "name": "python",
   "nbconvert_exporter": "python",
   "pygments_lexer": "ipython3",
   "version": "3.8.5"
  }
 },
 "nbformat": 4,
 "nbformat_minor": 4
}
