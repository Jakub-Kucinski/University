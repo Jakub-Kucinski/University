{
  "nbformat": 4,
  "nbformat_minor": 0,
  "metadata": {
    "colab": {
      "provenance": []
    },
    "kernelspec": {
      "display_name": "Python 3",
      "language": "python",
      "name": "python3"
    },
    "language_info": {
      "codemirror_mode": {
        "name": "ipython",
        "version": 3
      },
      "file_extension": ".py",
      "mimetype": "text/x-python",
      "name": "python",
      "nbconvert_exporter": "python",
      "pygments_lexer": "ipython3",
      "version": "3.8.3"
    }
  },
  "cells": [
    {
      "cell_type": "markdown",
      "metadata": {
        "id": "CGXgWugfJ0Vl"
      },
      "source": [
        "## Assignment 1\n",
        "\n",
        "**Submission deadlines:** \n",
        "- get at least **2** points by Tuesday, 9.03.2021\n",
        "- remaining points: last lab session before or on Tuesday, 16.03.2021\n",
        "\n",
        "**Points:** Aim to get 8 out of 12 possible points\n",
        "\n",
        "## Submission instructions\n",
        "The class is held remotely. To sumbmit your solutions please show the notebook over the video call. Make sure you know all the questions and asnwers, and that the notebook contains results (before presentation do `Runtime -> Restar and run all`)\n",
        "\n",
        "We provide starter code, however you are not required to use it as long as you properly solve the tasks.\n",
        "\n",
        "As always, please submit corrections using GitHub's Pull Requests to https://github.com/janchorowski/dl_uwr."
      ]
    },
    {
      "cell_type": "markdown",
      "metadata": {
        "id": "5S8iRaCPyO2a"
      },
      "source": [
        "# Task description\n",
        "\n",
        "## TLDR\n",
        "Implement and train a neural network using pure numpy."
      ]
    },
    {
      "cell_type": "markdown",
      "metadata": {
        "id": "JHcz7I2V-bVM"
      },
      "source": [
        "\n",
        "## Problem 1 [2p]\n",
        "Implement a two-layer network, manually set weights and biases to solve the XOR task.\n",
        "\n",
        "A two-layer neural network implementes a function $f: \\mathbb{R}^D \\rightarrow \\mathbb{R}^O$ where $D$ is the input dimensionality and $O$ is the output dinemsionality. The output goes through an intermediate representation (the hidden layer) with dimensionality $H$. \n",
        "\n",
        "The computations are as follows:\n",
        "\\begin{equation}\n",
        "\\begin{split}\n",
        "A_1 &= x W_1^T + b_1  & \\qquad\\text{Total input to neurons in the hidden layer (network's first layer)} \\\\\n",
        "O_1 &= \\sigma_1(A_1)  & \\qquad\\text{Output of the hidden layer} \\\\\n",
        "A_2 &= O_1 W_2^T + b_2 & \\qquad\\text{Total input to neurons in the output layer (network's second layer)}\\\\\n",
        "O_2 &= \\sigma_2(A_2) & \\qquad\\text{Output of the network}\n",
        "\\end{split}\n",
        "\\end{equation}\n",
        "\n",
        "Where $W$ are weight matrices, $b$ are bias vectors, $\\sigma$ are non-linear activation functions (e.g. the logistic sigmoid applied element-wise, or softmax).\n",
        "\n",
        "For the 2D xor problem the network will:\n",
        "- have 2 inputs, 2 hidden neurons, one output\n",
        "- use the logistic sigmoid everywhere (that way we, when hand-designig the weights, we can assume that neurons' outputs are binary).\n",
        "\n",
        "Therrefore the shapes of the data floing through the network will be:\n",
        "- input: $x\\in\\mathbb{}R^{2}$\n",
        "- hidden layer parameters: $W_1\\in\\mathbb{}R^{2\\times 2}$ and $b_1\\in\\mathbb{}R^{2}$\n",
        "- representations in the hidden layer: $A_1\\in\\mathbb{}R^{2}$ and $O_1\\in\\mathbb{}R^{2}$\n",
        "- output layer parameters: $W_2\\in\\mathbb{}R^{1\\times 2}$ and $b_1\\in\\mathbb{}R^{1}$\n",
        "- representations in the output layer: $A_2\\in\\mathbb{}R^{1}$ and $O_2\\in\\mathbb{}R^{1}$\n",
        "\n",
        "The network can be seen as a logistic regression model, prefixed by a nonlinear transformation of the data.\n",
        "\n",
        "The first tasks consists of:\n",
        "- implementing the network\n",
        "- selecting parametwrs ($W_1, b_1, W_2, b_2$) such that $f(x)\\approx XOR(x_1, x_2)$ where the approximation is die to the sigmoids - the output may be close to 0 or 1, but doesn't need to saturate at 0 or 1.\n",
        "\n",
        "NB: the convention on weight matrix shapes follows linear [layers in PyTorch](https://pytorch.org/docs/stable/generated/torch.nn.Linear.html).\n"
      ]
    },
    {
      "cell_type": "markdown",
      "metadata": {
        "id": "0QSpZxuH-bLe"
      },
      "source": [
        "## Problem 2 [2p]\n",
        "1. Add a backward pass.\n",
        "2. Use a sensible random initialization for weights and biases.\n",
        "3. Numerically check the correctness of your gradient computation.\n",
        "\n",
        "There is nice article about taking derivative over vectors and vector chain rule: https://explained.ai/matrix-calculus/ if someone don't have experience with suchr calculus.\n"
      ]
    },
    {
      "cell_type": "markdown",
      "metadata": {
        "id": "s1Tn8j0m-bAy"
      },
      "source": [
        "## Problem 3 [2p]\n",
        "1. Implement gradient descent\n",
        "2. Train your network to solve 3D XOR\n",
        "3. Try several hidden layer sizes, for each size record the fracton of successful trainings. Then answer:\n",
        "    - What is the minimal hidden size required to solve 3D XOR (even with low reliability, when the training has to be repeated multiple times)\n",
        "    - What is the minimal hidden size required to reliably solve 3D XOR\n",
        "    - Which networks are easier to train - small or large ones? Why?\n"
      ]
    },
    {
      "cell_type": "markdown",
      "metadata": {
        "id": "RP9Pvpmf-a2A"
      },
      "source": [
        "## Problem 4 [1p]\n",
        "Replace the first nonlinearity with the [ReLU](https://en.wikipedia.org/wiki/Rectifier_(neural_networks)) activation function. Find a network architecture which reliably learns the 3D XOR problem.\n"
      ]
    },
    {
      "cell_type": "markdown",
      "metadata": {
        "id": "cGgtpe-w-asB"
      },
      "source": [
        "## Problem 5 [1p]\n",
        "Add a second hidden layer to your network, implement the forward and backward pass, then demonstrate training.\n"
      ]
    },
    {
      "cell_type": "markdown",
      "metadata": {
        "id": "Pe-pcFeO-aiE"
      },
      "source": [
        "## Problem 6 [2p]\n",
        "Implement a way to have a _variable number_ of hidden layers. Check how deep sigmoid or ReLU networks you  can train. For simplicity you can assume that all hidden layers have the same number of neurons, and use the same activation function.\n"
      ]
    },
    {
      "cell_type": "markdown",
      "metadata": {
        "id": "kIpn17Cm-aW7"
      },
      "source": [
        "## Problem 7 [2p]\n",
        "For each weight matrix $w\\in\\mathbb{R}^{n\\times m}$, add a randomly initialized `backward weight` $w_b\\in\\mathbb{R}^{m\\times n}$, which will not change during training. Change the backward pass to use $w_b$ instead of $w^T$, getting an approxmatoin of the true gradient. Can you get your network to train?\n",
        "\n",
        "NB: this approach, dubbed [feedback alignment](https://www.nature.com/articles/ncomms13276), was proposed to make error backpropagation more biologically plausible, by providing a solution to the \"weight transport problem\". Regular backpropagation requires that neurons not only know their incoming weights (thet they control), but also their outgoing weights (that are controlled by neurons in the upper layers). This is nearly impossible in a real brain."
      ]
    },
    {
      "cell_type": "markdown",
      "metadata": {
        "id": "rXJaoHSH0DZO"
      },
      "source": [
        "# Solutions and starter code"
      ]
    },
    {
      "cell_type": "code",
      "metadata": {
        "id": "YiTEWD2oqW0Y"
      },
      "source": [
        "import matplotlib.pyplot as plt\n",
        "import numpy as np"
      ],
      "execution_count": null,
      "outputs": []
    },
    {
      "cell_type": "markdown",
      "metadata": {
        "id": "eqtfJKR40J3x"
      },
      "source": [
        "XOR dataset creation"
      ]
    },
    {
      "cell_type": "code",
      "metadata": {
        "colab": {
          "base_uri": "https://localhost:8080/",
          "height": 297
        },
        "id": "lYEbCfbSpv5M",
        "outputId": "86df73ea-c9c8-4395-d5fc-6d3c0b43f920"
      },
      "source": [
        "# Let's define a XOR dataset\n",
        "\n",
        "# X will be matrix of N 2-dimensional inputs\n",
        "X = np.array([[0, 0], [0, 1], [1, 0], [1, 1],], dtype=np.float32)\n",
        "# Y is a matrix of N numners - answers\n",
        "Y = np.array([[0], [1], [1], [0],], dtype=np.float32)\n",
        "\n",
        "plt.scatter(\n",
        "    X[:, 0], X[:, 1], c=Y[:, 0],\n",
        ")\n",
        "plt.xlabel(\"X[0]\")\n",
        "plt.ylabel(\"X[1]\")\n",
        "plt.axis(\"square\")"
      ],
      "execution_count": null,
      "outputs": [
        {
          "output_type": "execute_result",
          "data": {
            "text/plain": [
              "(-0.05, 1.05, -0.05, 1.05)"
            ]
          },
          "metadata": {
            "tags": []
          },
          "execution_count": 8
        },
        {
          "output_type": "display_data",
          "data": {
            "image/png": "[encoded data removed]",
            "text/plain": [
              "<Figure size 432x288 with 1 Axes>"
            ]
          },
          "metadata": {
            "tags": [],
            "needs_background": "light"
          }
        }
      ]
    },
    {
      "cell_type": "markdown",
      "metadata": {
        "id": "Rb3azMn929_I"
      },
      "source": [
        "## Problem 1"
      ]
    },
    {
      "cell_type": "markdown",
      "metadata": {
        "id": "RZCM_hdELE04"
      },
      "source": [
        "The code below contains a mock-up of a two-layer neural network. Fill in the code and manually set weights to solve the XOR problem.\n",
        "\n",
        "Please note: the shapes are set to be compatible with PyTorch's conventions:\n",
        "* a batch containing $N$ $D$-dimensional examples has shape $N\\times D$ (each example is a row!)\n",
        "* a weight matrix in a linear layer with $I$ inputs and $O$ outputs has shape $O \\times I$\n",
        "* a bias vector is a 1D vector. Please note that [broadcasting rules](https://docs.scipy.org/doc/numpy/user/basics.broadcasting.html) allow us to think about it as a $1 \\times D$ matrix."
      ]
    },
    {
      "cell_type": "code",
      "metadata": {
        "id": "lrrRuk6zLiF0"
      },
      "source": [
        "def sigmoid(x):\n",
        "    # TODO\n",
        "    return 1/(1+np.exp(-x))\n",
        "\n",
        "\n",
        "class SmallNet:\n",
        "    def __init__(self, in_features, num_hidden, dtype=np.float32):\n",
        "        self.W1 = np.zeros((num_hidden, in_features), dtype=dtype)\n",
        "        self.b1 = np.zeros((num_hidden,), dtype=dtype)\n",
        "        self.W2 = np.zeros((1, num_hidden), dtype=dtype)\n",
        "        self.b2 = np.zeros((1,), dtype=dtype)\n",
        "        self.init_params()\n",
        "\n",
        "    def init_params(self):\n",
        "        # TODO for Problem 2:\n",
        "        # set all parameters to small random values, e.g. from N(0, 0.5)\n",
        "        self.W1 = np.random.normal(0, 0.5, size=(self.W1.shape))\n",
        "        self.W2 = np.random.normal(0, 0.5, size=(self.W2.shape))\n",
        "        self.b1 = np.random.normal(0, 0.5, size=(self.b1.shape))\n",
        "        self.b2 = np.random.normal(0, 0.5, size=(self.b2.shape))\n",
        "\n",
        "    def forward(self, X, Y=None, do_backward=False):\n",
        "        # TODO Problem 1: Fill in details of forward propagation\n",
        "\n",
        "        # Input to neurons in 1st layer\n",
        "        A1 = X @ self.W1.T + self.b1\n",
        "        # Outputs after the sigmoid non-linearity\n",
        "        O1 = sigmoid(A1)\n",
        "        # Inputs to neuron in the second layer\n",
        "        A2 = O1 @ self.W2.T + self.b2\n",
        "        # Outputs after the sigmoid non-linearity\n",
        "        O2 = sigmoid(A2)\n",
        "\n",
        "        # When Y is none, simply return the predictions. Else compute the loss\n",
        "        if Y is not None:\n",
        "            loss = -Y * np.log(O2) - (1 - Y) * np.log(\n",
        "                1.0 - O2)\n",
        "            # loss = TODO cross-entropy loss\n",
        "            # normalize loss by batch size\n",
        "            loss = loss.sum() / X.shape[0]\n",
        "        else:\n",
        "            loss = np.nan\n",
        "\n",
        "        # if verbose and loss != np.nan:\n",
        "        #     print(loss)\n",
        "\n",
        "        if do_backward:\n",
        "            # TODO in Problem 2:\n",
        "            # fill in the gradient computation\n",
        "            # Please note, that there is a correspondance between\n",
        "            # the forward and backward pass: with backward computations happening\n",
        "            # in reverse order.\n",
        "            # We save the gradients with respect to the parameters as fields of self.\n",
        "            # It is not very elegant, but simplifies training code later on.\n",
        "\n",
        "            # A2_grad is the gradient of loss with respect to A2\n",
        "            # Hint: there is a concise formula for the gradient\n",
        "            # of logistic sigmoid and cross-entropy loss\n",
        "\n",
        "\n",
        "            # n x 1\n",
        "            A2_grad = (O2 - Y) / X.shape[0]\n",
        "\n",
        "            # 1\n",
        "            self.b2_grad = A2_grad.sum(0)\n",
        "\n",
        "            # 1 x n @ n x hidden = 1 x hidden\n",
        "            self.W2_grad = A2_grad.T @ O1\n",
        "\n",
        "            # n x 1 @ 1 x h = n x h\n",
        "            O1_grad = A2_grad @ self.W2\n",
        "\n",
        "            # n x h\n",
        "            A1_grad = O1_grad * sigmoid(A1) * (1 - sigmoid(A1))\n",
        "\n",
        "            # 1 x h\n",
        "            self.b1_grad = A1_grad.sum(0)\n",
        "\n",
        "            # h x n @ n x d = h x d\n",
        "            self.W1_grad = A1_grad.T @ X\n",
        "\n",
        "        return O2, loss"
      ],
      "execution_count": null,
      "outputs": []
    },
    {
      "cell_type": "code",
      "metadata": {
        "colab": {
          "base_uri": "https://localhost:8080/"
        },
        "id": "jJswvBk0oiIY",
        "outputId": "6dc32fb9-f918-4143-9ea2-121b969762b7"
      },
      "source": [
        "# TODO Problem 1:\n",
        "# Set by hand the weight values to solve the XOR problem\n",
        "\n",
        "net = SmallNet(2, 2, dtype=np.float64)\n",
        "net.W1 = np.array([[10, 10], [10, 10]])\n",
        "net.b1 = np.array([-5, -15])\n",
        "net.W2 = np.array([10, -10])\n",
        "net.b2 = np.array([-5])\n",
        "\n",
        "# Hint: since we use the logistic sigmoid activation, the weights may need to\n",
        "# be fairly large\n",
        "\n",
        "\n",
        "predictions, loss = net.forward(X, Y, do_backward=False)\n",
        "for x, p in zip(X, predictions):\n",
        "    print(f\"XORnet({x}) = {p}\")"
      ],
      "execution_count": null,
      "outputs": [
        {
          "output_type": "stream",
          "text": [
            "XORnet([0. 0.]) = 0.0071527881888964915\n",
            "XORnet([0. 1.]) = 0.9923558641717396\n",
            "XORnet([1. 0.]) = 0.9923558641717396\n",
            "XORnet([1. 1.]) = 0.0071527881888964785\n"
          ],
          "name": "stdout"
        }
      ]
    },
    {
      "cell_type": "markdown",
      "metadata": {
        "id": "wmxCi5Vl6_xB"
      },
      "source": [
        "## Problem 2"
      ]
    },
    {
      "cell_type": "code",
      "metadata": {
        "id": "eSM5hgJ1mrhY"
      },
      "source": [
        "def check_grad(net, param_name, X, Y, eps=1e-5):\n",
        "    \"\"\"A gradient checking routine\"\"\"\n",
        "\n",
        "    param = getattr(net, param_name)\n",
        "    param_flat_accessor = param.reshape(-1)\n",
        "\n",
        "    grad = np.empty_like(param)\n",
        "    grad_flat_accessor = grad.reshape(-1)\n",
        "\n",
        "    net.forward(X, Y, do_backward=True)\n",
        "    orig_grad = getattr(net, param_name + \"_grad\")\n",
        "    assert param.shape == orig_grad.shape\n",
        "\n",
        "    for i in range(param_flat_accessor.shape[0]):\n",
        "        orig_val = param_flat_accessor[i]\n",
        "        param_flat_accessor[i] = orig_val + eps\n",
        "        _, loss_positive = net.forward(X, Y)\n",
        "        param_flat_accessor[i] = orig_val - eps\n",
        "        _, loss_negative = net.forward(X, Y)\n",
        "        param_flat_accessor[i] = orig_val\n",
        "        grad_flat_accessor[i] = (loss_positive - loss_negative) / (2 * eps)\n",
        "    assert np.allclose(grad, orig_grad)\n",
        "    return grad, orig_grad"
      ],
      "execution_count": null,
      "outputs": []
    },
    {
      "cell_type": "code",
      "metadata": {
        "id": "TTZu0jFEvgXF"
      },
      "source": [
        "# Hint: use float64 for checking the correctness of the gradient\n",
        "net = SmallNet(2, 2, dtype=np.float64)\n",
        "\n",
        "for param_name in [\"W1\", \"b1\", \"W2\", \"b2\"]:\n",
        "    check_grad(net, param_name, X, Y)"
      ],
      "execution_count": null,
      "outputs": []
    },
    {
      "cell_type": "markdown",
      "metadata": {
        "id": "8mUOs3cVvjM2"
      },
      "source": [
        "## Problem 3"
      ]
    },
    {
      "cell_type": "code",
      "metadata": {
        "colab": {
          "base_uri": "https://localhost:8080/"
        },
        "id": "nn2AAoZo0vjU",
        "outputId": "d605ada8-c4b8-447f-ccd8-97b59bfa90a1"
      },
      "source": [
        "net = SmallNet(2, 10, dtype=np.float64)\n",
        "\n",
        "alpha = 0.1  # set a learning rate\n",
        "\n",
        "for i in range(100000):\n",
        "    _, loss = net.forward(X, Y, do_backward=True)\n",
        "    if (i % 5000) == 0:\n",
        "        print(f\"after {i} steps \\tloss={loss}\")\n",
        "    for param_name in [\"W1\", \"b1\", \"W2\", \"b2\"]:\n",
        "        param = getattr(net, param_name)\n",
        "        # Hint: use the construct `param[:]` to change the contents of the array!\n",
        "        # Doing instead `param = new_val` simply changes to what the variable\n",
        "        # param points to, without affecting the network!\n",
        "        # alternatively, you could do setattr(net, param_name, new_value)\n",
        "        param[:] = param - alpha * getattr(\n",
        "            net, param_name + \"_grad\")\n",
        "        # param[:] = TODO"
      ],
      "execution_count": null,
      "outputs": [
        {
          "output_type": "stream",
          "text": [
            "after 0 steps \tloss=0.8581838092904905\n",
            "after 5000 steps \tloss=0.1031148605008132\n",
            "after 10000 steps \tloss=0.014179698233037528\n",
            "after 15000 steps \tloss=0.006862621353130674\n",
            "after 20000 steps \tloss=0.004401701910358321\n",
            "after 25000 steps \tloss=0.0031928656382196616\n",
            "after 30000 steps \tloss=0.002481898758841022\n",
            "after 35000 steps \tloss=0.0020169339591321533\n",
            "after 40000 steps \tloss=0.001690741105537925\n",
            "after 45000 steps \tloss=0.0014501794947695944\n",
            "after 50000 steps \tloss=0.0012660038543927253\n",
            "after 55000 steps \tloss=0.0011208317900075252\n",
            "after 60000 steps \tloss=0.0010037035646713465\n",
            "after 65000 steps \tloss=0.0009073781582132461\n",
            "after 70000 steps \tloss=0.0008268862429463682\n",
            "after 75000 steps \tloss=0.0007587083986959311\n",
            "after 80000 steps \tloss=0.0007002850371535016\n",
            "after 85000 steps \tloss=0.000649711931836331\n",
            "after 90000 steps \tloss=0.0006055443601478981\n",
            "after 95000 steps \tloss=0.000566667280031232\n"
          ],
          "name": "stdout"
        }
      ]
    },
    {
      "cell_type": "code",
      "metadata": {
        "colab": {
          "base_uri": "https://localhost:8080/"
        },
        "id": "TwpEjpkU1JvK",
        "outputId": "b4fe7448-d778-4ba8-8676-1a383a01b26c"
      },
      "source": [
        "predictions, loss = net.forward(X, Y, do_backward=True)\n",
        "for x, p in zip(X, predictions):\n",
        "    print(f\"XORnet({x}) = {p[0]}\")"
      ],
      "execution_count": null,
      "outputs": [
        {
          "output_type": "stream",
          "text": [
            "XORnet([0. 0.]) = 0.0004097106052673963\n",
            "XORnet([0. 1.]) = 0.9995843165323832\n",
            "XORnet([1. 0.]) = 0.9993142291310733\n",
            "XORnet([1. 1.]) = 0.0006170669840561832\n"
          ],
          "name": "stdout"
        }
      ]
    },
    {
      "cell_type": "code",
      "metadata": {
        "id": "sw3GwPlGCJJI"
      },
      "source": [
        "import time\n",
        "\n",
        "X3 = np.array([[0, 0, 0], [0, 0, 1], [0, 1, 0], [0, 1, 1], [1, 0, 0], [1, 0, 1], [1, 1, 0], [1, 1, 1]], dtype=np.float32)\n",
        "Y3 = np.array([[0], [1], [1], [0], [1], [0], [0], [1]], dtype=np.float32)\n",
        "\n",
        "alpha = 0.1\n",
        "num_of_trainings = 10\n",
        "iters = 100000\n",
        "fractions = []\n",
        "mean_loss = []\n",
        "fractions_close_to_Y = []\n",
        "tolerance = 0.05\n",
        "average_training_time = []\n",
        "for hidden_dim in [2, 3, 5, 10, 20]:\n",
        "    # TODO: run a few trainings and record the fraction of successful ones\n",
        "    count_success = 0\n",
        "    count_close = 0\n",
        "    sum_loss = 0\n",
        "    sum_time = 0\n",
        "    for i in range(num_of_trainings):\n",
        "        start = time.time()\n",
        "        net = SmallNet(3, hidden_dim, dtype=np.float64)\n",
        "        for i in range(iters):\n",
        "            _, loss = net.forward(X3, Y3, do_backward=True)\n",
        "            for param_name in [\"W1\", \"b1\", \"W2\", \"b2\"]:\n",
        "                param = getattr(net, param_name)\n",
        "                param[:] = param - alpha * getattr(\n",
        "                    net, param_name + \"_grad\")\n",
        "        end = time.time()\n",
        "        predictions, loss = net.forward(X3, Y3, do_backward=True)\n",
        "        if all(np.abs(Y3 - predictions) < 0.5):\n",
        "            count_success += 1\n",
        "        if all(np.abs(Y3 - predictions) < tolerance):\n",
        "            count_close += 1\n",
        "        sum_loss += loss\n",
        "        sum_time += end-start\n",
        "    average_training_time.append(sum_time / num_of_trainings)\n",
        "    mean_loss.append(sum_loss / num_of_trainings)\n",
        "    fractions_close_to_Y.append(count_close / num_of_trainings)\n",
        "    fractions.append(count_success / num_of_trainings)"
      ],
      "execution_count": null,
      "outputs": []
    },
    {
      "cell_type": "code",
      "metadata": {
        "colab": {
          "base_uri": "https://localhost:8080/"
        },
        "id": "4BsTkB7lI8zf",
        "outputId": "928037c8-3198-4238-ec0a-4efa8d317a7d"
      },
      "source": [
        "print(f\"Mean loss: {mean_loss}\\nFraction of close to Y: {fractions_close_to_Y}\\nFraction of correct choice: {fractions}\\nAverage training time: {average_training_time}\")"
      ],
      "execution_count": null,
      "outputs": [
        {
          "output_type": "stream",
          "text": [
            "Mean loss: [0.1368434730193854, 0.0017474543973225731, 0.0008072502553501889, 0.0005802519277813425, 0.0005641859104214355]\n",
            "Fraction of close to Y: [0.6, 1.0, 1.0, 1.0, 1.0]\n",
            "Fraction of correct choice: [0.6, 1.0, 1.0, 1.0, 1.0]\n",
            "Average training time: [11.720435547828675, 11.798751997947694, 12.125194668769836, 12.003323125839234, 12.799034905433654]\n"
          ],
          "name": "stdout"
        }
      ]
    },
    {
      "cell_type": "markdown",
      "metadata": {
        "id": "A5EyK6jUbpbB"
      },
      "source": [
        "From the below plot we see that 2 neurons in hidden layer can solve 3d xor. Also from two below plots we see that 3 neurons are enough to reliably solve 3d xor."
      ]
    },
    {
      "cell_type": "code",
      "metadata": {
        "colab": {
          "base_uri": "https://localhost:8080/",
          "height": 283
        },
        "id": "z6BDeK12JA0n",
        "outputId": "940bd0ba-c33a-4fb8-fe03-b31ce1763ff2"
      },
      "source": [
        "plt.bar([2, 3, 5, 10, 20], fractions)"
      ],
      "execution_count": null,
      "outputs": [
        {
          "output_type": "execute_result",
          "data": {
            "text/plain": [
              "<BarContainer object of 5 artists>"
            ]
          },
          "metadata": {
            "tags": []
          },
          "execution_count": 25
        },
        {
          "output_type": "display_data",
          "data": {
            "image/png": "[encoded data removed]",
            "text/plain": [
              "<Figure size 432x288 with 1 Axes>"
            ]
          },
          "metadata": {
            "tags": [],
            "needs_background": "light"
          }
        }
      ]
    },
    {
      "cell_type": "code",
      "metadata": {
        "colab": {
          "base_uri": "https://localhost:8080/",
          "height": 283
        },
        "id": "uy_4-g-bJEB6",
        "outputId": "fd22d270-d177-4fc6-a1de-dd86d25d9bf9"
      },
      "source": [
        "plt.bar([2, 3, 5, 10, 20], fractions_close_to_Y)"
      ],
      "execution_count": null,
      "outputs": [
        {
          "output_type": "execute_result",
          "data": {
            "text/plain": [
              "<BarContainer object of 5 artists>"
            ]
          },
          "metadata": {
            "tags": []
          },
          "execution_count": 26
        },
        {
          "output_type": "display_data",
          "data": {
            "image/png": "[encoded data removed]",
            "text/plain": [
              "<Figure size 432x288 with 1 Axes>"
            ]
          },
          "metadata": {
            "tags": [],
            "needs_background": "light"
          }
        }
      ]
    },
    {
      "cell_type": "markdown",
      "metadata": {
        "id": "OkeLsXPRc0cd"
      },
      "source": [
        "From below plot we see that loss for 2 neurons is quite big, for 3 neurons much smaller, for 5, 10 and 20 quite similar and relatively small."
      ]
    },
    {
      "cell_type": "code",
      "metadata": {
        "colab": {
          "base_uri": "https://localhost:8080/",
          "height": 283
        },
        "id": "qbrCZoL0JH83",
        "outputId": "f32076ef-1107-41ab-bd64-f01641bae488"
      },
      "source": [
        "plt.bar([2, 3, 5, 10, 20], -np.log(mean_loss))"
      ],
      "execution_count": null,
      "outputs": [
        {
          "output_type": "execute_result",
          "data": {
            "text/plain": [
              "<BarContainer object of 5 artists>"
            ]
          },
          "metadata": {
            "tags": []
          },
          "execution_count": 27
        },
        {
          "output_type": "display_data",
          "data": {
            "image/png": "[encoded data removed]",
            "text/plain": [
              "<Figure size 432x288 with 1 Axes>"
            ]
          },
          "metadata": {
            "tags": [],
            "needs_background": "light"
          }
        }
      ]
    },
    {
      "cell_type": "markdown",
      "metadata": {
        "id": "q_2SJCYydM8T"
      },
      "source": [
        "Computation times are very similar, but a bit longer for bigger number of neurons."
      ]
    },
    {
      "cell_type": "code",
      "metadata": {
        "colab": {
          "base_uri": "https://localhost:8080/",
          "height": 283
        },
        "id": "kmZr9XmmJJ5s",
        "outputId": "cf52f309-8bf7-4808-9f36-c00c87b47396"
      },
      "source": [
        "plt.bar([2, 3, 5, 10, 20], average_training_time)"
      ],
      "execution_count": null,
      "outputs": [
        {
          "output_type": "execute_result",
          "data": {
            "text/plain": [
              "<BarContainer object of 5 artists>"
            ]
          },
          "metadata": {
            "tags": []
          },
          "execution_count": 28
        },
        {
          "output_type": "display_data",
          "data": {
            "image/png": "[encoded data removed]",
            "text/plain": [
              "<Figure size 432x288 with 1 Axes>"
            ]
          },
          "metadata": {
            "tags": [],
            "needs_background": "light"
          }
        }
      ]
    },
    {
      "cell_type": "markdown",
      "metadata": {
        "id": "UuaLEoV-9DLG"
      },
      "source": [
        "## Problem 4\n"
      ]
    },
    {
      "cell_type": "code",
      "metadata": {
        "id": "w3lk9_TM-MvK"
      },
      "source": [
        "def sigmoid(x):\n",
        "    # TODO\n",
        "    return 1/(1+np.exp(-x))\n",
        "\n",
        "def ReLU(x):\n",
        "    return x * (x > 0)\n",
        "\n",
        "class SmallNet:\n",
        "    def __init__(self, in_features, num_hidden, dtype=np.float32, activation_function='sigmoid'):\n",
        "        self.W1 = np.zeros((num_hidden, in_features), dtype=dtype)\n",
        "        self.b1 = np.zeros((num_hidden,), dtype=dtype)\n",
        "        self.W2 = np.zeros((1, num_hidden), dtype=dtype)\n",
        "        self.b2 = np.zeros((1,), dtype=dtype)\n",
        "        if activation_function == 'sigmoid':\n",
        "            self.activation_function = sigmoid\n",
        "            self.string_activation_function = 'sigmoid'\n",
        "        else:\n",
        "            self.activation_function = ReLU\n",
        "            self.string_activation_function = 'ReLU'\n",
        "        self.init_params()\n",
        "\n",
        "    def init_params(self):\n",
        "        # TODO for Problem 2:\n",
        "        # set all parameters to small random values, e.g. from N(0, 0.5)\n",
        "        self.W1 = np.random.normal(0, 0.5, size=(self.W1.shape))\n",
        "        self.W2 = np.random.normal(0, 0.5, size=(self.W2.shape))\n",
        "        self.b1 = np.random.normal(0, 0.5, size=(self.b1.shape))\n",
        "        self.b2 = np.random.normal(0, 0.5, size=(self.b2.shape))\n",
        "\n",
        "    def forward(self, X, Y=None, do_backward=False):\n",
        "        verbose = False\n",
        "        # TODO Problem 1: Fill in details of forward propagation\n",
        "\n",
        "        # Input to neurons in 1st layer\n",
        "        A1 = X @ self.W1.T + self.b1\n",
        "        # Outputs after the sigmoid non-linearity\n",
        "        O1 = self.activation_function(A1)\n",
        "        # Inputs to neuron in the second layer\n",
        "        A2 = O1 @ self.W2.T + self.b2\n",
        "        # Outputs after the sigmoid non-linearity\n",
        "        O2 = sigmoid(A2)\n",
        "\n",
        "        # When Y is none, simply return the predictions. Else compute the loss\n",
        "        if Y is not None:\n",
        "            # with np.errstate(divide='ignore', invalid='ignore'):\n",
        "            loss = -Y * np.log(O2) - (1 - Y) * np.log(\n",
        "                1.0 - O2)\n",
        "            # loss = TODO cross-entropy loss\n",
        "            # normalize loss by batch size\n",
        "            loss = loss.sum() / X.shape[0]\n",
        "        else:\n",
        "            loss = np.nan\n",
        "\n",
        "        if do_backward:\n",
        "            # TODO in Problem 2:\n",
        "            # fill in the gradient computation\n",
        "            # Please note, that there is a correspondance between\n",
        "            # the forward and backward pass: with backward computations happening\n",
        "            # in reverse order.\n",
        "            # We save the gradients with respect to the parameters as fields of self.\n",
        "            # It is not very elegant, but simplifies training code later on.\n",
        "\n",
        "            # A2_grad is the gradient of loss with respect to A2\n",
        "            # Hint: there is a concise formula for the gradient\n",
        "            # of logistic sigmoid and cross-entropy loss\n",
        "\n",
        "\n",
        "            # n x 1\n",
        "            A2_grad = (O2 - Y) / X.shape[0]\n",
        "\n",
        "            # 1\n",
        "            self.b2_grad = A2_grad.sum(0)\n",
        "\n",
        "            # 1 x n @ n x hidden = 1 x hidden\n",
        "            self.W2_grad = A2_grad.reshape(1, -1) @ O1\n",
        "\n",
        "            # n x 1 @ 1 x h = n x h\n",
        "            O1_grad = A2_grad @ self.W2\n",
        "\n",
        "            # n x h\n",
        "            if self.string_activation_function == 'sigmoid':\n",
        "                A1_grad = O1_grad * sigmoid(A1) * (1 - sigmoid(A1))\n",
        "            else:\n",
        "                A1_grad = O1_grad * (A1 > 0)\n",
        "\n",
        "            # n x 1\n",
        "            self.b1_grad = A1_grad.sum(0)\n",
        "\n",
        "            # h x n @ n x d = h x d\n",
        "            self.W1_grad = A1_grad.T @ X\n",
        "\n",
        "        return O2, loss"
      ],
      "execution_count": null,
      "outputs": []
    },
    {
      "cell_type": "code",
      "metadata": {
        "id": "Nz1cPR2RRz5l"
      },
      "source": [
        "import time\n",
        "\n",
        "X3 = np.array([[0, 0, 0], [0, 0, 1], [0, 1, 0], [0, 1, 1], [1, 0, 0], [1, 0, 1], [1, 1, 0], [1, 1, 1]], dtype=np.float32)\n",
        "Y3 = np.array([[0], [1], [1], [0], [1], [0], [0], [1]], dtype=np.float32)\n",
        "\n",
        "alpha = 0.1\n",
        "num_of_trainings = 10\n",
        "iters = 100000\n",
        "fractions = []\n",
        "mean_loss = []\n",
        "fractions_close_to_Y = []\n",
        "tolerance = 0.05\n",
        "average_training_time = []\n",
        "for hidden_dim in [2, 3, 4, 5, 6, 7, 8, 9, 10]:\n",
        "    # TODO: run a few trainings and record the fraction of successful ones\n",
        "    count_success = 0\n",
        "    count_close = 0\n",
        "    sum_loss = 0\n",
        "    sum_time = 0\n",
        "    for i in range(num_of_trainings):\n",
        "        start = time.time()\n",
        "        net = SmallNet(3, hidden_dim, dtype=np.float64, activation_function='ReLU')\n",
        "        for i in range(iters):\n",
        "            _, loss = net.forward(X3, Y3, do_backward=True)\n",
        "            for param_name in [\"W1\", \"b1\", \"W2\", \"b2\"]:\n",
        "                param = getattr(net, param_name)\n",
        "                param[:] = param - alpha * getattr(\n",
        "                    net, param_name + \"_grad\")\n",
        "        end = time.time()\n",
        "        predictions, loss = net.forward(X3, Y3, do_backward=True)\n",
        "        if all(np.abs(Y3 - predictions) < 0.5):\n",
        "            count_success += 1\n",
        "        if all(np.abs(Y3 - predictions) < tolerance):\n",
        "            count_close += 1\n",
        "        sum_loss += loss\n",
        "        sum_time += end-start\n",
        "    average_training_time.append(sum_time / num_of_trainings)\n",
        "    mean_loss.append(sum_loss / num_of_trainings)\n",
        "    fractions_close_to_Y.append(count_close / num_of_trainings)\n",
        "    fractions.append(count_success / num_of_trainings)"
      ],
      "execution_count": null,
      "outputs": []
    },
    {
      "cell_type": "code",
      "metadata": {
        "colab": {
          "base_uri": "https://localhost:8080/"
        },
        "id": "P5z5fM6VkVaZ",
        "outputId": "e841d78d-58e3-4e51-f37d-1bfdc8f52fdc"
      },
      "source": [
        "print(f\"Mean loss: {mean_loss}\\nFraction of close to Y: {fractions_close_to_Y}\\nFraction of correct choice: {fractions}\\nAverage training time: {average_training_time}\")"
      ],
      "execution_count": null,
      "outputs": [
        {
          "output_type": "stream",
          "text": [
            "Mean loss: [0.5889650054547395, 0.4378656570186264, 0.347872711039003, 0.24711572992758643, 0.10417368618596475, 0.12147509882096777, 0.1366250920406314, 0.034768561801109626, 0.03477591122056322]\n",
            "Fraction of close to Y: [0.0, 0.1, 0.3, 0.4, 0.7, 0.7, 0.7, 0.9, 0.9]\n",
            "Fraction of correct choice: [0.0, 0.1, 0.3, 0.4, 0.7, 0.7, 0.7, 0.9, 0.9]\n",
            "Average training time: [10.326007318496703, 9.62749080657959, 10.543533658981323, 9.640934705734253, 9.907688331604003, 10.044956517219543, 9.898870038986207, 10.098483848571778, 9.988899207115173]\n"
          ],
          "name": "stdout"
        }
      ]
    },
    {
      "cell_type": "code",
      "metadata": {
        "colab": {
          "base_uri": "https://localhost:8080/",
          "height": 283
        },
        "id": "9McOYpIQkW7H",
        "outputId": "fa0f3508-570d-4f55-a974-c3fd6935fac7"
      },
      "source": [
        "plt.bar([2, 3, 4, 5, 6, 7, 8, 9, 10], fractions)"
      ],
      "execution_count": null,
      "outputs": [
        {
          "output_type": "execute_result",
          "data": {
            "text/plain": [
              "<BarContainer object of 9 artists>"
            ]
          },
          "metadata": {
            "tags": []
          },
          "execution_count": 62
        },
        {
          "output_type": "display_data",
          "data": {
            "image/png": "[encoded data removed]",
            "text/plain": [
              "<Figure size 432x288 with 1 Axes>"
            ]
          },
          "metadata": {
            "tags": [],
            "needs_background": "light"
          }
        }
      ]
    },
    {
      "cell_type": "code",
      "metadata": {
        "colab": {
          "base_uri": "https://localhost:8080/",
          "height": 283
        },
        "id": "AqkHetEPkcG6",
        "outputId": "08adb1c8-92e9-4333-8b91-c3ce49875c72"
      },
      "source": [
        "plt.bar([2, 3, 4, 5, 6, 7, 8, 9, 10], fractions_close_to_Y)"
      ],
      "execution_count": null,
      "outputs": [
        {
          "output_type": "execute_result",
          "data": {
            "text/plain": [
              "<BarContainer object of 9 artists>"
            ]
          },
          "metadata": {
            "tags": []
          },
          "execution_count": 63
        },
        {
          "output_type": "display_data",
          "data": {
            "image/png": "[encoded data removed]",
            "text/plain": [
              "<Figure size 432x288 with 1 Axes>"
            ]
          },
          "metadata": {
            "tags": [],
            "needs_background": "light"
          }
        }
      ]
    },
    {
      "cell_type": "code",
      "metadata": {
        "colab": {
          "base_uri": "https://localhost:8080/",
          "height": 286
        },
        "id": "-1nrXtw9kcJr",
        "outputId": "9e5b8f51-d97b-438e-b861-9ae84e05f4f7"
      },
      "source": [
        "plt.bar([2, 3, 4, 5, 6, 7, 8, 9, 10], -np.log(mean_loss))"
      ],
      "execution_count": null,
      "outputs": [
        {
          "output_type": "execute_result",
          "data": {
            "text/plain": [
              "<BarContainer object of 9 artists>"
            ]
          },
          "metadata": {
            "tags": []
          },
          "execution_count": 64
        },
        {
          "output_type": "display_data",
          "data": {
            "image/png": "[encoded data removed]",
            "text/plain": [
              "<Figure size 432x288 with 1 Axes>"
            ]
          },
          "metadata": {
            "tags": [],
            "needs_background": "light"
          }
        }
      ]
    },
    {
      "cell_type": "code",
      "metadata": {
        "colab": {
          "base_uri": "https://localhost:8080/",
          "height": 283
        },
        "id": "5TP8_1NTkcNb",
        "outputId": "b9bae3bd-791a-461a-e9ac-f96cb0fdb4b8"
      },
      "source": [
        "plt.bar([2, 3, 4, 5, 6, 7, 8, 9, 10], average_training_time)"
      ],
      "execution_count": null,
      "outputs": [
        {
          "output_type": "execute_result",
          "data": {
            "text/plain": [
              "<BarContainer object of 9 artists>"
            ]
          },
          "metadata": {
            "tags": []
          },
          "execution_count": 65
        },
        {
          "output_type": "display_data",
          "data": {
            "image/png": "[encoded data removed]",
            "text/plain": [
              "<Figure size 432x288 with 1 Axes>"
            ]
          },
          "metadata": {
            "tags": [],
            "needs_background": "light"
          }
        }
      ]
    },
    {
      "cell_type": "code",
      "metadata": {
        "id": "dwJhkkFlu4OY"
      },
      "source": [
        "import time\n",
        "\n",
        "X3 = np.array([[0, 0, 0], [0, 0, 1], [0, 1, 0], [0, 1, 1], [1, 0, 0], [1, 0, 1], [1, 1, 0], [1, 1, 1]], dtype=np.float32)\n",
        "Y3 = np.array([[0], [1], [1], [0], [1], [0], [0], [1]], dtype=np.float32)\n",
        "\n",
        "alpha = 0.1\n",
        "num_of_trainings = 10\n",
        "iters = 100000\n",
        "fractions = []\n",
        "mean_loss = []\n",
        "fractions_close_to_Y = []\n",
        "tolerance = 0.05\n",
        "average_training_time = []\n",
        "for hidden_dim in [11, 12, 13, 14]:\n",
        "    # TODO: run a few trainings and record the fraction of successful ones\n",
        "    count_success = 0\n",
        "    count_close = 0\n",
        "    sum_loss = 0\n",
        "    sum_time = 0\n",
        "    for i in range(num_of_trainings):\n",
        "        start = time.time()\n",
        "        net = SmallNet(3, hidden_dim, dtype=np.float64, activation_function='ReLU')\n",
        "        for i in range(iters):\n",
        "            _, loss = net.forward(X3, Y3, do_backward=True)\n",
        "            for param_name in [\"W1\", \"b1\", \"W2\", \"b2\"]:\n",
        "                param = getattr(net, param_name)\n",
        "                param[:] = param - alpha * getattr(\n",
        "                    net, param_name + \"_grad\")\n",
        "        end = time.time()\n",
        "        predictions, loss = net.forward(X3, Y3, do_backward=True)\n",
        "        if all(np.abs(Y3 - predictions) < 0.5):\n",
        "            count_success += 1\n",
        "        if all(np.abs(Y3 - predictions) < tolerance):\n",
        "            count_close += 1\n",
        "        sum_loss += loss\n",
        "        sum_time += end-start\n",
        "    average_training_time.append(sum_time / num_of_trainings)\n",
        "    mean_loss.append(sum_loss / num_of_trainings)\n",
        "    fractions_close_to_Y.append(count_close / num_of_trainings)\n",
        "    fractions.append(count_success / num_of_trainings)"
      ],
      "execution_count": null,
      "outputs": []
    },
    {
      "cell_type": "code",
      "metadata": {
        "colab": {
          "base_uri": "https://localhost:8080/"
        },
        "id": "6nQ_ZiARu6cl",
        "outputId": "7ca8f5a8-21e3-4d5d-9187-81e2b33ae814"
      },
      "source": [
        "print(f\"Mean loss: {mean_loss}\\nFraction of close to Y: {fractions_close_to_Y}\\nFraction of correct choice: {fractions}\\nAverage training time: {average_training_time}\")"
      ],
      "execution_count": null,
      "outputs": [
        {
          "output_type": "stream",
          "text": [
            "Mean loss: [0.0001360194857072926, 0.034767186397057885, 0.00012472332258974247, 0.00012094739367293913]\n",
            "Fraction of close to Y: [1.0, 0.9, 1.0, 1.0]\n",
            "Fraction of correct choice: [1.0, 0.9, 1.0, 1.0]\n",
            "Average training time: [9.606449580192566, 9.584927368164063, 9.628153777122497, 9.631801009178162]\n"
          ],
          "name": "stdout"
        }
      ]
    },
    {
      "cell_type": "code",
      "metadata": {
        "colab": {
          "base_uri": "https://localhost:8080/",
          "height": 283
        },
        "id": "5tTLecdWvPji",
        "outputId": "33c8f63a-3b94-4852-bd12-14c38c60fd9d"
      },
      "source": [
        "plt.bar([11, 12, 13, 14], fractions)"
      ],
      "execution_count": null,
      "outputs": [
        {
          "output_type": "execute_result",
          "data": {
            "text/plain": [
              "<BarContainer object of 4 artists>"
            ]
          },
          "metadata": {
            "tags": []
          },
          "execution_count": 76
        },
        {
          "output_type": "display_data",
          "data": {
            "image/png": "[encoded data removed]",
            "text/plain": [
              "<Figure size 432x288 with 1 Axes>"
            ]
          },
          "metadata": {
            "tags": [],
            "needs_background": "light"
          }
        }
      ]
    },
    {
      "cell_type": "code",
      "metadata": {
        "colab": {
          "base_uri": "https://localhost:8080/",
          "height": 283
        },
        "id": "JdRnQFEyvSFt",
        "outputId": "58490d0a-5c61-4ea6-c888-9f39d1e6429d"
      },
      "source": [
        "plt.bar([11, 12, 13, 14], fractions_close_to_Y)"
      ],
      "execution_count": null,
      "outputs": [
        {
          "output_type": "execute_result",
          "data": {
            "text/plain": [
              "<BarContainer object of 4 artists>"
            ]
          },
          "metadata": {
            "tags": []
          },
          "execution_count": 77
        },
        {
          "output_type": "display_data",
          "data": {
            "image/png": "[encoded data removed]",
            "text/plain": [
              "<Figure size 432x288 with 1 Axes>"
            ]
          },
          "metadata": {
            "tags": [],
            "needs_background": "light"
          }
        }
      ]
    },
    {
      "cell_type": "code",
      "metadata": {
        "colab": {
          "base_uri": "https://localhost:8080/",
          "height": 283
        },
        "id": "OZD3JMN1vUe0",
        "outputId": "f19b4109-1561-431a-c1e3-64fbd1492d3b"
      },
      "source": [
        "plt.bar([11, 12, 13, 14], -np.log(mean_loss))"
      ],
      "execution_count": null,
      "outputs": [
        {
          "output_type": "execute_result",
          "data": {
            "text/plain": [
              "<BarContainer object of 4 artists>"
            ]
          },
          "metadata": {
            "tags": []
          },
          "execution_count": 78
        },
        {
          "output_type": "display_data",
          "data": {
            "image/png": "[encoded data removed]",
            "text/plain": [
              "<Figure size 432x288 with 1 Axes>"
            ]
          },
          "metadata": {
            "tags": [],
            "needs_background": "light"
          }
        }
      ]
    },
    {
      "cell_type": "code",
      "metadata": {
        "colab": {
          "base_uri": "https://localhost:8080/",
          "height": 285
        },
        "id": "8QrxC40RvYNI",
        "outputId": "4a20ff50-a1e4-4022-bee7-d6b83953ceaa"
      },
      "source": [
        "plt.bar([11, 12, 13, 14], average_training_time)"
      ],
      "execution_count": null,
      "outputs": [
        {
          "output_type": "execute_result",
          "data": {
            "text/plain": [
              "<BarContainer object of 4 artists>"
            ]
          },
          "metadata": {
            "tags": []
          },
          "execution_count": 79
        },
        {
          "output_type": "display_data",
          "data": {
            "image/png": "[encoded data removed]",
            "text/plain": [
              "<Figure size 432x288 with 1 Axes>"
            ]
          },
          "metadata": {
            "tags": [],
            "needs_background": "light"
          }
        }
      ]
    },
    {
      "cell_type": "markdown",
      "metadata": {
        "id": "5Co9IHxVyeQe"
      },
      "source": [
        "From the above plots we see that the smallest network that learnt with 100% reliability had 11 neurons. However the network with 12 neurons learnt with only 90%. Networks with 13 and 14 neurons had again 100% reliability. Computation times were fairly similar."
      ]
    },
    {
      "cell_type": "markdown",
      "metadata": {
        "id": "_Hr_iAKX-ND1"
      },
      "source": [
        "## Problem 5"
      ]
    },
    {
      "cell_type": "code",
      "metadata": {
        "id": "J6K1pXR9vFTi"
      },
      "source": [
        "def sigmoid(x):\n",
        "    # TODO\n",
        "    return 1/(1+np.exp(-x))\n",
        "\n",
        "def ReLU(x):\n",
        "    return x * (x > 0)\n",
        "\n",
        "class SmallNet:\n",
        "    def __init__(self, in_features, num_hidden, dtype=np.float32, activation_function='sigmoid'):\n",
        "        self.W1 = np.zeros((num_hidden, in_features), dtype=dtype)\n",
        "        self.b1 = np.zeros((num_hidden,), dtype=dtype)\n",
        "        self.W2 = np.zeros((num_hidden, num_hidden), dtype=dtype)\n",
        "        self.b2 = np.zeros((num_hidden,), dtype=dtype)\n",
        "        self.W3 = np.zeros((1, num_hidden), dtype=dtype)\n",
        "        self.b3 = np.zeros((1,), dtype=dtype)\n",
        "        if activation_function == 'sigmoid':\n",
        "            self.activation_function = sigmoid\n",
        "            self.string_activation_function = 'sigmoid'\n",
        "        else:\n",
        "            self.activation_function = ReLU\n",
        "            self.string_activation_function = 'ReLU'\n",
        "        self.init_params()\n",
        "\n",
        "    def init_params(self):\n",
        "        # TODO for Problem 2:\n",
        "        # set all parameters to small random values, e.g. from N(0, 0.5)\n",
        "        self.W1 = np.random.normal(0, 0.5, size=(self.W1.shape))\n",
        "        self.W2 = np.random.normal(0, 0.5, size=(self.W2.shape))\n",
        "        self.W3 = np.random.normal(0, 0.5, size=(self.W3.shape))\n",
        "        self.b1 = np.random.normal(0, 0.5, size=(self.b1.shape))\n",
        "        self.b2 = np.random.normal(0, 0.5, size=(self.b2.shape))\n",
        "        self.b3 = np.random.normal(0, 0.5, size=(self.b3.shape))\n",
        "\n",
        "    def forward(self, X, Y=None, do_backward=False):\n",
        "        # TODO Problem 1: Fill in details of forward propagation\n",
        "\n",
        "        A1 = X @ self.W1.T + self.b1\n",
        "        O1 = self.activation_function(A1)\n",
        "        A2 = O1 @ self.W2.T + self.b2\n",
        "        O2 = self.activation_function(A2)\n",
        "        A3 = O2 @ self.W3.T + self.b3\n",
        "        O3 = sigmoid(A3)\n",
        "        # print(f\"A1: {A1.shape}\\nA2: {A2.shape}\\nA31: {A3.shape}\\n\")\n",
        "\n",
        "        # When Y is none, simply return the predictions. Else compute the loss\n",
        "        if Y is not None:\n",
        "            # with np.errstate(divide='ignore', invalid='ignore'):\n",
        "            loss = -Y * np.log(O3) - (1 - Y) * np.log(\n",
        "                1.0 - O3)\n",
        "            # loss = TODO cross-entropy loss\n",
        "            # normalize loss by batch size\n",
        "            loss = loss.sum() / X.shape[0]\n",
        "        else:\n",
        "            loss = np.nan\n",
        "\n",
        "        if do_backward:\n",
        "            # TODO in Problem 2:\n",
        "            # fill in the gradient computation\n",
        "            # Please note, that there is a correspondance between\n",
        "            # the forward and backward pass: with backward computations happening\n",
        "            # in reverse order.\n",
        "            # We save the gradients with respect to the parameters as fields of self.\n",
        "            # It is not very elegant, but simplifies training code later on.\n",
        "\n",
        "            # A2_grad is the gradient of loss with respect to A2\n",
        "            # Hint: there is a concise formula for the gradient\n",
        "            # of logistic sigmoid and cross-entropy loss\n",
        "\n",
        "\n",
        "            # n x 1\n",
        "            A3_grad = (O3 - Y) / X.shape[0]\n",
        "\n",
        "            # 1\n",
        "            self.b3_grad = A3_grad.sum(0)\n",
        "\n",
        "            # 1 x n @ n x hidden = 1 x hidden\n",
        "            self.W3_grad = A3_grad.T @ O2\n",
        "\n",
        "            # n x 1 @ 1 x h = n x h\n",
        "            O2_grad = A3_grad @ self.W3\n",
        "\n",
        "            # n x h\n",
        "            if self.string_activation_function == 'sigmoid':\n",
        "                A2_grad = O2_grad * sigmoid(A2) * (1 - sigmoid(A2))\n",
        "            else:\n",
        "                A2_grad = O2_grad * (A2 > 0)\n",
        "\n",
        "            # 1 x h\n",
        "            self.b2_grad = A2_grad.sum(0)\n",
        "\n",
        "            # n x h @ h x h = n x h\n",
        "            self.W2_grad = A2_grad.T @ O1\n",
        "\n",
        "            O1_grad = A2_grad @ self.W2\n",
        "\n",
        "            # n x h\n",
        "            if self.string_activation_function == 'sigmoid':\n",
        "                A1_grad = O1_grad * sigmoid(A1) * (1 - sigmoid(A1))\n",
        "            else:\n",
        "                A1_grad = O1_grad * (A1 > 0)\n",
        "\n",
        "            self.b1_grad = A1_grad.sum(0)\n",
        "\n",
        "            # h x n @ n x d = h x d\n",
        "            self.W1_grad = A1_grad.T @ X\n",
        "\n",
        "        return O3, loss"
      ],
      "execution_count": null,
      "outputs": []
    },
    {
      "cell_type": "code",
      "metadata": {
        "colab": {
          "base_uri": "https://localhost:8080/"
        },
        "id": "Sl55_-8SCypc",
        "outputId": "8ad1875c-1158-4d32-c51a-985c52b630e8"
      },
      "source": [
        "X3 = np.array([[0, 0, 0], [0, 0, 1], [0, 1, 0], [0, 1, 1], [1, 0, 0], [1, 0, 1], [1, 1, 0], [1, 1, 1]], dtype=np.float32)\n",
        "Y3 = np.array([[0], [1], [1], [0], [1], [0], [0], [1]], dtype=np.float32)\n",
        "\n",
        "net = SmallNet(3, 10, dtype=np.float64, activation_function=\"sigmoid\")\n",
        "\n",
        "alpha = 0.1  # set a learning rate\n",
        "\n",
        "for i in range(100000):\n",
        "    _, loss = net.forward(X3, Y3, do_backward=True)\n",
        "    if (i % 5000) == 0:\n",
        "        print(f\"after {i} steps \\tloss={loss}\")\n",
        "    for param_name in [\"W1\", \"b1\", \"W2\", \"b2\", \"W3\", \"b3\"]:\n",
        "        param = getattr(net, param_name)\n",
        "        param[:] = param - alpha * getattr(\n",
        "            net, param_name + \"_grad\")"
      ],
      "execution_count": null,
      "outputs": [
        {
          "output_type": "stream",
          "text": [
            "after 0 steps \tloss=0.7060335607146981\n",
            "after 5000 steps \tloss=0.6930083573290969\n",
            "after 10000 steps \tloss=0.692207246358786\n",
            "after 15000 steps \tloss=0.6188614754023005\n",
            "after 20000 steps \tloss=0.006445268739739276\n",
            "after 25000 steps \tloss=0.0023189980191165643\n",
            "after 30000 steps \tloss=0.0013563814889259152\n",
            "after 35000 steps \tloss=0.0009430940659476014\n",
            "after 40000 steps \tloss=0.0007167168111642903\n",
            "after 45000 steps \tloss=0.0005749874935995059\n",
            "after 50000 steps \tloss=0.0004783936051063502\n",
            "after 55000 steps \tloss=0.0004085748188840702\n",
            "after 60000 steps \tloss=0.00035588348621228987\n",
            "after 65000 steps \tloss=0.00031478213026771176\n",
            "after 70000 steps \tloss=0.0002818732070195796\n",
            "after 75000 steps \tloss=0.0002549603622830515\n",
            "after 80000 steps \tloss=0.0002325627656028653\n",
            "after 85000 steps \tloss=0.00021364684331856606\n",
            "after 90000 steps \tloss=0.00019746996670923816\n",
            "after 95000 steps \tloss=0.00018348523392989742\n"
          ],
          "name": "stdout"
        }
      ]
    },
    {
      "cell_type": "code",
      "metadata": {
        "colab": {
          "base_uri": "https://localhost:8080/"
        },
        "id": "4f5dnHT2C59b",
        "outputId": "2560656a-43e9-412c-fd98-94c53bd94c66"
      },
      "source": [
        "predictions, loss = net.forward(X3, Y3, do_backward=True)\n",
        "for x, p in zip(X3, predictions):\n",
        "    print(f\"XORnet({x}) = {p[0]}\")"
      ],
      "execution_count": null,
      "outputs": [
        {
          "output_type": "stream",
          "text": [
            "XORnet([0. 0. 0.]) = 0.0001452492885344106\n",
            "XORnet([0. 0. 1.]) = 0.9998096905309405\n",
            "XORnet([0. 1. 0.]) = 0.9997880513019968\n",
            "XORnet([0. 1. 1.]) = 0.00015030526710365898\n",
            "XORnet([1. 0. 0.]) = 0.9998177698487393\n",
            "XORnet([1. 0. 1.]) = 0.00015484303284973413\n",
            "XORnet([1. 1. 0.]) = 0.0002305861731808059\n",
            "XORnet([1. 1. 1.]) = 0.9998953451999503\n"
          ],
          "name": "stdout"
        }
      ]
    },
    {
      "cell_type": "code",
      "metadata": {
        "colab": {
          "base_uri": "https://localhost:8080/"
        },
        "id": "F9TbFeU8T7jK",
        "outputId": "2d3c8a9c-2ef6-4ee4-e8a0-c9319c622376"
      },
      "source": [
        "X3 = np.array([[0, 0, 0], [0, 0, 1], [0, 1, 0], [0, 1, 1], [1, 0, 0], [1, 0, 1], [1, 1, 0], [1, 1, 1]], dtype=np.float32)\n",
        "Y3 = np.array([[0], [1], [1], [0], [1], [0], [0], [1]], dtype=np.float32)\n",
        "\n",
        "net = SmallNet(3, 10, dtype=np.float64, activation_function=\"ReLU\")\n",
        "\n",
        "alpha = 0.1  # set a learning rate\n",
        "\n",
        "for i in range(100000):\n",
        "    _, loss = net.forward(X3, Y3, do_backward=True)\n",
        "    if (i % 5000) == 0:\n",
        "        print(f\"after {i} steps \\tloss={loss}\")\n",
        "    for param_name in [\"W1\", \"b1\", \"W2\", \"b2\", \"W3\", \"b3\"]:\n",
        "        param = getattr(net, param_name)\n",
        "        param[:] = param - alpha * getattr(\n",
        "            net, param_name + \"_grad\")"
      ],
      "execution_count": null,
      "outputs": [
        {
          "output_type": "stream",
          "text": [
            "after 0 steps \tloss=1.337206013085355\n",
            "after 5000 steps \tloss=0.0005533979581704639\n",
            "after 10000 steps \tloss=0.00021106050492154829\n",
            "after 15000 steps \tloss=0.00012304619764201194\n",
            "after 20000 steps \tloss=8.526903800949612e-05\n",
            "after 25000 steps \tloss=6.458631809435028e-05\n",
            "after 30000 steps \tloss=5.162036917174169e-05\n",
            "after 35000 steps \tloss=4.278348288965385e-05\n",
            "after 40000 steps \tloss=3.640172046361411e-05\n",
            "after 45000 steps \tloss=3.1592659171492175e-05\n",
            "after 50000 steps \tloss=2.7846560828131342e-05\n",
            "after 55000 steps \tloss=2.4853194585816238e-05\n",
            "after 60000 steps \tloss=2.2410940054849756e-05\n",
            "after 65000 steps \tloss=2.0381687739369957e-05\n",
            "after 70000 steps \tloss=1.8671226940485086e-05\n",
            "after 75000 steps \tloss=1.7212445205066007e-05\n",
            "after 80000 steps \tloss=1.5951954602812352e-05\n",
            "after 85000 steps \tloss=1.485557718391678e-05\n",
            "after 90000 steps \tloss=1.3891421018009477e-05\n",
            "after 95000 steps \tloss=1.3039102335645946e-05\n"
          ],
          "name": "stdout"
        }
      ]
    },
    {
      "cell_type": "code",
      "metadata": {
        "colab": {
          "base_uri": "https://localhost:8080/"
        },
        "id": "Icy-GCCnT7-d",
        "outputId": "ec4a01d2-81d1-45bd-c4cd-190da4001537"
      },
      "source": [
        "predictions, loss = net.forward(X3, Y3, do_backward=True)\n",
        "for x, p in zip(X3, predictions):\n",
        "    print(f\"XORnet({x}) = {p[0]}\")"
      ],
      "execution_count": null,
      "outputs": [
        {
          "output_type": "stream",
          "text": [
            "XORnet([0. 0. 0.]) = 1.1571456488175808e-05\n",
            "XORnet([0. 0. 1.]) = 0.9999887706394818\n",
            "XORnet([0. 1. 0.]) = 0.9999935051390999\n",
            "XORnet([0. 1. 1.]) = 2.0287166271329723e-05\n",
            "XORnet([1. 0. 0.]) = 0.9999931719266621\n",
            "XORnet([1. 0. 1.]) = 1.1669082495888446e-05\n",
            "XORnet([1. 1. 0.]) = 1.0630510228763685e-05\n",
            "XORnet([1. 1. 1.]) = 0.9999804766518238\n"
          ],
          "name": "stdout"
        }
      ]
    },
    {
      "cell_type": "code",
      "metadata": {
        "id": "k34QPyuyLwcd"
      },
      "source": [
        "import time\n",
        "\n",
        "X3 = np.array([[0, 0, 0], [0, 0, 1], [0, 1, 0], [0, 1, 1], [1, 0, 0], [1, 0, 1], [1, 1, 0], [1, 1, 1]], dtype=np.float32)\n",
        "Y3 = np.array([[0], [1], [1], [0], [1], [0], [0], [1]], dtype=np.float32)\n",
        "\n",
        "alpha = 0.1\n",
        "num_of_trainings = 10\n",
        "iters = 100000\n",
        "fractions = []\n",
        "mean_loss = []\n",
        "fractions_close_to_Y = []\n",
        "tolerance = 0.05\n",
        "average_training_time = []\n",
        "for hidden_dim in [2, 3, 4, 5, 6, 7, 8, 9, 10]:\n",
        "    # TODO: run a few trainings and record the fraction of successful ones\n",
        "    count_success = 0\n",
        "    count_close = 0\n",
        "    sum_loss = 0\n",
        "    sum_time = 0\n",
        "    for i in range(num_of_trainings):\n",
        "        start = time.time()\n",
        "        net = SmallNet(3, hidden_dim, dtype=np.float64, activation_function='sigmoid')\n",
        "        for i in range(iters):\n",
        "            _, loss = net.forward(X3, Y3, do_backward=True)\n",
        "            for param_name in [\"W1\", \"b1\", \"W2\", \"b2\", \"W3\", \"b3\"]:\n",
        "                param = getattr(net, param_name)\n",
        "                param[:] = param - alpha * getattr(\n",
        "                    net, param_name + \"_grad\")\n",
        "        end = time.time()\n",
        "        predictions, loss = net.forward(X3, Y3, do_backward=True)\n",
        "        if all(np.abs(Y3 - predictions) < 0.5):\n",
        "            count_success += 1\n",
        "        if all(np.abs(Y3 - predictions) < tolerance):\n",
        "            count_close += 1\n",
        "        sum_loss += loss\n",
        "        sum_time += end-start\n",
        "    average_training_time.append(sum_time / num_of_trainings)\n",
        "    mean_loss.append(sum_loss / num_of_trainings)\n",
        "    fractions_close_to_Y.append(count_close / num_of_trainings)\n",
        "    fractions.append(count_success / num_of_trainings)"
      ],
      "execution_count": null,
      "outputs": []
    },
    {
      "cell_type": "code",
      "metadata": {
        "colab": {
          "base_uri": "https://localhost:8080/"
        },
        "id": "PBEvsYKNL1Yt",
        "outputId": "486834e9-760a-40d6-8d62-dd8183e07d08"
      },
      "source": [
        "print(f\"Mean loss: {mean_loss}\\nFraction of close to Y: {fractions_close_to_Y}\\nFraction of correct choice: {fractions}\\nAverage training time: {average_training_time}\")"
      ],
      "execution_count": null,
      "outputs": [
        {
          "output_type": "stream",
          "text": [
            "Mean loss: [0.34852661723795136, 0.06980055190214957, 0.06259387765682073, 0.00022541766804462954, 0.00017776251624857957, 0.00021169483583561097, 0.00015481613053726256, 0.00013873291959761678, 0.00013948694049702246]\n",
            "Fraction of close to Y: [0.4, 0.9, 0.9, 1.0, 1.0, 1.0, 1.0, 1.0, 1.0]\n",
            "Fraction of correct choice: [0.4, 0.9, 0.9, 1.0, 1.0, 1.0, 1.0, 1.0, 1.0]\n",
            "Average training time: [10.564104700088501, 10.694225001335145, 12.180380582809448, 12.345931220054627, 12.463910269737244, 12.629656219482422, 12.692356324195861, 12.878463888168335, 12.995995879173279]\n"
          ],
          "name": "stdout"
        }
      ]
    },
    {
      "cell_type": "code",
      "metadata": {
        "colab": {
          "base_uri": "https://localhost:8080/",
          "height": 283
        },
        "id": "DurAeWrIL3Ry",
        "outputId": "6acc09c0-bb9f-4134-c3b3-6a2484619c75"
      },
      "source": [
        "plt.bar([2, 3, 4, 5, 6, 7, 8, 9, 10], fractions)"
      ],
      "execution_count": null,
      "outputs": [
        {
          "output_type": "execute_result",
          "data": {
            "text/plain": [
              "<BarContainer object of 9 artists>"
            ]
          },
          "metadata": {
            "tags": []
          },
          "execution_count": 14
        },
        {
          "output_type": "display_data",
          "data": {
            "image/png": "[encoded data removed]",
            "text/plain": [
              "<Figure size 432x288 with 1 Axes>"
            ]
          },
          "metadata": {
            "tags": [],
            "needs_background": "light"
          }
        }
      ]
    },
    {
      "cell_type": "code",
      "metadata": {
        "colab": {
          "base_uri": "https://localhost:8080/",
          "height": 283
        },
        "id": "bg9IICFxL5F6",
        "outputId": "5b11d234-9339-4747-dcd0-c63706220f1e"
      },
      "source": [
        "plt.bar([2, 3, 4, 5, 6, 7, 8, 9, 10], fractions_close_to_Y)"
      ],
      "execution_count": null,
      "outputs": [
        {
          "output_type": "execute_result",
          "data": {
            "text/plain": [
              "<BarContainer object of 9 artists>"
            ]
          },
          "metadata": {
            "tags": []
          },
          "execution_count": 15
        },
        {
          "output_type": "display_data",
          "data": {
            "image/png": "[encoded data removed]",
            "text/plain": [
              "<Figure size 432x288 with 1 Axes>"
            ]
          },
          "metadata": {
            "tags": [],
            "needs_background": "light"
          }
        }
      ]
    },
    {
      "cell_type": "code",
      "metadata": {
        "colab": {
          "base_uri": "https://localhost:8080/",
          "height": 283
        },
        "id": "208X50Z9L8Xx",
        "outputId": "35d9b6f0-39ff-4ec6-ce6e-9e570782c833"
      },
      "source": [
        "plt.bar([2, 3, 4, 5, 6, 7, 8, 9, 10], -np.log(mean_loss))"
      ],
      "execution_count": null,
      "outputs": [
        {
          "output_type": "execute_result",
          "data": {
            "text/plain": [
              "<BarContainer object of 9 artists>"
            ]
          },
          "metadata": {
            "tags": []
          },
          "execution_count": 16
        },
        {
          "output_type": "display_data",
          "data": {
            "image/png": "[encoded data removed]",
            "text/plain": [
              "<Figure size 432x288 with 1 Axes>"
            ]
          },
          "metadata": {
            "tags": [],
            "needs_background": "light"
          }
        }
      ]
    },
    {
      "cell_type": "code",
      "metadata": {
        "colab": {
          "base_uri": "https://localhost:8080/",
          "height": 283
        },
        "id": "P_h9ORLhL-rM",
        "outputId": "d4c8d9c4-369d-49d0-fbae-fbde246d63e0"
      },
      "source": [
        "plt.bar([2, 3, 4, 5, 6, 7, 8, 9, 10], average_training_time)"
      ],
      "execution_count": null,
      "outputs": [
        {
          "output_type": "execute_result",
          "data": {
            "text/plain": [
              "<BarContainer object of 9 artists>"
            ]
          },
          "metadata": {
            "tags": []
          },
          "execution_count": 17
        },
        {
          "output_type": "display_data",
          "data": {
            "image/png": "[encoded data removed]",
            "text/plain": [
              "<Figure size 432x288 with 1 Axes>"
            ]
          },
          "metadata": {
            "tags": [],
            "needs_background": "light"
          }
        }
      ]
    },
    {
      "cell_type": "code",
      "metadata": {
        "id": "gCjwKtlXDVCw"
      },
      "source": [
        "import time\n",
        "\n",
        "X3 = np.array([[0, 0, 0], [0, 0, 1], [0, 1, 0], [0, 1, 1], [1, 0, 0], [1, 0, 1], [1, 1, 0], [1, 1, 1]], dtype=np.float32)\n",
        "Y3 = np.array([[0], [1], [1], [0], [1], [0], [0], [1]], dtype=np.float32)\n",
        "\n",
        "alpha = 0.1\n",
        "num_of_trainings = 10\n",
        "iters = 100000\n",
        "fractions = []\n",
        "mean_loss = []\n",
        "fractions_close_to_Y = []\n",
        "tolerance = 0.05\n",
        "average_training_time = []\n",
        "for hidden_dim in [2, 3, 4, 5, 6, 7, 8, 9, 10]:\n",
        "    # TODO: run a few trainings and record the fraction of successful ones\n",
        "    count_success = 0\n",
        "    count_close = 0\n",
        "    sum_loss = 0\n",
        "    sum_time = 0\n",
        "    for i in range(num_of_trainings):\n",
        "        start = time.time()\n",
        "        net = SmallNet(3, hidden_dim, dtype=np.float64, activation_function='ReLU')\n",
        "        for i in range(iters):\n",
        "            _, loss = net.forward(X3, Y3, do_backward=True)\n",
        "            for param_name in [\"W1\", \"b1\", \"W2\", \"b2\", \"W3\", \"b3\"]:\n",
        "                param = getattr(net, param_name)\n",
        "                param[:] = param - alpha * getattr(\n",
        "                    net, param_name + \"_grad\")\n",
        "        end = time.time()\n",
        "        predictions, loss = net.forward(X3, Y3, do_backward=True)\n",
        "        if all(np.abs(Y3 - predictions) < 0.5):\n",
        "            count_success += 1\n",
        "        if all(np.abs(Y3 - predictions) < tolerance):\n",
        "            count_close += 1\n",
        "        sum_loss += loss\n",
        "        sum_time += end-start\n",
        "    average_training_time.append(sum_time / num_of_trainings)\n",
        "    mean_loss.append(sum_loss / num_of_trainings)\n",
        "    fractions_close_to_Y.append(count_close / num_of_trainings)\n",
        "    fractions.append(count_success / num_of_trainings)"
      ],
      "execution_count": null,
      "outputs": []
    },
    {
      "cell_type": "code",
      "metadata": {
        "colab": {
          "base_uri": "https://localhost:8080/"
        },
        "id": "LRZn51-jD0tI",
        "outputId": "a24e39ff-6dcd-40f5-8e7a-54a4b2e744f0"
      },
      "source": [
        "print(f\"Mean loss: {mean_loss}\\nFraction of close to Y: {fractions_close_to_Y}\\nFraction of correct choice: {fractions}\\nAverage training time: {average_training_time}\")"
      ],
      "execution_count": null,
      "outputs": [
        {
          "output_type": "stream",
          "text": [
            "Mean loss: [0.385698898962244, 0.21607221431817125, 0.1088435212854842, 0.04122214472632687, 0.05943576329296901, 0.028150567905300884, 0.028128961736465202, 3.277890849744982e-05, 1.4340979006941264e-05]\n",
            "Fraction of close to Y: [0.1, 0.4, 0.6, 0.8, 0.8, 0.9, 0.9, 1.0, 1.0]\n",
            "Fraction of correct choice: [0.1, 0.4, 0.6, 0.8, 0.8, 0.9, 0.9, 1.0, 1.0]\n",
            "Average training time: [8.839181303977966, 8.514445447921753, 9.540779781341552, 9.664786958694458, 9.738471961021423, 9.734434294700623, 9.754486274719238, 9.85719358921051, 9.85113604068756]\n"
          ],
          "name": "stdout"
        }
      ]
    },
    {
      "cell_type": "code",
      "metadata": {
        "colab": {
          "base_uri": "https://localhost:8080/",
          "height": 283
        },
        "id": "0d7Id34WFHy9",
        "outputId": "c51b2590-987e-4e00-e6ad-845b5ac60df6"
      },
      "source": [
        "plt.bar([2, 3, 4, 5, 6, 7, 8, 9, 10], fractions)"
      ],
      "execution_count": null,
      "outputs": [
        {
          "output_type": "execute_result",
          "data": {
            "text/plain": [
              "<BarContainer object of 9 artists>"
            ]
          },
          "metadata": {
            "tags": []
          },
          "execution_count": 8
        },
        {
          "output_type": "display_data",
          "data": {
            "image/png": "[encoded data removed]",
            "text/plain": [
              "<Figure size 432x288 with 1 Axes>"
            ]
          },
          "metadata": {
            "tags": [],
            "needs_background": "light"
          }
        }
      ]
    },
    {
      "cell_type": "code",
      "metadata": {
        "colab": {
          "base_uri": "https://localhost:8080/",
          "height": 283
        },
        "id": "ZYYUv3aEFKKD",
        "outputId": "b368c2a1-c696-4ab4-d94f-e7e4d9225a77"
      },
      "source": [
        "plt.bar([2, 3, 4, 5, 6, 7, 8, 9, 10], fractions_close_to_Y)"
      ],
      "execution_count": null,
      "outputs": [
        {
          "output_type": "execute_result",
          "data": {
            "text/plain": [
              "<BarContainer object of 9 artists>"
            ]
          },
          "metadata": {
            "tags": []
          },
          "execution_count": 9
        },
        {
          "output_type": "display_data",
          "data": {
            "image/png": "[encoded data removed]",
            "text/plain": [
              "<Figure size 432x288 with 1 Axes>"
            ]
          },
          "metadata": {
            "tags": [],
            "needs_background": "light"
          }
        }
      ]
    },
    {
      "cell_type": "code",
      "metadata": {
        "colab": {
          "base_uri": "https://localhost:8080/",
          "height": 283
        },
        "id": "VMD3z9PgFNi7",
        "outputId": "b846d8be-ff70-45a9-a097-d74c7949493e"
      },
      "source": [
        "plt.bar([2, 3, 4, 5, 6, 7, 8, 9, 10], -np.log(mean_loss))"
      ],
      "execution_count": null,
      "outputs": [
        {
          "output_type": "execute_result",
          "data": {
            "text/plain": [
              "<BarContainer object of 9 artists>"
            ]
          },
          "metadata": {
            "tags": []
          },
          "execution_count": 10
        },
        {
          "output_type": "display_data",
          "data": {
            "image/png": "[encoded data removed]",
            "text/plain": [
              "<Figure size 432x288 with 1 Axes>"
            ]
          },
          "metadata": {
            "tags": [],
            "needs_background": "light"
          }
        }
      ]
    },
    {
      "cell_type": "code",
      "metadata": {
        "colab": {
          "base_uri": "https://localhost:8080/",
          "height": 283
        },
        "id": "M3Aw-DHdFPRU",
        "outputId": "2b7c50aa-9d38-43f0-be84-20fd27c0adcc"
      },
      "source": [
        "plt.bar([2, 3, 4, 5, 6, 7, 8, 9, 10], average_training_time)"
      ],
      "execution_count": null,
      "outputs": [
        {
          "output_type": "execute_result",
          "data": {
            "text/plain": [
              "<BarContainer object of 9 artists>"
            ]
          },
          "metadata": {
            "tags": []
          },
          "execution_count": 11
        },
        {
          "output_type": "display_data",
          "data": {
            "image/png": "[encoded data removed]",
            "text/plain": [
              "<Figure size 432x288 with 1 Axes>"
            ]
          },
          "metadata": {
            "tags": [],
            "needs_background": "light"
          }
        }
      ]
    },
    {
      "cell_type": "markdown",
      "metadata": {
        "id": "4PcNxrCt-NcN"
      },
      "source": [
        "## Problem 6"
      ]
    },
    {
      "cell_type": "code",
      "metadata": {
        "id": "6Brepirl-Nln"
      },
      "source": [
        "def sigmoid(x):\n",
        "    # TODO\n",
        "    return 1/(1+np.exp(-x))\n",
        "\n",
        "def ReLU(x):\n",
        "    return x * (x > 0)\n",
        "\n",
        "class SmallNet:\n",
        "    def __init__(self, in_features, num_hidden, num_layers, dtype=np.float32, activation_function='sigmoid'):\n",
        "        self.num_layers = num_layers\n",
        "        self.dtype = dtype\n",
        "        self.num_hidden = num_hidden\n",
        "        self.in_features = in_features\n",
        "\n",
        "        self.W1 = np.zeros((num_hidden, in_features), dtype=dtype)\n",
        "        self.b1 = np.zeros((num_hidden,), dtype=dtype)\n",
        "\n",
        "        self.W2 = np.zeros((num_layers - 1, num_hidden, num_hidden), dtype=dtype)\n",
        "        self.b2 = np.zeros((num_layers - 1, num_hidden,), dtype=dtype)\n",
        "\n",
        "        # self.W2 = np.zeros((num_hidden, num_hidden), dtype=dtype)\n",
        "        # self.b2 = np.zeros((num_hidden,), dtype=dtype)\n",
        "\n",
        "        self.W3 = np.zeros((1, num_hidden), dtype=dtype)\n",
        "        self.b3 = np.zeros((1,), dtype=dtype)\n",
        "\n",
        "        if activation_function == 'sigmoid':\n",
        "            self.activation_function = sigmoid\n",
        "            self.string_activation_function = 'sigmoid'\n",
        "        else:\n",
        "            self.activation_function = ReLU\n",
        "            self.string_activation_function = 'ReLU'\n",
        "        self.init_params()\n",
        "\n",
        "    def init_params(self):\n",
        "        self.W1 = np.random.normal(0, 0.5, size=(self.W1.shape))\n",
        "        self.W2 = np.random.normal(0, 0.5, size=(self.W2.shape))\n",
        "        self.W3 = np.random.normal(0, 0.5, size=(self.W3.shape))\n",
        "        self.b1 = np.random.normal(0, 0.5, size=(self.b1.shape))\n",
        "        self.b2 = np.random.normal(0, 0.5, size=(self.b2.shape))\n",
        "        self.b3 = np.random.normal(0, 0.5, size=(self.b3.shape))\n",
        "\n",
        "    def forward(self, X, Y=None, do_backward=False):\n",
        "        # TODO Problem 1: Fill in details of forward propagation\n",
        "\n",
        "        A1 = X @ self.W1.T + self.b1\n",
        "        O1 = self.activation_function(A1)\n",
        "        A2 = np.zeros((self.num_layers - 1, A1.shape[0], A1.shape[1]), dtype=self.dtype)\n",
        "        O2 = np.zeros((self.num_layers - 1, A1.shape[0], A1.shape[1]), dtype=self.dtype)\n",
        "        A2[0] = O1 @ self.W2[0].T + self.b2[0]\n",
        "        O2[0] = self.activation_function(A2[0])\n",
        "        for i in range(1,self.num_layers - 1):\n",
        "            A2[i] = O2[i-1] @ self.W2[i].T + self.b2[i]\n",
        "            O2[i] = self.activation_function(A2[i])\n",
        "        \n",
        "        # A2 = O1 @ self.W2.T + self.b2\n",
        "        # O2 = self.activation_function(A2)\n",
        "\n",
        "        # Case of single layer\n",
        "        if self.num_layers == 1:\n",
        "            A3 = O1 @ self.W3.T + self.b3\n",
        "        else:\n",
        "            A3 = O2[-1] @ self.W3.T + self.b3\n",
        "        O3 = sigmoid(A3)\n",
        "\n",
        "        # When Y is none, simply return the predictions. Else compute the loss\n",
        "        if Y is not None:\n",
        "            # with np.errstate(divide='ignore', invalid='ignore'):\n",
        "            loss = -Y * np.log(O3) - (1 - Y) * np.log(\n",
        "                1.0 - O3)\n",
        "            # loss = TODO cross-entropy loss\n",
        "            # normalize loss by batch size\n",
        "            loss = loss.sum() / X.shape[0]\n",
        "        else:\n",
        "            loss = np.nan\n",
        "\n",
        "        if do_backward:\n",
        "            \n",
        "            # Declarations\n",
        "            A2_grad = np.zeros((self.num_layers - 1, A1.shape[0], A1.shape[1]), dtype=self.dtype)\n",
        "            O2_grad = np.zeros((self.num_layers - 1, A1.shape[0], A1.shape[1]), dtype=self.dtype)\n",
        "            self.W2_grad = np.zeros((self.num_layers - 1, self.num_hidden, self.num_hidden), dtype=self.dtype)\n",
        "            self.b2_grad = np.zeros((self.num_layers - 1, self.num_hidden,), dtype=self.dtype)\n",
        "\n",
        "            # n x 1\n",
        "            A3_grad = (O3 - Y) / X.shape[0]\n",
        "\n",
        "            # 1\n",
        "            self.b3_grad = A3_grad.sum(0)\n",
        "\n",
        "            # 1 x n @ n x hidden = 1 x hidden\n",
        "            self.W3_grad = A3_grad.T @ O2[-1]\n",
        "            # self.W3_grad = A3_grad.T @ O2\n",
        "\n",
        "            # n x 1 @ 1 x h = n x h\n",
        "            O2_grad[-1] = A3_grad @ self.W3\n",
        "            # O2_grad = A3_grad @ self.W3\n",
        "            \n",
        "            # range(self.num_layers - 2, 0, -1) is an interval <num_layers - 2, 0) = <num_layers - 2, 1>\n",
        "            for i in range(self.num_layers - 2, 0, -1):\n",
        "                if self.string_activation_function == 'sigmoid':\n",
        "                    A2_grad[i] = O2_grad[i] * sigmoid(A2[i]) * (1 - sigmoid(A2[i]))\n",
        "                else:\n",
        "                    A2_grad[i] = O2_grad[i] * (A2[i] > 0)\n",
        "                self.b2_grad[i] = A2_grad[i].sum(0)\n",
        "                self.W2_grad[i] = A2_grad[i].T @ O2[i-1]\n",
        "                O2_grad[i-1] = A2_grad[i] @ self.W2[i]\n",
        "                \n",
        "\n",
        "            # n x h\n",
        "            if self.string_activation_function == 'sigmoid':\n",
        "                A2_grad[0] = O2_grad[0] * sigmoid(A2[0]) * (1 - sigmoid(A2[0]))\n",
        "            else:\n",
        "                A2_grad[0] = O2_grad[0] * (A2[0] > 0)\n",
        "\n",
        "            # 1 x h\n",
        "            self.b2_grad[0] = A2_grad[0].sum(0)\n",
        "\n",
        "            # n x h @ h x h = n x h\n",
        "            self.W2_grad[0] = A2_grad[0].T @ O1\n",
        "\n",
        "            O1_grad = A2_grad[0] @ self.W2[0]\n",
        "\n",
        "            # n x h\n",
        "            if self.string_activation_function == 'sigmoid':\n",
        "                A1_grad = O1_grad * sigmoid(A1) * (1 - sigmoid(A1))\n",
        "            else:\n",
        "                A1_grad = O1_grad * (A1 > 0)\n",
        "\n",
        "            self.b1_grad = A1_grad.sum(0)\n",
        "\n",
        "            # h x n @ n x d = h x d\n",
        "            self.W1_grad = A1_grad.T @ X\n",
        "\n",
        "        return O3, loss"
      ],
      "execution_count": null,
      "outputs": []
    },
    {
      "cell_type": "code",
      "metadata": {
        "colab": {
          "base_uri": "https://localhost:8080/"
        },
        "id": "g7AfBpgQNcZ0",
        "outputId": "e177e5c2-1b89-42d1-e573-909eeef4e14d"
      },
      "source": [
        "X3 = np.array([[0, 0, 0], [0, 0, 1], [0, 1, 0], [0, 1, 1], [1, 0, 0], [1, 0, 1], [1, 1, 0], [1, 1, 1]], dtype=np.float32)\n",
        "Y3 = np.array([[0], [1], [1], [0], [1], [0], [0], [1]], dtype=np.float32)\n",
        "\n",
        "net = SmallNet(3, 10, 3, dtype=np.float64, activation_function=\"sigmoid\")\n",
        "\n",
        "alpha = 0.1  # set a learning rate\n",
        "\n",
        "for i in range(100000):\n",
        "    _, loss = net.forward(X3, Y3, do_backward=True)\n",
        "    if (i % 5000) == 0:\n",
        "        print(f\"after {i} steps \\tloss={loss}\")\n",
        "    for param_name in [\"W1\", \"b1\", \"W2\", \"b2\", \"W3\", \"b3\"]:\n",
        "        param = getattr(net, param_name)\n",
        "        param[:] = param - alpha * getattr(\n",
        "            net, param_name + \"_grad\")"
      ],
      "execution_count": null,
      "outputs": [
        {
          "output_type": "stream",
          "text": [
            "after 0 steps \tloss=0.8582016781457171\n",
            "after 5000 steps \tloss=0.6928302996927421\n",
            "after 10000 steps \tloss=0.6914011640977771\n",
            "after 15000 steps \tloss=0.2943468099245298\n",
            "after 20000 steps \tloss=0.002525110384115678\n",
            "after 25000 steps \tloss=0.0010563273652655016\n",
            "after 30000 steps \tloss=0.0006479035782774793\n",
            "after 35000 steps \tloss=0.0004614475541427736\n",
            "after 40000 steps \tloss=0.00035594354892847435\n",
            "after 45000 steps \tloss=0.0002885209730305701\n",
            "after 50000 steps \tloss=0.00024190713394361724\n",
            "after 55000 steps \tloss=0.00020785275483181813\n",
            "after 60000 steps \tloss=0.00018193736418457178\n",
            "after 65000 steps \tloss=0.00016158584107410116\n",
            "after 70000 steps \tloss=0.0001451996517367669\n",
            "after 75000 steps \tloss=0.0001317355763410597\n",
            "after 80000 steps \tloss=0.00012048468908693323\n",
            "after 85000 steps \tloss=0.00011094886777134477\n",
            "after 90000 steps \tloss=0.00010276814694151827\n",
            "after 95000 steps \tloss=9.567610262274975e-05\n"
          ],
          "name": "stdout"
        }
      ]
    },
    {
      "cell_type": "code",
      "metadata": {
        "colab": {
          "base_uri": "https://localhost:8080/"
        },
        "id": "bQOjlO4zbOQl",
        "outputId": "e22e30cb-4e6a-494d-8b8c-917871079c13"
      },
      "source": [
        "predictions, loss = net.forward(X3, Y3, do_backward=True)\n",
        "for x, p in zip(X3, predictions):\n",
        "    print(f\"XORnet({x}) = {p[0]}\")"
      ],
      "execution_count": null,
      "outputs": [
        {
          "output_type": "stream",
          "text": [
            "XORnet([0. 0. 0.]) = 9.51502693728701e-05\n",
            "XORnet([0. 0. 1.]) = 0.9999147715560204\n",
            "XORnet([0. 1. 0.]) = 0.9998933315272492\n",
            "XORnet([0. 1. 1.]) = 7.631733110147609e-05\n",
            "XORnet([1. 0. 0.]) = 0.9999167156805825\n",
            "XORnet([1. 0. 1.]) = 0.00013734698020321555\n",
            "XORnet([1. 1. 0.]) = 7.652826184451539e-05\n",
            "XORnet([1. 1. 1.]) = 0.9999447867195244\n"
          ],
          "name": "stdout"
        }
      ]
    },
    {
      "cell_type": "code",
      "metadata": {
        "colab": {
          "base_uri": "https://localhost:8080/"
        },
        "id": "hZcXVxUPrzVw",
        "outputId": "19d31446-6cd8-48a9-bff2-e08d1c87603b"
      },
      "source": [
        "X3 = np.array([[0, 0, 0], [0, 0, 1], [0, 1, 0], [0, 1, 1], [1, 0, 0], [1, 0, 1], [1, 1, 0], [1, 1, 1]], dtype=np.float32)\n",
        "Y3 = np.array([[0], [1], [1], [0], [1], [0], [0], [1]], dtype=np.float32)\n",
        "\n",
        "net = SmallNet(3, 10, 4, dtype=np.float64, activation_function=\"sigmoid\")\n",
        "\n",
        "alpha = 0.1  # set a learning rate\n",
        "\n",
        "for i in range(100000):\n",
        "    _, loss = net.forward(X3, Y3, do_backward=True)\n",
        "    if (i % 5000) == 0:\n",
        "        print(f\"after {i} steps \\tloss={loss}\")\n",
        "    for param_name in [\"W1\", \"b1\", \"W2\", \"b2\", \"W3\", \"b3\"]:\n",
        "        param = getattr(net, param_name)\n",
        "        param[:] = param - alpha * getattr(\n",
        "            net, param_name + \"_grad\")"
      ],
      "execution_count": null,
      "outputs": [
        {
          "output_type": "stream",
          "text": [
            "after 0 steps \tloss=0.7187858484355718\n",
            "after 5000 steps \tloss=0.693092228177208\n",
            "after 10000 steps \tloss=0.6930499102391195\n",
            "after 15000 steps \tloss=0.6929693627169183\n",
            "after 20000 steps \tloss=0.6927638070536685\n",
            "after 25000 steps \tloss=0.6917767260380565\n",
            "after 30000 steps \tloss=0.5054979029522598\n",
            "after 35000 steps \tloss=0.0018702050345262523\n",
            "after 40000 steps \tloss=0.0008276623049592769\n",
            "after 45000 steps \tloss=0.000524790005140959\n",
            "after 50000 steps \tloss=0.0003822543519517663\n",
            "after 55000 steps \tloss=0.00029978564310538026\n",
            "after 60000 steps \tloss=0.0002461645519020626\n",
            "after 65000 steps \tloss=0.00020857062470882353\n",
            "after 70000 steps \tloss=0.00018078419557911467\n",
            "after 75000 steps \tloss=0.000159428022144019\n",
            "after 80000 steps \tloss=0.0001425121960230052\n",
            "after 85000 steps \tloss=0.00012878910977603167\n",
            "after 90000 steps \tloss=0.00011743735688648932\n",
            "after 95000 steps \tloss=0.00010789432779765936\n"
          ],
          "name": "stdout"
        }
      ]
    },
    {
      "cell_type": "code",
      "metadata": {
        "colab": {
          "base_uri": "https://localhost:8080/"
        },
        "id": "Xr9YU23yr0VA",
        "outputId": "91d2707b-401c-41fa-f452-e4a814adf352"
      },
      "source": [
        "predictions, loss = net.forward(X3, Y3, do_backward=True)\n",
        "for x, p in zip(X3, predictions):\n",
        "    print(f\"XORnet({x}) = {p[0]}\")"
      ],
      "execution_count": null,
      "outputs": [
        {
          "output_type": "stream",
          "text": [
            "XORnet([0. 0. 0.]) = 9.591660766489904e-05\n",
            "XORnet([0. 0. 1.]) = 0.999898632704567\n",
            "XORnet([0. 1. 0.]) = 0.9998616492075727\n",
            "XORnet([0. 1. 1.]) = 7.462180684897843e-05\n",
            "XORnet([1. 0. 0.]) = 0.9998870655272678\n",
            "XORnet([1. 0. 1.]) = 0.00011277764684413542\n",
            "XORnet([1. 1. 0.]) = 6.949690154287386e-05\n",
            "XORnet([1. 1. 1.]) = 0.999907411978752\n"
          ],
          "name": "stdout"
        }
      ]
    },
    {
      "cell_type": "code",
      "metadata": {
        "colab": {
          "base_uri": "https://localhost:8080/"
        },
        "id": "6xa06bSktbsg",
        "outputId": "c366f27a-d3c9-414c-ec27-b8169f368253"
      },
      "source": [
        "X3 = np.array([[0, 0, 0], [0, 0, 1], [0, 1, 0], [0, 1, 1], [1, 0, 0], [1, 0, 1], [1, 1, 0], [1, 1, 1]], dtype=np.float32)\n",
        "Y3 = np.array([[0], [1], [1], [0], [1], [0], [0], [1]], dtype=np.float32)\n",
        "\n",
        "net = SmallNet(3, 10, 5, dtype=np.float64, activation_function=\"sigmoid\")\n",
        "\n",
        "alpha = 0.1  # set a learning rate\n",
        "\n",
        "for i in range(100000):\n",
        "    _, loss = net.forward(X3, Y3, do_backward=True)\n",
        "    if (i % 5000) == 0:\n",
        "        print(f\"after {i} steps \\tloss={loss}\")\n",
        "    for param_name in [\"W1\", \"b1\", \"W2\", \"b2\", \"W3\", \"b3\"]:\n",
        "        param = getattr(net, param_name)\n",
        "        param[:] = param - alpha * getattr(\n",
        "            net, param_name + \"_grad\")"
      ],
      "execution_count": null,
      "outputs": [
        {
          "output_type": "stream",
          "text": [
            "after 0 steps \tloss=0.6931224862543106\n",
            "after 5000 steps \tloss=0.693111523373899\n",
            "after 10000 steps \tloss=0.6930959823916376\n",
            "after 15000 steps \tloss=0.6930720351093502\n",
            "after 20000 steps \tloss=0.6930318285854749\n",
            "after 25000 steps \tloss=0.6929558733220772\n",
            "after 30000 steps \tloss=0.6927821524972657\n",
            "after 35000 steps \tloss=0.6921843954850311\n",
            "after 40000 steps \tloss=0.6823998404663545\n",
            "after 45000 steps \tloss=0.0037630460169763764\n",
            "after 50000 steps \tloss=0.0008223085912821692\n",
            "after 55000 steps \tloss=0.00045078074743022363\n",
            "after 60000 steps \tloss=0.0003088092565718182\n",
            "after 65000 steps \tloss=0.00023432553074615375\n",
            "after 70000 steps \tloss=0.00018857446476314597\n",
            "after 75000 steps \tloss=0.00015766408257981605\n",
            "after 80000 steps \tloss=0.0001354010347967986\n",
            "after 85000 steps \tloss=0.00011861180795179677\n",
            "after 90000 steps \tloss=0.00010550403031719735\n",
            "after 95000 steps \tloss=9.498962321662737e-05\n"
          ],
          "name": "stdout"
        }
      ]
    },
    {
      "cell_type": "code",
      "metadata": {
        "colab": {
          "base_uri": "https://localhost:8080/"
        },
        "id": "72wjJxlRth_N",
        "outputId": "78d34724-eaaa-4f1c-9273-16a8837c372b"
      },
      "source": [
        "predictions, loss = net.forward(X3, Y3, do_backward=True)\n",
        "for x, p in zip(X3, predictions):\n",
        "    print(f\"XORnet({x}) = {p[0]}\")"
      ],
      "execution_count": null,
      "outputs": [
        {
          "output_type": "stream",
          "text": [
            "XORnet([0. 0. 0.]) = 8.01511540100622e-05\n",
            "XORnet([0. 0. 1.]) = 0.9999096072705914\n",
            "XORnet([0. 1. 0.]) = 0.9998918819640314\n",
            "XORnet([0. 1. 1.]) = 6.996471901566262e-05\n",
            "XORnet([1. 0. 0.]) = 0.9999156991765451\n",
            "XORnet([1. 0. 1.]) = 0.00011739000934154806\n",
            "XORnet([1. 1. 0.]) = 7.576826582243795e-05\n",
            "XORnet([1. 1. 1.]) = 0.999935155363538\n"
          ],
          "name": "stdout"
        }
      ]
    },
    {
      "cell_type": "markdown",
      "metadata": {
        "id": "syCB1xwVnjNv"
      },
      "source": [
        "From above results we see that for 3-5 layers network can be trained correctly. From below computations and plots we can see that network with 6 layers is probably not trainable for this problem."
      ]
    },
    {
      "cell_type": "code",
      "metadata": {
        "colab": {
          "base_uri": "https://localhost:8080/"
        },
        "id": "5kSLPi-etq8E",
        "outputId": "832021f9-83c2-4152-f23d-c524c89ca966"
      },
      "source": [
        "X3 = np.array([[0, 0, 0], [0, 0, 1], [0, 1, 0], [0, 1, 1], [1, 0, 0], [1, 0, 1], [1, 1, 0], [1, 1, 1]], dtype=np.float32)\n",
        "Y3 = np.array([[0], [1], [1], [0], [1], [0], [0], [1]], dtype=np.float32)\n",
        "\n",
        "net = SmallNet(3, 10, 6, dtype=np.float64, activation_function=\"sigmoid\")\n",
        "\n",
        "alpha = 0.1  # set a learning rate\n",
        "\n",
        "for i in range(100000):\n",
        "    _, loss = net.forward(X3, Y3, do_backward=True)\n",
        "    if (i % 5000) == 0:\n",
        "        print(f\"after {i} steps \\tloss={loss}\")\n",
        "    for param_name in [\"W1\", \"b1\", \"W2\", \"b2\", \"W3\", \"b3\"]:\n",
        "        param = getattr(net, param_name)\n",
        "        param[:] = param - alpha * getattr(\n",
        "            net, param_name + \"_grad\")"
      ],
      "execution_count": null,
      "outputs": [
        {
          "output_type": "stream",
          "text": [
            "after 0 steps \tloss=1.0161357789679943\n",
            "after 5000 steps \tloss=0.6931491875387052\n",
            "after 10000 steps \tloss=0.6931488169743534\n",
            "after 15000 steps \tloss=0.6931484689316453\n",
            "after 20000 steps \tloss=0.6931481380827816\n",
            "after 25000 steps \tloss=0.6931478197276123\n",
            "after 30000 steps \tloss=0.69314750960428\n",
            "after 35000 steps \tloss=0.6931472037303903\n",
            "after 40000 steps \tloss=0.6931468982628568\n",
            "after 45000 steps \tloss=0.6931465893666703\n",
            "after 50000 steps \tloss=0.6931462730838074\n",
            "after 55000 steps \tloss=0.6931459451934843\n",
            "after 60000 steps \tloss=0.6931456010539605\n",
            "after 65000 steps \tloss=0.693145235413955\n",
            "after 70000 steps \tloss=0.6931448421780524\n",
            "after 75000 steps \tloss=0.693144414104582\n",
            "after 80000 steps \tloss=0.6931439424051811\n",
            "after 85000 steps \tloss=0.6931434162006198\n",
            "after 90000 steps \tloss=0.6931428217640625\n",
            "after 95000 steps \tloss=0.6931421414447565\n"
          ],
          "name": "stdout"
        }
      ]
    },
    {
      "cell_type": "code",
      "metadata": {
        "colab": {
          "base_uri": "https://localhost:8080/"
        },
        "id": "n56YXKsTtw4k",
        "outputId": "70bd3eb5-3b83-4f00-8c2e-6808621943f9"
      },
      "source": [
        "predictions, loss = net.forward(X3, Y3, do_backward=True)\n",
        "for x, p in zip(X3, predictions):\n",
        "    print(f\"XORnet({x}) = {p[0]}\")"
      ],
      "execution_count": null,
      "outputs": [
        {
          "output_type": "stream",
          "text": [
            "XORnet([0. 0. 0.]) = 0.5000045314986037\n",
            "XORnet([0. 0. 1.]) = 0.4999910910303919\n",
            "XORnet([0. 1. 0.]) = 0.500025546264762\n",
            "XORnet([0. 1. 1.]) = 0.5000151183319379\n",
            "XORnet([1. 0. 0.]) = 0.49998556071204825\n",
            "XORnet([1. 0. 1.]) = 0.4999714520424375\n",
            "XORnet([1. 1. 0.]) = 0.5000089028203659\n",
            "XORnet([1. 1. 1.]) = 0.4999981375504652\n"
          ],
          "name": "stdout"
        }
      ]
    },
    {
      "cell_type": "code",
      "metadata": {
        "id": "Ccpi4qFND5G5"
      },
      "source": [
        "import time\n",
        "\n",
        "X3 = np.array([[0, 0, 0], [0, 0, 1], [0, 1, 0], [0, 1, 1], [1, 0, 0], [1, 0, 1], [1, 1, 0], [1, 1, 1]], dtype=np.float32)\n",
        "Y3 = np.array([[0], [1], [1], [0], [1], [0], [0], [1]], dtype=np.float32)\n",
        "\n",
        "alpha = 0.1\n",
        "num_of_trainings = 10\n",
        "iters = 100000\n",
        "fractions = []\n",
        "mean_loss = []\n",
        "fractions_close_to_Y = []\n",
        "tolerance = 0.05\n",
        "average_training_time = []\n",
        "for hidden_dim in [2, 3, 4, 5, 6, 7, 8, 9, 10, 11, 12]:\n",
        "    # TODO: run a few trainings and record the fraction of successful ones\n",
        "    count_success = 0\n",
        "    count_close = 0\n",
        "    sum_loss = 0\n",
        "    sum_time = 0\n",
        "    for i in range(num_of_trainings):\n",
        "        start = time.time()\n",
        "        net = SmallNet(3, hidden_dim, 6, dtype=np.float64, activation_function='sigmoid')\n",
        "        for i in range(iters):\n",
        "            _, loss = net.forward(X3, Y3, do_backward=True)\n",
        "            for param_name in [\"W1\", \"b1\", \"W2\", \"b2\", \"W3\", \"b3\"]:\n",
        "                param = getattr(net, param_name)\n",
        "                param[:] = param - alpha * getattr(\n",
        "                    net, param_name + \"_grad\")\n",
        "        end = time.time()\n",
        "        predictions, loss = net.forward(X3, Y3, do_backward=True)\n",
        "        if all(np.abs(Y3 - predictions) < 0.5):\n",
        "            count_success += 1\n",
        "        if all(np.abs(Y3 - predictions) < tolerance):\n",
        "            count_close += 1\n",
        "        sum_loss += loss\n",
        "        sum_time += end-start\n",
        "    average_training_time.append(sum_time / num_of_trainings)\n",
        "    mean_loss.append(sum_loss / num_of_trainings)\n",
        "    fractions_close_to_Y.append(count_close / num_of_trainings)\n",
        "    fractions.append(count_success / num_of_trainings)"
      ],
      "execution_count": null,
      "outputs": []
    },
    {
      "cell_type": "code",
      "metadata": {
        "colab": {
          "base_uri": "https://localhost:8080/"
        },
        "id": "DthSVyzmD5Km",
        "outputId": "924947ec-7a2a-4289-f828-a58361712498"
      },
      "source": [
        "print(f\"Mean loss: {mean_loss}\\nFraction of close to Y: {fractions_close_to_Y}\\nFraction of correct choice: {fractions}\\nAverage training time: {average_training_time}\")"
      ],
      "execution_count": null,
      "outputs": [
        {
          "output_type": "stream",
          "text": [
            "Mean loss: [0.6931471844869034, 0.693147141859008, 0.6931472665624357, 0.6931472125819375, 0.693147172380176, 0.6931463859392321, 0.6931460876615463, 0.6931478855463267, 0.6931477360001473, 0.6931418421971764, 0.6931464284778708]\n",
            "Fraction of close to Y: [0.0, 0.0, 0.0, 0.0, 0.0, 0.0, 0.0, 0.0, 0.0, 0.0, 0.0]\n",
            "Fraction of correct choice: [0.0, 0.0, 0.0, 0.0, 0.0, 0.0, 0.0, 0.0, 0.0, 0.0, 0.0]\n",
            "Average training time: [27.054962682724, 27.392369675636292, 31.28450345993042, 31.946690440177917, 32.35499806404114, 32.80058081150055, 32.97307522296906, 33.53377442359924, 33.8717381477356, 34.50215241909027, 34.8730833530426]\n"
          ],
          "name": "stdout"
        }
      ]
    },
    {
      "cell_type": "code",
      "metadata": {
        "colab": {
          "base_uri": "https://localhost:8080/",
          "height": 283
        },
        "id": "zP_R7q62EH6L",
        "outputId": "894945f3-1b95-4841-e354-3a3a737b43d8"
      },
      "source": [
        "plt.bar([2, 3, 4, 5, 6, 7, 8, 9, 10, 11, 12], fractions)"
      ],
      "execution_count": null,
      "outputs": [
        {
          "output_type": "execute_result",
          "data": {
            "text/plain": [
              "<BarContainer object of 11 artists>"
            ]
          },
          "metadata": {
            "tags": []
          },
          "execution_count": 59
        },
        {
          "output_type": "display_data",
          "data": {
            "image/png": "[encoded data removed]",
            "text/plain": [
              "<Figure size 432x288 with 1 Axes>"
            ]
          },
          "metadata": {
            "tags": [],
            "needs_background": "light"
          }
        }
      ]
    },
    {
      "cell_type": "code",
      "metadata": {
        "colab": {
          "base_uri": "https://localhost:8080/",
          "height": 283
        },
        "id": "mAHc6W9-EH9S",
        "outputId": "9af4e39e-bfac-4d49-a2a2-86108f659ec7"
      },
      "source": [
        "plt.bar([2, 3, 4, 5, 6, 7, 8, 9, 10, 11, 12], fractions_close_to_Y)"
      ],
      "execution_count": null,
      "outputs": [
        {
          "output_type": "execute_result",
          "data": {
            "text/plain": [
              "<BarContainer object of 11 artists>"
            ]
          },
          "metadata": {
            "tags": []
          },
          "execution_count": 60
        },
        {
          "output_type": "display_data",
          "data": {
            "image/png": "[encoded data removed]",
            "text/plain": [
              "<Figure size 432x288 with 1 Axes>"
            ]
          },
          "metadata": {
            "tags": [],
            "needs_background": "light"
          }
        }
      ]
    },
    {
      "cell_type": "code",
      "metadata": {
        "colab": {
          "base_uri": "https://localhost:8080/",
          "height": 283
        },
        "id": "f_9iDQuTEIAL",
        "outputId": "4a262427-21a7-4892-e8e4-b31dd721d52e"
      },
      "source": [
        "plt.bar([2, 3, 4, 5, 6, 7, 8, 9, 10, 11, 12], -np.log(mean_loss))"
      ],
      "execution_count": null,
      "outputs": [
        {
          "output_type": "execute_result",
          "data": {
            "text/plain": [
              "<BarContainer object of 11 artists>"
            ]
          },
          "metadata": {
            "tags": []
          },
          "execution_count": 61
        },
        {
          "output_type": "display_data",
          "data": {
            "image/png": "[encoded data removed]",
            "text/plain": [
              "<Figure size 432x288 with 1 Axes>"
            ]
          },
          "metadata": {
            "tags": [],
            "needs_background": "light"
          }
        }
      ]
    },
    {
      "cell_type": "code",
      "metadata": {
        "colab": {
          "base_uri": "https://localhost:8080/",
          "height": 283
        },
        "id": "V3VaCf5TEIDd",
        "outputId": "b6a41e8b-ff78-42a4-f3fd-5dea72c6b10f"
      },
      "source": [
        "plt.bar([2, 3, 4, 5, 6, 7, 8, 9, 10, 11, 12], average_training_time)"
      ],
      "execution_count": null,
      "outputs": [
        {
          "output_type": "execute_result",
          "data": {
            "text/plain": [
              "<BarContainer object of 11 artists>"
            ]
          },
          "metadata": {
            "tags": []
          },
          "execution_count": 62
        },
        {
          "output_type": "display_data",
          "data": {
            "image/png": "[encoded data removed]",
            "text/plain": [
              "<Figure size 432x288 with 1 Axes>"
            ]
          },
          "metadata": {
            "tags": [],
            "needs_background": "light"
          }
        }
      ]
    },
    {
      "cell_type": "markdown",
      "metadata": {
        "id": "nWuv7Q77-Nut"
      },
      "source": [
        "## Problem 7"
      ]
    },
    {
      "cell_type": "code",
      "metadata": {
        "id": "avuvSoWY-N4Z"
      },
      "source": [
        "def sigmoid(x):\n",
        "    # TODO\n",
        "    return 1/(1+np.exp(-x))\n",
        "\n",
        "def ReLU(x):\n",
        "    return x * (x > 0)\n",
        "\n",
        "class SmallNet:\n",
        "    def __init__(self, in_features, num_hidden, num_layers, dtype=np.float32, activation_function='sigmoid'):\n",
        "        self.num_layers = num_layers\n",
        "        self.dtype = dtype\n",
        "        self.num_hidden = num_hidden\n",
        "        self.in_features = in_features\n",
        "\n",
        "        self.W1 = np.zeros((num_hidden, in_features), dtype=dtype)\n",
        "        self.b1 = np.zeros((num_hidden,), dtype=dtype)\n",
        "\n",
        "        self.W2 = np.zeros((num_layers - 1, num_hidden, num_hidden), dtype=dtype)\n",
        "        self.b2 = np.zeros((num_layers - 1, num_hidden,), dtype=dtype)\n",
        "\n",
        "        # self.W2 = np.zeros((num_hidden, num_hidden), dtype=dtype)\n",
        "        # self.b2 = np.zeros((num_hidden,), dtype=dtype)\n",
        "\n",
        "        self.W3 = np.zeros((1, num_hidden), dtype=dtype)\n",
        "        self.b3 = np.zeros((1,), dtype=dtype)\n",
        "\n",
        "        if activation_function == 'sigmoid':\n",
        "            self.activation_function = sigmoid\n",
        "            self.string_activation_function = 'sigmoid'\n",
        "        else:\n",
        "            self.activation_function = ReLU\n",
        "            self.string_activation_function = 'ReLU'\n",
        "        self.init_params()\n",
        "\n",
        "    def init_params(self):\n",
        "        self.W1 = np.random.normal(0, 0.5, size=(self.W1.shape))\n",
        "        self.W2 = np.random.normal(0, 0.5, size=(self.W2.shape))\n",
        "        self.W3 = np.random.normal(0, 0.5, size=(self.W3.shape))\n",
        "        self.W1b = np.random.normal(0, 0.5, size=(self.W1.shape))\n",
        "        self.W2b = np.random.normal(0, 0.5, size=(self.W2.shape))\n",
        "        self.W3b = np.random.normal(0, 0.5, size=(self.W3.shape))\n",
        "        self.b1 = np.random.normal(0, 0.5, size=(self.b1.shape))\n",
        "        self.b2 = np.random.normal(0, 0.5, size=(self.b2.shape))\n",
        "        self.b3 = np.random.normal(0, 0.5, size=(self.b3.shape))\n",
        "\n",
        "    def forward(self, X, Y=None, do_backward=False):\n",
        "        # TODO Problem 1: Fill in details of forward propagation\n",
        "\n",
        "        A1 = X @ self.W1.T + self.b1\n",
        "        O1 = self.activation_function(A1)\n",
        "        A2 = np.zeros((self.num_layers - 1, A1.shape[0], A1.shape[1]), dtype=self.dtype)\n",
        "        O2 = np.zeros((self.num_layers - 1, A1.shape[0], A1.shape[1]), dtype=self.dtype)\n",
        "        A2[0] = O1 @ self.W2[0].T + self.b2[0]\n",
        "        O2[0] = self.activation_function(A2[0])\n",
        "        for i in range(1,self.num_layers - 1):\n",
        "            A2[i] = O2[i-1] @ self.W2[i].T + self.b2[i]\n",
        "            O2[i] = self.activation_function(A2[i])\n",
        "        \n",
        "        # A2 = O1 @ self.W2.T + self.b2\n",
        "        # O2 = self.activation_function(A2)\n",
        "\n",
        "        # Case of single layer\n",
        "        if self.num_layers == 1:\n",
        "            A3 = O1 @ self.W3.T + self.b3\n",
        "        else:\n",
        "            A3 = O2[-1] @ self.W3.T + self.b3\n",
        "        O3 = sigmoid(A3)\n",
        "\n",
        "        # When Y is none, simply return the predictions. Else compute the loss\n",
        "        if Y is not None:\n",
        "            # with np.errstate(divide='ignore', invalid='ignore'):\n",
        "            loss = -Y * np.log(O3) - (1 - Y) * np.log(\n",
        "                1.0 - O3)\n",
        "            # loss = TODO cross-entropy loss\n",
        "            # normalize loss by batch size\n",
        "            loss = loss.sum() / X.shape[0]\n",
        "        else:\n",
        "            loss = np.nan\n",
        "\n",
        "        if do_backward:\n",
        "            \n",
        "            # Declarations\n",
        "            A2_grad = np.zeros((self.num_layers - 1, A1.shape[0], A1.shape[1]), dtype=self.dtype)\n",
        "            O2_grad = np.zeros((self.num_layers - 1, A1.shape[0], A1.shape[1]), dtype=self.dtype)\n",
        "            self.W2_grad = np.zeros((self.num_layers - 1, self.num_hidden, self.num_hidden), dtype=self.dtype)\n",
        "            self.b2_grad = np.zeros((self.num_layers - 1, self.num_hidden,), dtype=self.dtype)\n",
        "\n",
        "            # n x 1\n",
        "            A3_grad = (O3 - Y) / X.shape[0]\n",
        "\n",
        "            # 1\n",
        "            self.b3_grad = A3_grad.sum(0)\n",
        "\n",
        "            # 1 x n @ n x hidden = 1 x hidden\n",
        "            self.W3_grad = A3_grad.T @ O2[-1]\n",
        "            # self.W3_grad = A3_grad.T @ O2\n",
        "\n",
        "            # n x 1 @ 1 x h = n x h\n",
        "            O2_grad[-1] = A3_grad @ self.W3b\n",
        "            # O2_grad = A3_grad @ self.W3\n",
        "            \n",
        "            # range(self.num_layers - 2, 0, -1) is an interval <num_layers - 2, 0) = <num_layers - 2, 1>\n",
        "            for i in range(self.num_layers - 2, 0, -1):\n",
        "                if self.string_activation_function == 'sigmoid':\n",
        "                    A2_grad[i] = O2_grad[i] * sigmoid(A2[i]) * (1 - sigmoid(A2[i]))\n",
        "                else:\n",
        "                    A2_grad[i] = O2_grad[i] * (A2[i] > 0)\n",
        "                self.b2_grad[i] = A2_grad[i].sum(0)\n",
        "                self.W2_grad[i] = A2_grad[i].T @ O2[i-1]\n",
        "                O2_grad[i-1] = A2_grad[i] @ self.W2b[i]\n",
        "                \n",
        "\n",
        "            # n x h\n",
        "            if self.string_activation_function == 'sigmoid':\n",
        "                A2_grad[0] = O2_grad[0] * sigmoid(A2[0]) * (1 - sigmoid(A2[0]))\n",
        "            else:\n",
        "                A2_grad[0] = O2_grad[0] * (A2[0] > 0)\n",
        "\n",
        "            # 1 x h\n",
        "            self.b2_grad[0] = A2_grad[0].sum(0)\n",
        "\n",
        "            # n x h @ h x h = n x h\n",
        "            self.W2_grad[0] = A2_grad[0].T @ O1\n",
        "\n",
        "            O1_grad = A2_grad[0] @ self.W2b[0]\n",
        "\n",
        "            # n x h\n",
        "            if self.string_activation_function == 'sigmoid':\n",
        "                A1_grad = O1_grad * sigmoid(A1) * (1 - sigmoid(A1))\n",
        "            else:\n",
        "                A1_grad = O1_grad * (A1 > 0)\n",
        "\n",
        "            self.b1_grad = A1_grad.sum(0)\n",
        "\n",
        "            # h x n @ n x d = h x d\n",
        "            self.W1_grad = A1_grad.T @ X\n",
        "\n",
        "        return O3, loss"
      ],
      "execution_count": null,
      "outputs": []
    },
    {
      "cell_type": "markdown",
      "metadata": {
        "id": "ACmP32AymkKP"
      },
      "source": [
        "Example of correctly trained network."
      ]
    },
    {
      "cell_type": "code",
      "metadata": {
        "colab": {
          "base_uri": "https://localhost:8080/"
        },
        "id": "Lx4H5uBVDc-7",
        "outputId": "44eed84f-ece1-4670-cc5b-1a90510f2f31"
      },
      "source": [
        "X3 = np.array([[0, 0, 0], [0, 0, 1], [0, 1, 0], [0, 1, 1], [1, 0, 0], [1, 0, 1], [1, 1, 0], [1, 1, 1]], dtype=np.float32)\n",
        "Y3 = np.array([[0], [1], [1], [0], [1], [0], [0], [1]], dtype=np.float32)\n",
        "\n",
        "net = SmallNet(3, 10, 3, dtype=np.float64, activation_function=\"sigmoid\")\n",
        "\n",
        "alpha = 0.2  # set a learning rate\n",
        "\n",
        "for i in range(100000):\n",
        "    _, loss = net.forward(X3, Y3, do_backward=True)\n",
        "    if (i % 5000) == 0:\n",
        "        print(f\"after {i} steps \\tloss={loss}\")\n",
        "    for param_name in [\"W1\", \"b1\", \"W2\", \"b2\", \"W3\", \"b3\"]:\n",
        "        param = getattr(net, param_name)\n",
        "        param[:] = param - alpha * getattr(\n",
        "            net, param_name + \"_grad\")"
      ],
      "execution_count": null,
      "outputs": [
        {
          "output_type": "stream",
          "text": [
            "after 0 steps \tloss=0.7320298573626398\n",
            "after 5000 steps \tloss=0.6930894442817968\n",
            "after 10000 steps \tloss=0.6930530916743842\n",
            "after 15000 steps \tloss=0.6927439087374933\n",
            "after 20000 steps \tloss=0.6914160561303024\n",
            "after 25000 steps \tloss=0.6850093622540182\n",
            "after 30000 steps \tloss=0.645293906970376\n",
            "after 35000 steps \tloss=0.341680553360308\n",
            "after 40000 steps \tloss=0.08372925140402193\n",
            "after 45000 steps \tloss=0.03349880828380243\n",
            "after 50000 steps \tloss=0.01885396820392495\n",
            "after 55000 steps \tloss=0.012559667969060507\n",
            "after 60000 steps \tloss=0.009204126485311588\n",
            "after 65000 steps \tloss=0.007164868726266451\n",
            "after 70000 steps \tloss=0.005812818122607878\n",
            "after 75000 steps \tloss=0.004859293828609448\n",
            "after 80000 steps \tloss=0.004155204792398316\n",
            "after 85000 steps \tloss=0.003616528367354449\n",
            "after 90000 steps \tloss=0.003192627022003382\n",
            "after 95000 steps \tloss=0.0028513178230118665\n"
          ],
          "name": "stdout"
        }
      ]
    },
    {
      "cell_type": "code",
      "metadata": {
        "colab": {
          "base_uri": "https://localhost:8080/"
        },
        "id": "HfiXyStQeDQg",
        "outputId": "626f7297-7a6e-4076-b72a-8f24ae390988"
      },
      "source": [
        "predictions, loss = net.forward(X3, Y3, do_backward=True)\n",
        "for x, p in zip(X3, predictions):\n",
        "    print(f\"XORnet({x}) = {p[0]}\")"
      ],
      "execution_count": null,
      "outputs": [
        {
          "output_type": "stream",
          "text": [
            "XORnet([0. 0. 0.]) = 0.0037847862728792154\n",
            "XORnet([0. 0. 1.]) = 0.9984145411379878\n",
            "XORnet([0. 1. 0.]) = 0.9958831009684953\n",
            "XORnet([0. 1. 1.]) = 0.0018185031467640568\n",
            "XORnet([1. 0. 0.]) = 0.9974264963486554\n",
            "XORnet([1. 0. 1.]) = 0.0019933619580609894\n",
            "XORnet([1. 1. 0.]) = 0.0024465156644436744\n",
            "XORnet([1. 1. 1.]) = 0.9977784324899115\n"
          ],
          "name": "stdout"
        }
      ]
    },
    {
      "cell_type": "markdown",
      "metadata": {
        "id": "xS_CVyy5Y0X8"
      },
      "source": [
        "# Random tests (mainly numpy related) - don't check"
      ]
    },
    {
      "cell_type": "code",
      "metadata": {
        "colab": {
          "base_uri": "https://localhost:8080/"
        },
        "id": "2quFVVMysh-A",
        "outputId": "284178fb-38c3-47ae-d0ac-e0b4a0f7c63d"
      },
      "source": [
        "np.zeros((3, 2, 2)) + 0.1 * (np.zeros((3, 2, 2)) + np.array([[[1,1],[1,1]],[[2,2],[2,2]],[[3,3],[3,3]]]))"
      ],
      "execution_count": null,
      "outputs": [
        {
          "output_type": "execute_result",
          "data": {
            "text/plain": [
              "array([[[0.1, 0.1],\n",
              "        [0.1, 0.1]],\n",
              "\n",
              "       [[0.2, 0.2],\n",
              "        [0.2, 0.2]],\n",
              "\n",
              "       [[0.3, 0.3],\n",
              "        [0.3, 0.3]]])"
            ]
          },
          "metadata": {
            "tags": []
          },
          "execution_count": 37
        }
      ]
    },
    {
      "cell_type": "code",
      "metadata": {
        "id": "uuaAcN4jYz9m"
      },
      "source": [
        "np.divide(self.sum_R, self.count_R, out=np.zeros_like(self.sum_R), where=self.count_R!=0)"
      ],
      "execution_count": null,
      "outputs": []
    },
    {
      "cell_type": "code",
      "metadata": {
        "colab": {
          "base_uri": "https://localhost:8080/"
        },
        "id": "tH6i7zZ-I2vq",
        "outputId": "da3edf8e-bedb-4f8b-aba2-0d4b841024b8"
      },
      "source": [
        "for i in range(5, 0, -1):\n",
        "    print(i)"
      ],
      "execution_count": null,
      "outputs": [
        {
          "output_type": "stream",
          "text": [
            "5\n",
            "4\n",
            "3\n",
            "2\n",
            "1\n"
          ],
          "name": "stdout"
        }
      ]
    },
    {
      "cell_type": "code",
      "metadata": {
        "id": "ntae4FUlz3iN"
      },
      "source": [
        "for i in np.zeros((0,4,4)):\n",
        "    print(i)"
      ],
      "execution_count": null,
      "outputs": []
    },
    {
      "cell_type": "code",
      "metadata": {
        "colab": {
          "base_uri": "https://localhost:8080/"
        },
        "id": "4v2H1GaO6j4y",
        "outputId": "eeed4316-d1c9-4bd5-d009-85f7fc7304f0"
      },
      "source": [
        "test = np.zeros((3,4,4))\n",
        "test[0] = np.ones((4,4))\n",
        "test"
      ],
      "execution_count": null,
      "outputs": [
        {
          "output_type": "execute_result",
          "data": {
            "text/plain": [
              "array([[[1., 1., 1., 1.],\n",
              "        [1., 1., 1., 1.],\n",
              "        [1., 1., 1., 1.],\n",
              "        [1., 1., 1., 1.]],\n",
              "\n",
              "       [[0., 0., 0., 0.],\n",
              "        [0., 0., 0., 0.],\n",
              "        [0., 0., 0., 0.],\n",
              "        [0., 0., 0., 0.]],\n",
              "\n",
              "       [[0., 0., 0., 0.],\n",
              "        [0., 0., 0., 0.],\n",
              "        [0., 0., 0., 0.],\n",
              "        [0., 0., 0., 0.]]])"
            ]
          },
          "metadata": {
            "tags": []
          },
          "execution_count": 22
        }
      ]
    },
    {
      "cell_type": "code",
      "metadata": {
        "colab": {
          "base_uri": "https://localhost:8080/"
        },
        "id": "94PKv3PnyU-5",
        "outputId": "6fd571b5-506e-40b1-c768-6e3bba339b06"
      },
      "source": [
        "for i in np.zeros((3,4,4)):\n",
        "    print(i)"
      ],
      "execution_count": null,
      "outputs": [
        {
          "output_type": "stream",
          "text": [
            "[[0. 0. 0. 0.]\n",
            " [0. 0. 0. 0.]\n",
            " [0. 0. 0. 0.]\n",
            " [0. 0. 0. 0.]]\n",
            "[[0. 0. 0. 0.]\n",
            " [0. 0. 0. 0.]\n",
            " [0. 0. 0. 0.]\n",
            " [0. 0. 0. 0.]]\n",
            "[[0. 0. 0. 0.]\n",
            " [0. 0. 0. 0.]\n",
            " [0. 0. 0. 0.]\n",
            " [0. 0. 0. 0.]]\n"
          ],
          "name": "stdout"
        }
      ]
    },
    {
      "cell_type": "code",
      "metadata": {
        "colab": {
          "base_uri": "https://localhost:8080/"
        },
        "id": "6D8p6j2q2HRM",
        "outputId": "59f9a8eb-2802-4854-8a99-9da28b6c3ff7"
      },
      "source": [
        "for i in np.zeros((3, 2, )):\n",
        "    print(i.shape)"
      ],
      "execution_count": null,
      "outputs": [
        {
          "output_type": "stream",
          "text": [
            "(2,)\n",
            "(2,)\n",
            "(2,)\n"
          ],
          "name": "stdout"
        }
      ]
    },
    {
      "cell_type": "code",
      "metadata": {
        "colab": {
          "base_uri": "https://localhost:8080/"
        },
        "id": "mgLoZ8-s38C9",
        "outputId": "012bc3b6-6c82-4f63-c227-708a321f5276"
      },
      "source": [
        "net = SmallNet(2, 10, dtype=np.float64, activation_function=\"sigmoid\")\n",
        "# X will be matrix of N 2-dimensional inputs\n",
        "X = np.array([[0, 0], [0, 1], [1, 0], [1, 1],], dtype=np.float32)\n",
        "# Y is a matrix of N numners - answers\n",
        "Y = np.array([[0], [1], [1], [0],], dtype=np.float32)\n",
        "\n",
        "alpha = 0.1  # set a learning rate\n",
        "\n",
        "for i in range(2):\n",
        "    _, loss = net.forward(X, Y, do_backward=True)\n",
        "    if (i % 5000) == 0:\n",
        "        print(f\"after {i} steps \\tloss={loss}\")\n",
        "    for param_name in [\"W1\", \"b1\", \"W2\", \"b2\", \"W3\", \"b3\"]:\n",
        "        param = getattr(net, param_name)\n",
        "        # Hint: use the construct `param[:]` to change the contents of the array!\n",
        "        # Doing instead `param = new_val` simply changes to what the variable\n",
        "        # param points to, without affecting the network!\n",
        "        # alternatively, you could do setattr(net, param_name, new_value)\n",
        "        param[:] = param - alpha * getattr(\n",
        "            net, param_name + \"_grad\")\n",
        "        # param[:] = TODO"
      ],
      "execution_count": null,
      "outputs": [
        {
          "output_type": "stream",
          "text": [
            "A1: (4, 10)\n",
            "A2: (4, 10)\n",
            "A31: (4, 1)\n",
            "\n",
            "after 0 steps \tloss=0.6958372144474256\n",
            "A1: (4, 10)\n",
            "A2: (4, 10)\n",
            "A31: (4, 1)\n",
            "\n"
          ],
          "name": "stdout"
        }
      ]
    },
    {
      "cell_type": "code",
      "metadata": {
        "id": "9wRQM_0Q2JXN"
      },
      "source": [],
      "execution_count": null,
      "outputs": []
    }
  ]
}