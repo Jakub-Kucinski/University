{
 "cells": [
  {
   "cell_type": "code",
   "execution_count": 9,
   "metadata": {},
   "outputs": [
    {
     "data": {
      "text/plain": [
       "(1.1000000000000032, 0.9999999999999999)"
      ]
     },
     "execution_count": 9,
     "metadata": {},
     "output_type": "execute_result"
    }
   ],
   "source": [
    "x = 1.1\n",
    "while true\n",
    "    odw = 1.0/x\n",
    "    if x * odw != 1.0\n",
    "        break\n",
    "    else\n",
    "        x = x + 2^(-52)\n",
    "    end\n",
    "end\n",
    "x, x*(1.0/x)"
   ]
  }
 ],
 "metadata": {
  "kernelspec": {
   "display_name": "Julia 1.0.4",
   "language": "julia",
   "name": "julia-1.0"
  },
  "language_info": {
   "file_extension": ".jl",
   "mimetype": "application/julia",
   "name": "julia",
   "version": "1.0.4"
  }
 },
 "nbformat": 4,
 "nbformat_minor": 2
}
