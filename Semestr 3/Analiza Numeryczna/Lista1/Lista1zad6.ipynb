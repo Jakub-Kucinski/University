{
 "cells": [
  {
   "cell_type": "code",
   "execution_count": 1,
   "metadata": {},
   "outputs": [
    {
     "data": {
      "text/plain": [
       "\"0011111110100010100000000000000000000000000000000000000000000000\""
      ]
     },
     "execution_count": 1,
     "metadata": {},
     "output_type": "execute_result"
    }
   ],
   "source": [
    "repr = bitstring(0.0361328125)"
   ]
  },
  {
   "cell_type": "code",
   "execution_count": 10,
   "metadata": {},
   "outputs": [
    {
     "data": {
      "text/plain": [
       "-0.0361328125"
      ]
     },
     "execution_count": 10,
     "metadata": {},
     "output_type": "execute_result"
    }
   ],
   "source": [
    "function float64bit(repr)\n",
    "    znak = repr[1];        # sign      - the first bit\n",
    "    cecha = repr[2:12];     # exponent  - next 11 bits\n",
    "    mantysa = repr[13:end]    # mantissa  - last 52 bits\n",
    "    if znak == '1'\n",
    "        z = 1\n",
    "    else\n",
    "        z = -1\n",
    "    end\n",
    "    #czynnik = 1\n",
    "    i = 2\n",
    "    c = 0.0\n",
    "    while i <= 12\n",
    "        if repr[i] == '1'\n",
    "            c = c * 2 + 1\n",
    "        else\n",
    "            c = c * 2\n",
    "        end\n",
    "        i = i + 1\n",
    "    end\n",
    "    c = c - 1023\n",
    "    m = 1.0\n",
    "    i = 13\n",
    "    while i <= 64\n",
    "        if repr[i] == '1'\n",
    "            m = m * 2 + 1\n",
    "        else\n",
    "            m = m * 2\n",
    "        end\n",
    "        i = i + 1\n",
    "    end\n",
    "    c = c - 52\n",
    "    return z*m*2^c\n",
    "end\n",
    "        \n",
    "float64bit(repr)"
   ]
  },
  {
   "cell_type": "code",
   "execution_count": null,
   "metadata": {},
   "outputs": [],
   "source": []
  }
 ],
 "metadata": {
  "kernelspec": {
   "display_name": "Julia 1.0.4",
   "language": "julia",
   "name": "julia-1.0"
  },
  "language_info": {
   "file_extension": ".jl",
   "mimetype": "application/julia",
   "name": "julia",
   "version": "1.0.4"
  }
 },
 "nbformat": 4,
 "nbformat_minor": 2
}
