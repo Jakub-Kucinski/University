{
 "cells": [
  {
   "cell_type": "code",
   "execution_count": 36,
   "metadata": {},
   "outputs": [
    {
     "data": {
      "text/plain": [
       "(Float16(-14.64), 0.00028258143056034856)"
      ]
     },
     "execution_count": 36,
     "metadata": {},
     "output_type": "execute_result"
    }
   ],
   "source": [
    "x = Float16(4.71)\n",
    "wx = x*x*x - 6*x*x + 3*x - Float16(0.149)\n",
    "w_poprawne = -14.636489\n",
    "blad_wzgledny = abs((wx - w_poprawne)/w_poprawne)\n",
    "wx, blad_wzgledny"
   ]
  },
  {
   "cell_type": "code",
   "execution_count": 37,
   "metadata": {},
   "outputs": [
    {
     "data": {
      "text/plain": [
       "(-14.636485f0, 2.6647152324068647e-7)"
      ]
     },
     "execution_count": 37,
     "metadata": {},
     "output_type": "execute_result"
    }
   ],
   "source": [
    "x = Float32(4.71)\n",
    "wx = x*x*x - 6*x*x + 3*x - Float32(0.149)\n",
    "w_poprawne = -14.636489\n",
    "blad_wzgledny = abs((wx - w_poprawne)/w_poprawne)\n",
    "wx, blad_wzgledny"
   ]
  },
  {
   "cell_type": "code",
   "execution_count": 38,
   "metadata": {},
   "outputs": [
    {
     "data": {
      "text/plain": [
       "(-14.636488999999978, 1.456379468655564e-15)"
      ]
     },
     "execution_count": 38,
     "metadata": {},
     "output_type": "execute_result"
    }
   ],
   "source": [
    "x = Float64(4.71)\n",
    "wx = x*x*x - 6*x*x + 3*x - Float64(0.149)\n",
    "w_poprawne = -14.636489\n",
    "blad_wzgledny = abs((wx - w_poprawne)/w_poprawne)\n",
    "wx, blad_wzgledny"
   ]
  },
  {
   "cell_type": "code",
   "execution_count": 39,
   "metadata": {},
   "outputs": [
    {
     "data": {
      "text/plain": [
       "(Float16(-14.63), 0.0002511872895199931)"
      ]
     },
     "execution_count": 39,
     "metadata": {},
     "output_type": "execute_result"
    }
   ],
   "source": [
    "x = Float16(4.71)\n",
    "wx = ((x-6)x+3)x-Float16(0.149)\n",
    "w_poprawne = -14.636489\n",
    "blad_wzgledny = abs((wx - w_poprawne)/w_poprawne)\n",
    "wx, blad_wzgledny"
   ]
  },
  {
   "cell_type": "code",
   "execution_count": 40,
   "metadata": {},
   "outputs": [
    {
     "data": {
      "text/plain": [
       "(-14.63649f0, 5.931504907397523e-8)"
      ]
     },
     "execution_count": 40,
     "metadata": {},
     "output_type": "execute_result"
    }
   ],
   "source": [
    "x = Float32(4.71)\n",
    "wx = ((x-6)x+3)x-Float32(0.149)\n",
    "w_poprawne = -14.636489\n",
    "blad_wzgledny = abs((wx - w_poprawne)/w_poprawne)\n",
    "wx, blad_wzgledny"
   ]
  },
  {
   "cell_type": "code",
   "execution_count": 41,
   "metadata": {},
   "outputs": [
    {
     "data": {
      "text/plain": [
       "(-14.636489, 0.0)"
      ]
     },
     "execution_count": 41,
     "metadata": {},
     "output_type": "execute_result"
    }
   ],
   "source": [
    "x = Float64(4.71)\n",
    "wx = ((x-6)x+3)x-Float64(0.149)\n",
    "w_poprawne = -14.636489\n",
    "blad_wzgledny = abs((wx - w_poprawne)/w_poprawne)\n",
    "wx, blad_wzgledny"
   ]
  }
 ],
 "metadata": {
  "kernelspec": {
   "display_name": "Julia 1.0.4",
   "language": "julia",
   "name": "julia-1.0"
  },
  "language_info": {
   "file_extension": ".jl",
   "mimetype": "application/julia",
   "name": "julia",
   "version": "1.0.4"
  }
 },
 "nbformat": 4,
 "nbformat_minor": 2
}
