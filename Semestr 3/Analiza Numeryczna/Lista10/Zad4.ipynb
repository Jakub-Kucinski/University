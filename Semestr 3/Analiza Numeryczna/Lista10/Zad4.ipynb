{
 "cells": [
  {
   "cell_type": "code",
   "execution_count": 48,
   "metadata": {},
   "outputs": [],
   "source": [
    "using Polynomials"
   ]
  },
  {
   "cell_type": "code",
   "execution_count": 49,
   "metadata": {},
   "outputs": [
    {
     "data": {
      "text/plain": [
       "B (generic function with 1 method)"
      ]
     },
     "execution_count": 49,
     "metadata": {},
     "output_type": "execute_result"
    }
   ],
   "source": [
    "function B(k, n)\n",
    "    miejsca_zerowe = zeros(Float64, n)\n",
    "    index = 1\n",
    "    for i = 0 : n\n",
    "        if i != k\n",
    "            miejsca_zerowe[index] = i\n",
    "            index += 1\n",
    "        end\n",
    "    end\n",
    "    wielomian = poly(miejsca_zerowe)\n",
    "    calka = polyval(polyint(wielomian), n)\n",
    "    return 1.0/Float64(n) * 1.0/(factorial(Int64(k))*factorial(Int64(n-k))) * (-1)^(n-k) * calka\n",
    "end "
   ]
  },
  {
   "cell_type": "code",
   "execution_count": 50,
   "metadata": {},
   "outputs": [
    {
     "data": {
      "text/plain": [
       "B_do_n (generic function with 1 method)"
      ]
     },
     "execution_count": 50,
     "metadata": {},
     "output_type": "execute_result"
    }
   ],
   "source": [
    "function B_do_n(n)\n",
    "    for i = 1:n\n",
    "        print(i,\":  \")\n",
    "        for k = 0:i\n",
    "            print(B(k, i), \" \")\n",
    "        end\n",
    "        print(\"\\n\")\n",
    "    end\n",
    "end"
   ]
  },
  {
   "cell_type": "code",
   "execution_count": 51,
   "metadata": {},
   "outputs": [
    {
     "name": "stdout",
     "output_type": "stream",
     "text": [
      "1:  0.5 0.5 \n",
      "2:  0.16666666666666663 0.6666666666666667 0.16666666666666663 \n",
      "3:  0.125 0.375 0.37499999999999967 0.125 \n",
      "4:  0.0777777777777775 0.3555555555555566 0.13333333333333286 0.3555555555555543 0.07777777777777779 \n",
      "5:  0.06597222222222499 0.26041666666667407 0.17361111111111605 0.17361111111111605 0.26041666666667407 0.06597222222222136 \n",
      "6:  0.04880952380952692 0.2571428571428498 0.032142857142837045 0.3238095238095582 0.03214285714280507 0.2571428571428498 0.04880952380952266 \n",
      "7:  0.04346064814815488 0.2070023148148045 0.07656249999999999 0.17297453703660892 0.17297453703707313 0.07656249999999999 0.20700231481481227 0.04346064814814888 \n",
      "8:  0.03488536155206338 0.20768959435619533 -0.032733686063956054 0.3702292768975086 -0.1601410934753302 0.37022927689831703 -0.03273368606739192 0.20768959435619533 0.03488536155200563 \n"
     ]
    }
   ],
   "source": [
    "B_do_n(8)"
   ]
  },
  {
   "cell_type": "code",
   "execution_count": 52,
   "metadata": {},
   "outputs": [
    {
     "data": {
      "text/plain": [
       "Sigma (generic function with 1 method)"
      ]
     },
     "execution_count": 52,
     "metadata": {},
     "output_type": "execute_result"
    }
   ],
   "source": [
    "function Sigma(n)\n",
    "    sum = 0.0\n",
    "    for i = 0:n\n",
    "        sum += abs(B(i, n))\n",
    "    end\n",
    "    return sum\n",
    "end"
   ]
  },
  {
   "cell_type": "code",
   "execution_count": 53,
   "metadata": {},
   "outputs": [
    {
     "data": {
      "text/plain": [
       "3.0647947730776006"
      ]
     },
     "execution_count": 53,
     "metadata": {},
     "output_type": "execute_result"
    }
   ],
   "source": [
    "Sigma(10)"
   ]
  },
  {
   "cell_type": "code",
   "execution_count": 54,
   "metadata": {},
   "outputs": [
    {
     "data": {
      "text/plain": [
       "8.348083944939905"
      ]
     },
     "execution_count": 54,
     "metadata": {},
     "output_type": "execute_result"
    }
   ],
   "source": [
    "Sigma(15)"
   ]
  },
  {
   "cell_type": "code",
   "execution_count": 55,
   "metadata": {},
   "outputs": [
    {
     "data": {
      "text/plain": [
       "544.2336096201238"
      ]
     },
     "execution_count": 55,
     "metadata": {},
     "output_type": "execute_result"
    }
   ],
   "source": [
    "Sigma(20)"
   ]
  },
  {
   "cell_type": "code",
   "execution_count": 56,
   "metadata": {},
   "outputs": [
    {
     "name": "stdout",
     "output_type": "stream",
     "text": [
      "1 1.0\n",
      "2 1.0\n",
      "3 0.9999999999999997\n",
      "4 0.9999999999999991\n",
      "5 1.0000000000000266\n",
      "6 0.9999999999999495\n",
      "7 0.9999999999996025\n",
      "8 1.4512169312189638\n",
      "9 0.9999999999791644\n",
      "10 3.0647947730776006\n",
      "11 1.5893892840746462\n",
      "12 7.531736653466181\n",
      "13 3.24713249241115\n",
      "14 20.343549742144496\n",
      "15 8.348083944939905\n",
      "16 58.45737644467234\n",
      "17 22.216823356250618\n",
      "18 175.4639464461781\n",
      "19 63.246593090705844\n",
      "20 544.2336096201238\n"
     ]
    }
   ],
   "source": [
    "for i = 1:20\n",
    "    print(i, \" \", Sigma(i), \"\\n\")\n",
    "end"
   ]
  },
  {
   "cell_type": "code",
   "execution_count": 67,
   "metadata": {},
   "outputs": [
    {
     "data": {
      "text/plain": [
       "Q (generic function with 1 method)"
      ]
     },
     "execution_count": 67,
     "metadata": {},
     "output_type": "execute_result"
    }
   ],
   "source": [
    "function Q(f, a, b, n)\n",
    "    sum = 0.0\n",
    "    h = (b-a)/n\n",
    "    for k = 0:n\n",
    "        sum += f(a+k*h) * B(k, n)\n",
    "    end\n",
    "    return (b-a)*sum\n",
    "end"
   ]
  },
  {
   "cell_type": "code",
   "execution_count": 68,
   "metadata": {},
   "outputs": [
    {
     "name": "stdout",
     "output_type": "stream",
     "text": [
      "2: 5.490196078431373\n",
      "4: 2.277647058823525\n",
      "6: 3.32879812747022\n",
      "8: 1.941094304401155\n",
      "10: 3.595560399360425\n"
     ]
    }
   ],
   "source": [
    "for n = 2:2:10\n",
    "    print(n, \": \", Q(x -> 1.0/(1.0+x*x), -4.0, 4.0, n), \"\\n\")\n",
    "end"
   ]
  },
  {
   "cell_type": "code",
   "execution_count": 66,
   "metadata": {},
   "outputs": [
    {
     "data": {
      "text/plain": [
       "2.651635327336065"
      ]
     },
     "execution_count": 66,
     "metadata": {},
     "output_type": "execute_result"
    }
   ],
   "source": [
    "2*atan(4)"
   ]
  }
 ],
 "metadata": {
  "kernelspec": {
   "display_name": "Julia 1.0.4",
   "language": "julia",
   "name": "julia-1.0"
  },
  "language_info": {
   "file_extension": ".jl",
   "mimetype": "application/julia",
   "name": "julia",
   "version": "1.0.4"
  }
 },
 "nbformat": 4,
 "nbformat_minor": 2
}
