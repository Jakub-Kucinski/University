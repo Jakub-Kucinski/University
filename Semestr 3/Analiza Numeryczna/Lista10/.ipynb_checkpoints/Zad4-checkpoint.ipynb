{
 "cells": [
  {
   "cell_type": "code",
   "execution_count": 2,
   "metadata": {},
   "outputs": [
    {
     "name": "stdout",
     "output_type": "stream",
     "text": [
      "\u001b[32m\u001b[1m  Updating\u001b[22m\u001b[39m registry at `~/.julia/registries/General`\n",
      "\u001b[32m\u001b[1m  Updating\u001b[22m\u001b[39m git-repo `https://github.com/JuliaRegistries/General.git`\n",
      "\u001b[2K\u001b[?25h[1mFetching:\u001b[22m\u001b[39m [========================================>]  100.0 %.0 %\u001b[36m\u001b[1mFetching:\u001b[22m\u001b[39m [======>                                  ]  14.2 %>                            ]  29.6 %\u001b[36m\u001b[1mFetching:\u001b[22m\u001b[39m [=============>                           ]  30.5 %>                     ]  45.9 % [=========================>               ]  61.4 %76.8 %]  84.7 %\u001b[32m\u001b[1m Resolving\u001b[22m\u001b[39m package versions...\n",
      "\u001b[32m\u001b[1m Installed\u001b[22m\u001b[39m VersionParsing ──── v1.2.0\n",
      "\u001b[32m\u001b[1m Installed\u001b[22m\u001b[39m Measures ────────── v0.3.1\n",
      "\u001b[32m\u001b[1m Installed\u001b[22m\u001b[39m Requires ────────── v1.0.0\n",
      "\u001b[32m\u001b[1m Installed\u001b[22m\u001b[39m PlotThemes ──────── v1.0.1\n",
      "\u001b[32m\u001b[1m Installed\u001b[22m\u001b[39m FixedPointNumbers ─ v0.7.0\n",
      "\u001b[32m\u001b[1m Installed\u001b[22m\u001b[39m ColorTypes ──────── v0.9.0\n",
      "\u001b[32m\u001b[1m Installed\u001b[22m\u001b[39m Colors ──────────── v0.11.0\n",
      "\u001b[32m\u001b[1m  Updating\u001b[22m\u001b[39m `~/.julia/environments/v1.0/Project.toml`\n",
      " \u001b[90m [f27b6e38]\u001b[39m\u001b[92m + Polynomials v0.6.0\u001b[39m\n",
      "\u001b[32m\u001b[1m  Updating\u001b[22m\u001b[39m `~/.julia/environments/v1.0/Manifest.toml`\n",
      " \u001b[90m [3da002f7]\u001b[39m\u001b[93m ↑ ColorTypes v0.8.0 ⇒ v0.9.0\u001b[39m\n",
      " \u001b[90m [5ae59095]\u001b[39m\u001b[93m ↑ Colors v0.9.6 ⇒ v0.11.0\u001b[39m\n",
      " \u001b[90m [53c48c17]\u001b[39m\u001b[93m ↑ FixedPointNumbers v0.6.1 ⇒ v0.7.0\u001b[39m\n",
      " \u001b[90m [442fdcdd]\u001b[39m\u001b[93m ↑ Measures v0.3.0 ⇒ v0.3.1\u001b[39m\n",
      " \u001b[90m [ccf2f8ad]\u001b[39m\u001b[93m ↑ PlotThemes v1.0.0 ⇒ v1.0.1\u001b[39m\n",
      " \u001b[90m [ae029012]\u001b[39m\u001b[93m ↑ Requires v0.5.2 ⇒ v1.0.0\u001b[39m\n",
      " \u001b[90m [81def892]\u001b[39m\u001b[93m ↑ VersionParsing v1.1.3 ⇒ v1.2.0\u001b[39m\n"
     ]
    }
   ],
   "source": [
    "import Pkg; \n",
    "Pkg.add(\"Polynomials\")"
   ]
  },
  {
   "cell_type": "code",
   "execution_count": 3,
   "metadata": {},
   "outputs": [],
   "source": [
    "using Polynomials"
   ]
  },
  {
   "cell_type": "code",
   "execution_count": 31,
   "metadata": {},
   "outputs": [
    {
     "data": {
      "text/plain": [
       "B (generic function with 1 method)"
      ]
     },
     "execution_count": 31,
     "metadata": {},
     "output_type": "execute_result"
    }
   ],
   "source": [
    "function B(k, n)\n",
    "    miejsca_zerowe = zeros(Float64, n)\n",
    "    index = 1\n",
    "    for i = 0 : n\n",
    "        if i != k\n",
    "            miejsca_zerowe[index] = i\n",
    "            index += 1\n",
    "        end\n",
    "    end\n",
    "    wielomian = poly(miejsca_zerowe)\n",
    "    calka = polyval(polyint(wielomian), n)\n",
    "    return 1.0/Float64(n) * 1.0/(factorial(Int64(k))*factorial(Int64(n-k))) * (-1)^(n-k) * calka\n",
    "end "
   ]
  },
  {
   "cell_type": "code",
   "execution_count": 32,
   "metadata": {},
   "outputs": [
    {
     "data": {
      "text/plain": [
       "B_do_n (generic function with 1 method)"
      ]
     },
     "execution_count": 32,
     "metadata": {},
     "output_type": "execute_result"
    }
   ],
   "source": [
    "function B_do_n(n)\n",
    "    for i = 1:n\n",
    "        for k = 0:i\n",
    "            print(B(k, i), \" \")\n",
    "        end\n",
    "        print(\"\\n\")\n",
    "    end\n",
    "end"
   ]
  },
  {
   "cell_type": "code",
   "execution_count": 33,
   "metadata": {},
   "outputs": [
    {
     "name": "stdout",
     "output_type": "stream",
     "text": [
      "0.5 0.5 \n",
      "0.16666666666666663 0.6666666666666667 0.16666666666666663 \n",
      "0.125 0.375 0.37499999999999967 0.125 \n",
      "0.0777777777777775 0.3555555555555566 0.13333333333333286 0.3555555555555543 0.07777777777777779 \n",
      "0.06597222222222499 0.26041666666667407 0.17361111111111605 0.17361111111111605 0.26041666666667407 0.06597222222222136 \n",
      "0.04880952380952692 0.2571428571428498 0.032142857142837045 0.3238095238095582 0.03214285714280507 0.2571428571428498 0.04880952380952266 \n",
      "0.04346064814815488 0.2070023148148045 0.07656249999999999 0.17297453703660892 0.17297453703707313 0.07656249999999999 0.20700231481481227 0.04346064814814888 \n",
      "0.03488536155206338 0.20768959435619533 -0.032733686063956054 0.3702292768975086 -0.1601410934753302 0.37022927689831703 -0.03273368606739192 0.20768959435619533 0.03488536155200563 \n"
     ]
    }
   ],
   "source": [
    "B_do_n(8)"
   ]
  },
  {
   "cell_type": "code",
   "execution_count": 34,
   "metadata": {},
   "outputs": [
    {
     "data": {
      "text/plain": [
       "Sigma (generic function with 1 method)"
      ]
     },
     "execution_count": 34,
     "metadata": {},
     "output_type": "execute_result"
    }
   ],
   "source": [
    "function Sigma(n)\n",
    "    sum = 0.0\n",
    "    for i = 0:n\n",
    "        sum += abs(B(i, n))\n",
    "    end\n",
    "    return sum\n",
    "end"
   ]
  },
  {
   "cell_type": "code",
   "execution_count": 35,
   "metadata": {},
   "outputs": [
    {
     "data": {
      "text/plain": [
       "3.0647947730776006"
      ]
     },
     "execution_count": 35,
     "metadata": {},
     "output_type": "execute_result"
    }
   ],
   "source": [
    "Sigma(10)"
   ]
  },
  {
   "cell_type": "code",
   "execution_count": 36,
   "metadata": {},
   "outputs": [
    {
     "data": {
      "text/plain": [
       "8.348083944939905"
      ]
     },
     "execution_count": 36,
     "metadata": {},
     "output_type": "execute_result"
    }
   ],
   "source": [
    "Sigma(15)"
   ]
  },
  {
   "cell_type": "code",
   "execution_count": 37,
   "metadata": {},
   "outputs": [
    {
     "data": {
      "text/plain": [
       "544.2336096201238"
      ]
     },
     "execution_count": 37,
     "metadata": {},
     "output_type": "execute_result"
    }
   ],
   "source": [
    "Sigma(20)"
   ]
  },
  {
   "cell_type": "code",
   "execution_count": 39,
   "metadata": {},
   "outputs": [
    {
     "name": "stdout",
     "output_type": "stream",
     "text": [
      "1 1.0\n",
      "2 1.0\n",
      "3 0.9999999999999997\n",
      "4 0.9999999999999991\n",
      "5 1.0000000000000266\n",
      "6 0.9999999999999495\n",
      "7 0.9999999999996025\n",
      "8 1.4512169312189638\n",
      "9 0.9999999999791644\n",
      "10 3.0647947730776006\n",
      "11 1.5893892840746462\n",
      "12 7.531736653466181\n",
      "13 3.24713249241115\n",
      "14 20.343549742144496\n",
      "15 8.348083944939905\n",
      "16 58.45737644467234\n",
      "17 22.216823356250618\n",
      "18 175.4639464461781\n",
      "19 63.246593090705844\n",
      "20 544.2336096201238\n"
     ]
    }
   ],
   "source": [
    "for i = 1:20\n",
    "    print(i, \" \", Sigma(i), \"\\n\")\n",
    "end"
   ]
  }
 ],
 "metadata": {
  "kernelspec": {
   "display_name": "Julia 1.0.4",
   "language": "julia",
   "name": "julia-1.0"
  },
  "language_info": {
   "file_extension": ".jl",
   "mimetype": "application/julia",
   "name": "julia",
   "version": "1.0.4"
  }
 },
 "nbformat": 4,
 "nbformat_minor": 2
}
