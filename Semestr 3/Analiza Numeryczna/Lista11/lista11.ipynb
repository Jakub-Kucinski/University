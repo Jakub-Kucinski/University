{
 "cells": [
  {
   "cell_type": "code",
   "execution_count": 4,
   "metadata": {},
   "outputs": [],
   "source": [
    "using FastGaussQuadrature"
   ]
  },
  {
   "cell_type": "code",
   "execution_count": 27,
   "metadata": {},
   "outputs": [
    {
     "data": {
      "text/plain": [
       "11"
      ]
     },
     "execution_count": 27,
     "metadata": {},
     "output_type": "execute_result"
    }
   ],
   "source": [
    "n = 11"
   ]
  },
  {
   "cell_type": "code",
   "execution_count": 28,
   "metadata": {},
   "outputs": [
    {
     "data": {
      "text/plain": [
       "#9 (generic function with 1 method)"
      ]
     },
     "execution_count": 28,
     "metadata": {},
     "output_type": "execute_result"
    }
   ],
   "source": [
    "func = x -> cos(x) * cos(x)"
   ]
  },
  {
   "cell_type": "code",
   "execution_count": 29,
   "metadata": {},
   "outputs": [
    {
     "name": "stdout",
     "output_type": "stream",
     "text": [
      "[0.125796, 0.665418, 1.64715, 3.09114, 5.02928, 7.50989, 10.606, 14.4316, 19.1789, 25.2177, 33.4972][0.284933, 0.389721, 0.232782, 0.0765645, 0.0143933, 0.00151888, 8.51312e-5, 2.2924e-6, 2.48635e-8, 7.71263e-11, 2.88378e-14]"
     ]
    }
   ],
   "source": [
    "nodes, weights = gausslaguerre(n)\n",
    "print(nodes)\n",
    "print(weights)"
   ]
  },
  {
   "cell_type": "code",
   "execution_count": 30,
   "metadata": {},
   "outputs": [
    {
     "data": {
      "text/plain": [
       "0.600926836650713"
      ]
     },
     "execution_count": 30,
     "metadata": {},
     "output_type": "execute_result"
    }
   ],
   "source": [
    "result = 0.0\n",
    "for i in 1:n\n",
    "    result += weights[i] * func(nodes[i])\n",
    "end\n",
    "result"
   ]
  },
  {
   "cell_type": "code",
   "execution_count": 31,
   "metadata": {},
   "outputs": [
    {
     "data": {
      "text/plain": [
       "0.0009268366507130255"
      ]
     },
     "execution_count": 31,
     "metadata": {},
     "output_type": "execute_result"
    }
   ],
   "source": [
    "error = abs(0.6 -result)"
   ]
  },
  {
   "cell_type": "code",
   "execution_count": 43,
   "metadata": {},
   "outputs": [
    {
     "data": {
      "text/plain": [
       "metoda_zlozona_trapezow (generic function with 1 method)"
      ]
     },
     "execution_count": 43,
     "metadata": {},
     "output_type": "execute_result"
    }
   ],
   "source": [
    "function metoda_zlozona_trapezow(f::Function, a::Float64, b::Float64, n::Int64)\n",
    "    suma = 0.0\n",
    "    h = (b-a)/Float64(n)\n",
    "    for i = 1 : n-1\n",
    "        suma = suma + f(a + i*h)\n",
    "    end\n",
    "    wynik = 0.5*h*(f(a) + f(b) + 2*suma)\n",
    "    return wynik\n",
    "end"
   ]
  },
  {
   "cell_type": "code",
   "execution_count": 32,
   "metadata": {},
   "outputs": [
    {
     "data": {
      "text/plain": [
       "metoda_zlozona_simpsona (generic function with 1 method)"
      ]
     },
     "execution_count": 32,
     "metadata": {},
     "output_type": "execute_result"
    }
   ],
   "source": [
    "function metoda_zlozona_simpsona(f::Function, a::Float64, b::Float64, n::Int64)\n",
    "    if n % 2 == 1\n",
    "        n = n + 1\n",
    "    end\n",
    "    suma1 = 0.0\n",
    "    suma2 = 0.0\n",
    "    h = (b-a)/Float64(n)\n",
    "    for i = 1 : n/2\n",
    "        suma1 = suma1 + f(a + (2*i-1)*h)\n",
    "    end\n",
    "    for i = 1 : (n/2)-1\n",
    "        suma2 = suma2 + f(a + 2*i*h)\n",
    "    end\n",
    "    wynik = h*(f(a) + f(b) + 4*suma1 + 2*suma2)/3.0\n",
    "    return wynik\n",
    "end"
   ]
  },
  {
   "cell_type": "code",
   "execution_count": 33,
   "metadata": {},
   "outputs": [
    {
     "data": {
      "text/plain": [
       "17.075039447306732"
      ]
     },
     "execution_count": 33,
     "metadata": {},
     "output_type": "execute_result"
    }
   ],
   "source": [
    "n_min_s = sqrt(sqrt(pi^5*10^4/36))"
   ]
  },
  {
   "cell_type": "code",
   "execution_count": 57,
   "metadata": {},
   "outputs": [
    {
     "data": {
      "text/plain": [
       "2.0000103477057745"
      ]
     },
     "execution_count": 57,
     "metadata": {},
     "output_type": "execute_result"
    }
   ],
   "source": [
    "rs = metoda_zlozona_simpsona(x->sin(x), 0.0, Float64(pi), Int64(18))"
   ]
  },
  {
   "cell_type": "code",
   "execution_count": 58,
   "metadata": {},
   "outputs": [
    {
     "data": {
      "text/plain": [
       "true"
      ]
     },
     "execution_count": 58,
     "metadata": {},
     "output_type": "execute_result"
    }
   ],
   "source": [
    "abs(2 - rs) < 2*10^(-5)"
   ]
  },
  {
   "cell_type": "code",
   "execution_count": 59,
   "metadata": {},
   "outputs": [
    {
     "data": {
      "text/plain": [
       "359.43402663249515"
      ]
     },
     "execution_count": 59,
     "metadata": {},
     "output_type": "execute_result"
    }
   ],
   "source": [
    "n_min_t = sqrt(pi^3*10^5/24)"
   ]
  },
  {
   "cell_type": "code",
   "execution_count": 64,
   "metadata": {},
   "outputs": [
    {
     "data": {
      "text/plain": [
       "1.9999873075914"
      ]
     },
     "execution_count": 64,
     "metadata": {},
     "output_type": "execute_result"
    }
   ],
   "source": [
    "rt = metoda_zlozona_trapezow(x->sin(x), 0.0, Float64(pi), Int64(360))"
   ]
  },
  {
   "cell_type": "code",
   "execution_count": 65,
   "metadata": {},
   "outputs": [
    {
     "data": {
      "text/plain": [
       "true"
      ]
     },
     "execution_count": 65,
     "metadata": {},
     "output_type": "execute_result"
    }
   ],
   "source": [
    "abs(2 - rt) < 2*10^(-5)"
   ]
  }
 ],
 "metadata": {
  "kernelspec": {
   "display_name": "Julia 1.0.4",
   "language": "julia",
   "name": "julia-1.0"
  },
  "language_info": {
   "file_extension": ".jl",
   "mimetype": "application/julia",
   "name": "julia",
   "version": "1.0.4"
  }
 },
 "nbformat": 4,
 "nbformat_minor": 2
}
