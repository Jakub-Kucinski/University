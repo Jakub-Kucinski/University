{
 "cells": [
  {
   "cell_type": "code",
   "execution_count": 2,
   "metadata": {},
   "outputs": [
    {
     "name": "stdout",
     "output_type": "stream",
     "text": [
      "\u001b[32m\u001b[1m  Updating\u001b[22m\u001b[39m registry at `~/.julia/registries/General`\n",
      "\u001b[32m\u001b[1m  Updating\u001b[22m\u001b[39m git-repo `https://github.com/JuliaRegistries/General.git`\n",
      "\u001b[2K\u001b[?25h[1mFetching:\u001b[22m\u001b[39m [========================================>]  100.0 %.0 %]  21.2 %>                       ]  41.1 %              ]  63.8 %>   ]  90.7 %\u001b[32m\u001b[1m Resolving\u001b[22m\u001b[39m package versions...\n",
      "\u001b[32m\u001b[1m Installed\u001b[22m\u001b[39m URIParser ─────────── v0.4.0\n",
      "\u001b[32m\u001b[1m Installed\u001b[22m\u001b[39m FixedPointNumbers ─── v0.7.1\n",
      "\u001b[32m\u001b[1m Installed\u001b[22m\u001b[39m ZMQ ───────────────── v1.1.0\n",
      "\u001b[32m\u001b[1m Installed\u001b[22m\u001b[39m SpecialFunctions ──── v0.8.0\n",
      "\u001b[32m\u001b[1m Installed\u001b[22m\u001b[39m GeometryTypes ─────── v0.7.7\n",
      "\u001b[32m\u001b[1m Installed\u001b[22m\u001b[39m FastGaussQuadrature ─ v0.4.1\n",
      "\u001b[32m\u001b[1m Installed\u001b[22m\u001b[39m DataStructures ────── v0.17.7\n",
      "\u001b[32m\u001b[1m Installed\u001b[22m\u001b[39m Colors ────────────── v0.11.2\n",
      "\u001b[32m\u001b[1m Installed\u001b[22m\u001b[39m BinDeps ───────────── v1.0.0\n",
      "\u001b[32m\u001b[1m  Updating\u001b[22m\u001b[39m `~/.julia/environments/v1.0/Project.toml`\n",
      " \u001b[90m [442a2c76]\u001b[39m\u001b[92m + FastGaussQuadrature v0.4.1\u001b[39m\n",
      "\u001b[32m\u001b[1m  Updating\u001b[22m\u001b[39m `~/.julia/environments/v1.0/Manifest.toml`\n",
      " \u001b[90m [9e28174c]\u001b[39m\u001b[92m + BinDeps v1.0.0\u001b[39m\n",
      " \u001b[90m [5ae59095]\u001b[39m\u001b[93m ↑ Colors v0.11.0 ⇒ v0.11.2\u001b[39m\n",
      " \u001b[90m [864edb3b]\u001b[39m\u001b[93m ↑ DataStructures v0.17.6 ⇒ v0.17.7\u001b[39m\n",
      " \u001b[90m [442a2c76]\u001b[39m\u001b[92m + FastGaussQuadrature v0.4.1\u001b[39m\n",
      " \u001b[90m [53c48c17]\u001b[39m\u001b[93m ↑ FixedPointNumbers v0.7.0 ⇒ v0.7.1\u001b[39m\n",
      " \u001b[90m [4d00f742]\u001b[39m\u001b[93m ↑ GeometryTypes v0.7.6 ⇒ v0.7.7\u001b[39m\n",
      " \u001b[90m [c8e1da08]\u001b[39m\u001b[91m - IterTools v1.3.0\u001b[39m\n",
      " \u001b[90m [276daf66]\u001b[39m\u001b[92m + SpecialFunctions v0.8.0\u001b[39m\n",
      " \u001b[90m [30578b45]\u001b[39m\u001b[92m + URIParser v0.4.0\u001b[39m\n",
      " \u001b[90m [c2297ded]\u001b[39m\u001b[93m ↑ ZMQ v1.0.0 ⇒ v1.1.0\u001b[39m\n",
      "\u001b[32m\u001b[1m  Building\u001b[22m\u001b[39m SpecialFunctions → `~/.julia/packages/SpecialFunctions/ne2iw/deps/build.log`\n",
      "\u001b[32m\u001b[1m  Building\u001b[22m\u001b[39m ZMQ ─────────────→ `~/.julia/packages/ZMQ/ItfqT/deps/build.log`\n"
     ]
    }
   ],
   "source": [
    "import Pkg; Pkg.add(\"FastGaussQuadrature\")"
   ]
  },
  {
   "cell_type": "code",
   "execution_count": 4,
   "metadata": {},
   "outputs": [],
   "source": [
    "using FastGaussQuadrature"
   ]
  },
  {
   "cell_type": "code",
   "execution_count": 27,
   "metadata": {},
   "outputs": [
    {
     "data": {
      "text/plain": [
       "11"
      ]
     },
     "execution_count": 27,
     "metadata": {},
     "output_type": "execute_result"
    }
   ],
   "source": [
    "n = 11"
   ]
  },
  {
   "cell_type": "code",
   "execution_count": 28,
   "metadata": {},
   "outputs": [
    {
     "data": {
      "text/plain": [
       "#9 (generic function with 1 method)"
      ]
     },
     "execution_count": 28,
     "metadata": {},
     "output_type": "execute_result"
    }
   ],
   "source": [
    "func = x -> cos(x) * cos(x)"
   ]
  },
  {
   "cell_type": "code",
   "execution_count": 29,
   "metadata": {},
   "outputs": [
    {
     "name": "stdout",
     "output_type": "stream",
     "text": [
      "[0.125796, 0.665418, 1.64715, 3.09114, 5.02928, 7.50989, 10.606, 14.4316, 19.1789, 25.2177, 33.4972][0.284933, 0.389721, 0.232782, 0.0765645, 0.0143933, 0.00151888, 8.51312e-5, 2.2924e-6, 2.48635e-8, 7.71263e-11, 2.88378e-14]"
     ]
    }
   ],
   "source": [
    "nodes, weights = gausslaguerre(n)\n",
    "print(nodes)\n",
    "print(weights)"
   ]
  },
  {
   "cell_type": "code",
   "execution_count": 30,
   "metadata": {},
   "outputs": [
    {
     "data": {
      "text/plain": [
       "0.600926836650713"
      ]
     },
     "execution_count": 30,
     "metadata": {},
     "output_type": "execute_result"
    }
   ],
   "source": [
    "result = 0.0\n",
    "for i in 1:n\n",
    "    result += weights[i] * func(nodes[i])\n",
    "end\n",
    "result"
   ]
  },
  {
   "cell_type": "code",
   "execution_count": 31,
   "metadata": {},
   "outputs": [
    {
     "data": {
      "text/plain": [
       "0.0009268366507130255"
      ]
     },
     "execution_count": 31,
     "metadata": {},
     "output_type": "execute_result"
    }
   ],
   "source": [
    "error = abs(0.6 -result)"
   ]
  },
  {
   "cell_type": "code",
   "execution_count": 43,
   "metadata": {},
   "outputs": [
    {
     "data": {
      "text/plain": [
       "metoda_zlozona_trapezow (generic function with 1 method)"
      ]
     },
     "execution_count": 43,
     "metadata": {},
     "output_type": "execute_result"
    }
   ],
   "source": [
    "function metoda_zlozona_trapezow(f::Function, a::Float64, b::Float64, n::Int64)\n",
    "    suma = 0.0\n",
    "    h = (b-a)/Float64(n)\n",
    "    for i = 1 : n-1\n",
    "        suma = suma + f(a + i*h)\n",
    "    end\n",
    "    wynik = 0.5*h*(f(a) + f(b) + 2*suma)\n",
    "    return wynik\n",
    "end"
   ]
  },
  {
   "cell_type": "code",
   "execution_count": 32,
   "metadata": {},
   "outputs": [
    {
     "data": {
      "text/plain": [
       "metoda_zlozona_simpsona (generic function with 1 method)"
      ]
     },
     "execution_count": 32,
     "metadata": {},
     "output_type": "execute_result"
    }
   ],
   "source": [
    "function metoda_zlozona_simpsona(f::Function, a::Float64, b::Float64, n::Int64)\n",
    "    if n % 2 == 1\n",
    "        n = n + 1\n",
    "    end\n",
    "    suma1 = 0.0\n",
    "    suma2 = 0.0\n",
    "    h = (b-a)/Float64(n)\n",
    "    for i = 1 : n/2\n",
    "        suma1 = suma1 + f(a + (2*i-1)*h)\n",
    "    end\n",
    "    for i = 1 : (n/2)-1\n",
    "        suma2 = suma2 + f(a + 2*i*h)\n",
    "    end\n",
    "    wynik = h*(f(a) + f(b) + 4*suma1 + 2*suma2)/3.0\n",
    "    return wynik\n",
    "end"
   ]
  },
  {
   "cell_type": "code",
   "execution_count": 33,
   "metadata": {},
   "outputs": [
    {
     "data": {
      "text/plain": [
       "17.075039447306732"
      ]
     },
     "execution_count": 33,
     "metadata": {},
     "output_type": "execute_result"
    }
   ],
   "source": [
    "n_min_s = sqrt(sqrt(pi^5*10^4/36))"
   ]
  },
  {
   "cell_type": "code",
   "execution_count": 57,
   "metadata": {},
   "outputs": [
    {
     "data": {
      "text/plain": [
       "2.0000103477057745"
      ]
     },
     "execution_count": 57,
     "metadata": {},
     "output_type": "execute_result"
    }
   ],
   "source": [
    "rs = metoda_zlozona_simpsona(x->sin(x), 0.0, Float64(pi), Int64(18))"
   ]
  },
  {
   "cell_type": "code",
   "execution_count": 58,
   "metadata": {},
   "outputs": [
    {
     "data": {
      "text/plain": [
       "true"
      ]
     },
     "execution_count": 58,
     "metadata": {},
     "output_type": "execute_result"
    }
   ],
   "source": [
    "abs(2 - rs) < 2*10^(-5)"
   ]
  },
  {
   "cell_type": "code",
   "execution_count": 59,
   "metadata": {},
   "outputs": [
    {
     "data": {
      "text/plain": [
       "359.43402663249515"
      ]
     },
     "execution_count": 59,
     "metadata": {},
     "output_type": "execute_result"
    }
   ],
   "source": [
    "n_min_t = sqrt(pi^3*10^5/24)"
   ]
  },
  {
   "cell_type": "code",
   "execution_count": 64,
   "metadata": {},
   "outputs": [
    {
     "data": {
      "text/plain": [
       "1.9999873075914"
      ]
     },
     "execution_count": 64,
     "metadata": {},
     "output_type": "execute_result"
    }
   ],
   "source": [
    "rt = metoda_zlozona_trapezow(x->sin(x), 0.0, Float64(pi), Int64(360))"
   ]
  },
  {
   "cell_type": "code",
   "execution_count": 65,
   "metadata": {},
   "outputs": [
    {
     "data": {
      "text/plain": [
       "true"
      ]
     },
     "execution_count": 65,
     "metadata": {},
     "output_type": "execute_result"
    }
   ],
   "source": [
    "abs(2 - rt) < 2*10^(-5)"
   ]
  },
  {
   "cell_type": "code",
   "execution_count": 79,
   "metadata": {},
   "outputs": [
    {
     "data": {
      "text/plain": [
       "AdaptiveSimpson (generic function with 1 method)"
      ]
     },
     "execution_count": 79,
     "metadata": {},
     "output_type": "execute_result"
    }
   ],
   "source": [
    "function AdaptiveSimpson(f::Function, a::Float64, b::Float64)\n",
    "    abstol=1.0e-6\n",
    "    nf = 3;\n",
    "    ff = f([a, (a+b)/2, b]);\n",
    "    nf = 3;\n",
    "    I1 = (b-a)*dot([1,4,1], ff)/6;\n",
    "    function adaptrec(f,a,b,ff,I1,tol,nf)\n",
    "        h = (b-a)/2;\n",
    "        fm = f([a+h/2, b-h/2]);\n",
    "        nf = nf+2;\n",
    "        fR = [ff[2], fm[2], ff[3]];\n",
    "        fL = [ff[1], fm[1], ff[2]];\n",
    "        IL = h*dot([1,3,1],fL)/6;\n",
    "        IR = h*dot([1,4,1], fR)/6;\n",
    "        I2 = Il + IR;\n",
    "        I = I2 + (I2 - I1)/15;\n",
    "        if (abs(I-I2) > tol)\n",
    "            IL, nf = adaptrec(f,a,a+h,fL,IL,tol/2,nf);\n",
    "            IR, nf = adaptrec(f,b-h,b,fR,IR,tol/2,nf);\n",
    "            I = IL + IR;\n",
    "        end\n",
    "        return I, nf;\n",
    "    end\n",
    "    return adaptrec(f,a,b,ff,I1,abstol,nf);\n",
    "end"
   ]
  },
  {
   "cell_type": "code",
   "execution_count": 84,
   "metadata": {},
   "outputs": [
    {
     "data": {
      "text/plain": [
       "#78 (generic function with 1 method)"
      ]
     },
     "execution_count": 84,
     "metadata": {},
     "output_type": "execute_result"
    }
   ],
   "source": [
    "f = x->x"
   ]
  },
  {
   "cell_type": "code",
   "execution_count": 82,
   "metadata": {},
   "outputs": [
    {
     "ename": "UndefVarError",
     "evalue": "UndefVarError: dot not defined",
     "output_type": "error",
     "traceback": [
      "UndefVarError: dot not defined",
      "",
      "Stacktrace:",
      " [1] AdaptiveSimpson(::getfield(Main, Symbol(\"##74#75\")), ::Float64, ::Float64) at ./In[79]:6",
      " [2] top-level scope at In[82]:1"
     ]
    }
   ],
   "source": [
    "AdaptiveSimpson(f, 0.0, 1.0)"
   ]
  },
  {
   "cell_type": "code",
   "execution_count": 72,
   "metadata": {},
   "outputs": [
    {
     "data": {
      "text/plain": [
       "2-element Array{Int32,1}:\n",
       " 1\n",
       " 2"
      ]
     },
     "execution_count": 72,
     "metadata": {},
     "output_type": "execute_result"
    }
   ],
   "source": []
  }
 ],
 "metadata": {
  "kernelspec": {
   "display_name": "Julia 1.0.4",
   "language": "julia",
   "name": "julia-1.0"
  },
  "language_info": {
   "file_extension": ".jl",
   "mimetype": "application/julia",
   "name": "julia",
   "version": "1.0.4"
  }
 },
 "nbformat": 4,
 "nbformat_minor": 2
}
