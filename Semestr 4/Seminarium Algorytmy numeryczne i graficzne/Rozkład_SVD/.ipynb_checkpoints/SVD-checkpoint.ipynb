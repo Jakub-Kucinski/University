{
 "cells": [
  {
   "cell_type": "code",
   "execution_count": 1,
   "metadata": {},
   "outputs": [],
   "source": [
    "import LinearAlgebra\n",
    "import LinearAlgebra.norm\n",
    "import LinearAlgebra.I\n",
    "import LinearAlgebra.svd\n",
    "import LinearAlgebra.Diagonal"
   ]
  },
  {
   "cell_type": "code",
   "execution_count": 2,
   "metadata": {},
   "outputs": [
    {
     "data": {
      "text/plain": [
       "eye (generic function with 1 method)"
      ]
     },
     "execution_count": 2,
     "metadata": {},
     "output_type": "execute_result"
    }
   ],
   "source": [
    "eye(n) = 1.0*Matrix(I,n,n)"
   ]
  },
  {
   "cell_type": "code",
   "execution_count": 3,
   "metadata": {},
   "outputs": [
    {
     "data": {
      "text/plain": [
       "householder (generic function with 1 method)"
      ]
     },
     "execution_count": 3,
     "metadata": {},
     "output_type": "execute_result"
    }
   ],
   "source": [
    "function householder(a)\n",
    "    n = length(a)\n",
    "    α = a[1]\n",
    "    σ = norm(a, 2)\n",
    "    β = 1 + abs(α) / σ\n",
    "    u = zeros(n)\n",
    "    u[1:end] = a[1:end] * (sign(α)/(σ + abs(α)))\n",
    "    u[1] = 1.0\n",
    "    return u, β, - sign(α) * σ\n",
    "end"
   ]
  },
  {
   "cell_type": "code",
   "execution_count": 4,
   "metadata": {},
   "outputs": [
    {
     "data": {
      "text/plain": [
       "upper_bidiagonalization (generic function with 1 method)"
      ]
     },
     "execution_count": 4,
     "metadata": {},
     "output_type": "execute_result"
    }
   ],
   "source": [
    "function upper_bidiagonalization(A)\n",
    "    m = size(A)[1]\n",
    "    n = size(A)[2]\n",
    "    V = eye(n)\n",
    "    B = zeros(m, n)\n",
    "    B[1:m, 1:n] = A[1:m, 1:n]\n",
    "    U = eye(m)\n",
    "    u, r, σ = householder(B[1:end, 1])\n",
    "    s = length(u)\n",
    "    Q = eye(m)\n",
    "    Q[m-s+1:m, m-s+1:m] -= r * u * transpose(u)\n",
    "    B = Q * B\n",
    "    B[2:end, 1] = zeros(s-1)\n",
    "    U = U * Q\n",
    "    if n >= m\n",
    "        for i = 2 : m\n",
    "            u, r, σ = householder(B[i-1, i:end])\n",
    "            s = length(u)\n",
    "            P = eye(n)\n",
    "            P[n-s+1:n, n-s+1:n] -= r * u * transpose(u)\n",
    "            B = B * P\n",
    "            B[i-1, i+1:end] = zeros(s-1)\n",
    "            V = V * P\n",
    "            \n",
    "            u, r, σ = householder(B[i:end, i])\n",
    "            s = length(u)\n",
    "            Q = eye(m)\n",
    "            Q[m-s+1:m, m-s+1:m] -= r * u * transpose(u)\n",
    "            B = Q * B\n",
    "            B[i+1:end, i] = zeros(s-1)\n",
    "            U = U * Q\n",
    "        end\n",
    "        if n > m\n",
    "            u, r, σ = householder(B[m, m+1:end])\n",
    "            s = length(u)\n",
    "            P = eye(n)\n",
    "            P[n-s+1:n, n-s+1:n] -= r * u * transpose(u)\n",
    "            B = B * P\n",
    "            B[m, m+1+1:end] = zeros(s-1)\n",
    "            V = V * P\n",
    "        end\n",
    "    else\n",
    "        for i = 2 : n\n",
    "            u, r, σ = householder(B[i-1, i:end])\n",
    "            s = length(u)\n",
    "            P = eye(n)\n",
    "            P[n-s+1:n, n-s+1:n] -= r * u * transpose(u)\n",
    "            B = B * P\n",
    "            B[i-1, i+1:end] = zeros(s-1)\n",
    "            V = V * P\n",
    "            \n",
    "            u, r, σ = householder(B[i:end, i])\n",
    "            s = length(u)\n",
    "            Q = eye(m)\n",
    "            Q[m-s+1:m, m-s+1:m] -= r * u * transpose(u)\n",
    "            B = Q * B\n",
    "            B[i+1:end, i] = zeros(s-1)\n",
    "            U = U * Q\n",
    "        end\n",
    "    end\n",
    "    return U, B, transpose(V)\n",
    "end"
   ]
  },
  {
   "cell_type": "code",
   "execution_count": 5,
   "metadata": {},
   "outputs": [
    {
     "data": {
      "text/plain": [
       "zero_non_diagonal (generic function with 1 method)"
      ]
     },
     "execution_count": 5,
     "metadata": {},
     "output_type": "execute_result"
    }
   ],
   "source": [
    "function zero_non_diagonal(A)\n",
    "    m = size(A)[1]\n",
    "    n = size(A)[2]\n",
    "    for i = 1 : m\n",
    "        for j = 1 : n\n",
    "            if i != j\n",
    "                A[i, j] = 0\n",
    "            end\n",
    "        end\n",
    "    end\n",
    "end"
   ]
  },
  {
   "cell_type": "code",
   "execution_count": 6,
   "metadata": {},
   "outputs": [
    {
     "data": {
      "text/plain": [
       "givens_rotation (generic function with 1 method)"
      ]
     },
     "execution_count": 6,
     "metadata": {},
     "output_type": "execute_result"
    }
   ],
   "source": [
    "function givens_rotation(f, g)\n",
    "    c = 0.0\n",
    "    s = 0.0\n",
    "    r = 0.0\n",
    "    if f == 0.0 \n",
    "        c = 0.0\n",
    "        s = 1.0\n",
    "        r = g\n",
    "    elseif abs(f) > abs(g)\n",
    "        t = g / f\n",
    "        t_1 = sqrt(1.0 + t * t)\n",
    "        c = 1.0 / t_1\n",
    "        s = t * c\n",
    "        r = f * t_1\n",
    "    else \n",
    "        t = f / g\n",
    "        t_1 = sqrt(1.0 + t * t) \n",
    "        s = 1 / t_1\n",
    "        c = t * s \n",
    "        r = g * t_1 \n",
    "    end\n",
    "    return c, s, r\n",
    "end"
   ]
  },
  {
   "cell_type": "code",
   "execution_count": 7,
   "metadata": {},
   "outputs": [
    {
     "data": {
      "text/plain": [
       "zero_shift_qr_for_m_geq_n (generic function with 1 method)"
      ]
     },
     "execution_count": 7,
     "metadata": {},
     "output_type": "execute_result"
    }
   ],
   "source": [
    "function zero_shift_qr_for_m_geq_n(A)\n",
    "    m = size(A)[1]\n",
    "    n = size(A)[2]\n",
    "    B = zeros(m, n)\n",
    "    B[1:m, 1:n] = A[1:m, 1:n]\n",
    "    L = eye(m)\n",
    "    P = eye(n)\n",
    "    p = 100\n",
    "    for k = 1 : 2*p\n",
    "        for i = 1 : n - 1\n",
    "            c, s, r = givens_rotation(B[i,i], B[i,i+1])\n",
    "\n",
    "    #       % construct matrix Q and multiply on the right by Q^T\n",
    "    #       % this annihilates both B(i-1,i+1) and B(i,i+1) \n",
    "    #       % but makes B(i+1,i) non-zero\n",
    "            \n",
    "            Q = eye(n)\n",
    "            Q[i:i+1, i:i+1] = [c s; -s c]\n",
    "            B = B * transpose(Q)\n",
    "            P = P * transpose(Q)\n",
    "            c, s, r = givens_rotation(B[i,i], B[i+1,i])\n",
    "\n",
    "    #       % construct matrix Q and multiply on the left by Q\n",
    "    #       % This annihilates B(i+1,i) but makes B(i,i+1) and\n",
    "    #       % B(i,i+2) non-zero\n",
    "            \n",
    "            Q = eye(m)\n",
    "            Q[i:i+1,i:i+1] = [c s; -s c]\n",
    "            B = Q * B\n",
    "            L = Q * L\n",
    "        end\n",
    "    end\n",
    "    return transpose(L), B, transpose(P)\n",
    "end"
   ]
  },
  {
   "cell_type": "code",
   "execution_count": 8,
   "metadata": {},
   "outputs": [
    {
     "data": {
      "text/plain": [
       "absolute_eigenvalues (generic function with 1 method)"
      ]
     },
     "execution_count": 8,
     "metadata": {},
     "output_type": "execute_result"
    }
   ],
   "source": [
    "function absolute_eigenvalues(U, Σ)\n",
    "    m = size(Σ)[1]\n",
    "    n = size(Σ)[2]\n",
    "    k = min(m, n)\n",
    "    for i = 1 : k\n",
    "        if Σ[i, i] < 0 \n",
    "            Σ[i, i] = Σ[i, i] * (-1.0)\n",
    "            for j = 1 : m\n",
    "                U[j, i] = U[j, i] * (-1.0)\n",
    "            end\n",
    "        end\n",
    "    end\n",
    "end"
   ]
  },
  {
   "cell_type": "code",
   "execution_count": 9,
   "metadata": {},
   "outputs": [
    {
     "data": {
      "text/plain": [
       "singular_value_decomposition (generic function with 1 method)"
      ]
     },
     "execution_count": 9,
     "metadata": {},
     "output_type": "execute_result"
    }
   ],
   "source": [
    "function singular_value_decomposition(A)\n",
    "    m = size(A)[1]\n",
    "    n = size(A)[2]\n",
    "    if m >= n\n",
    "        U, B, V_T = upper_bidiagonalization(A)\n",
    "        L, Σ, P = zero_shift_qr_for_m_geq_n(B)\n",
    "        zero_non_diagonal(Σ)\n",
    "        X = zeros(size(U*L))\n",
    "        X[1:m, 1:m] = (U*L)[1:m, 1:m]\n",
    "        absolute_eigenvalues(X, Σ)\n",
    "        return X, Σ, P*V_T\n",
    "    else\n",
    "        U, B, V_T = upper_bidiagonalization(transpose(A))\n",
    "        L, Σ, P = zero_shift_qr_for_m_geq_n(B)\n",
    "        precision = 1.0/(2.0^48)\n",
    "        zero_non_diagonal(Σ)\n",
    "        X = zeros(size(transpose(P*V_T)))\n",
    "        X[1:m, 1:m] = (transpose(P*V_T))[1:m, 1:m]\n",
    "        Σ_T = zeros(size(transpose(Σ)))\n",
    "        Σ_T[1:m, 1:n] = (transpose(Σ))[1:m, 1:n]\n",
    "        absolute_eigenvalues(X, Σ_T)\n",
    "        return X, Σ_T, transpose(U*L)\n",
    "    end\n",
    "    \n",
    "end"
   ]
  },
  {
   "cell_type": "code",
   "execution_count": 10,
   "metadata": {},
   "outputs": [
    {
     "data": {
      "text/plain": [
       "5×3 Array{Float64,2}:\n",
       "  1.0   2.0   3.0\n",
       "  4.0   5.0   6.0\n",
       "  7.0   8.0   9.0\n",
       " 10.0  11.0  12.0\n",
       " 13.0  14.0  15.0"
      ]
     },
     "execution_count": 10,
     "metadata": {},
     "output_type": "execute_result"
    }
   ],
   "source": [
    "T = [1. 2. 3.; 4. 5. 6.; 7. 8. 9.; 10. 11. 12.; 13. 14. 15.]"
   ]
  },
  {
   "cell_type": "code",
   "execution_count": 11,
   "metadata": {},
   "outputs": [
    {
     "data": {
      "text/plain": [
       "([-0.101346 0.767938 … -0.168619 0.346815; -0.248569 0.488071 … 0.18527 0.106011; … ; -0.543014 -0.0716624 … 0.781001 -0.0483299; -0.690237 -0.351529 … -0.466484 0.423985], [35.1826 0.0 0.0; 0.0 1.47691 0.0; … ; 0.0 0.0 0.0; 0.0 0.0 0.0], [-0.519273 -0.575521 -0.631769; -0.750792 -0.0459264 0.65894; -0.408248 0.816497 -0.408248])"
      ]
     },
     "execution_count": 11,
     "metadata": {},
     "output_type": "execute_result"
    }
   ],
   "source": [
    "U, D, V_T = singular_value_decomposition(T)"
   ]
  },
  {
   "cell_type": "code",
   "execution_count": 16,
   "metadata": {},
   "outputs": [
    {
     "data": {
      "text/plain": [
       "5×5 Array{Float64,2}:\n",
       " -0.101346   0.767938   -0.501285   -0.168619   0.346815 \n",
       " -0.248569   0.488071    0.808973    0.18527    0.106011 \n",
       " -0.395792   0.208204   -0.062816   -0.331169  -0.828481 \n",
       " -0.543014  -0.0716624  -0.296144    0.781001  -0.0483299\n",
       " -0.690237  -0.351529    0.0512731  -0.466484   0.423985 "
      ]
     },
     "execution_count": 16,
     "metadata": {},
     "output_type": "execute_result"
    }
   ],
   "source": [
    "U"
   ]
  },
  {
   "cell_type": "code",
   "execution_count": 17,
   "metadata": {},
   "outputs": [
    {
     "data": {
      "text/plain": [
       "5×3 Array{Float64,2}:\n",
       " 35.1826  0.0      0.0        \n",
       "  0.0     1.47691  0.0        \n",
       "  0.0     0.0      1.02302e-15\n",
       "  0.0     0.0      0.0        \n",
       "  0.0     0.0      0.0        "
      ]
     },
     "execution_count": 17,
     "metadata": {},
     "output_type": "execute_result"
    }
   ],
   "source": [
    "D"
   ]
  },
  {
   "cell_type": "code",
   "execution_count": 18,
   "metadata": {},
   "outputs": [
    {
     "data": {
      "text/plain": [
       "3×3 Array{Float64,2}:\n",
       " -0.519273  -0.575521   -0.631769\n",
       " -0.750792  -0.0459264   0.65894 \n",
       " -0.408248   0.816497   -0.408248"
      ]
     },
     "execution_count": 18,
     "metadata": {},
     "output_type": "execute_result"
    }
   ],
   "source": [
    "V_T"
   ]
  },
  {
   "cell_type": "code",
   "execution_count": 19,
   "metadata": {},
   "outputs": [
    {
     "data": {
      "text/plain": [
       "5×3 Array{Float64,2}:\n",
       "  1.0   2.0   3.0\n",
       "  4.0   5.0   6.0\n",
       "  7.0   8.0   9.0\n",
       " 10.0  11.0  12.0\n",
       " 13.0  14.0  15.0"
      ]
     },
     "execution_count": 19,
     "metadata": {},
     "output_type": "execute_result"
    }
   ],
   "source": [
    "U*D*V_T"
   ]
  },
  {
   "cell_type": "code",
   "execution_count": null,
   "metadata": {},
   "outputs": [],
   "source": []
  },
  {
   "cell_type": "code",
   "execution_count": 20,
   "metadata": {},
   "outputs": [
    {
     "data": {
      "text/plain": [
       "LinearAlgebra.SVD{Float64,Float64,Array{Float64,2}}([-0.101346 0.767938 -0.220084; -0.248569 0.488071 0.186841; … ; -0.543014 -0.0716624 0.774941; -0.690237 -0.351529 -0.514134], [35.1826, 1.47691, 4.15619e-16], [-0.519273 -0.575521 -0.631769; -0.750792 -0.0459264 0.65894; -0.408248 0.816497 -0.408248])"
      ]
     },
     "execution_count": 20,
     "metadata": {},
     "output_type": "execute_result"
    }
   ],
   "source": [
    "F = svd(T)"
   ]
  },
  {
   "cell_type": "code",
   "execution_count": 21,
   "metadata": {},
   "outputs": [
    {
     "data": {
      "text/plain": [
       "5×3 Array{Float64,2}:\n",
       " -0.101346   0.767938   -0.220084\n",
       " -0.248569   0.488071    0.186841\n",
       " -0.395792   0.208204   -0.227565\n",
       " -0.543014  -0.0716624   0.774941\n",
       " -0.690237  -0.351529   -0.514134"
      ]
     },
     "execution_count": 21,
     "metadata": {},
     "output_type": "execute_result"
    }
   ],
   "source": [
    "F.U"
   ]
  },
  {
   "cell_type": "code",
   "execution_count": 22,
   "metadata": {},
   "outputs": [
    {
     "data": {
      "text/plain": [
       "3-element Array{Float64,1}:\n",
       " 35.182648331894214    \n",
       "  1.476907699980088    \n",
       "  4.156185784097889e-16"
      ]
     },
     "execution_count": 22,
     "metadata": {},
     "output_type": "execute_result"
    }
   ],
   "source": [
    "F.S"
   ]
  },
  {
   "cell_type": "code",
   "execution_count": 23,
   "metadata": {},
   "outputs": [
    {
     "data": {
      "text/plain": [
       "3×3 Array{Float64,2}:\n",
       " -0.519273  -0.575521   -0.631769\n",
       " -0.750792  -0.0459264   0.65894 \n",
       " -0.408248   0.816497   -0.408248"
      ]
     },
     "execution_count": 23,
     "metadata": {},
     "output_type": "execute_result"
    }
   ],
   "source": [
    "F.Vt"
   ]
  },
  {
   "cell_type": "code",
   "execution_count": 24,
   "metadata": {},
   "outputs": [
    {
     "data": {
      "text/plain": [
       "5×3 Array{Float64,2}:\n",
       "  1.0   2.0   3.0\n",
       "  4.0   5.0   6.0\n",
       "  7.0   8.0   9.0\n",
       " 10.0  11.0  12.0\n",
       " 13.0  14.0  15.0"
      ]
     },
     "execution_count": 24,
     "metadata": {},
     "output_type": "execute_result"
    }
   ],
   "source": [
    "F.U * Diagonal(F.S) * F.Vt"
   ]
  },
  {
   "cell_type": "code",
   "execution_count": null,
   "metadata": {},
   "outputs": [],
   "source": []
  },
  {
   "cell_type": "code",
   "execution_count": 25,
   "metadata": {},
   "outputs": [
    {
     "data": {
      "text/plain": [
       "5×5 Array{Float64,2}:\n",
       " 0.643165  0.9303    0.113812  0.658829  0.487808\n",
       " 0.339668  0.142551  0.263919  0.925643  0.216322\n",
       " 0.39469   0.745577  0.903083  0.232201  0.259584\n",
       " 0.996727  0.996432  0.41811   0.386727  0.354792\n",
       " 0.43054   0.309442  0.195831  0.998699  0.985927"
      ]
     },
     "execution_count": 25,
     "metadata": {},
     "output_type": "execute_result"
    }
   ],
   "source": [
    "X = rand(5,5)"
   ]
  },
  {
   "cell_type": "code",
   "execution_count": 26,
   "metadata": {},
   "outputs": [
    {
     "data": {
      "text/plain": [
       "([-0.492658 0.0333786 … -0.0208266 0.722574; -0.314119 -0.404352 … -0.797246 -0.00461684; … ; -0.530373 0.434344 … -0.148354 -0.620534; -0.476642 -0.643462 … 0.549569 -0.222487], [2.75298 0.0 … 0.0 0.0; 0.0 1.10359 … 0.0 0.0; … ; 0.0 0.0 … 0.435231 0.0; 0.0 0.0 … 0.0 0.231739], [-0.47597 -0.533225 … -0.503614 -0.387565; 0.208771 0.513544 … -0.647832 -0.386263; … ; -0.267864 0.0877584 … -0.491247 0.823586; -0.729248 0.602115 … 0.249954 -0.146804])"
      ]
     },
     "execution_count": 26,
     "metadata": {},
     "output_type": "execute_result"
    }
   ],
   "source": [
    "U, D, V_T = singular_value_decomposition(X)"
   ]
  },
  {
   "cell_type": "code",
   "execution_count": 27,
   "metadata": {},
   "outputs": [
    {
     "data": {
      "text/plain": [
       "5×5 Array{Float64,2}:\n",
       " -0.492658   0.0333786  -0.48335    -0.0208266   0.722574  \n",
       " -0.314119  -0.404352    0.319695   -0.797246   -0.00461684\n",
       " -0.387472   0.482377    0.730717    0.199823    0.208091  \n",
       " -0.530373   0.434344   -0.350683   -0.148354   -0.620534  \n",
       " -0.476642  -0.643462    0.0851035   0.549569   -0.222487  "
      ]
     },
     "execution_count": 27,
     "metadata": {},
     "output_type": "execute_result"
    }
   ],
   "source": [
    "U"
   ]
  },
  {
   "cell_type": "code",
   "execution_count": 28,
   "metadata": {},
   "outputs": [
    {
     "data": {
      "text/plain": [
       "5×5 Array{Float64,2}:\n",
       " 2.75298  0.0      0.0       0.0       0.0     \n",
       " 0.0      1.10359  0.0       0.0       0.0     \n",
       " 0.0      0.0      0.638066  0.0       0.0     \n",
       " 0.0      0.0      0.0       0.435231  0.0     \n",
       " 0.0      0.0      0.0       0.0       0.231739"
      ]
     },
     "execution_count": 28,
     "metadata": {},
     "output_type": "execute_result"
    }
   ],
   "source": [
    "D"
   ]
  },
  {
   "cell_type": "code",
   "execution_count": 29,
   "metadata": {},
   "outputs": [
    {
     "data": {
      "text/plain": [
       "5×5 Array{Float64,2}:\n",
       " -0.47597   -0.533225   -0.292042   -0.503614  -0.387565 \n",
       "  0.208771   0.513544    0.351855   -0.647832  -0.386263 \n",
       " -0.355406  -0.285831    0.876558    0.151279  -0.0273583\n",
       " -0.267864   0.0877584   0.0304955  -0.491247   0.823586 \n",
       " -0.729248   0.602115   -0.147058    0.249954  -0.146804 "
      ]
     },
     "execution_count": 29,
     "metadata": {},
     "output_type": "execute_result"
    }
   ],
   "source": [
    "V_T"
   ]
  },
  {
   "cell_type": "code",
   "execution_count": 30,
   "metadata": {},
   "outputs": [
    {
     "data": {
      "text/plain": [
       "5×5 Array{Float64,2}:\n",
       " 0.643165  0.9303    0.113812  0.658829  0.487808\n",
       " 0.339668  0.142551  0.263919  0.925643  0.216322\n",
       " 0.39469   0.745577  0.903083  0.232201  0.259584\n",
       " 0.996727  0.996432  0.41811   0.386727  0.354792\n",
       " 0.43054   0.309442  0.195831  0.998699  0.985927"
      ]
     },
     "execution_count": 30,
     "metadata": {},
     "output_type": "execute_result"
    }
   ],
   "source": [
    "U*D*V_T"
   ]
  },
  {
   "cell_type": "code",
   "execution_count": 37,
   "metadata": {},
   "outputs": [
    {
     "data": {
      "text/plain": [
       "5×5 Array{Float64,2}:\n",
       " 0.643165  0.9303    0.113812  0.658829  0.487808\n",
       " 0.339668  0.142551  0.263919  0.925643  0.216322\n",
       " 0.39469   0.745577  0.903083  0.232201  0.259584\n",
       " 0.996727  0.996432  0.41811   0.386727  0.354792\n",
       " 0.43054   0.309442  0.195831  0.998699  0.985927"
      ]
     },
     "execution_count": 37,
     "metadata": {},
     "output_type": "execute_result"
    }
   ],
   "source": [
    "X"
   ]
  },
  {
   "cell_type": "code",
   "execution_count": null,
   "metadata": {},
   "outputs": [],
   "source": []
  },
  {
   "cell_type": "code",
   "execution_count": 31,
   "metadata": {},
   "outputs": [
    {
     "data": {
      "text/plain": [
       "LinearAlgebra.SVD{Float64,Float64,Array{Float64,2}}([-0.492658 0.0333786 … 0.0208266 -0.722574; -0.314119 -0.404352 … 0.797246 0.00461684; … ; -0.530373 0.434344 … 0.148354 0.620534; -0.476642 -0.643462 … -0.549569 0.222487], [2.75298, 1.10359, 0.638066, 0.435231, 0.231739], [-0.47597 -0.533225 … -0.503614 -0.387565; 0.208771 0.513544 … -0.647832 -0.386263; … ; 0.267864 -0.0877584 … 0.491247 -0.823586; 0.729248 -0.602115 … -0.249954 0.146804])"
      ]
     },
     "execution_count": 31,
     "metadata": {},
     "output_type": "execute_result"
    }
   ],
   "source": [
    "F = svd(X)"
   ]
  },
  {
   "cell_type": "code",
   "execution_count": 32,
   "metadata": {},
   "outputs": [
    {
     "data": {
      "text/plain": [
       "5×5 Array{Float64,2}:\n",
       " -0.492658   0.0333786  -0.48335     0.0208266  -0.722574  \n",
       " -0.314119  -0.404352    0.319695    0.797246    0.00461684\n",
       " -0.387472   0.482377    0.730717   -0.199823   -0.208091  \n",
       " -0.530373   0.434344   -0.350683    0.148354    0.620534  \n",
       " -0.476642  -0.643462    0.0851035  -0.549569    0.222487  "
      ]
     },
     "execution_count": 32,
     "metadata": {},
     "output_type": "execute_result"
    }
   ],
   "source": [
    "F.U"
   ]
  },
  {
   "cell_type": "code",
   "execution_count": 33,
   "metadata": {},
   "outputs": [
    {
     "data": {
      "text/plain": [
       "5-element Array{Float64,1}:\n",
       " 2.7529837812703097 \n",
       " 1.1035870997241983 \n",
       " 0.6380662043997454 \n",
       " 0.43523085093227837\n",
       " 0.23173900941131828"
      ]
     },
     "execution_count": 33,
     "metadata": {},
     "output_type": "execute_result"
    }
   ],
   "source": [
    "F.S"
   ]
  },
  {
   "cell_type": "code",
   "execution_count": 34,
   "metadata": {},
   "outputs": [
    {
     "data": {
      "text/plain": [
       "5×5 Array{Float64,2}:\n",
       " -0.47597   -0.533225   -0.292042   -0.503614  -0.387565 \n",
       "  0.208771   0.513544    0.351855   -0.647832  -0.386263 \n",
       " -0.355406  -0.285831    0.876558    0.151279  -0.0273583\n",
       "  0.267864  -0.0877584  -0.0304955   0.491247  -0.823586 \n",
       "  0.729248  -0.602115    0.147058   -0.249954   0.146804 "
      ]
     },
     "execution_count": 34,
     "metadata": {},
     "output_type": "execute_result"
    }
   ],
   "source": [
    "F.Vt"
   ]
  },
  {
   "cell_type": "code",
   "execution_count": 35,
   "metadata": {},
   "outputs": [
    {
     "data": {
      "text/plain": [
       "5×5 Array{Float64,2}:\n",
       " 0.643165  0.9303    0.113812  0.658829  0.487808\n",
       " 0.339668  0.142551  0.263919  0.925643  0.216322\n",
       " 0.39469   0.745577  0.903083  0.232201  0.259584\n",
       " 0.996727  0.996432  0.41811   0.386727  0.354792\n",
       " 0.43054   0.309442  0.195831  0.998699  0.985927"
      ]
     },
     "execution_count": 35,
     "metadata": {},
     "output_type": "execute_result"
    }
   ],
   "source": [
    "F.U * Diagonal(F.S) * F.Vt"
   ]
  },
  {
   "cell_type": "code",
   "execution_count": 36,
   "metadata": {},
   "outputs": [
    {
     "data": {
      "text/plain": [
       "5×5 Array{Float64,2}:\n",
       " 0.643165  0.9303    0.113812  0.658829  0.487808\n",
       " 0.339668  0.142551  0.263919  0.925643  0.216322\n",
       " 0.39469   0.745577  0.903083  0.232201  0.259584\n",
       " 0.996727  0.996432  0.41811   0.386727  0.354792\n",
       " 0.43054   0.309442  0.195831  0.998699  0.985927"
      ]
     },
     "execution_count": 36,
     "metadata": {},
     "output_type": "execute_result"
    }
   ],
   "source": [
    "X"
   ]
  },
  {
   "cell_type": "code",
   "execution_count": null,
   "metadata": {},
   "outputs": [],
   "source": []
  },
  {
   "cell_type": "code",
   "execution_count": 38,
   "metadata": {},
   "outputs": [
    {
     "data": {
      "text/plain": [
       "3×5 Array{Float64,2}:\n",
       " 1.0  4.0  7.0  10.0  13.0\n",
       " 2.0  5.0  8.0  11.0  14.0\n",
       " 3.0  6.0  9.0  12.0  15.0"
      ]
     },
     "execution_count": 38,
     "metadata": {},
     "output_type": "execute_result"
    }
   ],
   "source": [
    "Y = zeros(size(transpose(T)))\n",
    "Y[1:3, 1:5] = transpose(T)[1:3, 1:5]"
   ]
  },
  {
   "cell_type": "code",
   "execution_count": 39,
   "metadata": {
    "scrolled": true
   },
   "outputs": [
    {
     "data": {
      "text/plain": [
       "([-0.519273 0.750792 0.408248; -0.575521 0.0459264 -0.816497; -0.631769 -0.65894 0.408248], [35.1826 0.0 … 0.0 0.0; 0.0 1.47691 … 0.0 0.0; 0.0 0.0 … 0.0 0.0], [-0.101346 -0.248569 … -0.543014 -0.690237; -0.767938 -0.488071 … 0.0716624 0.351529; … ; -0.168619 0.18527 … 0.781001 -0.466484; 0.346815 0.106011 … -0.0483299 0.423985])"
      ]
     },
     "execution_count": 39,
     "metadata": {},
     "output_type": "execute_result"
    }
   ],
   "source": [
    "U, D, V_T = singular_value_decomposition(Y)"
   ]
  },
  {
   "cell_type": "code",
   "execution_count": 40,
   "metadata": {
    "scrolled": true
   },
   "outputs": [
    {
     "data": {
      "text/plain": [
       "3×3 Array{Float64,2}:\n",
       " -0.519273   0.750792    0.408248\n",
       " -0.575521   0.0459264  -0.816497\n",
       " -0.631769  -0.65894     0.408248"
      ]
     },
     "execution_count": 40,
     "metadata": {},
     "output_type": "execute_result"
    }
   ],
   "source": [
    "U"
   ]
  },
  {
   "cell_type": "code",
   "execution_count": 41,
   "metadata": {},
   "outputs": [
    {
     "data": {
      "text/plain": [
       "3×5 Array{Float64,2}:\n",
       " 35.1826  0.0      0.0          0.0  0.0\n",
       "  0.0     1.47691  0.0          0.0  0.0\n",
       "  0.0     0.0      1.02302e-15  0.0  0.0"
      ]
     },
     "execution_count": 41,
     "metadata": {},
     "output_type": "execute_result"
    }
   ],
   "source": [
    "D"
   ]
  },
  {
   "cell_type": "code",
   "execution_count": 42,
   "metadata": {},
   "outputs": [
    {
     "data": {
      "text/plain": [
       "5×5 LinearAlgebra.Transpose{Float64,Array{Float64,2}}:\n",
       " -0.101346  -0.248569  -0.395792  -0.543014   -0.690237 \n",
       " -0.767938  -0.488071  -0.208204   0.0716624   0.351529 \n",
       "  0.501285  -0.808973   0.062816   0.296144   -0.0512731\n",
       " -0.168619   0.18527   -0.331169   0.781001   -0.466484 \n",
       "  0.346815   0.106011  -0.828481  -0.0483299   0.423985 "
      ]
     },
     "execution_count": 42,
     "metadata": {},
     "output_type": "execute_result"
    }
   ],
   "source": [
    "V_T"
   ]
  },
  {
   "cell_type": "code",
   "execution_count": 43,
   "metadata": {},
   "outputs": [
    {
     "data": {
      "text/plain": [
       "3×5 Array{Float64,2}:\n",
       " 1.0  4.0  7.0  10.0  13.0\n",
       " 2.0  5.0  8.0  11.0  14.0\n",
       " 3.0  6.0  9.0  12.0  15.0"
      ]
     },
     "execution_count": 43,
     "metadata": {},
     "output_type": "execute_result"
    }
   ],
   "source": [
    "U*D*V_T"
   ]
  },
  {
   "cell_type": "code",
   "execution_count": null,
   "metadata": {},
   "outputs": [],
   "source": []
  },
  {
   "cell_type": "code",
   "execution_count": null,
   "metadata": {},
   "outputs": [],
   "source": []
  },
  {
   "cell_type": "code",
   "execution_count": null,
   "metadata": {},
   "outputs": [],
   "source": []
  }
 ],
 "metadata": {
  "kernelspec": {
   "display_name": "Julia 1.0.4",
   "language": "julia",
   "name": "julia-1.0"
  },
  "language_info": {
   "file_extension": ".jl",
   "mimetype": "application/julia",
   "name": "julia",
   "version": "1.0.4"
  }
 },
 "nbformat": 4,
 "nbformat_minor": 2
}
