{
 "cells": [
  {
   "cell_type": "code",
   "execution_count": 6,
   "metadata": {},
   "outputs": [],
   "source": [
    "import LinearAlgebra"
   ]
  },
  {
   "cell_type": "code",
   "execution_count": 7,
   "metadata": {},
   "outputs": [],
   "source": [
    "import LinearAlgebra.norm"
   ]
  },
  {
   "cell_type": "code",
   "execution_count": 8,
   "metadata": {},
   "outputs": [],
   "source": [
    "import LinearAlgebra.I"
   ]
  },
  {
   "cell_type": "code",
   "execution_count": 67,
   "metadata": {},
   "outputs": [],
   "source": [
    "import LinearAlgebra.qr"
   ]
  },
  {
   "cell_type": "code",
   "execution_count": 9,
   "metadata": {},
   "outputs": [
    {
     "data": {
      "text/plain": [
       "3×3 Array{Int32,2}:\n",
       " 1  2  3\n",
       " 4  1  6\n",
       " 7  8  1"
      ]
     },
     "execution_count": 9,
     "metadata": {},
     "output_type": "execute_result"
    }
   ],
   "source": [
    "T = [1 2 3; 4 1 6; 7 8 1]"
   ]
  },
  {
   "cell_type": "code",
   "execution_count": 10,
   "metadata": {},
   "outputs": [
    {
     "data": {
      "text/plain": [
       "2×2 Array{Int32,2}:\n",
       "  8   2\n",
       " 14  16"
      ]
     },
     "execution_count": 10,
     "metadata": {},
     "output_type": "execute_result"
    }
   ],
   "source": [
    "T[2:3, 1:2] = T[2:3, 1:2] * 2"
   ]
  },
  {
   "cell_type": "code",
   "execution_count": 11,
   "metadata": {},
   "outputs": [
    {
     "data": {
      "text/plain": [
       "3×3 Array{Int32,2}:\n",
       "  1   2  3\n",
       "  8   2  6\n",
       " 14  16  1"
      ]
     },
     "execution_count": 11,
     "metadata": {},
     "output_type": "execute_result"
    }
   ],
   "source": [
    "T"
   ]
  },
  {
   "cell_type": "code",
   "execution_count": 12,
   "metadata": {},
   "outputs": [
    {
     "data": {
      "text/plain": [
       "3-element Array{Int32,1}:\n",
       " 1\n",
       " 2\n",
       " 3"
      ]
     },
     "execution_count": 12,
     "metadata": {},
     "output_type": "execute_result"
    }
   ],
   "source": [
    "T[1, :]"
   ]
  },
  {
   "cell_type": "code",
   "execution_count": 13,
   "metadata": {},
   "outputs": [
    {
     "data": {
      "text/plain": [
       "3×1 Array{Int32,2}:\n",
       " 14\n",
       " 30\n",
       " 49"
      ]
     },
     "execution_count": 13,
     "metadata": {},
     "output_type": "execute_result"
    }
   ],
   "source": [
    "T * transpose([1 2 3])"
   ]
  },
  {
   "cell_type": "code",
   "execution_count": 14,
   "metadata": {},
   "outputs": [
    {
     "data": {
      "text/plain": [
       "3-element Array{Int32,1}:\n",
       " 14\n",
       " 30\n",
       " 49"
      ]
     },
     "execution_count": 14,
     "metadata": {},
     "output_type": "execute_result"
    }
   ],
   "source": [
    "T * [1,2,3]"
   ]
  },
  {
   "cell_type": "code",
   "execution_count": 15,
   "metadata": {},
   "outputs": [
    {
     "data": {
      "text/plain": [
       "3-element Array{Float64,1}:\n",
       " 0.0\n",
       " 4.0\n",
       " 6.0"
      ]
     },
     "execution_count": 15,
     "metadata": {},
     "output_type": "execute_result"
    }
   ],
   "source": [
    "x = [1.0,2.0,3.0]\n",
    "y = zeros(Float64, 3)\n",
    "y[2:3] = x[2:3] * 2\n",
    "y"
   ]
  },
  {
   "cell_type": "code",
   "execution_count": 16,
   "metadata": {},
   "outputs": [
    {
     "data": {
      "text/plain": [
       "3-element Array{Float64,1}:\n",
       " 4.0\n",
       " 7.0\n",
       " 2.0"
      ]
     },
     "execution_count": 16,
     "metadata": {},
     "output_type": "execute_result"
    }
   ],
   "source": [
    "a = [4., 7., 2.]"
   ]
  },
  {
   "cell_type": "code",
   "execution_count": 17,
   "metadata": {},
   "outputs": [
    {
     "data": {
      "text/plain": [
       "2-element Array{Float64,1}:\n",
       " 7.0\n",
       " 2.0"
      ]
     },
     "execution_count": 17,
     "metadata": {},
     "output_type": "execute_result"
    }
   ],
   "source": [
    "a[2:3]"
   ]
  },
  {
   "cell_type": "code",
   "execution_count": 18,
   "metadata": {},
   "outputs": [
    {
     "data": {
      "text/plain": [
       "(3,)"
      ]
     },
     "execution_count": 18,
     "metadata": {},
     "output_type": "execute_result"
    }
   ],
   "source": [
    "size(a)"
   ]
  },
  {
   "cell_type": "code",
   "execution_count": 19,
   "metadata": {},
   "outputs": [
    {
     "data": {
      "text/plain": [
       "3"
      ]
     },
     "execution_count": 19,
     "metadata": {},
     "output_type": "execute_result"
    }
   ],
   "source": [
    "length(a)"
   ]
  },
  {
   "cell_type": "code",
   "execution_count": null,
   "metadata": {},
   "outputs": [],
   "source": []
  },
  {
   "cell_type": "code",
   "execution_count": null,
   "metadata": {},
   "outputs": [],
   "source": []
  },
  {
   "cell_type": "code",
   "execution_count": 20,
   "metadata": {},
   "outputs": [
    {
     "data": {
      "text/plain": [
       "eye (generic function with 1 method)"
      ]
     },
     "execution_count": 20,
     "metadata": {},
     "output_type": "execute_result"
    }
   ],
   "source": [
    "eye(n) = 1.0*Matrix(I,n,n)"
   ]
  },
  {
   "cell_type": "code",
   "execution_count": 21,
   "metadata": {},
   "outputs": [
    {
     "data": {
      "text/plain": [
       "3×3 Array{Float64,2}:\n",
       " 1.0  0.0  0.0\n",
       " 0.0  1.0  0.0\n",
       " 0.0  0.0  1.0"
      ]
     },
     "execution_count": 21,
     "metadata": {},
     "output_type": "execute_result"
    }
   ],
   "source": [
    "eye(length(a))"
   ]
  },
  {
   "cell_type": "code",
   "execution_count": 22,
   "metadata": {},
   "outputs": [
    {
     "data": {
      "text/plain": [
       "e (generic function with 1 method)"
      ]
     },
     "execution_count": 22,
     "metadata": {},
     "output_type": "execute_result"
    }
   ],
   "source": [
    "function e(i,n)\n",
    "    e_i = zeros(n)\n",
    "    e_i[i] = 1\n",
    "    return e_i\n",
    "end"
   ]
  },
  {
   "cell_type": "code",
   "execution_count": null,
   "metadata": {},
   "outputs": [],
   "source": []
  },
  {
   "cell_type": "code",
   "execution_count": null,
   "metadata": {},
   "outputs": [],
   "source": []
  },
  {
   "cell_type": "code",
   "execution_count": 23,
   "metadata": {},
   "outputs": [
    {
     "data": {
      "text/plain": [
       "h3 (generic function with 1 method)"
      ]
     },
     "execution_count": 23,
     "metadata": {},
     "output_type": "execute_result"
    }
   ],
   "source": [
    "function h3(a)\n",
    "    n = length(a)\n",
    "    α = a[1]\n",
    "    σ = norm(a, 2)\n",
    "    β = 1 + abs(α) / σ\n",
    "    u = zeros(n)\n",
    "    u[1:end] = a[1:end] * (sign(α)/(σ + abs(α)))\n",
    "    u[1] = 1.0\n",
    "    return u, β, - sign(α) * σ\n",
    "end"
   ]
  },
  {
   "cell_type": "code",
   "execution_count": 24,
   "metadata": {},
   "outputs": [
    {
     "data": {
      "text/plain": [
       "householder (generic function with 1 method)"
      ]
     },
     "execution_count": 24,
     "metadata": {},
     "output_type": "execute_result"
    }
   ],
   "source": [
    "# Nie działa\n",
    "function householder(a)\n",
    "    n = length(a)\n",
    "    α = a[1]\n",
    "    σ = - sign(α) * norm(a, 2)\n",
    "    β = 1 + abs(α/σ)\n",
    "#     β = a[1] + abs(α / σ)\n",
    "    ρ = σ * β\n",
    "    u = zeros(n)\n",
    "    u[1] = 1.0\n",
    "    u[2:n] = a[2:n]/ρ\n",
    "#     u[2:n] = a[2:n]*(sign(α)/(σ + abs(α)))\n",
    "    return u, β, σ\n",
    "end"
   ]
  },
  {
   "cell_type": "code",
   "execution_count": 25,
   "metadata": {},
   "outputs": [
    {
     "data": {
      "text/plain": [
       "h2 (generic function with 1 method)"
      ]
     },
     "execution_count": 25,
     "metadata": {},
     "output_type": "execute_result"
    }
   ],
   "source": [
    "function h2(a)\n",
    "    n = length(a)\n",
    "    norma = norm(a, 2)\n",
    "    znak = - sign(a[1])\n",
    "    u1 = a[1] - znak * norma\n",
    "    u = a / u1\n",
    "    u[1] = 1.0\n",
    "    beta = - znak * u1 / norma\n",
    "    return u, beta\n",
    "end"
   ]
  },
  {
   "cell_type": "code",
   "execution_count": null,
   "metadata": {},
   "outputs": [],
   "source": []
  },
  {
   "cell_type": "code",
   "execution_count": 26,
   "metadata": {},
   "outputs": [
    {
     "data": {
      "text/plain": [
       "([-4.45428, 6.74161, 1.92617], [8.30662, 0.0, 0.0])"
      ]
     },
     "execution_count": 26,
     "metadata": {},
     "output_type": "execute_result"
    }
   ],
   "source": [
    "a = [-4., 7., 2.]\n",
    "u, β, σ = householder(a)\n",
    "P = eye(length(a)) - β * u * transpose(u)\n",
    "P * a, - sign(a[1]) * norm(a, 2) * e(1, length(a))"
   ]
  },
  {
   "cell_type": "code",
   "execution_count": null,
   "metadata": {},
   "outputs": [],
   "source": []
  },
  {
   "cell_type": "code",
   "execution_count": 27,
   "metadata": {},
   "outputs": [
    {
     "data": {
      "text/plain": [
       "([8.30662, 3.33067e-16, 0.0], [8.30662, 0.0, 0.0])"
      ]
     },
     "execution_count": 27,
     "metadata": {},
     "output_type": "execute_result"
    }
   ],
   "source": [
    "a = [-4., 7., 2.]\n",
    "u2 , b2 = h2(a)\n",
    "P2 = eye(length(a)) - b2 * u2 * transpose(u2)\n",
    "P2 * a, - sign(a[1]) * norm(a, 2) * e(1, length(a))"
   ]
  },
  {
   "cell_type": "code",
   "execution_count": null,
   "metadata": {},
   "outputs": [],
   "source": []
  },
  {
   "cell_type": "code",
   "execution_count": 28,
   "metadata": {},
   "outputs": [
    {
     "data": {
      "text/plain": [
       "([8.30662, 3.33067e-16, 0.0], [8.30662, 0.0, 0.0])"
      ]
     },
     "execution_count": 28,
     "metadata": {},
     "output_type": "execute_result"
    }
   ],
   "source": [
    "a = [-4., 7., 2.]\n",
    "u3, b3, s3 = h3(a)\n",
    "P3 = eye(length(a)) - b3 * u3 * transpose(u3)\n",
    "P3 * a, - sign(a[1]) * norm(a, 2) * e(1, length(a))"
   ]
  },
  {
   "cell_type": "code",
   "execution_count": 29,
   "metadata": {},
   "outputs": [
    {
     "data": {
      "text/plain": [
       "([-8.30662, 3.33067e-16, 0.0], [-8.30662, -0.0, -0.0])"
      ]
     },
     "execution_count": 29,
     "metadata": {},
     "output_type": "execute_result"
    }
   ],
   "source": [
    "a = [4., 7., 2.]\n",
    "u3, b3, s3 = h3(a)\n",
    "P3 = eye(length(a)) - b3 * u3 * transpose(u3)\n",
    "P3 * a, - sign(a[1]) * norm(a, 2) * e(1, length(a))"
   ]
  },
  {
   "cell_type": "code",
   "execution_count": 30,
   "metadata": {},
   "outputs": [
    {
     "data": {
      "text/plain": [
       "3-element Array{Float64,1}:\n",
       " -8.306623862918075\n",
       "  0.0              \n",
       "  0.0              "
      ]
     },
     "execution_count": 30,
     "metadata": {},
     "output_type": "execute_result"
    }
   ],
   "source": [
    "# P3 * a = a - b3 * (transpose(u3) * a) * u\n",
    "a - b3 * (transpose(u3) * a) * u"
   ]
  },
  {
   "cell_type": "code",
   "execution_count": 31,
   "metadata": {},
   "outputs": [
    {
     "data": {
      "text/plain": [
       "((2, 3), [8 2 6; 14 16 1])"
      ]
     },
     "execution_count": 31,
     "metadata": {},
     "output_type": "execute_result"
    }
   ],
   "source": [
    "size(T[2:3, 1:3]), T[2:3, 1:3]"
   ]
  },
  {
   "cell_type": "code",
   "execution_count": 32,
   "metadata": {},
   "outputs": [
    {
     "data": {
      "text/plain": [
       "3-element Array{Int32,1}:\n",
       " 1\n",
       " 2\n",
       " 3"
      ]
     },
     "execution_count": 32,
     "metadata": {},
     "output_type": "execute_result"
    }
   ],
   "source": [
    "T[1, :]"
   ]
  },
  {
   "cell_type": "code",
   "execution_count": 33,
   "metadata": {},
   "outputs": [
    {
     "data": {
      "text/plain": [
       "3-element Array{Int32,1}:\n",
       "  1\n",
       "  8\n",
       " 14"
      ]
     },
     "execution_count": 33,
     "metadata": {},
     "output_type": "execute_result"
    }
   ],
   "source": [
    "T[:, 1] "
   ]
  },
  {
   "cell_type": "code",
   "execution_count": 34,
   "metadata": {},
   "outputs": [
    {
     "data": {
      "text/plain": [
       "0-element Array{Float64,1}"
      ]
     },
     "execution_count": 34,
     "metadata": {},
     "output_type": "execute_result"
    }
   ],
   "source": [
    "X = eye(3)\n",
    "X[1:3, 1:3] -= T[1:3, 1:3]\n",
    "zeros(0)"
   ]
  },
  {
   "cell_type": "code",
   "execution_count": 35,
   "metadata": {},
   "outputs": [
    {
     "data": {
      "text/plain": [
       "3×2 Array{Float64,2}:\n",
       " 0.0  0.0\n",
       " 0.0  0.0\n",
       " 0.0  0.0"
      ]
     },
     "execution_count": 35,
     "metadata": {},
     "output_type": "execute_result"
    }
   ],
   "source": [
    "X = zeros(3, 2)"
   ]
  },
  {
   "cell_type": "code",
   "execution_count": 36,
   "metadata": {},
   "outputs": [
    {
     "data": {
      "text/plain": [
       "bidiagonalization_lower (generic function with 1 method)"
      ]
     },
     "execution_count": 36,
     "metadata": {},
     "output_type": "execute_result"
    }
   ],
   "source": [
    "# m ≧ n\n",
    "function bidiagonalization_lower(A)\n",
    "    m = size(A)[1]\n",
    "    n = size(A)[2]\n",
    "    U = eye(m)\n",
    "    B = zeros(m, n)\n",
    "    B[1:m, 1:n] = A[1:m, 1:n]\n",
    "    V = eye(n)\n",
    "    u, r, σ = h3(B[1, 1:end])\n",
    "    s = length(u)\n",
    "    P = eye(n)\n",
    "    P[n-s+1:n, n-s+1:n] -= r * u * transpose(u)\n",
    "    B = B * P\n",
    "    B[1, 2:end] = zeros(s-1)\n",
    "    V = V * P\n",
    "    if m >= n\n",
    "        for i = 2 : n\n",
    "            u, r, σ = h3(B[i:end, i-1])\n",
    "            s = length(u)\n",
    "            Q = eye(m)\n",
    "            Q[m-s+1:m, m-s+1:m] -= r * u * transpose(u)\n",
    "            B = Q * B\n",
    "            B[i+1:end, i-1] = zeros(s-1)\n",
    "            U = U * Q\n",
    "            \n",
    "            u, r, σ = h3(B[i, i:end])\n",
    "            s = length(u)\n",
    "            P = eye(n)\n",
    "            P[n-s+1:n, n-s+1:n] -= r * u * transpose(u)\n",
    "            B = B * P\n",
    "            B[i, i+1:end] = zeros(s-1)\n",
    "            V = V * P\n",
    "        end\n",
    "        if m > n\n",
    "            u, r, σ = h3(B[n+1:end, n])\n",
    "            s = length(u)\n",
    "            Q = eye(m)\n",
    "            Q[m-s+1:m, m-s+1:m] -= r * u * transpose(u)\n",
    "            B = Q * B\n",
    "            B[n+1+1:end, n] = zeros(s-1)\n",
    "            U = U * Q\n",
    "        end\n",
    "    else\n",
    "        for i = 2 : m\n",
    "            u, r, σ = h3(B[i:end, i-1])\n",
    "            s = length(u)\n",
    "            Q = eye(m)\n",
    "            Q[m-s+1:m, m-s+1:m] -= r * u * transpose(u)\n",
    "            B = Q * B\n",
    "            B[i+1:end, i-1] = zeros(s-1)\n",
    "            U = U * Q\n",
    "            \n",
    "            u, r, σ = h3(B[i, i:end])\n",
    "            s = length(u)\n",
    "            P = eye(n)\n",
    "            P[n-s+1:n, n-s+1:n] -= r * u * transpose(u)\n",
    "            B = B * P\n",
    "            B[i, i+1:end] = zeros(s-1)\n",
    "            V = V * P\n",
    "        end\n",
    "    end\n",
    "    return U, B, transpose(V)\n",
    "end"
   ]
  },
  {
   "cell_type": "code",
   "execution_count": 37,
   "metadata": {},
   "outputs": [
    {
     "data": {
      "text/plain": [
       "bidiagonalization_upper (generic function with 1 method)"
      ]
     },
     "execution_count": 37,
     "metadata": {},
     "output_type": "execute_result"
    }
   ],
   "source": [
    "# m ≧ n\n",
    "function bidiagonalization_upper(A)\n",
    "    m = size(A)[1]\n",
    "    n = size(A)[2]\n",
    "    V = eye(n)\n",
    "    B = zeros(m, n)\n",
    "    B[1:m, 1:n] = A[1:m, 1:n]\n",
    "    U = eye(m)\n",
    "    u, r, σ = h3(B[1:end, 1])\n",
    "    s = length(u)\n",
    "    Q = eye(m)\n",
    "    Q[m-s+1:m, m-s+1:m] -= r * u * transpose(u)\n",
    "    B = Q * B\n",
    "    B[2:end, 1] = zeros(s-1)\n",
    "    U = U * Q\n",
    "#     print(B)\n",
    "    if n >= m\n",
    "        for i = 2 : m\n",
    "            u, r, σ = h3(B[i-1, i:end])\n",
    "            s = length(u)\n",
    "            P = eye(n)\n",
    "            P[n-s+1:n, n-s+1:n] -= r * u * transpose(u)\n",
    "            B = B * P\n",
    "            B[i-1, i+1:end] = zeros(s-1)\n",
    "            V = V * P\n",
    "            \n",
    "            u, r, σ = h3(B[i:end, i])\n",
    "            s = length(u)\n",
    "            Q = eye(m)\n",
    "            Q[m-s+1:m, m-s+1:m] -= r * u * transpose(u)\n",
    "            B = Q * B\n",
    "            B[i+1:end, i] = zeros(s-1)\n",
    "            U = U * Q\n",
    "        end\n",
    "        if n > m\n",
    "            u, r, σ = h3(B[m, m+1:end])\n",
    "            s = length(u)\n",
    "            P = eye(n)\n",
    "            P[n-s+1:n, n-s+1:n] -= r * u * transpose(u)\n",
    "            B = B * P\n",
    "            B[m, m+1+1:end] = zeros(s-1)\n",
    "            V = V * P\n",
    "        end\n",
    "    else\n",
    "        for i = 2 : n\n",
    "            u, r, σ = h3(B[i-1, i:end])\n",
    "            s = length(u)\n",
    "            P = eye(n)\n",
    "            P[n-s+1:n, n-s+1:n] -= r * u * transpose(u)\n",
    "            B = B * P\n",
    "            B[i-1, i+1:end] = zeros(s-1)\n",
    "            V = V * P\n",
    "            \n",
    "            u, r, σ = h3(B[i:end, i])\n",
    "            s = length(u)\n",
    "            Q = eye(m)\n",
    "            Q[m-s+1:m, m-s+1:m] -= r * u * transpose(u)\n",
    "            B = Q * B\n",
    "            B[i+1:end, i] = zeros(s-1)\n",
    "            U = U * Q\n",
    "        end\n",
    "    end\n",
    "    return U, B, transpose(V)\n",
    "end"
   ]
  },
  {
   "cell_type": "code",
   "execution_count": 38,
   "metadata": {},
   "outputs": [
    {
     "data": {
      "text/plain": [
       "3×5 LinearAlgebra.Transpose{Float64,Array{Float64,2}}:\n",
       " 1.0  4.0  7.0  10.0  13.0\n",
       " 2.0  5.0  8.0  11.0  14.0\n",
       " 3.0  6.0  9.0  12.0  15.0"
      ]
     },
     "execution_count": 38,
     "metadata": {},
     "output_type": "execute_result"
    }
   ],
   "source": [
    "T = transpose([1. 2. 3.; 4. 5. 6.; 7. 8. 9.; 10. 11. 12.; 13. 14. 15.])"
   ]
  },
  {
   "cell_type": "code",
   "execution_count": 39,
   "metadata": {},
   "outputs": [
    {
     "data": {
      "text/plain": [
       "([-0.267261 0.872872 -0.408248; -0.534522 0.218218 0.816497; -0.801784 -0.436436 -0.408248], [-3.74166 33.321 … 0.0 0.0; 0.0 -10.7117 … 0.0 0.0; 0.0 0.0 … -9.09871e-16 0.0], [1.0 0.0 … 0.0 0.0; 0.0 -0.256666 … -0.545416 -0.68979; … ; 0.0 -0.149478 … -0.735676 0.293099; 0.0 -0.526931 … 0.398472 -0.462702])"
      ]
     },
     "execution_count": 39,
     "metadata": {},
     "output_type": "execute_result"
    }
   ],
   "source": [
    "U, B, V_T = bidiagonalization_upper(T)"
   ]
  },
  {
   "cell_type": "code",
   "execution_count": 40,
   "metadata": {},
   "outputs": [
    {
     "data": {
      "text/plain": [
       "3×3 Array{Float64,2}:\n",
       " -0.267261   0.872872  -0.408248\n",
       " -0.534522   0.218218   0.816497\n",
       " -0.801784  -0.436436  -0.408248"
      ]
     },
     "execution_count": 40,
     "metadata": {},
     "output_type": "execute_result"
    }
   ],
   "source": [
    "U"
   ]
  },
  {
   "cell_type": "code",
   "execution_count": 41,
   "metadata": {},
   "outputs": [
    {
     "data": {
      "text/plain": [
       "3×5 Array{Float64,2}:\n",
       " -3.74166   33.321    0.0           0.0          0.0\n",
       "  0.0      -10.7117   0.986267      0.0          0.0\n",
       "  0.0        0.0     -5.18799e-17  -9.09871e-16  0.0"
      ]
     },
     "execution_count": 41,
     "metadata": {},
     "output_type": "execute_result"
    }
   ],
   "source": [
    "B"
   ]
  },
  {
   "cell_type": "code",
   "execution_count": 42,
   "metadata": {},
   "outputs": [
    {
     "data": {
      "text/plain": [
       "5×5 LinearAlgebra.Transpose{Float64,Array{Float64,2}}:\n",
       " 1.0   0.0        0.0        0.0         0.0     \n",
       " 0.0  -0.256666  -0.401041  -0.545416   -0.68979 \n",
       " 0.0  -0.796318  -0.37305    0.0502183   0.473486\n",
       " 0.0  -0.149478   0.592055  -0.735676    0.293099\n",
       " 0.0  -0.526931   0.59116    0.398472   -0.462702"
      ]
     },
     "execution_count": 42,
     "metadata": {},
     "output_type": "execute_result"
    }
   ],
   "source": [
    "V_T"
   ]
  },
  {
   "cell_type": "code",
   "execution_count": 43,
   "metadata": {},
   "outputs": [
    {
     "data": {
      "text/plain": [
       "3×5 Array{Float64,2}:\n",
       " 1.0  4.0  7.0  10.0  13.0\n",
       " 2.0  5.0  8.0  11.0  14.0\n",
       " 3.0  6.0  9.0  12.0  15.0"
      ]
     },
     "execution_count": 43,
     "metadata": {},
     "output_type": "execute_result"
    }
   ],
   "source": [
    "U*B*V_T"
   ]
  },
  {
   "cell_type": "code",
   "execution_count": 44,
   "metadata": {},
   "outputs": [
    {
     "data": {
      "text/plain": [
       "3×3 Array{Float64,2}:\n",
       "  1.0          -1.66533e-16  5.55112e-17\n",
       " -1.66533e-16   1.0          0.0        \n",
       "  5.55112e-17   0.0          1.0        "
      ]
     },
     "execution_count": 44,
     "metadata": {},
     "output_type": "execute_result"
    }
   ],
   "source": [
    "U * transpose(U)"
   ]
  },
  {
   "cell_type": "code",
   "execution_count": 45,
   "metadata": {},
   "outputs": [
    {
     "data": {
      "text/plain": [
       "5×5 Array{Float64,2}:\n",
       " 1.0   0.0           0.0           0.0           0.0        \n",
       " 0.0   1.0          -2.22045e-16   2.77556e-17  -1.66533e-16\n",
       " 0.0  -2.22045e-16   1.0           1.38778e-16   8.32667e-17\n",
       " 0.0   2.77556e-17   1.38778e-16   1.0          -3.60822e-16\n",
       " 0.0  -1.66533e-16   8.32667e-17  -3.60822e-16   1.0        "
      ]
     },
     "execution_count": 45,
     "metadata": {},
     "output_type": "execute_result"
    }
   ],
   "source": [
    "V_T * transpose(V_T)"
   ]
  },
  {
   "cell_type": "code",
   "execution_count": null,
   "metadata": {},
   "outputs": [],
   "source": []
  },
  {
   "cell_type": "code",
   "execution_count": 46,
   "metadata": {},
   "outputs": [
    {
     "data": {
      "text/plain": [
       "([1.0 0.0 0.0; 0.0 -0.674485 0.738288; 0.0 -0.738288 -0.674485], [-18.303 0.0 … 0.0 0.0; 29.9714 2.49308 … 0.0 0.0; 0.0 0.707782 … 0.0 0.0], [-0.0546358 -0.218543 … -0.546358 -0.710266; -0.772667 -0.502234 … 0.0386334 0.309067; … ; -0.227392 0.269292 … 0.745366 -0.465429; 0.11431 0.424358 … -0.188557 0.420767])"
      ]
     },
     "execution_count": 46,
     "metadata": {},
     "output_type": "execute_result"
    }
   ],
   "source": [
    "U, B, V_T = bidiagonalization_lower(T)"
   ]
  },
  {
   "cell_type": "code",
   "execution_count": 47,
   "metadata": {},
   "outputs": [
    {
     "data": {
      "text/plain": [
       "3×3 Array{Float64,2}:\n",
       " 1.0   0.0        0.0     \n",
       " 0.0  -0.674485   0.738288\n",
       " 0.0  -0.738288  -0.674485"
      ]
     },
     "execution_count": 47,
     "metadata": {},
     "output_type": "execute_result"
    }
   ],
   "source": [
    "U"
   ]
  },
  {
   "cell_type": "code",
   "execution_count": 48,
   "metadata": {},
   "outputs": [
    {
     "data": {
      "text/plain": [
       "3×5 Array{Float64,2}:\n",
       " -18.303   0.0        0.0          0.0  0.0\n",
       "  29.9714  2.49308    0.0          0.0  0.0\n",
       "   0.0     0.707782  -1.46103e-15  0.0  0.0"
      ]
     },
     "execution_count": 48,
     "metadata": {},
     "output_type": "execute_result"
    }
   ],
   "source": [
    "B"
   ]
  },
  {
   "cell_type": "code",
   "execution_count": 49,
   "metadata": {},
   "outputs": [
    {
     "data": {
      "text/plain": [
       "5×5 LinearAlgebra.Transpose{Float64,Array{Float64,2}}:\n",
       " -0.0546358  -0.218543  -0.382451  -0.546358   -0.710266 \n",
       " -0.772667   -0.502234  -0.2318     0.0386334   0.309067 \n",
       "  0.578987   -0.668881  -0.319634   0.329963    0.0795653\n",
       " -0.227392    0.269292  -0.321838   0.745366   -0.465429 \n",
       "  0.11431     0.424358  -0.770879  -0.188557    0.420767 "
      ]
     },
     "execution_count": 49,
     "metadata": {},
     "output_type": "execute_result"
    }
   ],
   "source": [
    "V_T"
   ]
  },
  {
   "cell_type": "code",
   "execution_count": 50,
   "metadata": {},
   "outputs": [
    {
     "data": {
      "text/plain": [
       "3×5 Array{Float64,2}:\n",
       " 1.0  4.0  7.0  10.0  13.0\n",
       " 2.0  5.0  8.0  11.0  14.0\n",
       " 3.0  6.0  9.0  12.0  15.0"
      ]
     },
     "execution_count": 50,
     "metadata": {},
     "output_type": "execute_result"
    }
   ],
   "source": [
    "U*B*V_T"
   ]
  },
  {
   "cell_type": "code",
   "execution_count": 51,
   "metadata": {},
   "outputs": [
    {
     "data": {
      "text/plain": [
       "3×3 Array{Float64,2}:\n",
       " 1.0   0.0           0.0        \n",
       " 0.0   1.0          -1.66533e-16\n",
       " 0.0  -1.66533e-16   1.0        "
      ]
     },
     "execution_count": 51,
     "metadata": {},
     "output_type": "execute_result"
    }
   ],
   "source": [
    "U * transpose(U)"
   ]
  },
  {
   "cell_type": "code",
   "execution_count": 52,
   "metadata": {},
   "outputs": [
    {
     "data": {
      "text/plain": [
       "5×5 Array{Float64,2}:\n",
       "  1.0          -2.77556e-17   7.63278e-17   0.0           1.11022e-16\n",
       " -2.77556e-17   1.0          -1.07553e-16   5.55112e-17   5.55112e-17\n",
       "  7.63278e-17  -1.07553e-16   1.0           9.71445e-17   2.08167e-16\n",
       "  0.0           5.55112e-17   9.71445e-17   1.0          -5.55112e-17\n",
       "  1.11022e-16   5.55112e-17   2.08167e-16  -5.55112e-17   1.0        "
      ]
     },
     "execution_count": 52,
     "metadata": {},
     "output_type": "execute_result"
    }
   ],
   "source": [
    "V_T * transpose(V_T)"
   ]
  },
  {
   "cell_type": "code",
   "execution_count": null,
   "metadata": {},
   "outputs": [],
   "source": []
  },
  {
   "cell_type": "code",
   "execution_count": 53,
   "metadata": {},
   "outputs": [
    {
     "data": {
      "text/plain": [
       "5×3 Array{Float64,2}:\n",
       "  1.0   2.0   3.0\n",
       "  4.0   5.0   6.0\n",
       "  7.0   8.0   9.0\n",
       " 10.0  11.0  12.0\n",
       " 13.0  14.0  15.0"
      ]
     },
     "execution_count": 53,
     "metadata": {},
     "output_type": "execute_result"
    }
   ],
   "source": [
    "T = transpose(T)"
   ]
  },
  {
   "cell_type": "code",
   "execution_count": 54,
   "metadata": {},
   "outputs": [
    {
     "data": {
      "text/plain": [
       "([1.0 0.0 … 0.0 0.0; 0.0 -0.256666 … 0.00738554 -0.547673; … ; 0.0 -0.545416 … -0.818884 0.171548; 0.0 -0.68979 … 0.413135 -0.35961], [-3.74166 0.0 0.0; 33.321 -10.7117 0.0; … ; 0.0 0.0 -1.2083e-15; 0.0 0.0 0.0], [-0.267261 -0.534522 -0.801784; 0.872872 0.218218 -0.436436; -0.408248 0.816497 -0.408248])"
      ]
     },
     "execution_count": 54,
     "metadata": {},
     "output_type": "execute_result"
    }
   ],
   "source": [
    "U, B, V_T = bidiagonalization_lower(T)"
   ]
  },
  {
   "cell_type": "code",
   "execution_count": 55,
   "metadata": {},
   "outputs": [
    {
     "data": {
      "text/plain": [
       "5×5 Array{Float64,2}:\n",
       " 1.0   0.0        0.0         0.0          0.0     \n",
       " 0.0  -0.256666  -0.796318    0.00738554  -0.547673\n",
       " 0.0  -0.401041  -0.37305     0.398364     0.735735\n",
       " 0.0  -0.545416   0.0502183  -0.818884     0.171548\n",
       " 0.0  -0.68979    0.473486    0.413135    -0.35961 "
      ]
     },
     "execution_count": 55,
     "metadata": {},
     "output_type": "execute_result"
    }
   ],
   "source": [
    "U"
   ]
  },
  {
   "cell_type": "code",
   "execution_count": 56,
   "metadata": {},
   "outputs": [
    {
     "data": {
      "text/plain": [
       "5×3 Array{Float64,2}:\n",
       " -3.74166    0.0        0.0        \n",
       " 33.321    -10.7117     0.0        \n",
       "  0.0        0.986267  -4.93525e-16\n",
       "  0.0        0.0       -1.2083e-15 \n",
       "  0.0        0.0        0.0        "
      ]
     },
     "execution_count": 56,
     "metadata": {},
     "output_type": "execute_result"
    }
   ],
   "source": [
    "B"
   ]
  },
  {
   "cell_type": "code",
   "execution_count": 57,
   "metadata": {},
   "outputs": [
    {
     "data": {
      "text/plain": [
       "3×3 LinearAlgebra.Transpose{Float64,Array{Float64,2}}:\n",
       " -0.267261  -0.534522  -0.801784\n",
       "  0.872872   0.218218  -0.436436\n",
       " -0.408248   0.816497  -0.408248"
      ]
     },
     "execution_count": 57,
     "metadata": {},
     "output_type": "execute_result"
    }
   ],
   "source": [
    "V_T"
   ]
  },
  {
   "cell_type": "code",
   "execution_count": 58,
   "metadata": {},
   "outputs": [
    {
     "data": {
      "text/plain": [
       "5×3 Array{Float64,2}:\n",
       "  1.0   2.0   3.0\n",
       "  4.0   5.0   6.0\n",
       "  7.0   8.0   9.0\n",
       " 10.0  11.0  12.0\n",
       " 13.0  14.0  15.0"
      ]
     },
     "execution_count": 58,
     "metadata": {},
     "output_type": "execute_result"
    }
   ],
   "source": [
    "U*B*V_T"
   ]
  },
  {
   "cell_type": "code",
   "execution_count": 59,
   "metadata": {},
   "outputs": [
    {
     "data": {
      "text/plain": [
       "5×5 Array{Float64,2}:\n",
       " 1.0   0.0           0.0           0.0           0.0        \n",
       " 0.0   1.0          -1.66533e-16  -8.32667e-17  -1.38778e-16\n",
       " 0.0  -1.66533e-16   1.0          -2.77556e-17   1.11022e-16\n",
       " 0.0  -8.32667e-17  -2.77556e-17   1.0          -1.249e-16  \n",
       " 0.0  -1.38778e-16   1.11022e-16  -1.249e-16     1.0        "
      ]
     },
     "execution_count": 59,
     "metadata": {},
     "output_type": "execute_result"
    }
   ],
   "source": [
    "U * transpose(U)"
   ]
  },
  {
   "cell_type": "code",
   "execution_count": 60,
   "metadata": {},
   "outputs": [
    {
     "data": {
      "text/plain": [
       "3×3 Array{Float64,2}:\n",
       "  1.0          -5.55112e-17   0.0        \n",
       " -5.55112e-17   1.0          -2.77556e-17\n",
       "  0.0          -2.77556e-17   1.0        "
      ]
     },
     "execution_count": 60,
     "metadata": {},
     "output_type": "execute_result"
    }
   ],
   "source": [
    "V_T * transpose(V_T)"
   ]
  },
  {
   "cell_type": "code",
   "execution_count": null,
   "metadata": {},
   "outputs": [],
   "source": []
  },
  {
   "cell_type": "code",
   "execution_count": 61,
   "metadata": {},
   "outputs": [
    {
     "data": {
      "text/plain": [
       "subdiagonal_lower_norm (generic function with 1 method)"
      ]
     },
     "execution_count": 61,
     "metadata": {},
     "output_type": "execute_result"
    }
   ],
   "source": [
    "function subdiagonal_lower_norm(A)\n",
    "    m = size(A)[1]\n",
    "    n = size(A)[2]\n",
    "    sum = 0.0\n",
    "    if m >= n\n",
    "        for i = 2 : n\n",
    "            sum += abs(A[i, i-1])\n",
    "        end\n",
    "        if m > n\n",
    "            sum += abs(A[n+1, n])\n",
    "        end\n",
    "    else\n",
    "        for i = 2 : m\n",
    "            sum += abs(A[i, i-1])\n",
    "        end\n",
    "    end\n",
    "    return sum\n",
    "end"
   ]
  },
  {
   "cell_type": "code",
   "execution_count": 62,
   "metadata": {},
   "outputs": [
    {
     "data": {
      "text/plain": [
       "subdiagonal_upper_norm (generic function with 1 method)"
      ]
     },
     "execution_count": 62,
     "metadata": {},
     "output_type": "execute_result"
    }
   ],
   "source": [
    "function subdiagonal_upper_norm(A)\n",
    "    m = size(A)[1]\n",
    "    n = size(A)[2]\n",
    "    sum = 0.0\n",
    "    if n >= m\n",
    "        for i = 2 : m\n",
    "            sum += abs(A[i-1, i])\n",
    "        end\n",
    "        if n > m\n",
    "            sum += abs(A[m, m+1])\n",
    "        end\n",
    "    else\n",
    "        for i = 2 : n\n",
    "            sum += abs(A[i-1, i])\n",
    "        end\n",
    "    end\n",
    "    return sum\n",
    "end"
   ]
  },
  {
   "cell_type": "code",
   "execution_count": 63,
   "metadata": {},
   "outputs": [
    {
     "data": {
      "text/plain": [
       "zero_non_diagonal_nor_upper_subdiagonal (generic function with 1 method)"
      ]
     },
     "execution_count": 63,
     "metadata": {},
     "output_type": "execute_result"
    }
   ],
   "source": [
    "function zero_non_diagonal_nor_upper_subdiagonal(A)\n",
    "    m = size(A)[1]\n",
    "    n = size(A)[2]\n",
    "    for i = 1 : m\n",
    "        for j = 1 : n\n",
    "            if i != j &&  i+1 != j\n",
    "                A[i, j] = 0\n",
    "            end\n",
    "        end\n",
    "    end\n",
    "end"
   ]
  },
  {
   "cell_type": "code",
   "execution_count": 148,
   "metadata": {},
   "outputs": [
    {
     "data": {
      "text/plain": [
       "5×3 Array{Float64,2}:\n",
       "  1.0   2.0   3.0\n",
       "  4.0   5.0   6.0\n",
       "  7.0   8.0   9.0\n",
       " 10.0  11.0  12.0\n",
       " 13.0  14.0  15.0"
      ]
     },
     "execution_count": 148,
     "metadata": {},
     "output_type": "execute_result"
    }
   ],
   "source": [
    "T = [1. 2. 3.; 4. 5. 6.; 7. 8. 9.; 10. 11. 12.; 13. 14. 15.]"
   ]
  },
  {
   "cell_type": "code",
   "execution_count": 78,
   "metadata": {},
   "outputs": [
    {
     "data": {
      "text/plain": [
       "givens_rotation (generic function with 1 method)"
      ]
     },
     "execution_count": 78,
     "metadata": {},
     "output_type": "execute_result"
    }
   ],
   "source": [
    "function givens_rotation(a, b)\n",
    "    c = 0.0\n",
    "    s = 0.0\n",
    "    r = 0.0\n",
    "    if b == 0\n",
    "        c = 1.0\n",
    "        s = 0.0\n",
    "        r = a\n",
    "    elseif abs(b) > abs(a)\n",
    "        t = a / b\n",
    "        tt = sqrt(1.0 + t * t)\n",
    "        s = 1.0 / tt\n",
    "        c = t * s\n",
    "        r = tt*b\n",
    "    else\n",
    "        t = b / a\n",
    "        tt = sqrt(1.0 + t * t)\n",
    "        c = 1.0 / tt\n",
    "        s = t * c\n",
    "        r = tt * a\n",
    "    end\n",
    "    return c, s, r\n",
    "end"
   ]
  },
  {
   "cell_type": "code",
   "execution_count": 85,
   "metadata": {},
   "outputs": [
    {
     "data": {
      "text/plain": [
       "givens_rotation2 (generic function with 1 method)"
      ]
     },
     "execution_count": 85,
     "metadata": {},
     "output_type": "execute_result"
    }
   ],
   "source": [
    "function givens_rotation2(f, g)\n",
    "    c = 0.0\n",
    "    s = 0.0\n",
    "    r = 0.0\n",
    "    if f == 0.0 \n",
    "        c = 0.0\n",
    "        s = 1.0\n",
    "        r = g\n",
    "    elseif abs(f) > abs(g)\n",
    "        t = g / f\n",
    "        t_1 = sqrt(1.0 + t * t)\n",
    "        c = 1.0 / t_1\n",
    "        s = t * c\n",
    "        r = f * t_1\n",
    "    else \n",
    "        t = f / g\n",
    "        t_1 = sqrt(1.0 + t * t) \n",
    "        s = 1 / t_1\n",
    "        c = t * s \n",
    "        r = g * t_1 \n",
    "    end\n",
    "    return c, s, r\n",
    "end"
   ]
  },
  {
   "cell_type": "code",
   "execution_count": 123,
   "metadata": {},
   "outputs": [
    {
     "data": {
      "text/plain": [
       "zero_shift_qr (generic function with 1 method)"
      ]
     },
     "execution_count": 123,
     "metadata": {},
     "output_type": "execute_result"
    }
   ],
   "source": [
    "function zero_shift_qr(A)\n",
    "    n = size(A)[1]\n",
    "    B = zeros(n, n)\n",
    "    B[1:n, 1:n] = A[1:n, 1:n]\n",
    "    p = 50\n",
    "    for k = 1 : 2*p\n",
    "        for i = 1 : n-1\n",
    "            c, s, r = givens_rotation(B[i, i], B[i, i+1])\n",
    "            Q = eye(n)\n",
    "            Q[i:i+1, i:i+1] = [c s; -s c]\n",
    "            B[i, i] = r\n",
    "            q = B[i+1, i+1]\n",
    "            B[i+1, i+1] = q * c\n",
    "            B[i, i+1] = q * s\n",
    "        end\n",
    "    end\n",
    "    return B\n",
    "end"
   ]
  },
  {
   "cell_type": "code",
   "execution_count": 259,
   "metadata": {},
   "outputs": [
    {
     "data": {
      "text/plain": [
       "zero_shift_qr2 (generic function with 1 method)"
      ]
     },
     "execution_count": 259,
     "metadata": {},
     "output_type": "execute_result"
    }
   ],
   "source": [
    "function zero_shift_qr2(A)\n",
    "    n = size(A)[1]\n",
    "    B = zeros(n, n)\n",
    "    B[1:n, 1:n] = A[1:n, 1:n]\n",
    "    p = 10\n",
    "    L = eye(n)\n",
    "    P = eye(n)\n",
    "    for k = 1 : 2*p\n",
    "        for i = 1 : n - 1\n",
    "#             L * A * P = B\n",
    "#             A = L^T * B * P^T\n",
    "            \n",
    "            c, s, r = givens_rotation2(B[i,i], B[i,i+1])\n",
    "\n",
    "    #       % construct matrix Q and multiply on the right by Q^T\n",
    "    #       % this annihilates both B(i-1,i+1) and B(i,i+1) \n",
    "    #       % but makes B(i+1,i) non-zero\n",
    "            Q = eye(n)\n",
    "            Q[i:i+1, i:i+1] = [c s; -s c]\n",
    "            B = B * transpose(Q)\n",
    "            P = P * transpose(Q)\n",
    "#             print(B, \"\\n\")\n",
    "\n",
    "            c, s, r = givens_rotation2(B[i,i], B[i+1,i])\n",
    "\n",
    "    #       % construct matrix Q and multiply on the left by Q\n",
    "    #       % This annihilates B(i+1,i) but makes B(i,i+1) and\n",
    "    #       % B(i,i+2) non-zero\n",
    "            Q = eye(n)\n",
    "            Q[i:i+1,i:i+1] = [c s; -s c]\n",
    "            B = Q * B\n",
    "            L = Q * L\n",
    "#             print(B, \"\\n\")\n",
    "        end\n",
    "    end\n",
    "    return transpose(L), B, transpose(P)\n",
    "end"
   ]
  },
  {
   "cell_type": "code",
   "execution_count": 309,
   "metadata": {},
   "outputs": [
    {
     "data": {
      "text/plain": [
       "zero_shift_qr3 (generic function with 1 method)"
      ]
     },
     "execution_count": 309,
     "metadata": {},
     "output_type": "execute_result"
    }
   ],
   "source": [
    "function zero_shift_qr3(A)\n",
    "    m = size(A)[1]\n",
    "    n = size(A)[2]\n",
    "    B = zeros(m, n)\n",
    "    B[1:m, 1:n] = A[1:m, 1:n]\n",
    "    p = 10\n",
    "    L = eye(m)\n",
    "    P = eye(n)\n",
    "    for k = 1 : 2*p\n",
    "        for i = 1 : n - 1\n",
    "#             L * A * P = B\n",
    "#             A = L^T * B * P^T\n",
    "            \n",
    "            c, s, r = givens_rotation2(B[i,i], B[i,i+1])\n",
    "\n",
    "    #       % construct matrix Q and multiply on the right by Q^T\n",
    "    #       % this annihilates both B(i-1,i+1) and B(i,i+1) \n",
    "    #       % but makes B(i+1,i) non-zero\n",
    "            Q = eye(n)\n",
    "            Q[i:i+1, i:i+1] = [c s; -s c]\n",
    "            B = B * transpose(Q)\n",
    "            P = P * transpose(Q)\n",
    "#             print(B, \"\\n\")\n",
    "\n",
    "            c, s, r = givens_rotation2(B[i,i], B[i+1,i])\n",
    "\n",
    "    #       % construct matrix Q and multiply on the left by Q\n",
    "    #       % This annihilates B(i+1,i) but makes B(i,i+1) and\n",
    "    #       % B(i,i+2) non-zero\n",
    "            Q = eye(m)\n",
    "            Q[i:i+1,i:i+1] = [c s; -s c]\n",
    "            B = Q * B\n",
    "            L = Q * L\n",
    "#             print(B, \"\\n\")\n",
    "        end\n",
    "    end\n",
    "    return transpose(L), B, transpose(P)\n",
    "end"
   ]
  },
  {
   "cell_type": "code",
   "execution_count": null,
   "metadata": {},
   "outputs": [],
   "source": []
  },
  {
   "cell_type": "code",
   "execution_count": 318,
   "metadata": {},
   "outputs": [
    {
     "data": {
      "text/plain": [
       "5×3 Array{Int32,2}:\n",
       " 1  2  0\n",
       " 0  3  4\n",
       " 0  0  5\n",
       " 0  0  0\n",
       " 0  0  0"
      ]
     },
     "execution_count": 318,
     "metadata": {},
     "output_type": "execute_result"
    }
   ],
   "source": [
    "X = [1 2 0; 0 3 4; 0 0 5; 0 0 0; 0 0 0]"
   ]
  },
  {
   "cell_type": "code",
   "execution_count": 319,
   "metadata": {},
   "outputs": [
    {
     "data": {
      "text/plain": [
       "([0.105455 -0.683763 … 0.0 0.0; 0.710942 -0.455842 … 0.0 0.0; … ; 0.0 0.0 … 1.0 0.0; 0.0 0.0 … 0.0 1.0], [6.74166 6.77013e-13 -1.12869e-16; -2.219e-40 3.0 7.83681e-24; … ; 0.0 0.0 0.0; 0.0 0.0 0.0], [0.0156423 0.34765 0.937494; -0.227921 -0.911685 0.341882; 0.973554 -0.219023 0.0649759])"
      ]
     },
     "execution_count": 319,
     "metadata": {},
     "output_type": "execute_result"
    }
   ],
   "source": [
    "L, B, P = zero_shift_qr3(X)"
   ]
  },
  {
   "cell_type": "code",
   "execution_count": 320,
   "metadata": {},
   "outputs": [
    {
     "data": {
      "text/plain": [
       "5×5 Array{Float64,2}:\n",
       "  1.0          6.66134e-16  -8.32667e-16  0.0  0.0\n",
       "  6.66134e-16  1.0           1.11022e-16  0.0  0.0\n",
       " -8.32667e-16  1.11022e-16   1.0          0.0  0.0\n",
       "  0.0          0.0           0.0          1.0  0.0\n",
       "  0.0          0.0           0.0          0.0  1.0"
      ]
     },
     "execution_count": 320,
     "metadata": {},
     "output_type": "execute_result"
    }
   ],
   "source": [
    "L*transpose(L)"
   ]
  },
  {
   "cell_type": "code",
   "execution_count": 321,
   "metadata": {},
   "outputs": [
    {
     "data": {
      "text/plain": [
       "5×3 Array{Float64,2}:\n",
       "  6.74166      6.77013e-13  -1.12869e-16\n",
       " -2.219e-40    3.0           7.83681e-24\n",
       " -2.10001e-17  0.0           0.741657   \n",
       "  0.0          0.0           0.0        \n",
       "  0.0          0.0           0.0        "
      ]
     },
     "execution_count": 321,
     "metadata": {},
     "output_type": "execute_result"
    }
   ],
   "source": [
    "B"
   ]
  },
  {
   "cell_type": "code",
   "execution_count": 322,
   "metadata": {},
   "outputs": [
    {
     "data": {
      "text/plain": [
       "3×3 Array{Float64,2}:\n",
       "  1.0          -1.66533e-16  -2.08167e-17\n",
       " -1.66533e-16   1.0          -3.81639e-17\n",
       " -2.08167e-17  -3.81639e-17   1.0        "
      ]
     },
     "execution_count": 322,
     "metadata": {},
     "output_type": "execute_result"
    }
   ],
   "source": [
    "P*transpose(P)"
   ]
  },
  {
   "cell_type": "code",
   "execution_count": 323,
   "metadata": {},
   "outputs": [
    {
     "data": {
      "text/plain": [
       "5×3 Array{Float64,2}:\n",
       " 1.0          2.0          -1.13798e-15\n",
       " 1.11022e-16  3.0           4.0        \n",
       " 1.11022e-16  7.35523e-16   5.0        \n",
       " 0.0          0.0           0.0        \n",
       " 0.0          0.0           0.0        "
      ]
     },
     "execution_count": 323,
     "metadata": {},
     "output_type": "execute_result"
    }
   ],
   "source": [
    "L * B * P"
   ]
  },
  {
   "cell_type": "code",
   "execution_count": null,
   "metadata": {},
   "outputs": [],
   "source": []
  },
  {
   "cell_type": "code",
   "execution_count": 260,
   "metadata": {},
   "outputs": [
    {
     "data": {
      "text/plain": [
       "3×3 Array{Int32,2}:\n",
       " 1  2  0\n",
       " 0  3  4\n",
       " 0  0  5"
      ]
     },
     "execution_count": 260,
     "metadata": {},
     "output_type": "execute_result"
    }
   ],
   "source": [
    "X = [1 2 0; 0 3 4; 0 0 5]"
   ]
  },
  {
   "cell_type": "code",
   "execution_count": 261,
   "metadata": {},
   "outputs": [
    {
     "data": {
      "text/plain": [
       "3×3 Array{Float64,2}:\n",
       " 6.74166  5.39352e-34  0.0        \n",
       " 0.0      3.0          3.01345e-60\n",
       " 0.0      0.0          0.741657   "
      ]
     },
     "execution_count": 261,
     "metadata": {},
     "output_type": "execute_result"
    }
   ],
   "source": [
    "zero_shift_qr(X)"
   ]
  },
  {
   "cell_type": "code",
   "execution_count": 262,
   "metadata": {},
   "outputs": [
    {
     "data": {
      "text/plain": [
       "([0.105455 -0.683763 0.722043; 0.710942 -0.455842 -0.535509; 0.695299 0.569803 0.438045], [6.74166 6.77013e-13 -1.12869e-16; -2.219e-40 3.0 7.83681e-24; -2.10001e-17 0.0 0.741657], [0.0156423 0.34765 0.937494; -0.227921 -0.911685 0.341882; 0.973554 -0.219023 0.0649759])"
      ]
     },
     "execution_count": 262,
     "metadata": {},
     "output_type": "execute_result"
    }
   ],
   "source": [
    "L, B, P = zero_shift_qr2(X)"
   ]
  },
  {
   "cell_type": "code",
   "execution_count": 263,
   "metadata": {},
   "outputs": [
    {
     "data": {
      "text/plain": [
       "3×3 Array{Float64,2}:\n",
       "  1.0          6.66134e-16  -8.32667e-16\n",
       "  6.66134e-16  1.0           1.11022e-16\n",
       " -8.32667e-16  1.11022e-16   1.0        "
      ]
     },
     "execution_count": 263,
     "metadata": {},
     "output_type": "execute_result"
    }
   ],
   "source": [
    "L*transpose(L)"
   ]
  },
  {
   "cell_type": "code",
   "execution_count": 264,
   "metadata": {},
   "outputs": [
    {
     "data": {
      "text/plain": [
       "3×3 Array{Float64,2}:\n",
       "  6.74166      6.77013e-13  -1.12869e-16\n",
       " -2.219e-40    3.0           7.83681e-24\n",
       " -2.10001e-17  0.0           0.741657   "
      ]
     },
     "execution_count": 264,
     "metadata": {},
     "output_type": "execute_result"
    }
   ],
   "source": [
    "B"
   ]
  },
  {
   "cell_type": "code",
   "execution_count": 265,
   "metadata": {},
   "outputs": [
    {
     "data": {
      "text/plain": [
       "3×3 Array{Float64,2}:\n",
       "  1.0          -1.66533e-16  -2.08167e-17\n",
       " -1.66533e-16   1.0          -3.81639e-17\n",
       " -2.08167e-17  -3.81639e-17   1.0        "
      ]
     },
     "execution_count": 265,
     "metadata": {},
     "output_type": "execute_result"
    }
   ],
   "source": [
    "P*transpose(P)"
   ]
  },
  {
   "cell_type": "code",
   "execution_count": 266,
   "metadata": {},
   "outputs": [
    {
     "data": {
      "text/plain": [
       "3×3 Array{Float64,2}:\n",
       " 1.0          2.0          -1.13798e-15\n",
       " 1.11022e-16  3.0           4.0        \n",
       " 1.11022e-16  7.35523e-16   5.0        "
      ]
     },
     "execution_count": 266,
     "metadata": {},
     "output_type": "execute_result"
    }
   ],
   "source": [
    "L * B * P"
   ]
  },
  {
   "cell_type": "code",
   "execution_count": 272,
   "metadata": {},
   "outputs": [
    {
     "data": {
      "text/plain": [
       "3×3 Array{Float64,2}:\n",
       "  6.74166       6.76792e-13  -1.66533e-16\n",
       " -1.11022e-16   3.0          -9.57567e-16\n",
       "  9.15934e-16  -2.42861e-17   0.741657   "
      ]
     },
     "execution_count": 272,
     "metadata": {},
     "output_type": "execute_result"
    }
   ],
   "source": [
    "transpose(L) * X * transpose(P)"
   ]
  },
  {
   "cell_type": "code",
   "execution_count": 275,
   "metadata": {},
   "outputs": [
    {
     "data": {
      "text/plain": [
       "1.0"
      ]
     },
     "execution_count": 275,
     "metadata": {},
     "output_type": "execute_result"
    }
   ],
   "source": []
  },
  {
   "cell_type": "code",
   "execution_count": 276,
   "metadata": {},
   "outputs": [
    {
     "data": {
      "text/plain": [
       "gramm_shmidt_orthonormalization (generic function with 1 method)"
      ]
     },
     "execution_count": 276,
     "metadata": {},
     "output_type": "execute_result"
    }
   ],
   "source": [
    "function gramm_shmidt_orthonormalization(A, x)\n",
    "    n = size(A)[1]\n",
    "    m = size(A)[2]\n",
    "    for i = x : m\n",
    "        for j = 1 : i-1\n",
    "            A[:, i] = A[:, i] - (transpose(A[:, j])*A[:, i])/(transpose(A[:, j])*A[:, j]) * A[:, j]\n",
    "        end\n",
    "        A[:, i] = A[:, i]/sqrt(transpose(A[:, i]) * A[:, i])\n",
    "    end\n",
    "end"
   ]
  },
  {
   "cell_type": "code",
   "execution_count": 292,
   "metadata": {},
   "outputs": [
    {
     "data": {
      "text/plain": [
       "singular_value_decomposition (generic function with 1 method)"
      ]
     },
     "execution_count": 292,
     "metadata": {},
     "output_type": "execute_result"
    }
   ],
   "source": [
    "# Nie działa\n",
    "function singular_value_decomposition(A)\n",
    "    m = size(A)[1]\n",
    "    n = size(A)[2]\n",
    "    if m >= n\n",
    "        U, B_0, V_T = bidiagonalization_upper(A)\n",
    "        B = zeros(n, n)\n",
    "        B[1:n, 1:n] = B_0[1:n, 1:n]\n",
    "        L, Σ, P = zero_shift_qr2(B)\n",
    "        \n",
    "#         Wyzerowanie wszystkiego poza przekątną na koniec\n",
    "        # [[B 0]], B = P*Σ*P^T, uzupełnić lewe P do bazy (gramm shmidt). [[P 0] uzupełnienie]*[[Σ 0]]*[P^T]\n",
    "        D = zeros(m, n)\n",
    "        D[1:n, 1:n] = Σ[1:n, 1:n]\n",
    "        S = eye(m)\n",
    "        S[1:n, 1:n] = P[1:n, 1:n]\n",
    "        gramm_shmidt_orthonormalization(S, n+1)\n",
    "        return U, S, D, P, V_T\n",
    "    end\n",
    "    \n",
    "end\n",
    "        \n",
    "        "
   ]
  },
  {
   "cell_type": "code",
   "execution_count": 357,
   "metadata": {},
   "outputs": [
    {
     "data": {
      "text/plain": [
       "singular_value_decomposition2 (generic function with 1 method)"
      ]
     },
     "execution_count": 357,
     "metadata": {},
     "output_type": "execute_result"
    }
   ],
   "source": [
    "function singular_value_decomposition2(A)\n",
    "    m = size(A)[1]\n",
    "    n = size(A)[2]\n",
    "    if m >= n\n",
    "        U, B, V_T = bidiagonalization_upper(A)\n",
    "        L, Σ, P = zero_shift_qr3(B)\n",
    "#         Wyzerowanie wszystkiego poza przekątną na koniec\n",
    "        return U, L, Σ, P, V_T\n",
    "    end\n",
    "    \n",
    "end"
   ]
  },
  {
   "cell_type": "code",
   "execution_count": 347,
   "metadata": {},
   "outputs": [
    {
     "data": {
      "text/plain": [
       "5×3 Array{Float64,2}:\n",
       "  1.0   2.0   3.0\n",
       "  4.0   5.0   6.0\n",
       "  7.0   8.0   9.0\n",
       " 10.0  11.0  12.0\n",
       " 13.0  14.0  15.0"
      ]
     },
     "execution_count": 347,
     "metadata": {},
     "output_type": "execute_result"
    }
   ],
   "source": [
    "T"
   ]
  },
  {
   "cell_type": "code",
   "execution_count": 348,
   "metadata": {},
   "outputs": [
    {
     "data": {
      "text/plain": [
       "([-0.0546358 -0.772667 … -0.168619 0.346815; -0.218543 -0.502234 … 0.18527 0.106011; … ; -0.546358 0.0386334 … 0.781001 -0.0483299; -0.710266 0.309067 … -0.466484 0.423985], [0.998163 -0.060583 … 0.0 0.0; 0.060583 0.998163 … 0.0 0.0; … ; 0.0 0.0 … 1.0 0.0; 0.0 0.0 … 0.0 1.0], [35.1826 -4.23331e-54 6.93889e-18; -4.83781e-147 -1.47691 -9.54295e-102; … ; 0.0 0.0 0.0; 0.0 0.0 0.0], [-0.519273 0.854608 0.00121877; -0.750792 -0.455511 -0.478352; -0.408248 -0.24931 0.878167], [1.0 0.0 0.0; 0.0 -0.674485 -0.738288; 0.0 0.738288 -0.674485])"
      ]
     },
     "execution_count": 348,
     "metadata": {},
     "output_type": "execute_result"
    }
   ],
   "source": [
    "U, S, D, P, V_T = singular_value_decomposition2(T)"
   ]
  },
  {
   "cell_type": "code",
   "execution_count": 349,
   "metadata": {},
   "outputs": [
    {
     "data": {
      "text/plain": [
       "5×5 Array{Float64,2}:\n",
       " -0.0546358  -0.772667    0.501285   -0.168619   0.346815 \n",
       " -0.218543   -0.502234   -0.808973    0.18527    0.106011 \n",
       " -0.382451   -0.2318      0.062816   -0.331169  -0.828481 \n",
       " -0.546358    0.0386334   0.296144    0.781001  -0.0483299\n",
       " -0.710266    0.309067   -0.0512731  -0.466484   0.423985 "
      ]
     },
     "execution_count": 349,
     "metadata": {},
     "output_type": "execute_result"
    }
   ],
   "source": [
    "U"
   ]
  },
  {
   "cell_type": "code",
   "execution_count": 350,
   "metadata": {},
   "outputs": [
    {
     "data": {
      "text/plain": [
       "5×5 LinearAlgebra.Transpose{Float64,Array{Float64,2}}:\n",
       "  0.998163     -0.060583     -2.28186e-17  0.0  0.0\n",
       "  0.060583      0.998163      3.76624e-16  0.0  0.0\n",
       " -4.03555e-20  -3.77314e-16   1.0          0.0  0.0\n",
       "  0.0           0.0           0.0          1.0  0.0\n",
       "  0.0           0.0           0.0          0.0  1.0"
      ]
     },
     "execution_count": 350,
     "metadata": {},
     "output_type": "execute_result"
    }
   ],
   "source": [
    "S"
   ]
  },
  {
   "cell_type": "code",
   "execution_count": 351,
   "metadata": {},
   "outputs": [
    {
     "data": {
      "text/plain": [
       "5×3 Array{Float64,2}:\n",
       " 35.1826        -4.23331e-54   6.93889e-18 \n",
       " -4.83781e-147  -1.47691      -9.54295e-102\n",
       " -5.18624e-61    0.0          -1.02302e-15 \n",
       "  0.0            0.0           0.0         \n",
       "  0.0            0.0           0.0         "
      ]
     },
     "execution_count": 351,
     "metadata": {},
     "output_type": "execute_result"
    }
   ],
   "source": [
    "D"
   ]
  },
  {
   "cell_type": "code",
   "execution_count": 352,
   "metadata": {},
   "outputs": [
    {
     "data": {
      "text/plain": [
       "3×3 LinearAlgebra.Transpose{Float64,Array{Float64,2}}:\n",
       " -0.519273   0.854608   0.00121877\n",
       " -0.750792  -0.455511  -0.478352  \n",
       " -0.408248  -0.24931    0.878167  "
      ]
     },
     "execution_count": 352,
     "metadata": {},
     "output_type": "execute_result"
    }
   ],
   "source": [
    "P"
   ]
  },
  {
   "cell_type": "code",
   "execution_count": 353,
   "metadata": {},
   "outputs": [
    {
     "data": {
      "text/plain": [
       "3×3 LinearAlgebra.Transpose{Float64,Array{Float64,2}}:\n",
       " 1.0   0.0        0.0     \n",
       " 0.0  -0.674485  -0.738288\n",
       " 0.0   0.738288  -0.674485"
      ]
     },
     "execution_count": 353,
     "metadata": {},
     "output_type": "execute_result"
    }
   ],
   "source": [
    "V_T"
   ]
  },
  {
   "cell_type": "code",
   "execution_count": 354,
   "metadata": {},
   "outputs": [
    {
     "data": {
      "text/plain": [
       "5×3 Array{Float64,2}:\n",
       " -18.303        29.9714       -8.56577e-19\n",
       "  -1.71619e-19   2.49308       0.707782   \n",
       "  -1.97215e-31  -9.86076e-32  -1.16495e-15\n",
       "   0.0           0.0           0.0        \n",
       "   0.0           0.0           0.0        "
      ]
     },
     "execution_count": 354,
     "metadata": {},
     "output_type": "execute_result"
    }
   ],
   "source": [
    "S * D * P"
   ]
  },
  {
   "cell_type": "code",
   "execution_count": 355,
   "metadata": {},
   "outputs": [
    {
     "data": {
      "text/plain": [
       "5×3 Array{Float64,2}:\n",
       "  1.0   2.0   3.0\n",
       "  4.0   5.0   6.0\n",
       "  7.0   8.0   9.0\n",
       " 10.0  11.0  12.0\n",
       " 13.0  14.0  15.0"
      ]
     },
     "execution_count": 355,
     "metadata": {},
     "output_type": "execute_result"
    }
   ],
   "source": [
    "U * S * D * P * V_T"
   ]
  },
  {
   "cell_type": "code",
   "execution_count": null,
   "metadata": {},
   "outputs": [],
   "source": []
  }
 ],
 "metadata": {
  "kernelspec": {
   "display_name": "Julia 1.0.4",
   "language": "julia",
   "name": "julia-1.0"
  },
  "language_info": {
   "file_extension": ".jl",
   "mimetype": "application/julia",
   "name": "julia",
   "version": "1.0.4"
  }
 },
 "nbformat": 4,
 "nbformat_minor": 2
}
