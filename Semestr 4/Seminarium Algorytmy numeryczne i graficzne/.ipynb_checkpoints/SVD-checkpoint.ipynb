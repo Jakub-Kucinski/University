{
 "cells": [
  {
   "cell_type": "code",
   "execution_count": 223,
   "metadata": {},
   "outputs": [],
   "source": [
    "import LinearAlgebra\n",
    "import LinearAlgebra.norm\n",
    "import LinearAlgebra.I\n",
    "import LinearAlgebra.svd\n",
    "import LinearAlgebra.Diagonal"
   ]
  },
  {
   "cell_type": "code",
   "execution_count": 2,
   "metadata": {},
   "outputs": [
    {
     "data": {
      "text/plain": [
       "eye (generic function with 1 method)"
      ]
     },
     "execution_count": 2,
     "metadata": {},
     "output_type": "execute_result"
    }
   ],
   "source": [
    "eye(n) = 1.0*Matrix(I,n,n)"
   ]
  },
  {
   "cell_type": "code",
   "execution_count": 3,
   "metadata": {},
   "outputs": [
    {
     "data": {
      "text/plain": [
       "householder (generic function with 1 method)"
      ]
     },
     "execution_count": 3,
     "metadata": {},
     "output_type": "execute_result"
    }
   ],
   "source": [
    "function householder(a)\n",
    "    n = length(a)\n",
    "    α = a[1]\n",
    "    σ = norm(a, 2)\n",
    "    β = 1 + abs(α) / σ\n",
    "    u = zeros(n)\n",
    "    u[1:end] = a[1:end] * (sign(α)/(σ + abs(α)))\n",
    "    u[1] = 1.0\n",
    "    return u, β, - sign(α) * σ\n",
    "end"
   ]
  },
  {
   "cell_type": "code",
   "execution_count": 4,
   "metadata": {},
   "outputs": [
    {
     "data": {
      "text/plain": [
       "upper_bidiagonalization (generic function with 1 method)"
      ]
     },
     "execution_count": 4,
     "metadata": {},
     "output_type": "execute_result"
    }
   ],
   "source": [
    "function upper_bidiagonalization(A)\n",
    "    m = size(A)[1]\n",
    "    n = size(A)[2]\n",
    "    V = eye(n)\n",
    "    B = zeros(m, n)\n",
    "    B[1:m, 1:n] = A[1:m, 1:n]\n",
    "    U = eye(m)\n",
    "    u, r, σ = householder(B[1:end, 1])\n",
    "    s = length(u)\n",
    "    Q = eye(m)\n",
    "    Q[m-s+1:m, m-s+1:m] -= r * u * transpose(u)\n",
    "    B = Q * B\n",
    "    B[2:end, 1] = zeros(s-1)\n",
    "    U = U * Q\n",
    "    if n >= m\n",
    "        for i = 2 : m\n",
    "            u, r, σ = householder(B[i-1, i:end])\n",
    "            s = length(u)\n",
    "            P = eye(n)\n",
    "            P[n-s+1:n, n-s+1:n] -= r * u * transpose(u)\n",
    "            B = B * P\n",
    "            B[i-1, i+1:end] = zeros(s-1)\n",
    "            V = V * P\n",
    "            \n",
    "            u, r, σ = householder(B[i:end, i])\n",
    "            s = length(u)\n",
    "            Q = eye(m)\n",
    "            Q[m-s+1:m, m-s+1:m] -= r * u * transpose(u)\n",
    "            B = Q * B\n",
    "            B[i+1:end, i] = zeros(s-1)\n",
    "            U = U * Q\n",
    "        end\n",
    "        if n > m\n",
    "            u, r, σ = householder(B[m, m+1:end])\n",
    "            s = length(u)\n",
    "            P = eye(n)\n",
    "            P[n-s+1:n, n-s+1:n] -= r * u * transpose(u)\n",
    "            B = B * P\n",
    "            B[m, m+1+1:end] = zeros(s-1)\n",
    "            V = V * P\n",
    "        end\n",
    "    else\n",
    "        for i = 2 : n\n",
    "            u, r, σ = householder(B[i-1, i:end])\n",
    "            s = length(u)\n",
    "            P = eye(n)\n",
    "            P[n-s+1:n, n-s+1:n] -= r * u * transpose(u)\n",
    "            B = B * P\n",
    "            B[i-1, i+1:end] = zeros(s-1)\n",
    "            V = V * P\n",
    "            \n",
    "            u, r, σ = householder(B[i:end, i])\n",
    "            s = length(u)\n",
    "            Q = eye(m)\n",
    "            Q[m-s+1:m, m-s+1:m] -= r * u * transpose(u)\n",
    "            B = Q * B\n",
    "            B[i+1:end, i] = zeros(s-1)\n",
    "            U = U * Q\n",
    "        end\n",
    "    end\n",
    "    return U, B, transpose(V)\n",
    "end"
   ]
  },
  {
   "cell_type": "code",
   "execution_count": 5,
   "metadata": {},
   "outputs": [
    {
     "data": {
      "text/plain": [
       "superdiagonal_upper_norm (generic function with 1 method)"
      ]
     },
     "execution_count": 5,
     "metadata": {},
     "output_type": "execute_result"
    }
   ],
   "source": [
    "function superdiagonal_upper_norm(A)\n",
    "    m = size(A)[1]\n",
    "    n = size(A)[2]\n",
    "    sum = 0.0\n",
    "    if n >= m\n",
    "        for i = 2 : m\n",
    "            sum += abs(A[i-1, i])\n",
    "        end\n",
    "        if n > m\n",
    "            sum += abs(A[m, m+1])\n",
    "        end\n",
    "    else\n",
    "        for i = 2 : n\n",
    "            sum += abs(A[i-1, i])\n",
    "        end\n",
    "    end\n",
    "    return sum\n",
    "end"
   ]
  },
  {
   "cell_type": "code",
   "execution_count": 6,
   "metadata": {},
   "outputs": [
    {
     "data": {
      "text/plain": [
       "non_diagonal_norm (generic function with 1 method)"
      ]
     },
     "execution_count": 6,
     "metadata": {},
     "output_type": "execute_result"
    }
   ],
   "source": [
    "function non_diagonal_norm(A)\n",
    "    m = size(A)[1]\n",
    "    n = size(A)[2]\n",
    "    sum = 0.0\n",
    "    for i = 1 : m\n",
    "        for j = 1 : n\n",
    "            if i != j \n",
    "                sum += abs(A[i, j])\n",
    "            end\n",
    "        end\n",
    "    end\n",
    "    return sum\n",
    "end"
   ]
  },
  {
   "cell_type": "code",
   "execution_count": 7,
   "metadata": {},
   "outputs": [
    {
     "data": {
      "text/plain": [
       "zero_non_diagonal_nor_superdiagonal (generic function with 1 method)"
      ]
     },
     "execution_count": 7,
     "metadata": {},
     "output_type": "execute_result"
    }
   ],
   "source": [
    "function zero_non_diagonal_nor_superdiagonal(A)\n",
    "    m = size(A)[1]\n",
    "    n = size(A)[2]\n",
    "    for i = 1 : m\n",
    "        for j = 1 : n\n",
    "            if i != j &&  i+1 != j\n",
    "                A[i, j] = 0\n",
    "            end\n",
    "        end\n",
    "    end\n",
    "end"
   ]
  },
  {
   "cell_type": "code",
   "execution_count": 8,
   "metadata": {},
   "outputs": [
    {
     "data": {
      "text/plain": [
       "zero_non_diagonal (generic function with 1 method)"
      ]
     },
     "execution_count": 8,
     "metadata": {},
     "output_type": "execute_result"
    }
   ],
   "source": [
    "function zero_non_diagonal(A)\n",
    "    m = size(A)[1]\n",
    "    n = size(A)[2]\n",
    "    for i = 1 : m\n",
    "        for j = 1 : n\n",
    "            if i != j\n",
    "                A[i, j] = 0\n",
    "            end\n",
    "        end\n",
    "    end\n",
    "end"
   ]
  },
  {
   "cell_type": "code",
   "execution_count": 9,
   "metadata": {},
   "outputs": [
    {
     "data": {
      "text/plain": [
       "zero_elements_lesser_than_precision (generic function with 1 method)"
      ]
     },
     "execution_count": 9,
     "metadata": {},
     "output_type": "execute_result"
    }
   ],
   "source": [
    "function zero_elements_lesser_than_precision(A, precision)\n",
    "    m = size(A)[1]\n",
    "    n = size(A)[2]\n",
    "    for i = 1 : m\n",
    "        for j = 1 : n\n",
    "            if abs(A[i, j]) < precision\n",
    "                A[i, j] = 0\n",
    "            end\n",
    "        end\n",
    "    end\n",
    "end"
   ]
  },
  {
   "cell_type": "code",
   "execution_count": 159,
   "metadata": {},
   "outputs": [
    {
     "data": {
      "text/plain": [
       "givens_rotation (generic function with 1 method)"
      ]
     },
     "execution_count": 159,
     "metadata": {},
     "output_type": "execute_result"
    }
   ],
   "source": [
    "function givens_rotation(f, g)\n",
    "    c = 0.0\n",
    "    s = 0.0\n",
    "    r = 0.0\n",
    "    if f == 0.0 \n",
    "        c = 0.0\n",
    "        s = 1.0\n",
    "        r = g\n",
    "    elseif abs(f) > abs(g)\n",
    "        t = g / f\n",
    "        t_1 = sqrt(1.0 + t * t)\n",
    "        c = 1.0 / t_1\n",
    "        s = t * c\n",
    "        r = f * t_1\n",
    "    else \n",
    "        t = f / g\n",
    "        t_1 = sqrt(1.0 + t * t) \n",
    "        s = 1 / t_1\n",
    "        c = t * s \n",
    "        r = g * t_1 \n",
    "    end\n",
    "    return c, s, r\n",
    "end"
   ]
  },
  {
   "cell_type": "code",
   "execution_count": 389,
   "metadata": {},
   "outputs": [
    {
     "data": {
      "text/plain": [
       "zero_shift_qr_for_m_geq_n (generic function with 1 method)"
      ]
     },
     "execution_count": 389,
     "metadata": {},
     "output_type": "execute_result"
    }
   ],
   "source": [
    "function zero_shift_qr_for_m_geq_n(A)\n",
    "    m = size(A)[1]\n",
    "    n = size(A)[2]\n",
    "    B = zeros(m, n)\n",
    "    B[1:m, 1:n] = A[1:m, 1:n]\n",
    "    L = eye(m)\n",
    "    P = eye(n)\n",
    "#     Zamienić warunek stopu na osiągnięcie przez normę elementów poza przekątną wartości mniejszej niż\n",
    "#     zadana precyzja? Mało dokładana implemetacja - może się nigdy nie skończyć.\n",
    "    p = 100\n",
    "    for k = 1 : 2*p\n",
    "        for i = 1 : n - 1\n",
    "            c, s, r = givens_rotation(B[i,i], B[i,i+1])\n",
    "\n",
    "    #       % construct matrix Q and multiply on the right by Q^T\n",
    "    #       % this annihilates both B(i-1,i+1) and B(i,i+1) \n",
    "    #       % but makes B(i+1,i) non-zero\n",
    "            \n",
    "            Q = eye(n)\n",
    "            Q[i:i+1, i:i+1] = [c s; -s c]\n",
    "            B = B * transpose(Q)\n",
    "            P = P * transpose(Q)\n",
    "            c, s, r = givens_rotation(B[i,i], B[i+1,i])\n",
    "\n",
    "    #       % construct matrix Q and multiply on the left by Q\n",
    "    #       % This annihilates B(i+1,i) but makes B(i,i+1) and\n",
    "    #       % B(i,i+2) non-zero\n",
    "            \n",
    "            Q = eye(m)\n",
    "            Q[i:i+1,i:i+1] = [c s; -s c]\n",
    "            B = Q * B\n",
    "            L = Q * L\n",
    "#             Zerować elementy poza diagonalną i superdiagonalną?\n",
    "#             Raczej nie, bo chociaż może to przyśpieszy zbieżność B, to jednak B rozjedzie nam się z L i P\n",
    "        end\n",
    "    end\n",
    "    return transpose(L), B, transpose(P)\n",
    "end"
   ]
  },
  {
   "cell_type": "code",
   "execution_count": 302,
   "metadata": {},
   "outputs": [
    {
     "data": {
      "text/plain": [
       "absolute_eigenvalues (generic function with 1 method)"
      ]
     },
     "execution_count": 302,
     "metadata": {},
     "output_type": "execute_result"
    }
   ],
   "source": [
    "function absolute_eigenvalues(U, Σ)\n",
    "    m = size(Σ)[1]\n",
    "    n = size(Σ)[2]\n",
    "    k = min(m, n)\n",
    "    for i = 1 : k\n",
    "        if Σ[i, i] < 0 \n",
    "            Σ[i, i] = Σ[i, i] * (-1.0)\n",
    "            for j = 1 : m\n",
    "                U[j, i] = U[j, i] * (-1.0)\n",
    "            end\n",
    "        end\n",
    "    end\n",
    "end"
   ]
  },
  {
   "cell_type": "code",
   "execution_count": 349,
   "metadata": {},
   "outputs": [
    {
     "data": {
      "text/plain": [
       "singular_value_decomposition (generic function with 1 method)"
      ]
     },
     "execution_count": 349,
     "metadata": {},
     "output_type": "execute_result"
    }
   ],
   "source": [
    "function singular_value_decomposition(A)\n",
    "    m = size(A)[1]\n",
    "    n = size(A)[2]\n",
    "    if m >= n\n",
    "        U, B, V_T = upper_bidiagonalization(A)\n",
    "        L, Σ, P = zero_shift_qr_for_m_geq_n(B)\n",
    "        zero_non_diagonal(Σ)\n",
    "        X = zeros(size(U*L))\n",
    "        X[1:m, 1:m] = (U*L)[1:m, 1:m]\n",
    "        absolute_eigenvalues(X, Σ)\n",
    "        return X, Σ, P*V_T\n",
    "    else\n",
    "        U, B, V_T = upper_bidiagonalization(transpose(A))\n",
    "        L, Σ, P = zero_shift_qr_for_m_geq_n(B)\n",
    "        precision = 1.0/(2.0^48)\n",
    "        zero_non_diagonal(Σ)\n",
    "        X = zeros(size(transpose(P*V_T)))\n",
    "        X[1:m, 1:m] = (transpose(P*V_T))[1:m, 1:m]\n",
    "        Σ_T = zeros(size(transpose(Σ)))\n",
    "        Σ_T[1:m, 1:n] = (transpose(Σ))[1:m, 1:n]\n",
    "        absolute_eigenvalues(X, Σ_T)\n",
    "        return X, Σ_T, transpose(U*L)\n",
    "    end\n",
    "    \n",
    "end"
   ]
  },
  {
   "cell_type": "code",
   "execution_count": 341,
   "metadata": {},
   "outputs": [
    {
     "data": {
      "text/plain": [
       "5×3 Array{Float64,2}:\n",
       "  1.0   2.0   3.0\n",
       "  4.0   5.0   6.0\n",
       "  7.0   8.0   9.0\n",
       " 10.0  11.0  12.0\n",
       " 13.0  14.0  15.0"
      ]
     },
     "execution_count": 341,
     "metadata": {},
     "output_type": "execute_result"
    }
   ],
   "source": [
    "T = [1. 2. 3.; 4. 5. 6.; 7. 8. 9.; 10. 11. 12.; 13. 14. 15.]"
   ]
  },
  {
   "cell_type": "code",
   "execution_count": 342,
   "metadata": {},
   "outputs": [
    {
     "data": {
      "text/plain": [
       "([-0.101346 0.767938 … -0.168619 0.346815; -0.248569 0.488071 … 0.18527 0.106011; … ; -0.543014 -0.0716624 … 0.781001 -0.0483299; -0.690237 -0.351529 … -0.466484 0.423985], [35.1826 0.0 0.0; 0.0 1.47691 0.0; … ; 0.0 0.0 0.0; 0.0 0.0 0.0], [-0.519273 -0.575521 -0.631769; -0.750792 -0.0459264 0.65894; -0.408248 0.816497 -0.408248])"
      ]
     },
     "execution_count": 342,
     "metadata": {},
     "output_type": "execute_result"
    }
   ],
   "source": [
    "U, D, V_T = singular_value_decomposition(T)"
   ]
  },
  {
   "cell_type": "code",
   "execution_count": 343,
   "metadata": {},
   "outputs": [
    {
     "data": {
      "text/plain": [
       "5×5 Array{Float64,2}:\n",
       " -0.101346   0.767938   -0.501285   -0.168619   0.346815 \n",
       " -0.248569   0.488071    0.808973    0.18527    0.106011 \n",
       " -0.395792   0.208204   -0.062816   -0.331169  -0.828481 \n",
       " -0.543014  -0.0716624  -0.296144    0.781001  -0.0483299\n",
       " -0.690237  -0.351529    0.0512731  -0.466484   0.423985 "
      ]
     },
     "execution_count": 343,
     "metadata": {},
     "output_type": "execute_result"
    }
   ],
   "source": [
    "U"
   ]
  },
  {
   "cell_type": "code",
   "execution_count": 344,
   "metadata": {},
   "outputs": [
    {
     "data": {
      "text/plain": [
       "5×5 Array{Float64,2}:\n",
       " -0.101346   0.767938   -0.501285   -0.168619   0.346815 \n",
       " -0.248569   0.488071    0.808973    0.18527    0.106011 \n",
       " -0.395792   0.208204   -0.062816   -0.331169  -0.828481 \n",
       " -0.543014  -0.0716624  -0.296144    0.781001  -0.0483299\n",
       " -0.690237  -0.351529    0.0512731  -0.466484   0.423985 "
      ]
     },
     "execution_count": 344,
     "metadata": {},
     "output_type": "execute_result"
    }
   ],
   "source": [
    "U"
   ]
  },
  {
   "cell_type": "code",
   "execution_count": 345,
   "metadata": {},
   "outputs": [
    {
     "data": {
      "text/plain": [
       "5×3 Array{Float64,2}:\n",
       " 35.1826  0.0      0.0        \n",
       "  0.0     1.47691  0.0        \n",
       "  0.0     0.0      1.02302e-15\n",
       "  0.0     0.0      0.0        \n",
       "  0.0     0.0      0.0        "
      ]
     },
     "execution_count": 345,
     "metadata": {},
     "output_type": "execute_result"
    }
   ],
   "source": [
    "D"
   ]
  },
  {
   "cell_type": "code",
   "execution_count": 346,
   "metadata": {},
   "outputs": [
    {
     "data": {
      "text/plain": [
       "3×3 Array{Float64,2}:\n",
       " -0.519273  -0.575521   -0.631769\n",
       " -0.750792  -0.0459264   0.65894 \n",
       " -0.408248   0.816497   -0.408248"
      ]
     },
     "execution_count": 346,
     "metadata": {},
     "output_type": "execute_result"
    }
   ],
   "source": [
    "V_T"
   ]
  },
  {
   "cell_type": "code",
   "execution_count": 347,
   "metadata": {},
   "outputs": [
    {
     "data": {
      "text/plain": [
       "5×3 Array{Float64,2}:\n",
       "  1.0   2.0   3.0\n",
       "  4.0   5.0   6.0\n",
       "  7.0   8.0   9.0\n",
       " 10.0  11.0  12.0\n",
       " 13.0  14.0  15.0"
      ]
     },
     "execution_count": 347,
     "metadata": {},
     "output_type": "execute_result"
    }
   ],
   "source": [
    "U*D*V_T"
   ]
  },
  {
   "cell_type": "code",
   "execution_count": null,
   "metadata": {},
   "outputs": [],
   "source": []
  },
  {
   "cell_type": "code",
   "execution_count": 291,
   "metadata": {},
   "outputs": [
    {
     "data": {
      "text/plain": [
       "LinearAlgebra.SVD{Float64,Float64,Array{Float64,2}}([-0.101346 0.767938 -0.220084; -0.248569 0.488071 0.186841; … ; -0.543014 -0.0716624 0.774941; -0.690237 -0.351529 -0.514134], [35.1826, 1.47691, 4.15619e-16], [-0.519273 -0.575521 -0.631769; -0.750792 -0.0459264 0.65894; -0.408248 0.816497 -0.408248])"
      ]
     },
     "execution_count": 291,
     "metadata": {},
     "output_type": "execute_result"
    }
   ],
   "source": [
    "F = svd(T)"
   ]
  },
  {
   "cell_type": "code",
   "execution_count": 292,
   "metadata": {},
   "outputs": [
    {
     "data": {
      "text/plain": [
       "5×3 Array{Float64,2}:\n",
       " -0.101346   0.767938   -0.220084\n",
       " -0.248569   0.488071    0.186841\n",
       " -0.395792   0.208204   -0.227565\n",
       " -0.543014  -0.0716624   0.774941\n",
       " -0.690237  -0.351529   -0.514134"
      ]
     },
     "execution_count": 292,
     "metadata": {},
     "output_type": "execute_result"
    }
   ],
   "source": [
    "F.U"
   ]
  },
  {
   "cell_type": "code",
   "execution_count": 293,
   "metadata": {},
   "outputs": [
    {
     "data": {
      "text/plain": [
       "3-element Array{Float64,1}:\n",
       " 35.182648331894214    \n",
       "  1.476907699980088    \n",
       "  4.156185784097889e-16"
      ]
     },
     "execution_count": 293,
     "metadata": {},
     "output_type": "execute_result"
    }
   ],
   "source": [
    "F.S"
   ]
  },
  {
   "cell_type": "code",
   "execution_count": 294,
   "metadata": {},
   "outputs": [
    {
     "data": {
      "text/plain": [
       "3×3 Array{Float64,2}:\n",
       " -0.519273  -0.575521   -0.631769\n",
       " -0.750792  -0.0459264   0.65894 \n",
       " -0.408248   0.816497   -0.408248"
      ]
     },
     "execution_count": 294,
     "metadata": {},
     "output_type": "execute_result"
    }
   ],
   "source": [
    "F.Vt"
   ]
  },
  {
   "cell_type": "code",
   "execution_count": 295,
   "metadata": {},
   "outputs": [
    {
     "data": {
      "text/plain": [
       "5×3 Array{Float64,2}:\n",
       "  1.0   2.0   3.0\n",
       "  4.0   5.0   6.0\n",
       "  7.0   8.0   9.0\n",
       " 10.0  11.0  12.0\n",
       " 13.0  14.0  15.0"
      ]
     },
     "execution_count": 295,
     "metadata": {},
     "output_type": "execute_result"
    }
   ],
   "source": [
    "F.U * Diagonal(F.S) * F.Vt"
   ]
  },
  {
   "cell_type": "code",
   "execution_count": null,
   "metadata": {},
   "outputs": [],
   "source": []
  },
  {
   "cell_type": "code",
   "execution_count": 271,
   "metadata": {},
   "outputs": [
    {
     "data": {
      "text/plain": [
       "5×5 Array{Float64,2}:\n",
       " 0.215041  0.206393  0.730606   0.964772   0.217654 \n",
       " 0.067292  0.491219  0.786323   0.886727   0.0871903\n",
       " 0.213361  0.503646  0.201707   0.177313   0.379886 \n",
       " 0.771937  0.53423   0.65553    0.272778   0.213989 \n",
       " 0.777818  0.654148  0.0782455  0.0647604  0.663244 "
      ]
     },
     "execution_count": 271,
     "metadata": {},
     "output_type": "execute_result"
    }
   ],
   "source": [
    "X = rand(5,5)"
   ]
  },
  {
   "cell_type": "code",
   "execution_count": 272,
   "metadata": {},
   "outputs": [
    {
     "data": {
      "text/plain": [
       "([-0.507339 -0.440623 … 0.682727 0.273516; -0.518009 -0.453272 … -0.503789 -0.490302; … ; -0.494417 0.252735 … -0.175534 0.179765; -0.390161 0.699624 … 0.29245 -0.423572], [2.23032 0.0 … 0.0 0.0; 0.0 1.19555 … 0.0 0.0; … ; 0.0 0.0 … -0.297181 0.0; 0.0 0.0 … 0.0 -0.0642503], [-0.398385 -0.456805 … -0.519354 -0.280671; 0.552299 0.324806 … -0.564027 0.389008; … ; -0.398912 0.716168 … -0.374386 -0.361247; 0.282056 0.296192 … 0.425252 -0.554124])"
      ]
     },
     "execution_count": 272,
     "metadata": {},
     "output_type": "execute_result"
    }
   ],
   "source": [
    "U, D, V_T = singular_value_decomposition(X)"
   ]
  },
  {
   "cell_type": "code",
   "execution_count": 273,
   "metadata": {},
   "outputs": [
    {
     "data": {
      "text/plain": [
       "5×5 Array{Float64,2}:\n",
       " -0.507339  -0.440623  -0.0867842   0.682727   0.273516\n",
       " -0.518009  -0.453272  -0.178918   -0.503789  -0.490302\n",
       " -0.278567   0.216903  -0.488413   -0.40465    0.687797\n",
       " -0.494417   0.252735   0.792811   -0.175534   0.179765\n",
       " -0.390161   0.699624  -0.30555     0.29245   -0.423572"
      ]
     },
     "execution_count": 273,
     "metadata": {},
     "output_type": "execute_result"
    }
   ],
   "source": [
    "U"
   ]
  },
  {
   "cell_type": "code",
   "execution_count": 274,
   "metadata": {},
   "outputs": [
    {
     "data": {
      "text/plain": [
       "5×5 Array{Float64,2}:\n",
       " 2.23032  0.0      0.0        0.0        0.0      \n",
       " 0.0      1.19555  0.0        0.0        0.0      \n",
       " 0.0      0.0      0.438915   0.0        0.0      \n",
       " 0.0      0.0      0.0       -0.297181   0.0      \n",
       " 0.0      0.0      0.0        0.0       -0.0642503"
      ]
     },
     "execution_count": 274,
     "metadata": {},
     "output_type": "execute_result"
    }
   ],
   "source": [
    "D"
   ]
  },
  {
   "cell_type": "code",
   "execution_count": 275,
   "metadata": {},
   "outputs": [
    {
     "data": {
      "text/plain": [
       "5×5 Array{Float64,2}:\n",
       " -0.398385  -0.456805  -0.533023  -0.519354  -0.280671\n",
       "  0.552299   0.324806  -0.346428  -0.564027   0.389008\n",
       "  0.545498  -0.291897   0.440163  -0.301895  -0.576492\n",
       " -0.398912   0.716168   0.239393  -0.374386  -0.361247\n",
       "  0.282056   0.296192  -0.587215   0.425252  -0.554124"
      ]
     },
     "execution_count": 275,
     "metadata": {},
     "output_type": "execute_result"
    }
   ],
   "source": [
    "V_T"
   ]
  },
  {
   "cell_type": "code",
   "execution_count": 276,
   "metadata": {},
   "outputs": [
    {
     "data": {
      "text/plain": [
       "5×5 Array{Float64,2}:\n",
       " 0.215041  0.206393  0.730606   0.964772   0.217654 \n",
       " 0.067292  0.491219  0.786323   0.886727   0.0871903\n",
       " 0.213361  0.503646  0.201707   0.177313   0.379886 \n",
       " 0.771937  0.53423   0.65553    0.272778   0.213989 \n",
       " 0.777818  0.654148  0.0782455  0.0647604  0.663244 "
      ]
     },
     "execution_count": 276,
     "metadata": {},
     "output_type": "execute_result"
    }
   ],
   "source": [
    "U*D*V_T"
   ]
  },
  {
   "cell_type": "code",
   "execution_count": null,
   "metadata": {},
   "outputs": [],
   "source": []
  },
  {
   "cell_type": "code",
   "execution_count": 283,
   "metadata": {},
   "outputs": [
    {
     "data": {
      "text/plain": [
       "LinearAlgebra.SVD{Float64,Float64,Array{Float64,2}}([-0.507339 -0.440623 … 0.682727 -0.273516; -0.518009 -0.453272 … -0.503789 0.490302; … ; -0.494417 0.252735 … -0.175534 -0.179765; -0.390161 0.699624 … 0.29245 0.423572], [2.23032, 1.19555, 0.438915, 0.297181, 0.0642503], [-0.398385 -0.456805 … -0.519354 -0.280671; 0.552299 0.324806 … -0.564027 0.389008; … ; 0.398912 -0.716168 … 0.374386 0.361247; 0.282056 0.296192 … 0.425252 -0.554124])"
      ]
     },
     "execution_count": 283,
     "metadata": {},
     "output_type": "execute_result"
    }
   ],
   "source": [
    "F = svd(X)"
   ]
  },
  {
   "cell_type": "code",
   "execution_count": 284,
   "metadata": {},
   "outputs": [
    {
     "data": {
      "text/plain": [
       "5×5 Array{Float64,2}:\n",
       " -0.507339  -0.440623  -0.0867842   0.682727  -0.273516\n",
       " -0.518009  -0.453272  -0.178918   -0.503789   0.490302\n",
       " -0.278567   0.216903  -0.488413   -0.40465   -0.687797\n",
       " -0.494417   0.252735   0.792811   -0.175534  -0.179765\n",
       " -0.390161   0.699624  -0.30555     0.29245    0.423572"
      ]
     },
     "execution_count": 284,
     "metadata": {},
     "output_type": "execute_result"
    }
   ],
   "source": [
    "F.U"
   ]
  },
  {
   "cell_type": "code",
   "execution_count": 285,
   "metadata": {},
   "outputs": [
    {
     "data": {
      "text/plain": [
       "5-element Array{Float64,1}:\n",
       " 2.2303184393024904 \n",
       " 1.1955480079444172 \n",
       " 0.43891541677942525\n",
       " 0.29718072795269285\n",
       " 0.06425028608797356"
      ]
     },
     "execution_count": 285,
     "metadata": {},
     "output_type": "execute_result"
    }
   ],
   "source": [
    "F.S"
   ]
  },
  {
   "cell_type": "code",
   "execution_count": 286,
   "metadata": {},
   "outputs": [
    {
     "data": {
      "text/plain": [
       "5×5 Array{Float64,2}:\n",
       " -0.398385  -0.456805  -0.533023  -0.519354  -0.280671\n",
       "  0.552299   0.324806  -0.346428  -0.564027   0.389008\n",
       "  0.545498  -0.291897   0.440163  -0.301895  -0.576492\n",
       "  0.398912  -0.716168  -0.239393   0.374386   0.361247\n",
       "  0.282056   0.296192  -0.587215   0.425252  -0.554124"
      ]
     },
     "execution_count": 286,
     "metadata": {},
     "output_type": "execute_result"
    }
   ],
   "source": [
    "F.Vt"
   ]
  },
  {
   "cell_type": "code",
   "execution_count": 287,
   "metadata": {},
   "outputs": [
    {
     "data": {
      "text/plain": [
       "5×5 Array{Float64,2}:\n",
       " 0.215041  0.206393  0.730606   0.964772   0.217654 \n",
       " 0.067292  0.491219  0.786323   0.886727   0.0871903\n",
       " 0.213361  0.503646  0.201707   0.177313   0.379886 \n",
       " 0.771937  0.53423   0.65553    0.272778   0.213989 \n",
       " 0.777818  0.654148  0.0782455  0.0647604  0.663244 "
      ]
     },
     "execution_count": 287,
     "metadata": {},
     "output_type": "execute_result"
    }
   ],
   "source": [
    "F.U * Diagonal(F.S) * F.Vt"
   ]
  },
  {
   "cell_type": "code",
   "execution_count": 282,
   "metadata": {},
   "outputs": [
    {
     "data": {
      "text/plain": [
       "5×5 Array{Float64,2}:\n",
       " 0.215041  0.206393  0.730606   0.964772   0.217654 \n",
       " 0.067292  0.491219  0.786323   0.886727   0.0871903\n",
       " 0.213361  0.503646  0.201707   0.177313   0.379886 \n",
       " 0.771937  0.53423   0.65553    0.272778   0.213989 \n",
       " 0.777818  0.654148  0.0782455  0.0647604  0.663244 "
      ]
     },
     "execution_count": 282,
     "metadata": {},
     "output_type": "execute_result"
    }
   ],
   "source": [
    "X"
   ]
  },
  {
   "cell_type": "code",
   "execution_count": null,
   "metadata": {},
   "outputs": [],
   "source": []
  },
  {
   "cell_type": "code",
   "execution_count": 331,
   "metadata": {},
   "outputs": [
    {
     "data": {
      "text/plain": [
       "3×5 Array{Float64,2}:\n",
       " 1.0  4.0  7.0  10.0  13.0\n",
       " 2.0  5.0  8.0  11.0  14.0\n",
       " 3.0  6.0  9.0  12.0  15.0"
      ]
     },
     "execution_count": 331,
     "metadata": {},
     "output_type": "execute_result"
    }
   ],
   "source": [
    "Y = zeros(size(transpose(T)))\n",
    "Y[1:3, 1:5] = transpose(T)[1:3, 1:5]"
   ]
  },
  {
   "cell_type": "code",
   "execution_count": 336,
   "metadata": {
    "scrolled": true
   },
   "outputs": [
    {
     "data": {
      "text/plain": [
       "([-0.519273 0.750792 0.408248; -0.575521 0.0459264 -0.816497; -0.631769 -0.65894 0.408248], [35.1826 0.0 … 0.0 0.0; 0.0 1.47691 … 0.0 0.0; 0.0 0.0 … 0.0 0.0], [-0.101346 -0.248569 … -0.543014 -0.690237; -0.767938 -0.488071 … 0.0716624 0.351529; … ; -0.168619 0.18527 … 0.781001 -0.466484; 0.346815 0.106011 … -0.0483299 0.423985])"
      ]
     },
     "execution_count": 336,
     "metadata": {},
     "output_type": "execute_result"
    }
   ],
   "source": [
    "U, D, V_T = singular_value_decomposition(Y)"
   ]
  },
  {
   "cell_type": "code",
   "execution_count": 337,
   "metadata": {
    "scrolled": true
   },
   "outputs": [
    {
     "data": {
      "text/plain": [
       "3×3 Array{Float64,2}:\n",
       " -0.519273   0.750792    0.408248\n",
       " -0.575521   0.0459264  -0.816497\n",
       " -0.631769  -0.65894     0.408248"
      ]
     },
     "execution_count": 337,
     "metadata": {},
     "output_type": "execute_result"
    }
   ],
   "source": [
    "U"
   ]
  },
  {
   "cell_type": "code",
   "execution_count": 338,
   "metadata": {},
   "outputs": [
    {
     "data": {
      "text/plain": [
       "3×5 Array{Float64,2}:\n",
       " 35.1826  0.0      0.0          0.0  0.0\n",
       "  0.0     1.47691  0.0          0.0  0.0\n",
       "  0.0     0.0      1.02302e-15  0.0  0.0"
      ]
     },
     "execution_count": 338,
     "metadata": {},
     "output_type": "execute_result"
    }
   ],
   "source": [
    "D"
   ]
  },
  {
   "cell_type": "code",
   "execution_count": 339,
   "metadata": {},
   "outputs": [
    {
     "data": {
      "text/plain": [
       "5×5 LinearAlgebra.Transpose{Float64,Array{Float64,2}}:\n",
       " -0.101346  -0.248569  -0.395792  -0.543014   -0.690237 \n",
       " -0.767938  -0.488071  -0.208204   0.0716624   0.351529 \n",
       "  0.501285  -0.808973   0.062816   0.296144   -0.0512731\n",
       " -0.168619   0.18527   -0.331169   0.781001   -0.466484 \n",
       "  0.346815   0.106011  -0.828481  -0.0483299   0.423985 "
      ]
     },
     "execution_count": 339,
     "metadata": {},
     "output_type": "execute_result"
    }
   ],
   "source": [
    "V_T"
   ]
  },
  {
   "cell_type": "code",
   "execution_count": 340,
   "metadata": {},
   "outputs": [
    {
     "data": {
      "text/plain": [
       "3×5 Array{Float64,2}:\n",
       " 1.0  4.0  7.0  10.0  13.0\n",
       " 2.0  5.0  8.0  11.0  14.0\n",
       " 3.0  6.0  9.0  12.0  15.0"
      ]
     },
     "execution_count": 340,
     "metadata": {},
     "output_type": "execute_result"
    }
   ],
   "source": [
    "U*D*V_T"
   ]
  },
  {
   "cell_type": "code",
   "execution_count": null,
   "metadata": {},
   "outputs": [],
   "source": []
  },
  {
   "cell_type": "code",
   "execution_count": null,
   "metadata": {},
   "outputs": [],
   "source": []
  },
  {
   "cell_type": "code",
   "execution_count": null,
   "metadata": {},
   "outputs": [],
   "source": []
  }
 ],
 "metadata": {
  "kernelspec": {
   "display_name": "Julia 1.0.4",
   "language": "julia",
   "name": "julia-1.0"
  },
  "language_info": {
   "file_extension": ".jl",
   "mimetype": "application/julia",
   "name": "julia",
   "version": "1.0.4"
  }
 },
 "nbformat": 4,
 "nbformat_minor": 2
}
